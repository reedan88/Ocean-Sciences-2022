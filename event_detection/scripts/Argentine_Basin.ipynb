{
 "cells": [
  {
   "cell_type": "markdown",
   "metadata": {},
   "source": [
    "# Climatology \n",
    "\n",
    "### Purpose\n",
    "This notebook assess how well the QARTOD climatology test, as implemented by OOI, performs with respect to accurately capturing and flagging the passage of a mid-water-column eddy across the OOI Global Argentine Basin array in July-August of 2016. "
   ]
  },
  {
   "cell_type": "code",
   "execution_count": null,
   "metadata": {},
   "outputs": [],
   "source": [
    "import sys, os\n",
    "import yaml\n",
    "import json\n",
    "import pandas as pd\n",
    "import numpy as np\n",
    "import xarray as xr\n",
    "import datetime\n",
    "import gc\n",
    "import warnings\n",
    "warnings.filterwarnings(\"ignore\")"
   ]
  },
  {
   "cell_type": "code",
   "execution_count": null,
   "metadata": {},
   "outputs": [],
   "source": [
    "# Import the QARTOD test fitting\n",
    "sys.path.append(\"/home/andrew/Documents/OOI-CGSN/oceanobservatories/ooi-data-explorations/python/ooi_data_explorations/\")\n",
    "from qartod import gross_range, climatology"
   ]
  },
  {
   "cell_type": "code",
   "execution_count": null,
   "metadata": {},
   "outputs": [],
   "source": [
    "import matplotlib\n",
    "import matplotlib.pyplot as plt\n",
    "%matplotlib inline"
   ]
  },
  {
   "cell_type": "markdown",
   "metadata": {},
   "source": [
    "#### Connect to OOI Data Explorer ERDDAP Server"
   ]
  },
  {
   "cell_type": "code",
   "execution_count": null,
   "metadata": {},
   "outputs": [],
   "source": [
    "from erddapy import ERDDAP\n",
    "# Connect to the server\n",
    "erd = ERDDAP(\n",
    "    server=\"https://erddap.dataexplorer.oceanobservatories.org/erddap\",\n",
    "    protocol=\"tabledap\"\n",
    ")"
   ]
  },
  {
   "cell_type": "markdown",
   "metadata": {},
   "source": [
    "#### Set OOINet API access\n",
    "In order access and download data from OOINet, need to have an OOINet api username and access token. Those can be found on your profile after logging in to OOINet. Your username and access token should NOT be stored in this notebook/python script (for security). It should be stored in a yaml file, kept in the same directory, named user_info.yaml."
   ]
  },
  {
   "cell_type": "code",
   "execution_count": null,
   "metadata": {},
   "outputs": [],
   "source": [
    "# Import the OOINet M2M tool\n",
    "sys.path.append(\"/home/andrew/Documents/OOI-CGSN/ooinet/ooinet/\")\n",
    "from m2m import M2M"
   ]
  },
  {
   "cell_type": "code",
   "execution_count": null,
   "metadata": {},
   "outputs": [],
   "source": [
    "userinfo = yaml.load(open(\"../../../../QAQC_Sandbox/user_info.yaml\"), Loader=yaml.SafeLoader)\n",
    "username = userinfo[\"apiname\"]\n",
    "token = userinfo[\"apikey\"]"
   ]
  },
  {
   "cell_type": "code",
   "execution_count": null,
   "metadata": {},
   "outputs": [],
   "source": [
    "OOINet = M2M(username, token)"
   ]
  },
  {
   "cell_type": "markdown",
   "metadata": {},
   "source": [
    "---\n",
    "## Identify Datasets\n",
    "Identify all of the OOI **```CTD```** datasets that are located at the Global Argentine Basin Array on the Apex Surface Mooring, Flanking Mooring A, and Flanking Mooring B. This is done by querying OOINet and iteratively walking through all of the API endpoints. Additionally, we request the **vocab** associated with each dataset in order to get their deployed depth."
   ]
  },
  {
   "cell_type": "markdown",
   "metadata": {},
   "source": [
    "#### Argentine Basin Apex Surface Mooring (SUMO) CTDs"
   ]
  },
  {
   "cell_type": "code",
   "execution_count": null,
   "metadata": {},
   "outputs": [],
   "source": [
    "ga01sumo_datasets = OOINet.search_datasets(array=\"GA01SUMO\", instrument=\"CTD\", English_names=True)\n",
    "\n",
    "# Get the instrument deployment depth\n",
    "depths = pd.DataFrame()\n",
    "for refdes in ga01sumo_datasets[\"refdes\"]:\n",
    "    vocab = OOINet.get_vocab(refdes)\n",
    "    depths = depths.append({\n",
    "        \"refdes\": refdes,\n",
    "        \"depth\" : int(vocab[\"mindepth\"])\n",
    "    }, ignore_index=True)\n",
    "\n",
    "# Merge the deployment depth with the datasets\n",
    "ga01sumo_datasets = ga01sumo_datasets.merge(depths, how=\"left\", left_on=[\"refdes\"], right_on=[\"refdes\"])\n",
    "ga01sumo_datasets = ga01sumo_datasets.sort_values(by=\"depth\")\n",
    "ga01sumo_datasets"
   ]
  },
  {
   "cell_type": "markdown",
   "metadata": {},
   "source": [
    "Save the datasets"
   ]
  },
  {
   "cell_type": "code",
   "execution_count": null,
   "metadata": {},
   "outputs": [],
   "source": [
    "ga01sumo_datasets.to_csv(\"../results/GA01SUMO_datasets.csv\", index=False)"
   ]
  },
  {
   "cell_type": "markdown",
   "metadata": {},
   "source": [
    "#### Argentine Basin Flanking Mooring A (FLMA) CTD Datasets"
   ]
  },
  {
   "cell_type": "code",
   "execution_count": null,
   "metadata": {},
   "outputs": [],
   "source": [
    "ga03flma_datasets = OOINet.search_datasets(array=\"GA03FLMA\", instrument=\"CTD\", English_names=True)\n",
    "\n",
    "# Get the instrument deployment depth\n",
    "depths = pd.DataFrame()\n",
    "for refdes in ga03flma_datasets[\"refdes\"]:\n",
    "    vocab = OOINet.get_vocab(refdes)\n",
    "    depths = depths.append({\n",
    "        \"refdes\": refdes,\n",
    "        \"depth\" : int(vocab[\"mindepth\"])\n",
    "    }, ignore_index=True)\n",
    "\n",
    "# Merge the deployment depth with the datasets\n",
    "ga03flma_datasets = ga03flma_datasets.merge(depths, how=\"left\", left_on=[\"refdes\"], right_on=[\"refdes\"])\n",
    "ga03flma_datasets = ga03flma_datasets.sort_values(by=\"depth\")\n",
    "ga03flma_datasets"
   ]
  },
  {
   "cell_type": "markdown",
   "metadata": {},
   "source": [
    "Save the results"
   ]
  },
  {
   "cell_type": "code",
   "execution_count": null,
   "metadata": {},
   "outputs": [],
   "source": [
    "ga03flma_datasets.to_csv(\"../results/GA03FLMA_datasets.csv\", index=False)"
   ]
  },
  {
   "cell_type": "markdown",
   "metadata": {},
   "source": [
    "#### Argentine Basin Flanking Mooring B (FLMB) CTDs"
   ]
  },
  {
   "cell_type": "code",
   "execution_count": null,
   "metadata": {},
   "outputs": [],
   "source": [
    "ga03flmb_datasets = OOINet.search_datasets(array=\"GA03FLMB\", instrument=\"CTD\", English_names=True)\n",
    "\n",
    "# Get the instrument deployment depth\n",
    "depths = pd.DataFrame()\n",
    "for refdes in ga03flmb_datasets[\"refdes\"]:\n",
    "    vocab = OOINet.get_vocab(refdes)\n",
    "    depths = depths.append({\n",
    "        \"refdes\": refdes,\n",
    "        \"depth\" : int(vocab[\"mindepth\"])\n",
    "    }, ignore_index=True)\n",
    "\n",
    "# Merge the deployment depth with the datasets\n",
    "ga03flmb_datasets = ga03flmb_datasets.merge(depths, how=\"left\", left_on=[\"refdes\"], right_on=[\"refdes\"])\n",
    "ga03flmb_datasets = ga03flmb_datasets.sort_values(by=\"depth\")\n",
    "ga03flmb_datasets"
   ]
  },
  {
   "cell_type": "markdown",
   "metadata": {},
   "source": [
    "Save the results"
   ]
  },
  {
   "cell_type": "code",
   "execution_count": null,
   "metadata": {},
   "outputs": [],
   "source": [
    "ga03flmb_datasets.to_csv(\"../results/GA03FLMB_datasets.csv\", index=False)"
   ]
  },
  {
   "cell_type": "markdown",
   "metadata": {},
   "source": [
    "---\n",
    "## Data\n",
    "The next step is to get the fetch the data from each of the datasets identified above. For this notebook, we're going to request, access, and open the CTD data from the OOI DataExplorer ERDDAP server using the **```ERDDAPY```** python package (https://github.com/ioos/erddapy). We'll save each dataset into a dictionary keyed with the dataset reference designator."
   ]
  },
  {
   "cell_type": "markdown",
   "metadata": {},
   "source": [
    "#### GA01SUMO"
   ]
  },
  {
   "cell_type": "code",
   "execution_count": null,
   "metadata": {},
   "outputs": [],
   "source": [
    "ga01sumo = dict.fromkeys(ga01sumo_datasets[\"refdes\"])\n",
    "for refdes in ga01sumo_datasets[\"refdes\"]:\n",
    "    datasets = pd.read_csv(erd.get_search_url(search_for=refdes.lower(), response=\"csv\"))[\"Dataset ID\"]\n",
    "    dset = datasets.iloc[0]\n",
    "    erd.dataset_id = dset\n",
    "    data = erd.to_xarray()\n",
    "    data = data.swap_dims({\"obs\":\"time\"})\n",
    "    ga01sumo[refdes] = data"
   ]
  },
  {
   "cell_type": "markdown",
   "metadata": {},
   "source": [
    "Next, we want to plot and explore the data to identify useful datasets for this analysis"
   ]
  },
  {
   "cell_type": "code",
   "execution_count": null,
   "metadata": {},
   "outputs": [],
   "source": [
    "nfigs = len(ga01sumo.keys())\n",
    "nfigs = 15\n",
    "nrows = np.ceil(nfigs / 2)\n",
    "ncols = 2"
   ]
  },
  {
   "cell_type": "code",
   "execution_count": null,
   "metadata": {
    "scrolled": false
   },
   "outputs": [],
   "source": [
    "param = \"sea_water_temperature\"\n",
    "color = \"tab:red\"\n",
    "nfigs = len(ga01sumo.keys())\n",
    "xmin, xmax = None, None\n",
    "# Plot the seawater temperature data for all of the ga01sumo datasets\n",
    "fig, ax = plt.subplots(nrows=int(np.ceil(nfigs/2)), ncols=2, figsize=(20, 5*nrows))\n",
    "\n",
    "for k, refdes in enumerate(ga01sumo.keys()):\n",
    "    row, col = int(np.floor(k/2)), int(k % 2)\n",
    "    data = ga01sumo.get(refdes)\n",
    "    yavg, ystd = data[param].mean(skipna=True), data[param].std(skipna=True)\n",
    "    ymin, ymax = yavg-5*ystd, yavg+5*ystd\n",
    "    ax[row, col].plot(data[\"time\"], data[param], marker=\".\", linestyle=\"\", color=color)\n",
    "    ax[row, col].set_ylabel(data[param].attrs[\"long_name\"] + \"\\n\" + data[param].attrs[\"units\"], fontsize=12)\n",
    "    ax[row, col].set_title(data.attrs[\"title\"] + \" \\n \" + refdes)\n",
    "    ax[row, col].set_ylim(ymin, ymax)\n",
    "    ax[row, col].grid()\n",
    "    xmin_k, xmax_k = ax[row, col].get_xlim()\n",
    "    if xmin is None or xmin_k < xmin:\n",
    "        xmin = xmin_k\n",
    "    if xmax is None or xmax_k > xmax:\n",
    "        xmax = xmax_k\n",
    "    \n",
    "# Set uniform xgrid\n",
    "for k in np.arange(0, len(ax), 1):\n",
    "    row, col = int(np.floor(k/2)), int(k % 2)\n",
    "    ax[row, col].set_xlim(xmin, xmax)\n",
    "    \n",
    "#fig.autofmt_xdate()"
   ]
  },
  {
   "cell_type": "code",
   "execution_count": null,
   "metadata": {},
   "outputs": [],
   "source": [
    "saveDir = \"../results/figures\"\n",
    "figName = \"_\".join((\"GA01SUMO\", \"all\", \"ctds\", param))\n",
    "fig.savefig(f\"{saveDir}/{figName}.png\")"
   ]
  },
  {
   "cell_type": "markdown",
   "metadata": {},
   "source": [
    "Plot all of the timeseries on top of each other, using different colors to denote different instruments"
   ]
  },
  {
   "cell_type": "code",
   "execution_count": null,
   "metadata": {},
   "outputs": [],
   "source": [
    "param = \"sea_water_temperature\"\n",
    "\n",
    "fig, ax = plt.subplots(nrows=1, ncols=1, figsize=(15, 9))\n",
    "\n",
    "# Set discrete category values\n",
    "levels, categories = pd.factorize(ga01sumo_datasets['depth'])\n",
    "colors = [plt.cm.tab10(i) for i in levels] # using the \"tab10\" colormap\n",
    "handles = [matplotlib.patches.Patch(color=plt.cm.tab20(i), label=c) for i, c in enumerate(categories)]\n",
    "for h in handles:\n",
    "    h.set_edgecolor(\"black\")\n",
    "    \n",
    "# Plot the data\n",
    "for k, refdes in enumerate(ga01sumo.keys()):\n",
    "    # Assign the category based on depth\n",
    "    depth = int(ga01sumo_datasets[ga01sumo_datasets[\"refdes\"] == refdes][\"depth\"])\n",
    "    color = colors[list(categories).index(depth)]\n",
    "    data = ga01sumo.get(refdes)\n",
    "    yavg, ystd = data[param].mean(skipna=True), data[param].std(skipna=True)\n",
    "    ymin, ymax = yavg-5*ystd, yavg+5*ystd\n",
    "    ax.plot(data[\"time\"], data[param], marker=\".\", linestyle=\"\", markersize=1, color=color, alpha=0.5)\n",
    "\n",
    "ax.legend(handles=handles, title='Deployed Depth', fontsize=12, edgecolor=\"black\")"
   ]
  },
  {
   "cell_type": "markdown",
   "metadata": {},
   "source": [
    "#### GA03FLMA"
   ]
  },
  {
   "cell_type": "code",
   "execution_count": null,
   "metadata": {},
   "outputs": [],
   "source": [
    "ga03flma = dict.fromkeys(ga03flma_datasets[\"refdes\"])\n",
    "for refdes in ga03flma_datasets[\"refdes\"]:\n",
    "    datasets = pd.read_csv(erd.get_search_url(search_for=refdes.lower(), response=\"csv\"))[\"Dataset ID\"]\n",
    "    dset = datasets.iloc[0]\n",
    "    erd.dataset_id = dset\n",
    "    data = erd.to_xarray()\n",
    "    data = data.swap_dims({\"obs\":\"time\"})\n",
    "    ga03flma[refdes] = data"
   ]
  },
  {
   "cell_type": "code",
   "execution_count": null,
   "metadata": {
    "scrolled": false
   },
   "outputs": [],
   "source": [
    "param = \"sea_water_temperature\"\n",
    "color = \"tab:red\"\n",
    "nrows = len(ga03flma.keys())\n",
    "xmin, xmax = None, None\n",
    "# Plot the seawater temperature data for all of the ga01sumo datasets\n",
    "fig, ax = plt.subplots(nrows=nrows, ncols=1, figsize=(15, 5*nrows))\n",
    "\n",
    "for k, refdes in enumerate(ga03flma.keys()):\n",
    "    data = ga03flma.get(refdes)\n",
    "    yavg, ystd = data[param].mean(skipna=True), data[param].std(skipna=True)\n",
    "    ymin, ymax = yavg-5*ystd, yavg+5*ystd\n",
    "    ax[k].plot(data[\"time\"], data[param], marker=\".\", linestyle=\"\", color=color)\n",
    "    ax[k].set_ylabel(data[param].attrs[\"long_name\"] + \"\\n\" + data[param].attrs[\"units\"], fontsize=12)\n",
    "    ax[k].set_title(data.attrs[\"title\"] + \" :: \" + refdes)\n",
    "    ax[k].set_ylim(ymin, ymax)\n",
    "    ax[k].grid()\n",
    "    xmin_k, xmax_k = ax[k].get_xlim()\n",
    "    if xmin is None or xmin_k < xmin:\n",
    "        xmin = xmin_k\n",
    "    if xmax is None or xmax_k > xmax:\n",
    "        xmax = xmax_k\n",
    "    \n",
    "# Set uniform xgrid\n",
    "for k in np.arange(0, len(ax), 1):\n",
    "    ax[k].set_xlim(xmin, xmax)"
   ]
  },
  {
   "cell_type": "code",
   "execution_count": null,
   "metadata": {},
   "outputs": [],
   "source": [
    "saveDir = \"../results/figures\"\n",
    "figName = \"_\".join((\"GA03FLMA\", \"all\", \"ctds\", param))\n",
    "fig.savefig(f\"{saveDir}/{figName}.png\")"
   ]
  },
  {
   "cell_type": "markdown",
   "metadata": {},
   "source": [
    "Plot a specific reference designator"
   ]
  },
  {
   "cell_type": "code",
   "execution_count": null,
   "metadata": {},
   "outputs": [],
   "source": [
    "refdes = \"GA01SUMO-RII11-02-CTDMOQ016\"\n",
    "data = ga01sumo.get(refdes)\n",
    "\n",
    "fig, ax = plt.subplots(nrows=2, ncols=1, figsize=(16,10))\n",
    "\n",
    "# Plot sea_water_temperature\n",
    "param = \"sea_water_temperature\"\n",
    "color = \"tab:red\"\n",
    "\n",
    "yavg, ystd = data[param].mean(skipna=True), data[param].std(skipna=True)\n",
    "ymin, ymax = yavg-8*ystd, yavg+8*ystd\n",
    "\n",
    "ax[0].plot(data[\"time\"], data[param], marker=\".\", linestyle=\"\", color=color)\n",
    "ax[0].set_ylabel(data[param].attrs[\"long_name\"] + \"\\n\" + data[param].attrs[\"units\"], fontsize=16, weight=\"bold\")\n",
    "ax[0].set_ylim(ymin, ymax)\n",
    "ax[0].grid()\n",
    "ax[0].set_title(data.attrs[\"title\"] + \" \\n \" + refdes, fontsize=16, weight=\"bold\")\n",
    "\n",
    "# Plot the practical salinity\n",
    "param = \"sea_water_practical_salinity\"\n",
    "color = \"tab:blue\"\n",
    "\n",
    "yavg, ystd = data[param].mean(skipna=True), data[param].std(skipna=True)\n",
    "ymin, ymax = yavg-8*ystd, yavg+8*ystd\n",
    "\n",
    "ax[1].plot(data[\"time\"], data[param], marker=\".\", linestyle=\"\", color=color)\n",
    "ax[1].set_ylabel(data[param].attrs[\"long_name\"], fontsize=16, weight=\"bold\")\n",
    "ax[1].set_ylim(ymin, ymax)\n",
    "ax[1].grid()\n",
    "\n",
    "fig.autofmt_xdate()"
   ]
  },
  {
   "cell_type": "code",
   "execution_count": null,
   "metadata": {},
   "outputs": [],
   "source": [
    "fig.savefig(f\"../results/figures/{refdes}_temperature_salinity.png\", facecolor=\"white\", transparent=False)"
   ]
  },
  {
   "cell_type": "markdown",
   "metadata": {},
   "source": [
    "#### GA03FLMB"
   ]
  },
  {
   "cell_type": "code",
   "execution_count": null,
   "metadata": {},
   "outputs": [],
   "source": [
    "ga03flmb = dict.fromkeys(ga03flmb_datasets[\"refdes\"])\n",
    "for refdes in ga03flmb_datasets[\"refdes\"]:\n",
    "    datasets = pd.read_csv(erd.get_search_url(search_for=refdes.lower(), response=\"csv\"))[\"Dataset ID\"]\n",
    "    dset = datasets.iloc[0]\n",
    "    erd.dataset_id = dset\n",
    "    data = erd.to_xarray()\n",
    "    data = data.swap_dims({\"obs\":\"time\"})\n",
    "    ga03flmb[refdes] = data"
   ]
  },
  {
   "cell_type": "code",
   "execution_count": null,
   "metadata": {
    "scrolled": false
   },
   "outputs": [],
   "source": [
    "param = \"sea_water_practical_salinity\"\n",
    "color = \"tab:blue\"\n",
    "nrows = len(ga03flmb.keys())\n",
    "xmin, xmax = None, None\n",
    "# Plot the seawater temperature data for all of the ga01sumo datasets\n",
    "fig, ax = plt.subplots(nrows=nrows, ncols=1, figsize=(15, 5*nrows))\n",
    "\n",
    "for k, refdes in enumerate(ga03flmb.keys()):\n",
    "    data = ga03flmb.get(refdes)\n",
    "    yavg, ystd = data[param].mean(skipna=True), data[param].std(skipna=True)\n",
    "    ymin, ymax = yavg-5*ystd, yavg+5*ystd\n",
    "    ax[k].plot(data[\"time\"], data[param], marker=\".\", linestyle=\"\", color=color)\n",
    "    ax[k].set_ylabel(data[param].attrs[\"long_name\"] + \"\\n\" + data[param].attrs[\"units\"], fontsize=12)\n",
    "    ax[k].set_title(data.attrs[\"title\"] + \" :: \" + refdes)\n",
    "    ax[k].set_ylim(ymin, ymax)\n",
    "    ax[k].grid()\n",
    "    xmin_k, xmax_k = ax[k].get_xlim()\n",
    "    if xmin is None or xmin_k < xmin:\n",
    "        xmin = xmin_k\n",
    "    if xmax is None or xmax_k > xmax:\n",
    "        xmax = xmax_k\n",
    "    \n",
    "# Set uniform xgrid\n",
    "for k in np.arange(0, len(ax), 1):\n",
    "    ax[k].set_xlim(xmin, xmax)"
   ]
  },
  {
   "cell_type": "code",
   "execution_count": null,
   "metadata": {},
   "outputs": [],
   "source": [
    "saveDir = \"../results/figures\"\n",
    "figName = \"_\".join((\"GA03FLMB\", \"all\", \"ctds\", param))\n",
    "fig.savefig(f\"{saveDir}/{figName}.png\")"
   ]
  },
  {
   "cell_type": "markdown",
   "metadata": {},
   "source": [
    "Plot a particular parameter (data variable) for all the given CTDs at a particular depth across all moorings in an array"
   ]
  },
  {
   "cell_type": "code",
   "execution_count": null,
   "metadata": {},
   "outputs": [],
   "source": [
    "param = \"sea_water_temperature\"\n",
    "#param = \"sea_water_practical_salinity\""
   ]
  },
  {
   "cell_type": "code",
   "execution_count": null,
   "metadata": {
    "scrolled": true
   },
   "outputs": [],
   "source": [
    "# Set the colors\n",
    "arrays = [\"FLMA\", \"FLMB\", \"SUMO\"]\n",
    "levels, categories = pd.factorize(arrays)\n",
    "colors = [plt.cm.tab10(i) for i in levels] # using the \"tab10\" colormap\n",
    "handles = [matplotlib.patches.Patch(color=plt.cm.tab10(i), label=c) for i, c in enumerate(categories)]\n",
    "for h in handles:\n",
    "    h.set_edgecolor(\"black\")\n",
    "\n",
    "# Plot the data \n",
    "for depth in ga03flma_datasets[\"depth\"]:\n",
    "    fig, ax = plt.subplots(nrows=1, ncols=1, figsize=(15, 9))\n",
    "\n",
    "    # ----------------------------------------------------------\n",
    "    # Flanking Mooring A\n",
    "    flma = ga03flma_datasets[ga03flma_datasets[\"depth\"] == depth][\"refdes\"].values[0]\n",
    "    flma_data = ga03flma.get(flma)\n",
    "    # Plot the flma data\n",
    "    ax.plot(flma_data[\"time\"], flma_data[param], linestyle=\"\", marker=\".\", color=colors[0], alpha=0.7)\n",
    "    yavg, ystd = flma_data[param].mean(skipna=True), flma_data[param].std(skipna=True)\n",
    "    ymin, ymax = yavg-5*ystd, yavg+5*ystd\n",
    "    \n",
    "    # ----------------------------------------------------------\n",
    "    # Flanking Mooring B\n",
    "    flmb = ga03flmb_datasets[ga03flmb_datasets[\"depth\"] == depth][\"refdes\"].values[0]\n",
    "    flmb_data = ga03flmb.get(flmb)\n",
    "    # Plot the flma data\n",
    "    ax.plot(flmb_data[\"time\"], flmb_data[param], linestyle=\"\", marker=\".\", color=colors[1], alpha=0.7)\n",
    "    \n",
    "    # ----------------------------------------------------------\n",
    "    # Surface Mooring\n",
    "    try:\n",
    "        sumo = ga01sumo_datasets[ga01sumo_datasets[\"depth\"] == depth][\"refdes\"].values[0]\n",
    "        sumo_data = ga01sumo.get(sumo)\n",
    "        # Plot the flma data\n",
    "        ax.plot(sumo_data[\"time\"], sumo_data[param], linestyle=\"\", marker=\".\", color=colors[2], alpha=0.7)\n",
    "    except:\n",
    "        sumo = None\n",
    "        \n",
    "    # ----------------------------------------------------------\n",
    "    # Set the figure\n",
    "    ax.grid()\n",
    "    ax.set_ylabel(flma_data[param].attrs[\"long_name\"] + \"\\n\" + flma_data[param].attrs[\"units\"], fontsize=16)\n",
    "    #if depth >= 500:\n",
    "    ax.set_ylim(ymin, ymax)\n",
    "    ax.legend(handles=handles, title='Array', fontsize=12, edgecolor=\"black\")\n",
    "    ax.set_title(f\"CTD Data at {int(depth)}m\", fontsize=16)\n",
    "    fig.autofmt_xdate()"
   ]
  },
  {
   "cell_type": "code",
   "execution_count": null,
   "metadata": {},
   "outputs": [],
   "source": [
    "saveDir = \"../results/figures\"\n",
    "figName = \"_\".join((refdes, \"time\", \"series\"))\n",
    "fig.savefig(f\"{saveDir}/{figName}.png\")"
   ]
  },
  {
   "cell_type": "markdown",
   "metadata": {},
   "source": [
    "### Add Deployment Information\n",
    "Datasets downloaded from Data Explorer do not come with the deployment information as a data variable, unlike datasets downloaded from the OOI Data Portal (ooinet.oceanobservatories.org). Here, we step through adding deployment information to the ERDDAP dataset by requesting the deployment times from the Data Portal via the OOI API."
   ]
  },
  {
   "cell_type": "code",
   "execution_count": null,
   "metadata": {},
   "outputs": [],
   "source": [
    "for refdes in ga01sumo:\n",
    "    # Get the deployment info for the given reference designator\n",
    "    deployments = OOINet.get_deployments(refdes)\n",
    "    \n",
    "    # Get the dataset\n",
    "    data = ga01sumo.get(refdes)\n",
    "\n",
    "    # Add the deployment info to the dataset\n",
    "    d = xr.DataArray(data=np.zeros, dims=data[\"time\"].dims, coords=data[\"time\"].coords, name=\"deployment\")\n",
    "    for depNum in sorted(deployments[\"deploymentNumber\"]):\n",
    "        # Get the start and end times of the deployments\n",
    "        deployStart = deployments[deployments[\"deploymentNumber\"] == depNum][\"deployStart\"].values[0]\n",
    "        deployEnd = deployments[deployments[\"deploymentNumber\"] == depNum][\"deployEnd\"].values[0]\n",
    "        # Add in the deployment number\n",
    "        d[(d.time >= deployStart) & (d.time <= deployEnd)] = depNum\n",
    "        \n",
    "    data[d.name] = d"
   ]
  },
  {
   "cell_type": "code",
   "execution_count": null,
   "metadata": {},
   "outputs": [],
   "source": [
    "for refdes in ga03flma:\n",
    "    # Get the deployment info for the given reference designator\n",
    "    deployments = OOINet.get_deployments(refdes)\n",
    "    \n",
    "    # Get the dataset\n",
    "    data = ga03flma.get(refdes)\n",
    "\n",
    "    # Add the deployment info to the dataset\n",
    "    d = xr.DataArray(data=np.zeros, dims=data[\"time\"].dims, coords=data[\"time\"].coords, name=\"deployment\")\n",
    "    for depNum in sorted(deployments[\"deploymentNumber\"]):\n",
    "        # Get the start and end times of the deployments\n",
    "        deployStart = deployments[deployments[\"deploymentNumber\"] == depNum][\"deployStart\"].values[0]\n",
    "        deployEnd = deployments[deployments[\"deploymentNumber\"] == depNum][\"deployEnd\"].values[0]\n",
    "        # Add in the deployment number\n",
    "        d[(d.time >= deployStart) & (d.time <= deployEnd)] = depNum\n",
    "        \n",
    "    data[d.name] = d"
   ]
  },
  {
   "cell_type": "code",
   "execution_count": null,
   "metadata": {},
   "outputs": [],
   "source": [
    "for refdes in ga03flmb:\n",
    "    # Get the deployment info for the given reference designator\n",
    "    deployments = OOINet.get_deployments(refdes)\n",
    "    \n",
    "    # Get the dataset\n",
    "    data = ga03flmb.get(refdes)\n",
    "\n",
    "    # Add the deployment info to the dataset\n",
    "    d = xr.DataArray(data=np.zeros, dims=data[\"time\"].dims, coords=data[\"time\"].coords, name=\"deployment\")\n",
    "    for depNum in sorted(deployments[\"deploymentNumber\"]):\n",
    "        # Get the start and end times of the deployments\n",
    "        deployStart = deployments[deployments[\"deploymentNumber\"] == depNum][\"deployStart\"].values[0]\n",
    "        deployEnd = deployments[deployments[\"deploymentNumber\"] == depNum][\"deployEnd\"].values[0]\n",
    "        # Add in the deployment number\n",
    "        d[(d.time >= deployStart) & (d.time <= deployEnd)] = depNum\n",
    "        \n",
    "    data[d.name] = d"
   ]
  },
  {
   "cell_type": "code",
   "execution_count": null,
   "metadata": {},
   "outputs": [],
   "source": [
    "ga03flma.get(refdes)"
   ]
  },
  {
   "cell_type": "code",
   "execution_count": null,
   "metadata": {},
   "outputs": [],
   "source": [
    "# Quick print of the CTD data\n",
    "fig, (ax0, ax1, ax2) = plt.subplots(nrows=3, ncols=1, figsize=(15, 12))\n",
    "\n",
    "# Plot the temperature data\n",
    "avg, std = data.sea_water_temperature.mean(), data.sea_water_temperature.std()\n",
    "ymin, ymax = avg-5*std, avg+5*std\n",
    "ax0.plot(data.time, data.sea_water_temperature, marker=\".\", linestyle=\"\", color=\"tab:red\")\n",
    "ax0.grid()\n",
    "ax0.set_ylabel(data.sea_water_temperature.attrs[\"long_name\"], fontsize=16)\n",
    "#ax0.set_ylim((ymin, ymax))\n",
    "#ax0.set_xlim((pd.to_datetime(\"2016-07-15\"),pd.to_datetime(\"2016-08-17\")))\n",
    "ax0.set_title(data.attrs[\"title\"] + \"\\n\" + dset, fontsize=16)\n",
    "\n",
    "# Plot the salinity data\n",
    "avg, std = data.sea_water_practical_salinity.mean(), data.sea_water_practical_salinity.std()\n",
    "ymin, ymax = avg-5*std, avg+5*std\n",
    "ax1.plot(data.time, data.sea_water_practical_salinity, marker=\".\", linestyle=\"\", color=\"tab:blue\")\n",
    "ax1.grid()\n",
    "ax1.set_ylabel(data.sea_water_practical_salinity.attrs[\"long_name\"], fontsize=16)\n",
    "#ax1.set_ylim((ymin, ymax))\n",
    "#ax1.set_xlim((pd.to_datetime(\"2016-07-15\"),pd.to_datetime(\"2016-08-17\")))\n",
    "\n",
    "\n",
    "# Plot the pressure data\n",
    "avg, std = data.sea_water_pressure.mean(), data.sea_water_pressure.std()\n",
    "ymin, ymax = avg-5*std, avg+5*std\n",
    "ax2.plot(data.time, data.sea_water_pressure, marker=\".\", linestyle=\"\", color=\"black\")\n",
    "ax2.grid()\n",
    "ax2.set_ylabel(data.sea_water_pressure.attrs[\"long_name\"], fontsize=16)\n",
    "#ax2.set_ylim((ymin, ymax))\n",
    "#ax2.set_xlim((pd.to_datetime(\"2016-07-15\"),pd.to_datetime(\"2016-08-17\")))\n",
    "\n",
    "ax2.invert_yaxis()"
   ]
  },
  {
   "cell_type": "markdown",
   "metadata": {},
   "source": [
    "### Clean up dataset\n",
    "Before we go any farther, going to clean up the downloaded data set. First, going to dump all the passed \"qc_tests\" in the dataset. We're doing this in order to be able to see for ourselves how these are calculated"
   ]
  },
  {
   "cell_type": "markdown",
   "metadata": {},
   "source": [
    "#### Select a single dataset to analyze"
   ]
  },
  {
   "cell_type": "code",
   "execution_count": null,
   "metadata": {},
   "outputs": [],
   "source": [
    "refdes = \"GA03FLMA-RIM01-02-CTDMOG047\"\n",
    "data = ga03flma.get(refdes)"
   ]
  },
  {
   "cell_type": "code",
   "execution_count": null,
   "metadata": {},
   "outputs": [],
   "source": [
    "for var in data.variables:\n",
    "    if \"qc\" in var:\n",
    "        data = data.drop(var)"
   ]
  },
  {
   "cell_type": "markdown",
   "metadata": {},
   "source": [
    "## Implement QARTOD\n",
    "Finally, we are ready to calculate the QARTOD flags and test"
   ]
  },
  {
   "cell_type": "code",
   "execution_count": null,
   "metadata": {},
   "outputs": [],
   "source": [
    "from qartod.gross_range import GrossRange\n",
    "from qartod.climatology import Climatology\n",
    "from ioos_qc.config import QcConfig, ContextConfig, Config\n",
    "from ioos_qc.qartod import gross_range_test, climatology_test, ClimatologyConfig"
   ]
  },
  {
   "cell_type": "markdown",
   "metadata": {},
   "source": [
    "#### Define some useful functions\n",
    "Before calculating the QARTOD flags, we'll define a couple of functions to make adding the QARTOD flags to the datasets we've downloaded and cleaned up easier and simpler as well as nice "
   ]
  },
  {
   "cell_type": "code",
   "execution_count": null,
   "metadata": {},
   "outputs": [],
   "source": [
    "def add_qartod_test(data, param, test, test_results):\n",
    "    # Generate the test name\n",
    "    testName = \"_\".join((param, \"qartod\", test))\n",
    "    \n",
    "    # Create an xarray DataArray of the test_results\n",
    "    test_results = xr.DataArray(\n",
    "        data=test_results,\n",
    "        dims=data[param].dims,\n",
    "        coords=data[param].coords,\n",
    "    )\n",
    "    \n",
    "    data[testName] = test_results\n",
    "    return data"
   ]
  },
  {
   "cell_type": "code",
   "execution_count": null,
   "metadata": {},
   "outputs": [],
   "source": [
    "def aggregate_results(data, param):\n",
    "    \"\"\"Aggregate the results of all qartod tests for a given parameter\"\"\"\n",
    "    # Get the qartod variables\n",
    "    qartod_vars = []\n",
    "    for var in data:\n",
    "        if (param in var) & (\"qartod\" in var):\n",
    "            qartod_vars.append(var)\n",
    "            \n",
    "    # Aggregate and take max flag\n",
    "    aggregate = np.vstack((data[v] for v in qartod_vars))\n",
    "    aggregate = aggregate.max(axis=0)\n",
    "    return aggregate"
   ]
  },
  {
   "cell_type": "code",
   "execution_count": null,
   "metadata": {},
   "outputs": [],
   "source": [
    "def plot_climatology(data, param, climatology, **kwargs):\n",
    "    \n",
    "    # Check the kwargs\n",
    "    if \"color\" in kwargs.keys():\n",
    "        color = kwargs.get(\"color\")\n",
    "    else:\n",
    "        color = \"tab:red\"\n",
    "    \n",
    "    # Initialize the figure\n",
    "    fig, ax = plt.subplots(figsize=(12,8))\n",
    "    \n",
    "    # Plot the Observations\n",
    "    ax.plot(data.time, data[param], marker=\".\", linestyle=\"\", color=color, zorder=0, label=\"Observations\")\n",
    "    yavg, ystd = np.mean(data[param]), np.std(data[param])\n",
    "    ymin, ymax = yavg-ystd*7, yavg+ystd*7\n",
    "    ax.set_ylim((ymin, ymax))\n",
    "    \n",
    "    # Standard Deviation +/- 3\n",
    "    for t in climatology.fitted_data.index:\n",
    "        t0 = pd.Timestamp(year=t.year, month=t.month, day=1)\n",
    "        mu = climatology.monthly_fit.loc[t.month]\n",
    "        std = climatology.monthly_std.loc[t.month]\n",
    "        ax.hlines(mu, t0, t, color=\"black\", linewidth=3, label=\"Climatological Fit\")\n",
    "        ax.fill_between([t0, t], [mu+2*std, mu+2*std], [mu-2*std, mu-2*std], color=color, alpha=0.3, label=\"2*$\\sigma$\")\n",
    "\n",
    "    \n",
    "    # Add legend and labels\n",
    "    handles, labels = ax.get_legend_handles_labels()[0][0:3], ax.get_legend_handles_labels()[1][0:3]\n",
    "    ax.legend(handles, labels, fontsize=12)\n",
    "    ax.set_title(data.attrs[\"platform_name\"], fontsize=16, weight=\"bold\")\n",
    "    ax.set_ylabel(data[param].attrs[\"long_name\"], fontsize=16, weight=\"bold\")\n",
    "    ax.grid()\n",
    "    fig.autofmt_xdate()\n",
    "    \n",
    "    return fig, ax"
   ]
  },
  {
   "cell_type": "markdown",
   "metadata": {},
   "source": [
    "#### Calculate QARTOD"
   ]
  },
  {
   "cell_type": "code",
   "execution_count": null,
   "metadata": {},
   "outputs": [],
   "source": [
    "# Parameters and tests to run\n",
    "parameters = [\"sea_water_practical_salinity\", \"sea_water_temperature\"]\n",
    "tests = [\"gross_range\", \"climatology\"]\n",
    "\n",
    "# Dictionary object to store output results\n",
    "results = dict.fromkeys(parameters)\n",
    "for key in results.keys():\n",
    "    results[key] = dict.fromkeys(tests, {})"
   ]
  },
  {
   "cell_type": "code",
   "execution_count": null,
   "metadata": {},
   "outputs": [],
   "source": [
    "for param in parameters:\n",
    "    if param == \"sea_water_temperature\":\n",
    "        fail_span = (-5, 35)\n",
    "    elif param == \"sea_water_practical_salinity\":\n",
    "        fail_span = (0, 42)\n",
    "    else:\n",
    "        raise TypeError(f\"Param {param} not found.\")\n",
    "    # Iterate through the tests\n",
    "    for test in tests:\n",
    "        if test == \"gross_range\":\n",
    "            # Calculate the gross range ranges\n",
    "            fail_min, fail_max = fail_span\n",
    "            gross_range = GrossRange(fail_min, fail_max)\n",
    "            gross_range.fit(data, param)\n",
    "            # Run the gross range test\n",
    "            test_results = gross_range_test(\n",
    "                inp=data[param],\n",
    "                fail_span=(gross_range.fail_min, gross_range.fail_max),\n",
    "                suspect_span=(gross_range.suspect_min, gross_range.suspect_max)\n",
    "            )\n",
    "            # Save the fit results\n",
    "            results[param][test] = gross_range\n",
    "        elif test == \"climatology\":\n",
    "            # Calculate the gross range ranges\n",
    "            climatology = Climatology()\n",
    "            climatology.fit(data, param, fail_span=fail_span)\n",
    "            # Make the climatology config objecty\n",
    "            c = ClimatologyConfig()\n",
    "            for ind in climatology.monthly_fit.index:\n",
    "                vmin = np.floor((climatology.monthly_fit.loc[ind] - 2*climatology.monthly_std.loc[ind])*100)/100\n",
    "                vmax = np.ceil((climatology.monthly_fit.loc[ind] + 2*climatology.monthly_std.loc[ind])*100)/100\n",
    "                c.add(tspan=[ind, ind],\n",
    "                      vspan=[vmin, vmax],\n",
    "                      fspan=[fail_span[0], fail_span[1]],\n",
    "                      zspan=[0,5000],\n",
    "                      period=\"month\")\n",
    "            # Run the climatology test\n",
    "            test_results = climatology_test(c,\n",
    "                               inp=data[param],\n",
    "                               tinp=data[\"time\"],\n",
    "                               zinp=data[\"sea_water_pressure\"]\n",
    "                              )\n",
    "            # Save the fit results\n",
    "            results[param][test] = climatology\n",
    "        else:\n",
    "            print(f\"Error with test {test} for param {param}\")\n",
    "        # Save the results\n",
    "        data = add_qartod_test(data, param, test, test_results)\n",
    "    \n",
    "    # Now add the aggregate flag for the given parameter\n",
    "    aggregate = aggregate_results(data, param)\n",
    "    data = add_qartod_test(data, param, \"aggregate\", aggregate)"
   ]
  },
  {
   "cell_type": "markdown",
   "metadata": {},
   "source": [
    "Check the QARTOD flags for the given dataset"
   ]
  },
  {
   "cell_type": "code",
   "execution_count": null,
   "metadata": {},
   "outputs": [],
   "source": [
    "results"
   ]
  },
  {
   "cell_type": "code",
   "execution_count": null,
   "metadata": {},
   "outputs": [],
   "source": [
    "# Initialize the figure\n",
    "fig, ax = plt.subplots(nrows=2, ncols=1, figsize=(16, 12))\n",
    "\n",
    "param = \"sea_water_temperature\"\n",
    "color = \"tab:red\"\n",
    "\n",
    "# Plot the Observations\n",
    "ax[0].plot(data.time, data[param], marker=\".\", linestyle=\"\", color=color, zorder=0, label=\"Observations\")\n",
    "yavg, ystd = np.mean(data[param]), np.std(data[param])\n",
    "ymin, ymax = yavg-ystd*7, yavg+ystd*7\n",
    "ax[0].set_ylim((ymin, ymax))\n",
    "\n",
    "cdata = results[param][\"climatology\"]\n",
    "# Standard Deviation +/- 3\n",
    "#for t in cdata.fitted_data.index:\n",
    "#    t0 = pd.Timestamp(year=t.year, month=t.month, day=1)\n",
    "#    mu = cdata.monthly_fit.loc[t.month]\n",
    "#    std = cdata.monthly_std.loc[t.month]\n",
    "#    ax[0].hlines(mu, t0, t, color=\"black\", linewidth=3, label=\"Climatological Fit\")\n",
    "#    ax[0].fill_between([t0, t], [mu+2*std, mu+2*std], [mu-2*std, mu-2*std], color=color, alpha=0.3, label=\"2*$\\sigma$\")\n",
    "\n",
    "\n",
    "# Add legend and labels\n",
    "handles, labels = ax[0].get_legend_handles_labels()[0][0:3], ax[0].get_legend_handles_labels()[1][0:3]\n",
    "ax[0].legend(handles, labels, fontsize=12)\n",
    "ax[0].set_title(data.attrs[\"platform_name\"] + \"\\n\" + refdes, fontsize=16, weight=\"bold\")\n",
    "ax[0].set_ylabel(data[param].attrs[\"long_name\"], fontsize=16, weight=\"bold\")\n",
    "ax[0].grid()\n",
    "\n",
    "for tick in ax[0].yaxis.get_major_ticks():\n",
    "    tick.label1.set_fontsize(12)\n",
    "    tick.label1.set_fontweight(\"bold\")\n",
    "\n",
    "\n",
    "param = \"sea_water_practical_salinity\"\n",
    "color = \"tab:blue\"\n",
    "\n",
    "# Plot the Observations\n",
    "ax[1].plot(data.time, data[param], marker=\".\", linestyle=\"\", color=color, zorder=0, label=\"Observations\")\n",
    "yavg, ystd = np.mean(data[param]), np.std(data[param])\n",
    "ymin, ymax = yavg-ystd*7, yavg+ystd*7\n",
    "ax[1].set_ylim((ymin, ymax))\n",
    "\n",
    "cdata = results[param][\"climatology\"]\n",
    "# Standard Deviation +/- 3\n",
    "#for t in cdata.fitted_data.index:\n",
    "#    t0 = pd.Timestamp(year=t.year, month=t.month, day=1)\n",
    "#    mu = cdata.monthly_fit.loc[t.month]\n",
    "#    std = cdata.monthly_std.loc[t.month]\n",
    "#    ax[1].hlines(mu, t0, t, color=\"black\", linewidth=3, label=\"Climatological Fit\")\n",
    "#    ax[1].fill_between([t0, t], [mu+2*std, mu+2*std], [mu-2*std, mu-2*std], color=color, alpha=0.3, label=\"2*$\\sigma$\")\n",
    "\n",
    "\n",
    "# Add legend and labels\n",
    "handles, labels = ax[1].get_legend_handles_labels()[0][0:3], ax[1].get_legend_handles_labels()[1][0:3]\n",
    "ax[1].legend(handles, labels, fontsize=12)\n",
    "ax[1].set_ylabel(data[param].attrs[\"long_name\"], fontsize=16, weight=\"bold\")\n",
    "ax[1].grid()\n",
    "\n",
    "fig.autofmt_xdate()\n",
    "\n",
    "for tick in ax[1].xaxis.get_major_ticks():\n",
    "    tick.label1.set_fontsize(12)\n",
    "    tick.label1.set_fontweight(\"bold\")\n",
    "    \n",
    "for tick in ax[1].yaxis.get_major_ticks():\n",
    "    tick.label1.set_fontsize(12)\n",
    "    tick.label1.set_fontweight(\"bold\")"
   ]
  },
  {
   "cell_type": "code",
   "execution_count": null,
   "metadata": {},
   "outputs": [],
   "source": [
    "refdes"
   ]
  },
  {
   "cell_type": "code",
   "execution_count": null,
   "metadata": {},
   "outputs": [],
   "source": [
    "fig.savefig(f\"../results/figures/{refdes}_temp_sal.png\", facecolor=\"white\", transparent=False)"
   ]
  },
  {
   "cell_type": "code",
   "execution_count": null,
   "metadata": {},
   "outputs": [],
   "source": [
    "fig, ax = plot_climatology(data, param, results[param][\"climatology\"], color=\"tab:blue\")\n",
    "handles, labels = ax.get_legend_handles_labels()[0][0:3], ax.get_legend_handles_labels()[1][0:3]\n",
    "ax.legend(handles, labels, fontsize=12, loc=\"lower right\", edgecolor=\"black\")"
   ]
  },
  {
   "cell_type": "code",
   "execution_count": null,
   "metadata": {},
   "outputs": [],
   "source": [
    "# Make the figName from the reference designator, tested parameter, and the specific QARTOD test\n",
    "figName = \"_\".join((refdes, param, test))\n",
    "\n",
    "# Save the results\n",
    "saveDir = \"../results/figures/\"\n",
    "if not os.path.isdir(saveDir):\n",
    "    os.makedirs(saveDir)\n",
    "fig.savefig(f\"{saveDir}/{figName}.png\", facecolor=\"white\", transparent=False)"
   ]
  },
  {
   "cell_type": "code",
   "execution_count": null,
   "metadata": {},
   "outputs": [],
   "source": [
    "param = \"sea_water_temperature\""
   ]
  },
  {
   "cell_type": "code",
   "execution_count": null,
   "metadata": {
    "scrolled": false
   },
   "outputs": [],
   "source": [
    "fig, ax = plot_climatology(data, param, results[param][\"climatology\"], color=\"tab:red\")\n",
    "#handles, labels = ax.get_legend_handles_labels()\n",
    "#first_legend.set_bbox_to_anchor((1, 0.7))\n",
    "#ax.add_artist(first_legend)\n",
    "xmin, xmax = ax.get_xlim()\n",
    "\n",
    "# Plot the flagged data\n",
    "flagged_data = data.where((data.sea_water_temperature_qartod_climatology == 3), drop=True)\n",
    "ax.plot(flagged_data.time, flagged_data.sea_water_temperature, linestyle=\"\", marker=\".\", color=\"tab:blue\", label=\"Flagged\")\n",
    "handles, labels = ax.get_legend_handles_labels()[0][0:4], ax.get_legend_handles_labels()[1][0:4]\n",
    "ax.legend(handles, labels, fontsize=12, loc=\"lower right\", edgecolor=\"black\")\n",
    "\n",
    "\n",
    "for tick in ax.xaxis.get_major_ticks():\n",
    "    tick.label1.set_fontsize(12)\n",
    "    tick.label1.set_fontweight(\"bold\")\n",
    "    \n",
    "for tick in ax.yaxis.get_major_ticks():\n",
    "    tick.label1.set_fontsize(12)\n",
    "    tick.label1.set_fontweight(\"bold\")"
   ]
  },
  {
   "cell_type": "code",
   "execution_count": null,
   "metadata": {},
   "outputs": [],
   "source": [
    "figName = \"_\".join((refdes, param, test, \"with_flags\"))\n",
    "figName"
   ]
  },
  {
   "cell_type": "code",
   "execution_count": null,
   "metadata": {},
   "outputs": [],
   "source": [
    "fig.savefig(f\"{saveDir}/{figName}.png\", facecolor=\"white\", transparent=False)"
   ]
  },
  {
   "cell_type": "markdown",
   "metadata": {},
   "source": [
    "Plot a histogram, by month, of the climatology-flagged data"
   ]
  },
  {
   "cell_type": "code",
   "execution_count": null,
   "metadata": {},
   "outputs": [],
   "source": [
    "param=\"sea_water_temperature\"\n",
    "climatology = results[param][\"climatology\"]"
   ]
  },
  {
   "cell_type": "code",
   "execution_count": null,
   "metadata": {},
   "outputs": [],
   "source": [
    "flags = (data.sea_water_temperature_qartod_climatology == 3).resample(time=\"M\").sum()\n",
    "flags"
   ]
  },
  {
   "cell_type": "code",
   "execution_count": null,
   "metadata": {
    "scrolled": false
   },
   "outputs": [],
   "source": [
    "fig, ax = plt.subplots(nrows=2, ncols=1, figsize=(15, 20), sharex=True)\n",
    "\n",
    "# ------------------------------------------------\n",
    "# Plot the first figure with the time series data\n",
    "# Plot the Observations\n",
    "ax[0].plot(data.time, data[param], marker=\".\", linestyle=\"\", color=\"tab:red\", zorder=0, label=\"Observations\")\n",
    "yavg, ystd = np.mean(data[param]), np.std(data[param])\n",
    "ymin, ymax = yavg-ystd*7, yavg+ystd*7\n",
    "ax[0].set_ylim((ymin, ymax))\n",
    "\n",
    "# Standard Deviation +/- 3\n",
    "for t in climatology.fitted_data.index:\n",
    "    t0 = pd.Timestamp(year=t.year, month=t.month, day=1)\n",
    "    mu = climatology.monthly_fit.loc[t.month]\n",
    "    std = climatology.monthly_std.loc[t.month]\n",
    "    ax[0].hlines(mu, t0, t, color=\"black\", linewidth=3, label=\"Climatological Fit\")\n",
    "    ax[0].fill_between([t0, t], [mu+2*std, mu+2*std], [mu-2*std, mu-2*std], color=\"tab:red\", alpha=0.3, label=\"2*$\\sigma$\")\n",
    "\n",
    "# Plot the flagged data\n",
    "flagged_data = data.where((data.sea_water_temperature_qartod_climatology == 3), drop=True)\n",
    "ax[0].plot(flagged_data.time, flagged_data[param], linestyle=\"\", marker=\".\", color=\"tab:blue\", label=\"Flagged\")\n",
    "handles, labels = ax[0].get_legend_handles_labels()[0][0:4], ax[0].get_legend_handles_labels()[1][0:4]\n",
    "ax[0].legend(handles, labels, fontsize=12, loc=\"lower right\", edgecolor=\"black\")\n",
    "\n",
    "for tick in ax[0].yaxis.get_major_ticks():\n",
    "    tick.label1.set_fontsize(12)\n",
    "    tick.label1.set_fontweight(\"bold\")\n",
    "    \n",
    "# Add legend and labels\n",
    "handles, labels = ax[0].get_legend_handles_labels()[0][0:3], ax[0].get_legend_handles_labels()[1][0:3]\n",
    "ax[0].legend(handles, labels, fontsize=12)\n",
    "ax[0].set_title(data.attrs[\"platform_name\"], fontsize=16, weight=\"bold\")\n",
    "ax[0].set_ylabel(data[param].attrs[\"long_name\"], fontsize=16, weight=\"bold\")\n",
    "ax[0].grid()\n",
    "    \n",
    "# -----------------------------------------------------\n",
    "# Plot the histogram of the flags\n",
    "ax[1].bar(flags.time, flags.values, width=24.0, edgecolor=\"k\", color=\"tab:blue\")\n",
    "ax[1].set_ylabel(f\"Suspect flag count for\\n{flags.name}\", fontsize=16, weight=\"bold\")\n",
    "#ax[1].set_title(refdes, fontsize=16, weight=\"bold\")\n",
    "ax[1].grid()\n",
    "\n",
    "\n",
    "\n",
    "fig.autofmt_xdate()\n",
    "\n",
    "\n",
    "for tick in ax[1].xaxis.get_major_ticks():\n",
    "    tick.label1.set_fontsize(12)\n",
    "    tick.label1.set_fontweight(\"bold\")\n",
    "    \n",
    "for tick in ax[1].yaxis.get_major_ticks():\n",
    "    tick.label1.set_fontsize(12)\n",
    "    tick.label1.set_fontweight(\"bold\")"
   ]
  },
  {
   "cell_type": "code",
   "execution_count": null,
   "metadata": {},
   "outputs": [],
   "source": [
    "fig.savefig(f\"../results/figures/{refdes}_{param}_timeseries_with_histogram.png\", facecolor=\"white\", transparent=False)"
   ]
  },
  {
   "cell_type": "code",
   "execution_count": null,
   "metadata": {},
   "outputs": [],
   "source": [
    "data.sea_water_temperature_qartod_climatology.resample(time=\"M\").sum()"
   ]
  }
 ],
 "metadata": {
  "kernelspec": {
   "display_name": "Python 3 (ipykernel)",
   "language": "python",
   "name": "python3"
  },
  "language_info": {
   "codemirror_mode": {
    "name": "ipython",
    "version": 3
   },
   "file_extension": ".py",
   "mimetype": "text/x-python",
   "name": "python",
   "nbconvert_exporter": "python",
   "pygments_lexer": "ipython3",
   "version": "3.7.12"
  }
 },
 "nbformat": 4,
 "nbformat_minor": 4
}
