{
 "cells": [
  {
   "cell_type": "markdown",
   "metadata": {},
   "source": [
    "# Carbon System Data Analysis\n",
    "\n",
    "---\n",
    "### Purpose\n",
    "The purpose of this notebook is to analyze and validate the performance of the Sunburst Sensors, LLC. SAMI-pH (PHSEN) pH, SAMI-pCO$_{2}$ seawater measurements, and the Pro-Oceanus pCO2 sensor measurements at the Global Irminger Array. This is done on a deployment-by-deployment, site-by-site comparison with the pH measurements from discete water samples collected by Niskin Bottle casts during deployment and recovery of the instrumentation during mooring maintainence. "
   ]
  },
  {
   "cell_type": "code",
   "execution_count": null,
   "metadata": {},
   "outputs": [],
   "source": [
    "import os, sys, gc\n",
    "import json\n",
    "import yaml\n",
    "import numpy as np\n",
    "import pandas as pd\n",
    "import xarray as xr\n",
    "import warnings\n",
    "warnings.filterwarnings(\"ignore\")"
   ]
  },
  {
   "cell_type": "code",
   "execution_count": null,
   "metadata": {},
   "outputs": [],
   "source": [
    "import matplotlib\n",
    "import matplotlib.pyplot as plt\n",
    "%matplotlib inline"
   ]
  },
  {
   "cell_type": "code",
   "execution_count": null,
   "metadata": {},
   "outputs": [],
   "source": [
    "# Import the OOI M2M tool\n",
    "sys.path.append(\"/home/andrew/Documents/OOI-CGSN/ooinet/ooinet/\")\n",
    "from m2m import M2M"
   ]
  },
  {
   "cell_type": "code",
   "execution_count": null,
   "metadata": {},
   "outputs": [],
   "source": [
    "sys.path.append(\"../../OS2022/OS2022/\")\n",
    "from utils import *"
   ]
  },
  {
   "cell_type": "markdown",
   "metadata": {},
   "source": [
    "#### Set OOINet API access\n",
    "In order access and download data from OOINet, need to have an OOINet api username and access token. Those can be found on your profile after logging in to OOINet. Your username and access token should NOT be stored in this notebook/python script (for security). It should be stored in a yaml file, kept in the same directory, named user_info.yaml."
   ]
  },
  {
   "cell_type": "code",
   "execution_count": null,
   "metadata": {},
   "outputs": [],
   "source": [
    "# Import user info for connecting to OOINet via M2M\n",
    "userinfo = yaml.load(open(\"../../../../QAQC_Sandbox/user_info.yaml\"), Loader=yaml.FullLoader)\n",
    "username = userinfo[\"apiname\"]\n",
    "token = userinfo[\"apikey\"]"
   ]
  },
  {
   "cell_type": "markdown",
   "metadata": {},
   "source": [
    "#### Connect to OOINet"
   ]
  },
  {
   "cell_type": "code",
   "execution_count": null,
   "metadata": {},
   "outputs": [],
   "source": [
    "OOINet = M2M(username, token)"
   ]
  },
  {
   "cell_type": "markdown",
   "metadata": {},
   "source": [
    "---\n",
    "## Discrete Bottle Data\n",
    "\n",
    "#### Irminger Sea\n",
    "First, load the bottle data from the Irminger Sea Array into a pandas dataframe. This dataset was prepared using the **```Bottle_Data```** Jupyter notebook. Once the data is loaded, then we'll do some datatype conversions, such as converting the Dates and Times into pandas datetime objects, as well as replacing the fill value of ```-9999999``` with NaNs. Finally, we'll drop the data from the table that doesn't have any DIC, Alkalinity, or pH data to get the relevant carbon system data we'll need for comparisons.\n",
    "\n",
    "We'll also want to check the associated bottle and discrete sample flags. If the bottle data has been processed using the **```Bottle_Data```** notebook, then the Flags for the Discrete and CTD data parameters have been converted into WOCE standard:\n",
    "* 1 = good data\n",
    "* 2 = no evaluation\n",
    "* 3 = questionable data\n",
    "* 4 = bad data\n",
    "* 9 = missing/no data"
   ]
  },
  {
   "cell_type": "markdown",
   "metadata": {},
   "source": [
    "First, we'll load some functions for interacting witht he bottle data from **```bottle_utils.py```** module."
   ]
  },
  {
   "cell_type": "code",
   "execution_count": null,
   "metadata": {},
   "outputs": [],
   "source": [
    "from bottle_utils import *"
   ]
  },
  {
   "cell_type": "code",
   "execution_count": null,
   "metadata": {
    "scrolled": true
   },
   "outputs": [],
   "source": [
    "bottleData = pd.read_csv(\"../data/water_sampling/Irminger_Bottle_Data.csv\")\n",
    "bottleData"
   ]
  },
  {
   "cell_type": "code",
   "execution_count": null,
   "metadata": {},
   "outputs": [],
   "source": [
    "def convert_times(x):\n",
    "    if type(x) is str:\n",
    "        x = pd.to_datetime(x, utc=False)\n",
    "    else:\n",
    "        pass\n",
    "    \n",
    "    return x"
   ]
  },
  {
   "cell_type": "code",
   "execution_count": null,
   "metadata": {},
   "outputs": [],
   "source": [
    "bottleData[\"Start Time [UTC]\"] = bottleData[\"Start Time [UTC]\"].apply(lambda x: convert_times(x))\n",
    "bottleData[\"CTD Bottle Closure Time [UTC]\"] = bottleData[\"CTD Bottle Closure Time [UTC]\"].apply(lambda x: convert_times(x))"
   ]
  },
  {
   "cell_type": "markdown",
   "metadata": {},
   "source": [
    "With the flags interpreted to simpler scheme, can now filter the data to keep only the \"good\" and \"suspicious\" data. We'll replace the bad or missing data with NaNs so we can drop them in the next step"
   ]
  },
  {
   "cell_type": "code",
   "execution_count": null,
   "metadata": {},
   "outputs": [],
   "source": [
    "# ====================================================\n",
    "# Irminger Sea data\n",
    "mask = (bottleData[\"Discrete Alkalinity Flag\"] != 1) & (bottleData[\"Discrete Alkalinity Flag\"] != 3)\n",
    "to_replace = bottleData[\"Discrete Alkalinity [umol/kg]\"][mask].dropna().unique()\n",
    "bottleData[\"Discrete Alkalinity [umol/kg]\"].replace(to_replace=to_replace, value=np.nan, inplace=True)\n",
    "\n",
    "mask = (bottleData[\"Discrete DIC Flag\"] != 1) & (bottleData[\"Discrete DIC Flag\"] != 3)\n",
    "to_replace = bottleData[\"Discrete DIC [umol/kg]\"][mask].dropna().unique()\n",
    "bottleData[\"Discrete DIC [umol/kg]\"].replace(to_replace=to_replace, value=np.nan, inplace=True)\n",
    "\n",
    "mask = (bottleData[\"Discrete pH Flag\"] != 1) & (bottleData[\"Discrete pH Flag\"] != 3)\n",
    "to_replace = bottleData[\"Discrete pH [Total scale]\"][mask].dropna().unique()\n",
    "bottleData[\"Discrete pH [Total scale]\"].replace(to_replace=to_replace, value=np.nan, inplace=True)"
   ]
  },
  {
   "cell_type": "markdown",
   "metadata": {},
   "source": [
    "Drop rows with NaNs in the carbon system data, since those don't have any relevant data"
   ]
  },
  {
   "cell_type": "code",
   "execution_count": null,
   "metadata": {},
   "outputs": [],
   "source": [
    "carbon_columns = [\"Discrete Alkalinity [umol/kg]\", \"Discrete DIC [umol/kg]\", \"Discrete pH [Total scale]\"]\n",
    "carbonData = bottleData.dropna(subset=carbon_columns, how=\"all\")"
   ]
  },
  {
   "cell_type": "markdown",
   "metadata": {},
   "source": [
    "---\n",
    "## PCO2A\n",
    "\n",
    "First, we examine the **```PCO2A```** dataset from the Irminger Surface Mooring Buoy. The **```PCO2A```** is the Pro-Oceanus CO2-Pro ATM instrument. It samples both the surface ocean and atmospheric pCO<sub>2</sub>. There is one **```PCO2A```** at the Irminger Array."
   ]
  },
  {
   "cell_type": "markdown",
   "metadata": {},
   "source": [
    "Import some custom plotting functions for this notebook"
   ]
  },
  {
   "cell_type": "code",
   "execution_count": null,
   "metadata": {},
   "outputs": [],
   "source": [
    "sys.path.append(\"../../\")\n",
    "from OS2022.OS2022 import plotting"
   ]
  },
  {
   "cell_type": "markdown",
   "metadata": {},
   "source": [
    "Load the dataset which has been prepared using the **```Identify_and_Download_Data```** notebook"
   ]
  },
  {
   "cell_type": "code",
   "execution_count": null,
   "metadata": {},
   "outputs": [],
   "source": [
    "pco2a = xr.open_dataset(\"../data/GI01SUMO-SBD12-04-PCO2AA000_combined.nc\", chunks=\"auto\")\n",
    "pco2a"
   ]
  },
  {
   "cell_type": "code",
   "execution_count": null,
   "metadata": {},
   "outputs": [],
   "source": [
    "# Plot the data as a function of deployments\n",
    "fig, ax = plotting.plot_variable(pco2a, \"partial_pressure_co2_ssw\")\n",
    "ax.set_title(\"GI01SUMO-SBD12-04-PCO2AA000\", fontsize=16)"
   ]
  },
  {
   "cell_type": "code",
   "execution_count": null,
   "metadata": {},
   "outputs": [],
   "source": [
    "fig.savefig(\"../results/GI01SUMO-SBD12-04-PCO2AA000/time_series.png\")"
   ]
  },
  {
   "cell_type": "markdown",
   "metadata": {},
   "source": [
    "### Annotations\n",
    "Next, request the annotations for the **```PCO2A```** dataset"
   ]
  },
  {
   "cell_type": "code",
   "execution_count": null,
   "metadata": {},
   "outputs": [],
   "source": [
    "annotations = OOINet.get_annotations(\"GI01SUMO-SBD12-04-PCO2AA000\")\n",
    "annotations"
   ]
  },
  {
   "cell_type": "markdown",
   "metadata": {},
   "source": [
    "#### Add Annotation Information to dataset\n",
    "With the annotations, use the built-in function from the **```OOINet```** module to add them to the dataset."
   ]
  },
  {
   "cell_type": "code",
   "execution_count": null,
   "metadata": {},
   "outputs": [],
   "source": [
    "pco2a = OOINet.add_annotation_qc_flag(pco2a, annotations)\n",
    "pco2a"
   ]
  },
  {
   "cell_type": "markdown",
   "metadata": {},
   "source": [
    "Plot the data with the annotations highlighted"
   ]
  },
  {
   "cell_type": "code",
   "execution_count": null,
   "metadata": {},
   "outputs": [],
   "source": [
    "# Plot the data as a function of deployments\n",
    "fig, ax = plotting.plot_variable(pco2a, \"partial_pressure_co2_ssw\")\n",
    "\n",
    "# Plot figure which highlights data points with a corresponding annotation\n",
    "ax.set_alpha(0.7)\n",
    "first_legend = ax.get_legend()\n",
    "first_legend.set_bbox_to_anchor((1, 0.7))\n",
    "ax.add_artist(first_legend)\n",
    "\n",
    "s, = ax.plot(pco2a.time.where(pco2a.rollup_annotations_qc_results == 9), \n",
    "             pco2a.partial_pressure_co2_ssw.where(pco2a.rollup_annotations_qc_results == 9), \n",
    "             marker=\"o\", linestyle=\"\", color=\"yellow\", label=\"Annotation\")\n",
    "\n",
    "ax.legend(handles=[s], edgecolor=\"black\", loc=\"lower left\", bbox_to_anchor=(1, 0.2), fontsize=12)\n",
    "ax.set_title(\"GI01SUMO-SBD12-04-PCO2AA000\", fontsize=16)"
   ]
  },
  {
   "cell_type": "code",
   "execution_count": null,
   "metadata": {},
   "outputs": [],
   "source": [
    "# fig.savefig(\"../results/GI01SUMO-SBD12-04-PCO2AA000/time_series_with_annotations.png\")"
   ]
  },
  {
   "cell_type": "markdown",
   "metadata": {},
   "source": [
    "#### Filter Annotations\n",
    "Finally, we can remove the data flagged by the annotations from the dataset. However, for the purposes of this analysis, I chose to *not* remove the flagged data."
   ]
  },
  {
   "cell_type": "code",
   "execution_count": null,
   "metadata": {},
   "outputs": [],
   "source": [
    "# pco2a = pco2a.where(pco2a.rollup_annotations_qc_results != 9, drop=True)\n",
    "# pco2a"
   ]
  },
  {
   "cell_type": "code",
   "execution_count": null,
   "metadata": {},
   "outputs": [],
   "source": [
    "# fig, ax = plotting.plot_variable(pco2a, \"partial_pressure_co2_ssw\")"
   ]
  },
  {
   "cell_type": "markdown",
   "metadata": {},
   "source": [
    "#### Match Bottle Data with PCO2A Data\n",
    "Now, we want to identify the Bottle Data which corresponds to **```PCO2A```** datasets and match the bottle data to the **```PCO2A```** data. First, we request the deployment information for the **```PCO2A```** dataset in order to get the latitude, longitude, and depth of the instrument. Then, we filter the bottle data for data which was collected within 5 km horizontally and 15 m vertically of the **```PCO2A```** data. Finally, we generate a table of comparing the bottle data with the **```PCO2A```**. We do this by iterating over each row of the identified bottle data. For each bottle sample, we then take an average of the **```PCO2A```** pCO2 which occured within a week of the bottle sample to get the instrument pCO2."
   ]
  },
  {
   "cell_type": "code",
   "execution_count": null,
   "metadata": {},
   "outputs": [],
   "source": [
    "deployments = OOINet.get_deployments(\"GI01SUMO-SBD12-04-PCO2AA000\")\n",
    "deployments"
   ]
  },
  {
   "cell_type": "code",
   "execution_count": null,
   "metadata": {},
   "outputs": [],
   "source": [
    "lat, lon, depth = deployments[\"latitude\"].mean(), deployments[\"longitude\"].mean(), deployments[\"depth\"].mean()\n",
    "lat, lon, depth"
   ]
  },
  {
   "cell_type": "markdown",
   "metadata": {},
   "source": [
    "Identify the bottle samples which are associated with samples collected near the PHSEN instrument we are looking at. Here I utilize a horizontal maximum distance of 5 kilometers and a depth theshold of +/- 10 meters."
   ]
  },
  {
   "cell_type": "code",
   "execution_count": null,
   "metadata": {},
   "outputs": [],
   "source": [
    "pco2a_bottles = findSamples(carbonData, (lat, lon), depth, 5, 15)\n",
    "pco2a_bottles"
   ]
  },
  {
   "cell_type": "code",
   "execution_count": null,
   "metadata": {},
   "outputs": [],
   "source": [
    "fig, ax = plotting.plot_variable(pco2a, \"partial_pressure_co2_ssw\")\n",
    "ax.set_alpha(0.7)\n",
    "first_legend = ax.get_legend()\n",
    "first_legend.set_bbox_to_anchor((1, 0.7))\n",
    "ax.add_artist(first_legend)\n",
    "xmin, xmax = ax.get_xlim()\n",
    "\n",
    "s, = ax.plot(pco2a_bottles.dropna(subset=[\"Calculated pCO2 [uatm]\"])[\"Start Time [UTC]\"], \n",
    "             pco2a_bottles.dropna(subset=[\"Calculated pCO2 [uatm]\"])[\"Calculated pCO2 [uatm]\"], \n",
    "             marker=\"o\", color=\"yellow\", linestyle=\"\", markersize=12, markeredgecolor = \"black\",\n",
    "             label=\"Bottle\\npCO$_{2}$\")\n",
    "\n",
    "ax.legend(handles=[s], edgecolor=\"black\", loc=\"lower left\", bbox_to_anchor=(1, 0.2), fontsize=12)\n",
    "ax.set_xlim(xmin, xmax)\n",
    "ax.set_title(\"Apex Surface Mooring PCO2A\", fontsize=20, weight=\"bold\")\n",
    "plt.xticks(fontsize=16, weight=\"bold\")\n",
    "plt.xlabel(\"\")\n",
    "plt.yticks(fontsize=16, weight=\"bold\")\n",
    "ylabel = ax.get_ylabel()\n",
    "plt.ylabel(ylabel, fontsize=20, weight=\"bold\")"
   ]
  },
  {
   "cell_type": "code",
   "execution_count": null,
   "metadata": {},
   "outputs": [],
   "source": [
    "ax.get_legend_handles_labels()[0]"
   ]
  },
  {
   "cell_type": "code",
   "execution_count": null,
   "metadata": {},
   "outputs": [],
   "source": [
    "fig.savefig(\"../results/GI01SUMO-SBD12-04-PCO2AA000/time_series_with_discrete_bottles.png\", facecolor=\"white\", transparent=False)"
   ]
  },
  {
   "cell_type": "markdown",
   "metadata": {},
   "source": [
    "Create a time-based filter to get the data from the instrument associated with each of the bottle time stamps so we can do a direct comparison"
   ]
  },
  {
   "cell_type": "code",
   "execution_count": null,
   "metadata": {},
   "outputs": [],
   "source": [
    "pco2a_comparison = pd.DataFrame(columns=[\"deploymentNumber\", \"time\", \"bottleCO2\", \"bottleT\", \"bottleS\", \"bottleP\",\n",
    "                                         \"CO2_avg\", \"CO2_std\", \"T\", \"S\"])\n",
    "\n",
    "for ind in pco2a_bottles.index:\n",
    "    # Get the time stamps of a bottle\n",
    "    t = pco2a_bottles[\"Start Time [UTC]\"].loc[ind]\n",
    "    t = t.tz_localize(None)\n",
    "\n",
    "    # Get the bottle pCO2a\n",
    "    bottleCO2 = pco2a_bottles[\"Calculated pCO2 [uatm]\"].loc[ind]\n",
    "    bottleT = pco2a_bottles[[\"CTD Temperature 1 [deg C]\", \"CTD Temperature 2 [deg C]\"]].loc[ind].mean(skipna=True)\n",
    "    bottleS = pco2a_bottles[[\"CTD Salinity 1 [psu]\", \"CTD Salinity 2 [psu]\"]].loc[ind].mean(skipna=True)\n",
    "    bottleP = pco2a_bottles[\"CTD Pressure [db]\"].loc[ind]\n",
    "\n",
    "    # Create a time window to look for data\n",
    "    dt = pd.Timedelta(days=7)\n",
    "    tmin = t - dt\n",
    "    tmax = t + dt\n",
    "\n",
    "    # Find the data within the time series\n",
    "    subset = pco2a.where((pco2a.time >= tmin) & (pco2a.time <= tmax), drop=True)\n",
    "    # Check for unique deployments\n",
    "    deps = np.unique(subset.deployment)\n",
    "    # If more than one deployment, split it based on deployments\n",
    "    if len(deps) > 1:\n",
    "        for depNum in deps:\n",
    "            dep_subset = subset.where(subset.deployment == depNum, drop=True)\n",
    "            pco2_avg = dep_subset.partial_pressure_co2_ssw.mean().compute().values\n",
    "            pco2_std = dep_subset.partial_pressure_co2_ssw.std().compute().values\n",
    "            pco2_temp = dep_subset.sea_surface_temperature.mean().compute().values\n",
    "            pco2_sal = dep_subset.met_salsurf.mean().compute().values\n",
    "            pco2a_comparison = pco2a_comparison.append({\n",
    "                \"deploymentNumber\": depNum,\n",
    "                \"time\": t,\n",
    "                \"bottleCO2\": bottleCO2,\n",
    "                \"bottleT\": bottleT,\n",
    "                \"bottleS\": bottleS,\n",
    "                \"bottleP\": bottleP,\n",
    "                \"CO2_avg\": pco2_avg,\n",
    "                \"CO2_std\": pco2_std,\n",
    "                \"T\": pco2_temp,\n",
    "                \"S\": pco2_sal\n",
    "            }, ignore_index=True)\n",
    "    elif len(deps) == 1:\n",
    "        pco2_avg = subset.partial_pressure_co2_ssw.mean().compute().values\n",
    "        pco2_std = subset.partial_pressure_co2_ssw.std().compute().values\n",
    "        pco2_temp = subset.sea_surface_temperature.mean().compute().values\n",
    "        pco2_sal = subset.met_salsurf.mean().compute().values\n",
    "        depNum = deps[0]\n",
    "        pco2a_comparison = pco2a_comparison.append({\n",
    "                \"deploymentNumber\": depNum,\n",
    "                \"time\": t,\n",
    "                \"bottleCO2\": bottleCO2,\n",
    "                \"bottleT\": bottleT,\n",
    "                \"bottleS\": bottleS,\n",
    "                \"bottleP\": bottleP,\n",
    "                \"CO2_avg\": pco2_avg,\n",
    "                \"CO2_std\": pco2_std,\n",
    "                \"T\": pco2_temp,\n",
    "                \"S\": pco2_sal\n",
    "            }, ignore_index=True)\n",
    "    else:\n",
    "        # Now put in NaNs for the missing results data\n",
    "        pco2a_comparison = pco2a_comparison.append({\n",
    "                \"deploymentNumber\": None,\n",
    "                \"time\": t,\n",
    "                \"bottleCO2\": bottleCO2,\n",
    "                \"bottleT\": bottleT,\n",
    "                \"bottleS\": bottleS,\n",
    "                \"bottleP\": bottleP,\n",
    "                \"CO2_avg\": None,\n",
    "                \"CO2_std\": None,\n",
    "                \"T\": None,\n",
    "                \"S\": None\n",
    "            }, ignore_index=True)\n",
    "\n",
    "pco2a_comparison = pco2a_comparison.append({\n",
    "                \"deploymentNumber\": 2,\n",
    "                \"time\": None,\n",
    "                \"bottleCO2\": None,\n",
    "                \"bottleT\": None,\n",
    "                \"bottleS\": None,\n",
    "                \"bottleP\": None,\n",
    "                \"CO2_avg\": None,\n",
    "                \"CO2_std\": None,\n",
    "                \"T\": None,\n",
    "                \"S\": None\n",
    "            }, ignore_index=True)\n",
    "# Save the results\n",
    "pco2a_comparison = pco2a_comparison.sort_values(by=\"deploymentNumber\")\n",
    "pco2a_comparison"
   ]
  },
  {
   "cell_type": "markdown",
   "metadata": {},
   "source": [
    "Plot the matched data"
   ]
  },
  {
   "cell_type": "code",
   "execution_count": null,
   "metadata": {},
   "outputs": [],
   "source": [
    "df = pco2a_comparison.dropna(subset=[\"deploymentNumber\"])\n",
    "df[\"bottleCO2\"] = df[\"bottleCO2\"].astype(float)\n",
    "df[\"CO2_avg\"] = df[\"CO2_avg\"].astype(float)\n",
    "df[\"CO2_std\"] = df[\"CO2_std\"].astype(float)\n",
    "#df = df[df[\"deploymentNumber\"] != 3]\n",
    "\n",
    "fig, ax = plt.subplots(figsize=(8,8))\n",
    "\n",
    "# Set the \n",
    "levels, categories = pd.factorize(df['deploymentNumber'])\n",
    "colors = [plt.cm.tab10(i) for i in levels] # using the \"tab10\" colormap\n",
    "handles = [matplotlib.patches.Patch(color=plt.cm.tab10(i), label=c) for i, c in enumerate(categories)]\n",
    "for h in handles:\n",
    "    h.set_edgecolor(\"black\")\n",
    "\n",
    "# Plot the data\n",
    "ax.scatter(df[\"bottleCO2\"], df[\"CO2_avg\"], c=colors, s=80, edgecolors=\"black\")\n",
    "ax.set_xlabel(xlabel=\"Bottle pCO$_{2}$\", fontsize=20, weight=\"bold\")\n",
    "ax.set_ylabel(ylabel=\"PCO2W pCO$_{2}$\", fontsize=20, weight=\"bold\")\n",
    "ax.legend(handles=handles, title='Deployment', fontsize=12, edgecolor=\"black\")\n",
    "ax.grid()\n",
    "\n",
    "first_legend = ax.get_legend()\n",
    "ax.add_artist(first_legend)\n",
    "\n",
    "# Add in vertical error bars\n",
    "for i, c in enumerate(categories):\n",
    "    x = df[\"bottleCO2\"][df[\"deploymentNumber\"] == c]\n",
    "    ymin = df[\"CO2_avg\"][df[\"deploymentNumber\"] == c] - 2*df[\"CO2_std\"][df[\"deploymentNumber\"] == c]\n",
    "    ymax = df[\"CO2_avg\"][df[\"deploymentNumber\"] == c] + 2*df[\"CO2_std\"][df[\"deploymentNumber\"] == c]\n",
    "    ax.vlines(x, ymin, ymax, colors = plt.cm.tab10(i))\n",
    "\n",
    "#ax.set_ylim((250, 500))\n",
    "#ax.set_xlim((350, 450))\n",
    "# Add in a 1:1 line\n",
    "x = np.arange(280, 405, 5)\n",
    "y = np.arange(280, 405, 5)\n",
    "s, = ax.plot(x, y, color = \"black\", alpha=0.7, label=\"1:1 Line\")\n",
    "ax.legend(handles=[s], edgecolor=\"black\", loc=\"lower right\", fontsize=12)\n",
    "ax.set_title(\"Bottle vs. Instrument Comparison\", fontsize=20, weight=\"bold\")\n",
    "plt.yticks(fontsize=12, weight=\"bold\")\n",
    "plt.xticks(fontsize=12, weight=\"bold\")"
   ]
  },
  {
   "cell_type": "code",
   "execution_count": null,
   "metadata": {},
   "outputs": [],
   "source": [
    "fig.savefig(\"../results/GI01SUMO-SBD12-04-PCO2AA000/instrument_vs_bottle_co2.png\", facecolor=\"white\", transparent=False)"
   ]
  },
  {
   "cell_type": "markdown",
   "metadata": {},
   "source": [
    "#### Time series analysis\n",
    "This is a little snippet of code if you are interested in running a basic stationarity-test for a given time series. Experience with many datasets of carbon system data from OOI leads me to suggests an ARIMA(1,1,0) model as the best model for analysis and a good place to start."
   ]
  },
  {
   "cell_type": "code",
   "execution_count": null,
   "metadata": {},
   "outputs": [],
   "source": [
    "from statsmodels.tsa.stattools import adfuller\n",
    "\n",
    "def adfuller_test(sales):\n",
    "    result=adfuller(sales)\n",
    "    labels = ['ADF Test Statistic','p-value','#Lags Used','Number of Observations Used']\n",
    "    for value,label in zip(result,labels):\n",
    "        print(label+' : '+str(value) )\n",
    "    if result[1] <= 0.05:\n",
    "        print(\"P value is less than 0.05 that means we can reject the null hypothesis(Ho). Therefore we can conclude that data has no unit root and is stationary\")\n",
    "    else:\n",
    "        print(\"Weak evidence against null hypothesis that means time series has a unit root which indicates that it is non-stationary \")"
   ]
  },
  {
   "cell_type": "code",
   "execution_count": null,
   "metadata": {},
   "outputs": [],
   "source": [
    "subset = pco2a.where(pco2a.deployment == 3, drop=True)\n",
    "subset"
   ]
  },
  {
   "cell_type": "code",
   "execution_count": null,
   "metadata": {},
   "outputs": [],
   "source": [
    "adfuller_test(subset[\"partial_pressure_co2_ssw\"])"
   ]
  },
  {
   "cell_type": "code",
   "execution_count": null,
   "metadata": {},
   "outputs": [],
   "source": [
    "from statsmodels.tsa.arima_model import ARIMA\n",
    "import statsmodels.api as sm"
   ]
  },
  {
   "cell_type": "code",
   "execution_count": null,
   "metadata": {},
   "outputs": [],
   "source": [
    "from statsmodels.graphics.tsaplots import plot_acf, plot_pacf"
   ]
  },
  {
   "cell_type": "code",
   "execution_count": null,
   "metadata": {},
   "outputs": [],
   "source": [
    "fig = plt.figure(figsize=(12, 8))\n",
    "ax1 = fig.add_subplot(2,1,1)\n",
    "fig = plot_acf(subset.partial_pressure_co2_ssw.diff(dim=\"time\"), lags=40, ax=ax1)\n",
    "ax2 = fig.add_subplot(2,1,2)\n",
    "fig = plot_pacf(subset.partial_pressure_co2_ssw.diff(dim=\"time\"), lags=40, ax=ax2)"
   ]
  },
  {
   "cell_type": "markdown",
   "metadata": {},
   "source": [
    "We'll calculate the noise term using a first-difference estimate to get the standard deviation of the data"
   ]
  },
  {
   "cell_type": "markdown",
   "metadata": {},
   "source": [
    "---\n",
    "## Instrument Datasets\n",
    "\n",
    "Now, repeat for the remaing PHSEN and PCO2W datasets outlined in the tables in the introduction. This section is not as \"step-through\" as above, but the idea is you know have a good idea of the processing steps."
   ]
  },
  {
   "cell_type": "code",
   "execution_count": null,
   "metadata": {},
   "outputs": [],
   "source": [
    "from OS2022.OS2022 import process_pco2w, process_phsen"
   ]
  },
  {
   "cell_type": "code",
   "execution_count": null,
   "metadata": {},
   "outputs": [],
   "source": [
    "# Set the reference designator\n",
    "refdes = \"GI01SUMO-RII11-02-PCO2WC051\"\n",
    "\n",
    "# Load the PCO2W\n",
    "pco2w_40m = xr.open_dataset(\"../data/GI01SUMO-RII11-02-PCO2WC051_combined.nc\", chunks=\"auto\")\n",
    "\n",
    "# Request the annotations\n",
    "annotations = OOINet.get_annotations(\"GI01SUMO-RII11-02-PCO2WC051\")\n",
    "\n",
    "# Add the annotations to the dataset\n",
    "pco2w_40m = OOINet.add_annotation_qc_flag(pco2w_40m, annotations)\n",
    "\n",
    "# Remove the data flagged as \"questionable\" from the annotations\n",
    "# pco2w_40m = pco2w_40m.where(pco2w_40m.rollup_annotations_qc_results != 9, drop=True)\n",
    "\n",
    "# Plot the first look\n",
    "fig, ax = plotting.plot_variable(pco2w_40m, \"pco2_seawater\")\n",
    "ax.set_title(refdes, fontsize=16)"
   ]
  },
  {
   "cell_type": "markdown",
   "metadata": {},
   "source": [
    "Save the figure"
   ]
  },
  {
   "cell_type": "code",
   "execution_count": null,
   "metadata": {},
   "outputs": [],
   "source": [
    "if not os.path.exists(f\"../results/{refdes}/\"):\n",
    "    os.makedirs(f\"../results/{refdes}/\")\n",
    "\n",
    "fig.savefig(f\"../results/{refdes}/time_series.png\")"
   ]
  },
  {
   "cell_type": "markdown",
   "metadata": {},
   "source": [
    "#### Add in the CTD Data"
   ]
  },
  {
   "cell_type": "code",
   "execution_count": null,
   "metadata": {},
   "outputs": [],
   "source": [
    "ctdbpp_40m = xr.open_dataset(\"../data/GI01SUMO-RII11-02-CTDBPP031_combined.nc\", chunks=\"auto\")"
   ]
  },
  {
   "cell_type": "code",
   "execution_count": null,
   "metadata": {},
   "outputs": [],
   "source": [
    "practical_salinity = ctdbpp_40m[\"practical_salinity\"].interp_like(pco2w_40m)\n",
    "seawater_temperature = ctdbpp_40m[\"ctdbp_seawater_temperature\"].interp_like(pco2w_40m)\n",
    "seawater_pressure = ctdbpp_40m[\"ctdbp_seawater_pressure\"].interp_like(pco2w_40m)\n",
    "temp = ctdbpp_40m[\"temp\"]\n",
    "\n",
    "# Add to the pco2w\n",
    "pco2w_40m[\"practical_salinity\"] = practical_salinity\n",
    "pco2w_40m[\"seawater_temperature\"] = seawater_temperature\n",
    "pco2w_40m[\"seawater_pressure\"] = seawater_pressure\n",
    "pco2w_40m[\"temp\"] = temp"
   ]
  },
  {
   "cell_type": "markdown",
   "metadata": {},
   "source": [
    "#### Quality Checks\n",
    "Next, add in the quality checks for the data"
   ]
  },
  {
   "cell_type": "code",
   "execution_count": null,
   "metadata": {},
   "outputs": [],
   "source": [
    "qc_flags = process_pco2w.quality_checks(pco2w_40m)\n",
    "pco2w_40m[\"qc_flags\"] = qc_flags"
   ]
  },
  {
   "cell_type": "code",
   "execution_count": null,
   "metadata": {},
   "outputs": [],
   "source": [
    "fig, ax = plotting.plot_variable(pco2w_40m, \"pco2_seawater\")\n",
    "\n",
    "# Plot figure which highlights data points with a corresponding annotation\n",
    "ax.set_alpha(0.7)\n",
    "first_legend = ax.get_legend()\n",
    "first_legend.set_bbox_to_anchor((1, 0.7))\n",
    "ax.add_artist(first_legend)\n",
    "\n",
    "s1, = ax.plot(pco2w_40m.time.where(pco2w_40m.qc_flags == 3), \n",
    "             pco2w_40m.pco2_seawater.where(pco2w_40m.qc_flags == 3), \n",
    "             marker=\"s\", linestyle=\"\", color=\"yellow\", label=\"Suspect\")\n",
    "s2, = ax.plot(pco2w_40m.time.where(pco2w_40m.qc_flags == 4), \n",
    "             pco2w_40m.pco2_seawater.where(pco2w_40m.qc_flags == 4), \n",
    "             marker=\"s\", linestyle=\"\", color=\"tab:red\", label=\"Bad\")\n",
    "\n",
    "ax.legend(handles=[s1, s2], edgecolor=\"black\", loc=\"lower left\", bbox_to_anchor=(1, 0.2), fontsize=12)"
   ]
  },
  {
   "cell_type": "code",
   "execution_count": null,
   "metadata": {},
   "outputs": [],
   "source": [
    "if not os.path.exists(f\"../results/{refdes}/\"):\n",
    "    os.makedirs(f\"../results/{refdes}/\")\n",
    "\n",
    "fig.savefig(f\"../results/{refdes}/time_series_with_quality_flags.png\")"
   ]
  },
  {
   "cell_type": "markdown",
   "metadata": {},
   "source": [
    "Find the associated bottle samples with this dataset:"
   ]
  },
  {
   "cell_type": "code",
   "execution_count": null,
   "metadata": {},
   "outputs": [],
   "source": [
    "deployments = OOINet.get_deployments(\"GI01SUMO-RII11-02-PCO2WC051\")\n",
    "\n",
    "lat, lon, depth = deployments[\"latitude\"].mean(), deployments[\"longitude\"].mean(), deployments[\"depth\"].mean()\n",
    "lat, lon, depth"
   ]
  },
  {
   "cell_type": "code",
   "execution_count": null,
   "metadata": {},
   "outputs": [],
   "source": [
    "pco2w_40m_bottles = findSamples(carbonData, (lat, lon), depth, 5, 20)"
   ]
  },
  {
   "cell_type": "code",
   "execution_count": null,
   "metadata": {},
   "outputs": [],
   "source": [
    "fig, ax = plotting.plot_variable(pco2w_40m, \"pco2_seawater\")\n",
    "ax.set_alpha(0.7)\n",
    "first_legend = ax.get_legend()\n",
    "first_legend.set_bbox_to_anchor((1, 0.7))\n",
    "ax.add_artist(first_legend)\n",
    "xmin, xmax = ax.get_xlim()\n",
    "\n",
    "s, = ax.plot(pco2w_40m_bottles.dropna(subset=[\"Calculated pCO2 [uatm]\"])[\"Start Time [UTC]\"], \n",
    "             pco2w_40m_bottles.dropna(subset=[\"Calculated pCO2 [uatm]\"])[\"Calculated pCO2 [uatm]\"], \n",
    "             marker=\"o\", color=\"yellow\", linestyle=\"\", markersize=12, markeredgecolor = \"black\",\n",
    "             label=\"Bottle pCO$_{2}$\")\n",
    "\n",
    "ax.legend(handles=[s], edgecolor=\"black\", loc=\"lower left\", bbox_to_anchor=(1, 0.2), fontsize=12)\n",
    "ax.set_xlim(xmin, xmax)"
   ]
  },
  {
   "cell_type": "code",
   "execution_count": null,
   "metadata": {},
   "outputs": [],
   "source": [
    "if not os.path.exists(f\"../results/{refdes}/\"):\n",
    "    os.makedirs(f\"../results/{refdes}/\")\n",
    "\n",
    "fig.savefig(f\"../results/{refdes}/time_series_with_discrete_bottles.png\")"
   ]
  },
  {
   "cell_type": "code",
   "execution_count": null,
   "metadata": {},
   "outputs": [],
   "source": [
    "pco2w_40m_comparison = pd.DataFrame(columns=[\"deploymentNumber\", \"time\", \"CO2_avg\", \"CO2_std\", \"T\", \"S\", \"P\",\n",
    "                                             \"bottleCO2\", \"bottleT\", \"bottleS\", \"bottleP\"])\n",
    "\n",
    "for ind in pco2w_40m_bottles.index:\n",
    "    # Get the time stamps of a bottle\n",
    "    t = pco2w_40m_bottles[\"Start Time [UTC]\"].loc[ind]\n",
    "    t = t.tz_localize(None)\n",
    "\n",
    "    # Get the bottle pCO2a\n",
    "    bottleCO2 = pco2w_40m_bottles[\"Calculated pCO2 [uatm]\"].loc[ind]\n",
    "    bottleT = pco2w_40m_bottles[[\"CTD Temperature 1 [deg C]\", \"CTD Temperature 2 [deg C]\"]].loc[ind].mean(skipna=True)\n",
    "    bottleS = pco2w_40m_bottles[[\"CTD Salinity 1 [psu]\", \"CTD Salinity 2 [psu]\"]].loc[ind].mean(skipna=True)\n",
    "    bottleP = pco2w_40m_bottles[\"CTD Pressure [db]\"].loc[ind]\n",
    "\n",
    "    # Create a time window to look for data\n",
    "    dt = pd.Timedelta(days=7)\n",
    "    tmin = t - dt\n",
    "    tmax = t + dt\n",
    "\n",
    "    # Find the data within the time series\n",
    "    subset = pco2w_40m.where((pco2w_40m.time >= tmin) & (pco2w_40m.time <= tmax), drop=True)\n",
    "    # Check for unique deployments\n",
    "    deps = np.unique(subset.deployment)\n",
    "    # If more than one deployment, split it based on deployments\n",
    "    if len(deps) > 1:\n",
    "        for depNum in deps:\n",
    "            dep_subset = subset.where(subset.deployment == depNum, drop=True)\n",
    "            pco2_avg = dep_subset.pco2_seawater.mean(skipna=True).compute().values\n",
    "            pco2_std = dep_subset.pco2_seawater.std(skipna=True).compute().values\n",
    "            pco2_temp = dep_subset.seawater_temperature.mean(skipna=True).compute().values\n",
    "            pco2_sal = dep_subset.practical_salinity.mean(skipna=True).compute().values\n",
    "            pco2_pres = dep_subset.seawater_pressure.mean(skipna=True).compute().values\n",
    "            pco2w_40m_comparison = pco2w_40m_comparison.append({\n",
    "                \"deploymentNumber\": depNum,\n",
    "                \"time\": t,\n",
    "                \"CO2_avg\": pco2_avg,\n",
    "                \"CO2_std\": pco2_std,\n",
    "                \"T\": pco2_temp,\n",
    "                \"S\": pco2_sal,\n",
    "                \"P\": pco2_pres,\n",
    "                \"bottleCO2\": bottleCO2,\n",
    "                \"bottleT\": bottleT,\n",
    "                \"bottleS\": bottleS,\n",
    "                \"bottleP\": bottleP,\n",
    "            }, ignore_index=True)\n",
    "    elif len(deps) == 1:\n",
    "        pco2_avg = subset.pco2_seawater.mean(skipna=True).compute().values\n",
    "        pco2_std = subset.pco2_seawater.std(skipna=True).compute().values\n",
    "        pco2_temp = subset.seawater_temperature.mean(skipna=True).compute().values\n",
    "        pco2_sal = subset.practical_salinity.mean(skipna=True).compute().values\n",
    "        pco2_pres = subset.seawater_pressure.mean(skipna=True).compute().values\n",
    "        depNum = deps[0]\n",
    "        pco2w_40m_comparison = pco2w_40m_comparison.append({\n",
    "                \"deploymentNumber\": depNum,\n",
    "                \"time\": t,\n",
    "                \"CO2_avg\": pco2_avg,\n",
    "                \"CO2_std\": pco2_std,\n",
    "                \"T\": pco2_temp,\n",
    "                \"S\": pco2_sal,\n",
    "                \"P\": pco2_pres,\n",
    "                \"bottleCO2\": bottleCO2,\n",
    "                \"bottleT\": bottleT,\n",
    "                \"bottleS\": bottleS,\n",
    "                \"bottleP\": bottleP,\n",
    "            }, ignore_index=True)\n",
    "    else:\n",
    "        # Now put in NaNs for the missing results data\n",
    "        pco2w_40m_comparison = pco2w_40m_comparison.append({\n",
    "                \"deploymentNumber\": None,\n",
    "                \"time\": t,\n",
    "                \"CO2_avg\": None,\n",
    "                \"CO2_std\": None,\n",
    "                \"T\": None,\n",
    "                \"S\": None,\n",
    "                \"P\": None,\n",
    "                \"bottleCO2\": bottleCO2,\n",
    "                \"bottleT\": bottleT,\n",
    "                \"bottleS\": bottleS,\n",
    "                \"bottleP\": bottleP,\n",
    "            }, ignore_index=True)\n",
    "\n",
    "# Save the results\n",
    "pco2w_40m_comparison = pco2w_40m_comparison.sort_values(by=\"deploymentNumber\")\n",
    "pco2w_40m_comparison"
   ]
  },
  {
   "cell_type": "code",
   "execution_count": null,
   "metadata": {},
   "outputs": [],
   "source": [
    "# Drop deployment 2 data\n",
    "pco2w_40m_comparison = pco2w_40m_comparison.drop(labels=[2, 4])\n",
    "pco2w_40m_comparison"
   ]
  },
  {
   "cell_type": "code",
   "execution_count": null,
   "metadata": {},
   "outputs": [],
   "source": [
    "df = pco2w_40m_comparison.dropna(subset=[\"deploymentNumber\"])\n",
    "df[\"bottleCO2\"] = df[\"bottleCO2\"].astype(float)\n",
    "df[\"CO2_avg\"] = df[\"CO2_avg\"].astype(float)\n",
    "df[\"CO2_std\"] = df[\"CO2_std\"].astype(float)\n",
    "#df = df[df[\"deploymentNumber\"] != 3]\n",
    "\n",
    "fig, ax = plt.subplots(figsize=(8,8))\n",
    "\n",
    "# Set the \n",
    "levels, categories = pd.factorize(df['deploymentNumber'])\n",
    "colors = [plt.cm.tab10(i) for i in levels] # using the \"tab10\" colormap\n",
    "handles = [matplotlib.patches.Patch(color=plt.cm.tab10(i), label=c) for i, c in enumerate(categories)]\n",
    "for h in handles:\n",
    "    h.set_edgecolor(\"black\")\n",
    "\n",
    "# Plot the data\n",
    "ax.scatter(df[\"bottleCO2\"], df[\"CO2_avg\"], c=colors, s=80, edgecolors=\"black\")\n",
    "ax.set_xlabel(xlabel=\"Bottle pCO$_{2}$\", fontsize=14)\n",
    "ax.set_ylabel(ylabel=\"PCO2W pCO$_{2}$\", fontsize=14)\n",
    "ax.legend(handles=handles, title='Deployment', fontsize=12, edgecolor=\"black\")\n",
    "ax.grid()\n",
    "\n",
    "# Add in vertical error bars\n",
    "for i, c in enumerate(categories):\n",
    "    x = df[\"bottleCO2\"][df[\"deploymentNumber\"] == c]\n",
    "    ymin = df[\"CO2_avg\"][df[\"deploymentNumber\"] == c] - 2*df[\"CO2_std\"][df[\"deploymentNumber\"] == c]\n",
    "    ymax = df[\"CO2_avg\"][df[\"deploymentNumber\"] == c] + 2*df[\"CO2_std\"][df[\"deploymentNumber\"] == c]\n",
    "    ax.vlines(x, ymin, ymax, colors = plt.cm.tab10(i))\n",
    "\n",
    "ax.set_ylim((280, 455))\n",
    "ax.set_xlim((280, 455))\n",
    "# Add in a 1:1 line\n",
    "x = np.arange(280, 455, 5)\n",
    "y = np.arange(280, 455, 5)\n",
    "ax.plot(x, y, color = \"black\", alpha=0.7)\n",
    "ax.set_title(refdes + \" pCO$_{2}$ Comparison\", fontsize=16)"
   ]
  },
  {
   "cell_type": "code",
   "execution_count": null,
   "metadata": {},
   "outputs": [],
   "source": [
    "fig.savefig(f\"../results/{refdes}/instrument_vs_bottle_co2.png\")"
   ]
  },
  {
   "cell_type": "markdown",
   "metadata": {},
   "source": [
    "#### PCO2W 80 m"
   ]
  },
  {
   "cell_type": "code",
   "execution_count": null,
   "metadata": {},
   "outputs": [],
   "source": [
    "refdes = \"GI01SUMO-RII11-02-PCO2W052\"\n",
    "\n",
    "pco2w_80m = xr.open_dataset(\"../data/GI01SUMO-RII11-02-PCO2WC052_combined.nc\", chunks=\"auto\")\n",
    "\n",
    "annotations = OOINet.get_annotations(\"GI01SUMO-RII11-02-PCO2WC052\")\n",
    "\n",
    "pco2w_80m = OOINet.add_annotation_qc_flag(pco2w_80m, annotations)\n",
    "\n",
    "#pco2w_80m = pco2w_80m.where(pco2w_80m.rollup_annotations_qc_results != 9, drop=True)\n",
    "\n",
    "fig, ax = plotting.plot_variable(pco2w_80m, \"pco2_seawater\")\n"
   ]
  },
  {
   "cell_type": "code",
   "execution_count": null,
   "metadata": {},
   "outputs": [],
   "source": [
    "if not os.path.exists(f\"../results/{refdes}/\"):\n",
    "    os.makedirs(f\"../results/{refdes}/\")\n",
    "\n",
    "fig.savefig(f\"../results/{refdes}/time_series.png\")"
   ]
  },
  {
   "cell_type": "markdown",
   "metadata": {},
   "source": [
    "#### Add the CTD Data"
   ]
  },
  {
   "cell_type": "code",
   "execution_count": null,
   "metadata": {},
   "outputs": [],
   "source": [
    "ctdbpp_80m = xr.open_dataset(\"../data/GI01SUMO-RII11-02-CTDBPP032_combined.nc\", chunks=\"auto\")"
   ]
  },
  {
   "cell_type": "code",
   "execution_count": null,
   "metadata": {},
   "outputs": [],
   "source": [
    "practical_salinity = ctdbpp_80m[\"practical_salinity\"].interp_like(pco2w_80m)\n",
    "seawater_temperature = ctdbpp_80m[\"ctdbp_seawater_temperature\"].interp_like(pco2w_80m)\n",
    "seawater_pressure = ctdbpp_80m[\"ctdbp_seawater_pressure\"].interp_like(pco2w_80m)\n",
    "\n",
    "# Add to the pco2w\n",
    "pco2w_80m[\"practical_salinity\"] = practical_salinity\n",
    "pco2w_80m[\"seawater_temperature\"] = seawater_temperature\n",
    "pco2w_80m[\"seawater_pressure\"] = seawater_pressure"
   ]
  },
  {
   "cell_type": "markdown",
   "metadata": {},
   "source": [
    "#### Quality Checks\n",
    "Next, add in the quality checks for the data"
   ]
  },
  {
   "cell_type": "code",
   "execution_count": null,
   "metadata": {},
   "outputs": [],
   "source": [
    "qc_flags = process_pco2w.quality_checks(pco2w_80m)\n",
    "pco2w_80m[\"qc_flags\"] = qc_flags"
   ]
  },
  {
   "cell_type": "code",
   "execution_count": null,
   "metadata": {
    "scrolled": false
   },
   "outputs": [],
   "source": [
    "fig, ax = plotting.plot_variable(pco2w_80m, \"pco2_seawater\")\n",
    "\n",
    "# Plot figure which highlights data points with a corresponding annotation\n",
    "ax.set_alpha(0.7)\n",
    "first_legend = ax.get_legend()\n",
    "first_legend.set_bbox_to_anchor((1, 0.7))\n",
    "ax.add_artist(first_legend)\n",
    "\n",
    "s1, = ax.plot(pco2w_80m.time.where(pco2w_80m.qc_flags == 3), \n",
    "             pco2w_80m.pco2_seawater.where(pco2w_80m.qc_flags == 3), \n",
    "             marker=\"s\", linestyle=\"\", color=\"yellow\", label=\"Suspect\")\n",
    "s2, = ax.plot(pco2w_80m.time.where(pco2w_80m.qc_flags == 4), \n",
    "             pco2w_80m.pco2_seawater.where(pco2w_80m.qc_flags == 4), \n",
    "             marker=\"s\", linestyle=\"\", color=\"tab:red\", label=\"Bad\")\n",
    "\n",
    "ax.legend(handles=[s1, s2], edgecolor=\"black\", loc=\"lower left\", bbox_to_anchor=(1, 0.2), fontsize=12)\n",
    "ax.set_title(\"GI01SUMO-RII11-02-PCO2WC052\", fontsize=16)\n",
    "#ax.set_ylim((200, 600))"
   ]
  },
  {
   "cell_type": "code",
   "execution_count": null,
   "metadata": {},
   "outputs": [],
   "source": [
    "if not os.path.exists(f\"../results/{refdes}/\"):\n",
    "    os.makedirs(f\"../results/{refdes}/\")\n",
    "\n",
    "fig.savefig(f\"../results/{refdes}/time_series_with_quality_flags.png\")"
   ]
  },
  {
   "cell_type": "markdown",
   "metadata": {},
   "source": [
    "Dump the bad data, keep the \"questionable\" data"
   ]
  },
  {
   "cell_type": "code",
   "execution_count": null,
   "metadata": {},
   "outputs": [],
   "source": [
    "#pco2w_80m = pco2w_80m.where(pco2w_80m.qc_flags != 4, drop=True)"
   ]
  },
  {
   "cell_type": "markdown",
   "metadata": {},
   "source": [
    "Find the associated bottle data"
   ]
  },
  {
   "cell_type": "code",
   "execution_count": null,
   "metadata": {},
   "outputs": [],
   "source": [
    "deployments = OOINet.get_deployments(\"GI01SUMO-RII11-02-PCO2WC052\")\n",
    "\n",
    "lat, lon, depth = deployments[\"latitude\"].mean(), deployments[\"longitude\"].mean(), deployments[\"depth\"].mean()\n",
    "\n",
    "lat, lon, depth"
   ]
  },
  {
   "cell_type": "code",
   "execution_count": null,
   "metadata": {},
   "outputs": [],
   "source": [
    "pco2w_80m_bottles = findSamples(carbonData, (lat, lon), depth, 5, 20)\n",
    "pco2w_80m_bottles"
   ]
  },
  {
   "cell_type": "code",
   "execution_count": null,
   "metadata": {},
   "outputs": [],
   "source": [
    "fig, ax = plotting.plot_variable(pco2w_80m, \"pco2_seawater\")\n",
    "ax.set_alpha(0.7)\n",
    "first_legend = ax.get_legend()\n",
    "first_legend.set_bbox_to_anchor((1, 0.7))\n",
    "ax.add_artist(first_legend)\n",
    "xmin, xmax = ax.get_xlim()\n",
    "\n",
    "s, = ax.plot(pco2w_80m_bottles.dropna(subset=[\"Calculated pCO2 [uatm]\"])[\"Start Time [UTC]\"], \n",
    "             pco2w_80m_bottles.dropna(subset=[\"Calculated pCO2 [uatm]\"])[\"Calculated pCO2 [uatm]\"], \n",
    "             marker=\"o\", color=\"yellow\", linestyle=\"\", markersize=12, markeredgecolor = \"black\",\n",
    "             label=\"Bottle pCO$_{2}$\")\n",
    "\n",
    "ax.legend(handles=[s], edgecolor=\"black\", loc=\"lower left\", bbox_to_anchor=(1, 0.2), fontsize=12)\n",
    "ax.set_xlim(xmin, xmax)"
   ]
  },
  {
   "cell_type": "code",
   "execution_count": null,
   "metadata": {},
   "outputs": [],
   "source": [
    "if not os.path.exists(f\"../results/{refdes}/\"):\n",
    "    os.makedirs(f\"../results/{refdes}/\")\n",
    "\n",
    "fig.savefig(f\"../results/{refdes}/time_series_with_discrete_bottles.png\")"
   ]
  },
  {
   "cell_type": "code",
   "execution_count": null,
   "metadata": {},
   "outputs": [],
   "source": [
    "pco2w_80m_comparison = pd.DataFrame(columns=[\"deploymentNumber\", \"time\", \"CO2_avg\", \"CO2_std\", \"T\", \"S\", \"P\",\n",
    "                                            \"bottleCO2\", \"bottleT\", \"bottleS\", \"bottleP\"])\n",
    "\n",
    "for ind in pco2w_80m_bottles.index:\n",
    "    # Get the time stamps of a bottle\n",
    "    t = pco2w_80m_bottles[\"Start Time [UTC]\"].loc[ind]\n",
    "    t = t.tz_localize(None)\n",
    "\n",
    "    # Get the bottle pCO2a\n",
    "    bottleCO2 = pco2w_80m_bottles[\"Calculated pCO2 [uatm]\"].loc[ind]\n",
    "    bottleT = pco2w_80m_bottles[[\"CTD Temperature 1 [deg C]\", \"CTD Temperature 2 [deg C]\"]].loc[ind].mean(skipna=True)\n",
    "    bottleS = pco2w_80m_bottles[[\"CTD Salinity 1 [psu]\", \"CTD Salinity 2 [psu]\"]].loc[ind].mean(skipna=True)\n",
    "    bottleP = pco2w_80m_bottles[\"CTD Pressure [db]\"].loc[ind]\n",
    "\n",
    "    # Create a time window to look for data\n",
    "    dt = pd.Timedelta(days=7)\n",
    "    tmin = t - dt\n",
    "    tmax = t + dt\n",
    "\n",
    "    # Find the data within the time series\n",
    "    subset = pco2w_80m.where((pco2w_80m.time >= tmin) & (pco2w_80m.time <= tmax), drop=True)\n",
    "    # Check for unique deployments\n",
    "    deps = np.unique(subset.deployment)\n",
    "    # If more than one deployment, split it based on deployments\n",
    "    if len(deps) > 1:\n",
    "        for depNum in deps:\n",
    "            dep_subset = subset.where(subset.deployment == depNum, drop=True)\n",
    "            pco2_avg = dep_subset.pco2_seawater.mean().compute().values\n",
    "            pco2_std = dep_subset.pco2_seawater.std().compute().values\n",
    "            pco2_temp = dep_subset.seawater_temperature.mean().compute().values\n",
    "            pco2_sal = dep_subset.practical_salinity.mean().compute().values\n",
    "            pco2_pres = dep_subset.seawater_pressure.mean().compute().values\n",
    "            pco2w_80m_comparison = pco2w_80m_comparison.append({\n",
    "                    \"deploymentNumber\": depNum,\n",
    "                    \"time\": t,\n",
    "                    \"CO2_avg\": pco2_avg,\n",
    "                    \"CO2_std\": pco2_std,\n",
    "                    \"T\": pco2_temp,\n",
    "                    \"S\": pco2_sal,\n",
    "                    \"P\": pco2_pres,\n",
    "                    \"bottleCO2\": bottleCO2,\n",
    "                    \"bottleT\": bottleT,\n",
    "                    \"bottleS\": bottleS,\n",
    "                    \"bottleP\": bottleP,\n",
    "                }, ignore_index=True)\n",
    "    elif len(deps) == 1:\n",
    "        pco2_avg = subset.pco2_seawater.mean().compute().values\n",
    "        pco2_std = subset.pco2_seawater.std().compute().values\n",
    "        pco2_temp = subset.seawater_temperature.mean().compute().values\n",
    "        pco2_sal = subset.practical_salinity.mean().compute().values\n",
    "        pco2_pres = subset.seawater_pressure.mean().compute().values\n",
    "        depNum = deps[0]\n",
    "        pco2w_80m_comparison = pco2w_80m_comparison.append({\n",
    "                \"deploymentNumber\": depNum,\n",
    "                \"time\": t,\n",
    "                \"CO2_avg\": pco2_avg,\n",
    "                \"CO2_std\": pco2_std,\n",
    "                \"T\": pco2_temp,\n",
    "                \"S\": pco2_sal,\n",
    "                \"P\": pco2_pres,\n",
    "                \"bottleCO2\": bottleCO2,\n",
    "                \"bottleT\": bottleT,\n",
    "                \"bottleS\": bottleS,\n",
    "                \"bottleP\": bottleP,\n",
    "            }, ignore_index=True)\n",
    "    else:\n",
    "        # Now put in NaNs for the missing results data\n",
    "        pco2w_80m_comparison = pco2w_80m_comparison.append({\n",
    "                \"deploymentNumber\": None,\n",
    "                \"time\": t,\n",
    "                \"CO2_avg\": None,\n",
    "                \"CO2_std\": None,\n",
    "                \"T\": None,\n",
    "                \"S\": None,\n",
    "                \"P\": None,\n",
    "                \"bottleCO2\": bottleCO2,\n",
    "                \"bottleT\": bottleT,\n",
    "                \"bottleS\": bottleS,\n",
    "                \"bottleP\": bottleP,\n",
    "            }, ignore_index=True)\n",
    "\n",
    "# Save the results\n",
    "pco2w_80m_comparison = pco2w_80m_comparison.sort_values(by=\"deploymentNumber\")\n",
    "pco2w_80m_comparison"
   ]
  },
  {
   "cell_type": "code",
   "execution_count": null,
   "metadata": {},
   "outputs": [],
   "source": [
    "pco2w_80m_comparison.loc[0,\"deploymentNumber\"] = 3\n",
    "pco2w_80m_comparison.loc[1,\"deploymentNumber\"] = 4\n",
    "pco2w_80m_comparison"
   ]
  },
  {
   "cell_type": "code",
   "execution_count": null,
   "metadata": {},
   "outputs": [],
   "source": [
    "df = pco2w_80m_comparison.dropna(subset=[\"deploymentNumber\"])\n",
    "df[\"bottleCO2\"] = df[\"bottleCO2\"].astype(float)\n",
    "df[\"CO2_avg\"] = df[\"CO2_avg\"].astype(float)\n",
    "df[\"CO2_std\"] = df[\"CO2_std\"].astype(float)\n",
    "#df = df[df[\"deploymentNumber\"] != 3]\n",
    "\n",
    "fig, ax = plt.subplots(figsize=(8,8))\n",
    "\n",
    "# Set the \n",
    "levels, categories = pd.factorize(df['deploymentNumber'])\n",
    "colors = [plt.cm.tab10(i) for i in levels] # using the \"tab10\" colormap\n",
    "handles = [matplotlib.patches.Patch(color=plt.cm.tab10(i), label=c) for i, c in enumerate(categories)]\n",
    "for h in handles:\n",
    "    h.set_edgecolor(\"black\")\n",
    "\n",
    "# Plot the data\n",
    "ax.scatter(df[\"bottleCO2\"], df[\"CO2_avg\"], c=colors, s=80, edgecolors=\"black\")\n",
    "ax.set_xlabel(xlabel=\"Bottle pCO$_{2}$\", fontsize=14)\n",
    "ax.set_ylabel(ylabel=\"PCO2W pCO$_{2}$\", fontsize=14)\n",
    "ax.legend(handles=handles, title='Deployment', fontsize=12, edgecolor=\"black\")\n",
    "ax.grid()\n",
    "\n",
    "# Add in vertical error bars\n",
    "for i, c in enumerate(categories):\n",
    "    x = df[\"bottleCO2\"][df[\"deploymentNumber\"] == c]\n",
    "    ymin = df[\"CO2_avg\"][df[\"deploymentNumber\"] == c] - 2*df[\"CO2_std\"][df[\"deploymentNumber\"] == c]\n",
    "    ymax = df[\"CO2_avg\"][df[\"deploymentNumber\"] == c] + 2*df[\"CO2_std\"][df[\"deploymentNumber\"] == c]\n",
    "    ax.vlines(x, ymin, ymax, colors = plt.cm.tab10(i))\n",
    "\n",
    "ax.set_ylim((280, 500))\n",
    "ax.set_xlim((280, 500))\n",
    "# Add in a 1:1 line\n",
    "x = np.arange(280, 505, 5)\n",
    "y = np.arange(280, 505, 5)\n",
    "ax.plot(x, y, color = \"black\", alpha=0.7)\n",
    "ax.set_title(refdes + \" pCO$_{2}$ Comparison\", fontsize=16)"
   ]
  },
  {
   "cell_type": "code",
   "execution_count": null,
   "metadata": {},
   "outputs": [],
   "source": [
    "fig.savefig(f\"../results/{refdes}/instrument_vs_bottle_co2.png\")"
   ]
  },
  {
   "cell_type": "markdown",
   "metadata": {},
   "source": [
    "#### PCO2W 130m"
   ]
  },
  {
   "cell_type": "code",
   "execution_count": null,
   "metadata": {},
   "outputs": [],
   "source": [
    "refdes = \"GI01SUMO-RII11-02-PCO2WC053\"\n",
    "\n",
    "pco2w_130m = xr.open_dataset(f\"../data/{refdes}_combined.nc\", chunks=\"auto\")\n",
    "\n",
    "annotations = OOINet.get_annotations(refdes)\n",
    "\n",
    "pco2w_130m = OOINet.add_annotation_qc_flag(pco2w_130m, annotations)\n",
    "\n",
    "#pco2w_130m = pco2w_130m.where(pco2w_130m.rollup_annotations_qc_results != 9, drop=True)\n",
    "\n",
    "fig, ax = plotting.plot_variable(pco2w_130m, \"pco2_seawater\")"
   ]
  },
  {
   "cell_type": "code",
   "execution_count": null,
   "metadata": {},
   "outputs": [],
   "source": [
    "if not os.path.exists(f\"../results/{refdes}/\"):\n",
    "    os.makedirs(f\"../results/{refdes}/\")\n",
    "\n",
    "fig.savefig(f\"../results/{refdes}/time_series.png\")"
   ]
  },
  {
   "cell_type": "markdown",
   "metadata": {},
   "source": [
    "#### Add CTD Data"
   ]
  },
  {
   "cell_type": "code",
   "execution_count": null,
   "metadata": {},
   "outputs": [],
   "source": [
    "ctdbpp_130m = xr.open_dataset(\"../data/GI01SUMO-RII11-02-CTDBPP033_combined.nc\", chunks=\"auto\")"
   ]
  },
  {
   "cell_type": "code",
   "execution_count": null,
   "metadata": {},
   "outputs": [],
   "source": [
    "practical_salinity = ctdbpp_130m[\"practical_salinity\"].interp_like(pco2w_130m)\n",
    "seawater_temperature = ctdbpp_130m[\"ctdbp_seawater_temperature\"].interp_like(pco2w_130m)\n",
    "seawater_pressure = ctdbpp_130m[\"ctdbp_seawater_pressure\"].interp_like(pco2w_130m)\n",
    "\n",
    "# Add to the pco2w\n",
    "pco2w_130m[\"practical_salinity\"] = practical_salinity\n",
    "pco2w_130m[\"seawater_temperature\"] = seawater_temperature\n",
    "pco2w_130m[\"seawater_pressure\"] = seawater_pressure"
   ]
  },
  {
   "cell_type": "markdown",
   "metadata": {},
   "source": [
    "#### Quality Checks\n",
    "Next, add in the quality checks for the data"
   ]
  },
  {
   "cell_type": "code",
   "execution_count": null,
   "metadata": {},
   "outputs": [],
   "source": [
    "qc_flags = process_pco2w.quality_checks(pco2w_130m)\n",
    "pco2w_130m[\"qc_flags\"] = qc_flags"
   ]
  },
  {
   "cell_type": "code",
   "execution_count": null,
   "metadata": {},
   "outputs": [],
   "source": [
    "fig, ax = plotting.plot_variable(pco2w_130m, \"pco2_seawater\")\n",
    "\n",
    "# Plot figure which highlights data points with a corresponding annotation\n",
    "ax.set_alpha(0.7)\n",
    "first_legend = ax.get_legend()\n",
    "first_legend.set_bbox_to_anchor((1, 0.7))\n",
    "ax.add_artist(first_legend)\n",
    "\n",
    "s1, = ax.plot(pco2w_130m.time.where(pco2w_130m.qc_flags == 3), \n",
    "             pco2w_130m.pco2_seawater.where(pco2w_130m.qc_flags == 3), \n",
    "             marker=\"s\", linestyle=\"\", color=\"yellow\", label=\"Suspect\")\n",
    "s2, = ax.plot(pco2w_130m.time.where(pco2w_130m.qc_flags == 4), \n",
    "             pco2w_130m.pco2_seawater.where(pco2w_130m.qc_flags == 4), \n",
    "             marker=\"s\", linestyle=\"\", color=\"tab:red\", label=\"Bad\")\n",
    "\n",
    "ax.legend(handles=[s1, s2], edgecolor=\"black\", loc=\"lower left\", bbox_to_anchor=(1, 0.2), fontsize=12)"
   ]
  },
  {
   "cell_type": "code",
   "execution_count": null,
   "metadata": {},
   "outputs": [],
   "source": [
    "if not os.path.exists(f\"../results/{refdes}/\"):\n",
    "    os.makedirs(f\"../results/{refdes}/\")\n",
    "\n",
    "fig.savefig(f\"../results/{refdes}/time_series_with_quality_flags.png\")"
   ]
  },
  {
   "cell_type": "markdown",
   "metadata": {},
   "source": [
    "Dump the bad data, keep the \"questionable\" data"
   ]
  },
  {
   "cell_type": "code",
   "execution_count": null,
   "metadata": {},
   "outputs": [],
   "source": [
    "#pco2w_130m = pco2w_130m.where(pco2w_130m.qc_flags != 4, drop=True)"
   ]
  },
  {
   "cell_type": "code",
   "execution_count": null,
   "metadata": {},
   "outputs": [],
   "source": [
    "deployments = OOINet.get_deployments(refdes)\n",
    "\n",
    "lat, lon, depth = deployments[\"latitude\"].mean(), deployments[\"longitude\"].mean(), deployments[\"depth\"].mean()\n",
    "lat, lon, depth"
   ]
  },
  {
   "cell_type": "code",
   "execution_count": null,
   "metadata": {},
   "outputs": [],
   "source": [
    "pco2w_130m_bottles = findSamples(carbonData, (lat, lon), depth, 5, 20)\n",
    "pco2w_130m_bottles[\"CTD Pressure [db]\"]"
   ]
  },
  {
   "cell_type": "code",
   "execution_count": null,
   "metadata": {
    "scrolled": false
   },
   "outputs": [],
   "source": [
    "fig, ax = plotting.plot_variable(pco2w_130m, \"pco2_seawater\")\n",
    "ax.set_alpha(0.7)\n",
    "first_legend = ax.get_legend()\n",
    "first_legend.set_bbox_to_anchor((1, 0.7))\n",
    "ax.add_artist(first_legend)\n",
    "xmin, xmax = ax.get_xlim()\n",
    "\n",
    "s, = ax.plot(pco2w_130m_bottles.dropna(subset=[\"Calculated pCO2 [uatm]\"])[\"Start Time [UTC]\"], \n",
    "             pco2w_130m_bottles.dropna(subset=[\"Calculated pCO2 [uatm]\"])[\"Calculated pCO2 [uatm]\"], \n",
    "             marker=\"o\", color=\"yellow\", linestyle=\"\", markersize=12, markeredgecolor = \"black\",\n",
    "             label=\"Bottle\\npCO$_{2}$\")\n",
    "\n",
    "ax.legend(handles=[s], edgecolor=\"black\", loc=\"lower left\", bbox_to_anchor=(1, 0.2), fontsize=12)\n",
    "ax.set_xlim(xmin, xmax)\n",
    "ax.set_title(refdes, fontsize=16)"
   ]
  },
  {
   "cell_type": "code",
   "execution_count": null,
   "metadata": {},
   "outputs": [],
   "source": [
    "ax"
   ]
  },
  {
   "cell_type": "code",
   "execution_count": null,
   "metadata": {},
   "outputs": [],
   "source": [
    "if not os.path.exists(f\"../results/{refdes}/\"):\n",
    "    os.makedirs(f\"../results/{refdes}/\")\n",
    "\n",
    "fig.savefig(f\"../results/{refdes}/time_series_with_discrete_bottles.png\")"
   ]
  },
  {
   "cell_type": "code",
   "execution_count": null,
   "metadata": {},
   "outputs": [],
   "source": [
    "pco2w_130m_comparison = pd.DataFrame(columns=[\"deploymentNumber\", \"time\", \"CO2_avg\", \"CO2_std\", \"T\", \"S\", \"P\",\n",
    "                                            \"bottleCO2\", \"bottleT\", \"bottleS\", \"bottleP\"])\n",
    "\n",
    "for ind in pco2w_130m_bottles.index:\n",
    "    # Get the time stamps of a bottle\n",
    "    t = pco2w_130m_bottles[\"Start Time [UTC]\"].loc[ind]\n",
    "    t = t.tz_localize(None)\n",
    "\n",
    "    # Get the bottle pCO2a\n",
    "    bottleCO2 = pco2w_130m_bottles[\"Calculated pCO2 [uatm]\"].loc[ind]\n",
    "    bottleT = pco2w_130m_bottles[[\"CTD Temperature 1 [deg C]\", \"CTD Temperature 2 [deg C]\"]].loc[ind].mean(skipna=True)\n",
    "    bottleS = pco2w_130m_bottles[[\"CTD Salinity 1 [psu]\", \"CTD Salinity 2 [psu]\"]].loc[ind].mean(skipna=True)\n",
    "    bottleP = pco2w_130m_bottles[\"CTD Pressure [db]\"].loc[ind]\n",
    "\n",
    "    # Create a time window to look for data\n",
    "    dt = pd.Timedelta(days=7)\n",
    "    tmin = t - dt\n",
    "    tmax = t + dt\n",
    "\n",
    "    # Find the data within the time series\n",
    "    subset = pco2w_130m.where((pco2w_130m.time >= tmin) & (pco2w_130m.time <= tmax), drop=True)\n",
    "    # Check for unique deployments\n",
    "    deps = np.unique(subset.deployment)\n",
    "    # If more than one deployment, split it based on deployments\n",
    "    if len(deps) > 1:\n",
    "        for depNum in deps:\n",
    "            dep_subset = subset.where(subset.deployment == depNum, drop=True)\n",
    "            pco2_avg = dep_subset.pco2_seawater.mean().compute().values\n",
    "            pco2_std = dep_subset.pco2_seawater.std().compute().values\n",
    "            pco2_temp = dep_subset.seawater_temperature.mean().compute().values\n",
    "            pco2_sal = dep_subset.practical_salinity.mean().compute().values\n",
    "            pco2_pres = dep_subset.seawater_pressure.mean().compute().values\n",
    "            pco2w_130m_comparison = pco2w_130m_comparison.append({\n",
    "                    \"deploymentNumber\": depNum,\n",
    "                    \"time\": t,\n",
    "                    \"CO2_avg\": pco2_avg,\n",
    "                    \"CO2_std\": pco2_std,\n",
    "                    \"T\": pco2_temp,\n",
    "                    \"S\": pco2_sal,\n",
    "                    \"P\": pco2_pres,\n",
    "                    \"bottleCO2\": bottleCO2,\n",
    "                    \"bottleT\": bottleT,\n",
    "                    \"bottleS\": bottleS,\n",
    "                    \"bottleP\": bottleP,\n",
    "                }, ignore_index=True)\n",
    "    elif len(deps) == 1:\n",
    "        pco2_avg = subset.pco2_seawater.mean().compute().values\n",
    "        pco2_std = subset.pco2_seawater.std().compute().values\n",
    "        pco2_temp = subset.seawater_temperature.mean().compute().values\n",
    "        pco2_sal = subset.practical_salinity.mean().compute().values\n",
    "        pco2_pres = subset.seawater_pressure.mean().compute().values\n",
    "        depNum = deps[0]\n",
    "        pco2w_130m_comparison = pco2w_130m_comparison.append({\n",
    "                \"deploymentNumber\": depNum,\n",
    "                \"time\": t,\n",
    "                \"CO2_avg\": pco2_avg,\n",
    "                \"CO2_std\": pco2_std,\n",
    "                \"T\": pco2_temp,\n",
    "                \"S\": pco2_sal,\n",
    "                \"P\": pco2_pres,\n",
    "                \"bottleCO2\": bottleCO2,\n",
    "                \"bottleT\": bottleT,\n",
    "                \"bottleS\": bottleS,\n",
    "                \"bottleP\": bottleP,\n",
    "            }, ignore_index=True)\n",
    "    else:\n",
    "        # Now put in NaNs for the missing results data\n",
    "        pco2w_130m_comparison = pco2w_130m_comparison.append({\n",
    "                \"deploymentNumber\": depNum,\n",
    "                \"time\": t,\n",
    "                \"CO2_avg\": None,\n",
    "                \"CO2_std\": None,\n",
    "                \"T\": None,\n",
    "                \"S\": None,\n",
    "                \"P\": None,\n",
    "                \"bottleCO2\": bottleCO2,\n",
    "                \"bottleT\": bottleT,\n",
    "                \"bottleS\": bottleS,\n",
    "                \"bottleP\": bottleP,\n",
    "            }, ignore_index=True)\n",
    "\n",
    "# Save the results\n",
    "pco2w_130m_comparison"
   ]
  },
  {
   "cell_type": "code",
   "execution_count": null,
   "metadata": {},
   "outputs": [],
   "source": [
    "df = pco2w_130m_comparison.dropna(subset=[\"deploymentNumber\"])\n",
    "df[\"bottleCO2\"] = df[\"bottleCO2\"].astype(float)\n",
    "df[\"CO2_avg\"] = df[\"CO2_avg\"].astype(float)\n",
    "df[\"CO2_std\"] = df[\"CO2_std\"].astype(float)\n",
    "#df = df[df[\"deploymentNumber\"] != 3]\n",
    "\n",
    "fig, ax = plt.subplots(figsize=(8,8))\n",
    "\n",
    "# Set the \n",
    "levels, categories = pd.factorize(df['deploymentNumber'])\n",
    "colors = [plt.cm.tab10(i) for i in levels] # using the \"tab10\" colormap\n",
    "handles = [matplotlib.patches.Patch(color=plt.cm.tab10(i), label=c) for i, c in enumerate(categories)]\n",
    "for h in handles:\n",
    "    h.set_edgecolor(\"black\")\n",
    "\n",
    "# Plot the data\n",
    "ax.scatter(df[\"bottleCO2\"], df[\"CO2_avg\"], c=colors, s=80, edgecolors=\"black\")\n",
    "ax.set_xlabel(xlabel=\"Bottle pCO$_{2}$\", fontsize=14)\n",
    "ax.set_ylabel(ylabel=\"PCO2W pCO$_{2}$\", fontsize=14)\n",
    "ax.legend(handles=handles, title='Deployment', fontsize=12, edgecolor=\"black\")\n",
    "ax.grid()\n",
    "\n",
    "# Add in vertical error bars\n",
    "for i, c in enumerate(categories):\n",
    "    x = df[\"bottleCO2\"][df[\"deploymentNumber\"] == c]\n",
    "    ymin = df[\"CO2_avg\"][df[\"deploymentNumber\"] == c] - 2*df[\"CO2_std\"][df[\"deploymentNumber\"] == c]\n",
    "    ymax = df[\"CO2_avg\"][df[\"deploymentNumber\"] == c] + 2*df[\"CO2_std\"][df[\"deploymentNumber\"] == c]\n",
    "    ax.vlines(x, ymin, ymax, colors = plt.cm.tab10(i))\n",
    "\n",
    "ax.set_ylim((250, 455))\n",
    "ax.set_xlim((250, 455))\n",
    "# Add in a 1:1 line\n",
    "x = np.arange(250, 455, 5)\n",
    "y = np.arange(250, 455, 5)\n",
    "ax.plot(x, y, color = \"black\", alpha=0.7)\n",
    "ax.set_title(refdes + \" pCO$_{2}$ Comparison\", fontsize=16)"
   ]
  },
  {
   "cell_type": "markdown",
   "metadata": {},
   "source": [
    "### All PCO2Ws"
   ]
  },
  {
   "cell_type": "code",
   "execution_count": null,
   "metadata": {},
   "outputs": [],
   "source": [
    "def calculate_ylims(ds, param):\n",
    "    yavg = ds[param].mean(skipna=True).values\n",
    "    ystd = ds[param].std(skipna=True).values\n",
    "    ymed = np.nanmedian(ds[param])\n",
    "    # Need to check for way out-of-bounds values by comparison with median\n",
    "    if ystd > ymed:\n",
    "        yavg = ymed\n",
    "        ystd = ymed*0.2\n",
    "    ymin = yavg - 4*ystd\n",
    "    ymax = yavg + 4*ystd\n",
    "    return yavg, ystd, ymin, ymax"
   ]
  },
  {
   "cell_type": "code",
   "execution_count": null,
   "metadata": {},
   "outputs": [],
   "source": [
    "calculate_ylims(pco2w_40m, \"pco2_seawater\")"
   ]
  },
  {
   "cell_type": "code",
   "execution_count": null,
   "metadata": {},
   "outputs": [],
   "source": [
    "fig, ax = plt.subplots(nrows=3, ncols=1, figsize=(15, 18), sharex=True)\n",
    "\n",
    "param = \"pco2_seawater\"\n",
    "\n",
    "# Plot the 40 m PCO2W\n",
    "# -------------------\n",
    "# Calculate the figure bounds\n",
    "yavg, ystd, ymin, ymax = calculate_ylims(pco2w_40m, param)\n",
    "\n",
    "# Generate the plot figure\n",
    "s = pco2w_40m.plot.scatter(\"time\", param, ax=ax[0], hue=\"deployment\", hue_style=\"discrete\")\n",
    "\n",
    "# Add the deployments\n",
    "ax[0].legend(edgecolor=\"black\", loc=\"center left\", bbox_to_anchor=(1, 0.5), fontsize=14, title=\"Deployments\")\n",
    "deployments = np.unique(pco2w_40m[\"deployment\"])\n",
    "for depNum in deployments:\n",
    "    dt = pco2w_40m.where(pco2w_40m[\"deployment\"] == depNum, drop=True)[\"time\"].min()\n",
    "    ax[0].vlines(dt.values, yavg-4*ystd, yavg+4*ystd)\n",
    "    ax[0].text(dt.values, yavg-3*ystd, str(int(depNum)), fontsize=14, weight=\"bold\")\n",
    "xmin, xmax = ax[0].get_xlim()\n",
    "\n",
    "# Add the bottle samples\n",
    "b, = ax[0].plot(pco2w_40m_bottles.dropna(subset=[\"Calculated pCO2 [uatm]\"])[\"Start Time [UTC]\"], \n",
    "             pco2w_40m_bottles.dropna(subset=[\"Calculated pCO2 [uatm]\"])[\"Calculated pCO2 [uatm]\"], \n",
    "             marker=\"o\", color=\"yellow\", linestyle=\"\", markersize=12, markeredgecolor = \"black\",\n",
    "             label=\"Bottle\\npCO$_{2}$\")\n",
    "#ax[0].legend(handles=[b], edgecolor=\"black\", loc=\"lower left\", bbox_to_anchor=(1, 0.2), fontsize=12)\n",
    "\n",
    "\n",
    "# Set the ylims\n",
    "ax[0].set_xlim(xmin, xmax)\n",
    "ax[0].set_ylim(ymin, ymax)\n",
    "ax[0].grid()\n",
    "ax[0].set_title(\"PCO2W: 40 m\", fontsize=20, weight=\"bold\")\n",
    "ax[0].set_ylabel(\"pCO$_{2}$ Seawater\\n[uatm]\", fontsize=20, weight=\"bold\")\n",
    "# Set the yticklabels\n",
    "for tick in ax[0].yaxis.get_major_ticks():\n",
    "    tick.label1.set_fontsize(12)\n",
    "    tick.label1.set_fontweight(\"bold\")\n",
    "    tick.label1.se\n",
    "# Plot the 80 m PCO2W\n",
    "# -------------------\n",
    "# Calculate the figure bounds\n",
    "yavg, ystd, ymin, ymax = calculate_ylims(pco2w_80m, param)\n",
    "\n",
    "# Generate the plot figure\n",
    "s = pco2w_80m.plot.scatter(\"time\", param, ax=ax[1], hue=\"deployment\", hue_style=\"discrete\")\n",
    "\n",
    "# Add the deployments\n",
    "ax[1].legend(edgecolor=\"black\", loc=\"center left\", bbox_to_anchor=(1, 0.5), fontsize=14, title=\"Deployments\")\n",
    "deployments = np.unique(pco2w_80m[\"deployment\"])\n",
    "for depNum in deployments:\n",
    "    dt = pco2w_80m.where(pco2w_80m[\"deployment\"] == depNum, drop=True)[\"time\"].min()\n",
    "    ax[1].vlines(dt.values, yavg-4*ystd, yavg+4*ystd)\n",
    "    ax[1].text(dt.values, yavg-3*ystd, str(int(depNum)), fontsize=14, weight=\"bold\")\n",
    "xmin, xmax = ax[1].get_xlim()\n",
    "\n",
    "# Add the bottle samples\n",
    "b, = ax[1].plot(pco2w_80m_bottles.dropna(subset=[\"Calculated pCO2 [uatm]\"])[\"Start Time [UTC]\"], \n",
    "             pco2w_80m_bottles.dropna(subset=[\"Calculated pCO2 [uatm]\"])[\"Calculated pCO2 [uatm]\"], \n",
    "             marker=\"o\", color=\"yellow\", linestyle=\"\", markersize=12, markeredgecolor = \"black\",\n",
    "             label=\"Bottle\\npCO$_{2}$\")\n",
    "#ax[1].legend(handles=[b], edgecolor=\"black\", loc=\"lower left\", bbox_to_anchor=(1, 0.2), fontsize=12)\n",
    "\n",
    "\n",
    "# Set the ylims\n",
    "ax[1].set_xlim(xmin, xmax)\n",
    "ax[1].set_ylim(ymin, ymax)\n",
    "ax[1].grid()\n",
    "ax[1].set_title(\"PCO2W: 80 m\", fontsize=20, weight=\"bold\")\n",
    "ax[1].set_ylabel(\"pCO$_{2}$ Seawater\\n[uatm]\", fontsize=20, weight=\"bold\")\n",
    "\n",
    "for tick in ax[1].yaxis.get_major_ticks():\n",
    "    tick.label1.set_fontsize(12)\n",
    "    tick.label1.set_fontweight(\"bold\")\n",
    "    \n",
    "# Plot the 130 m PCO2W\n",
    "# -------------------\n",
    "# Calculate the figure bounds\n",
    "yavg, ystd, ymin, ymax = calculate_ylims(pco2w_130m, param)\n",
    "\n",
    "# Generate the plot figure\n",
    "s = pco2w_130m.plot.scatter(\"time\", param, ax=ax[2], hue=\"deployment\", hue_style=\"discrete\")\n",
    "\n",
    "# Add the deployments\n",
    "ax[2].legend(edgecolor=\"black\", loc=\"center left\", bbox_to_anchor=(1, 0.5), fontsize=14, title=\"Deployments\")\n",
    "deployments = np.unique(pco2w_130m[\"deployment\"])\n",
    "for depNum in deployments:\n",
    "    dt = pco2w_130m.where(pco2w_130m[\"deployment\"] == depNum, drop=True)[\"time\"].min()\n",
    "    ax[2].vlines(dt.values, yavg-4*ystd, yavg+4*ystd)\n",
    "    ax[2].text(dt.values, yavg-3*ystd, str(int(depNum)), fontsize=14, weight=\"bold\")\n",
    "xmin, xmax = ax[2].get_xlim()\n",
    "\n",
    "# Add the bottle samples\n",
    "b, = ax[2].plot(pco2w_130m_bottles.dropna(subset=[\"Calculated pCO2 [uatm]\"])[\"Start Time [UTC]\"], \n",
    "             pco2w_130m_bottles.dropna(subset=[\"Calculated pCO2 [uatm]\"])[\"Calculated pCO2 [uatm]\"], \n",
    "             marker=\"o\", color=\"yellow\", linestyle=\"\", markersize=12, markeredgecolor = \"black\",\n",
    "             label=\"Bottle\\npCO$_{2}$\")\n",
    "#ax[2].legend(handles=[b], edgecolor=\"black\", loc=\"lower left\", bbox_to_anchor=(1, 0.2), fontsize=12)\n",
    "\n",
    "ax[2].set_xlim(xmin, xmax)\n",
    "# Set the ylims\n",
    "ax[2].set_ylim(ymin, ymax)\n",
    "ax[2].grid()\n",
    "ax[2].set_title(\"PCO2W: 130 m\", fontsize=20, weight=\"bold\")\n",
    "ax[2].set_ylabel(\"pCO$_{2}$ Seawater\\n[uatm]\", fontsize=20, weight=\"bold\")\n",
    "\n",
    "for tick in ax[2].yaxis.get_major_ticks():\n",
    "    tick.label1.set_fontsize(12)\n",
    "    tick.label1.set_fontweight(\"bold\")\n",
    "    \n",
    "for tick in ax[2].xaxis.get_major_ticks():\n",
    "    tick.label1.set_fontsize(12)\n",
    "    tick.label1.set_fontweight(\"bold\")\n",
    "\n",
    "\n",
    "fig.autofmt_xdate()\n",
    "plt.xlabel(\"\")\n"
   ]
  },
  {
   "cell_type": "code",
   "execution_count": null,
   "metadata": {},
   "outputs": [],
   "source": [
    "fig.savefig(\"../results/all_pco2w_timeseries_with_bottle_data.png\", facecolor=\"white\", transparent=False)"
   ]
  },
  {
   "cell_type": "code",
   "execution_count": null,
   "metadata": {},
   "outputs": [],
   "source": [
    "fig, ax = plt.subplots(nrows=3, ncols=1, figsize=(15, 18), sharex=True)\n",
    "\n",
    "param = \"pco2_seawater\"\n",
    "\n",
    "# Plot the 40 m PCO2W\n",
    "# -------------------\n",
    "# Calculate the figure bounds\n",
    "yavg, ystd, ymin, ymax = calculate_ylims(pco2w_40m, param)\n",
    "\n",
    "# Generate the plot figure\n",
    "s = pco2w_40m.plot.scatter(\"time\", param, ax=ax[0], hue=\"deployment\", hue_style=\"discrete\")\n",
    "\n",
    "# Add the deployments\n",
    "ax[0].legend(edgecolor=\"black\", loc=\"center left\", bbox_to_anchor=(1, 0.5), fontsize=14, title=\"Deployments\")\n",
    "deployments = np.unique(pco2w_40m[\"deployment\"])\n",
    "for depNum in deployments:\n",
    "    dt = pco2w_40m.where(pco2w_40m[\"deployment\"] == depNum, drop=True)[\"time\"].min()\n",
    "    ax[0].vlines(dt.values, yavg-4*ystd, yavg+4*ystd)\n",
    "    ax[0].text(dt.values, yavg-3*ystd, str(int(depNum)), fontsize=14, weight=\"bold\")\n",
    "\n",
    "# Set the ylims\n",
    "ax[0].set_ylim(ymin, ymax)\n",
    "ax[0].grid()\n",
    "ax[0].set_title(\"PCO2W: 40 m\", fontsize=16, weight=\"bold\")\n",
    "ax[0].set_ylabel(\"pCO$_{2}$ Seawater\\n[uatm]\", fontsize=16, weight=\"bold\")\n",
    "#plt.yticks(fontsize=12, weight=\"bold\")\n",
    "\n",
    "\n",
    "# Plot the 80 m PCO2W\n",
    "# -------------------\n",
    "# Calculate the figure bounds\n",
    "yavg, ystd, ymin, ymax = calculate_ylims(pco2w_80m, param)\n",
    "\n",
    "# Generate the plot figure\n",
    "s = pco2w_80m.plot.scatter(\"time\", param, ax=ax[1], hue=\"deployment\", hue_style=\"discrete\")\n",
    "\n",
    "# Add the deployments\n",
    "ax[1].legend(edgecolor=\"black\", loc=\"center left\", bbox_to_anchor=(1, 0.5), fontsize=14, title=\"Deployments\")\n",
    "deployments = np.unique(pco2w_80m[\"deployment\"])\n",
    "for depNum in deployments:\n",
    "    dt = pco2w_80m.where(pco2w_80m[\"deployment\"] == depNum, drop=True)[\"time\"].min()\n",
    "    ax[1].vlines(dt.values, yavg-4*ystd, yavg+4*ystd)\n",
    "    ax[1].text(dt.values, yavg-3*ystd, str(int(depNum)), fontsize=14, weight=\"bold\")\n",
    "\n",
    "# Set the ylims\n",
    "ax[1].set_ylim(ymin, ymax)\n",
    "ax[1].grid()\n",
    "ax[1].set_title(\"PCO2W: 80 m\", fontsize=16, weight=\"bold\")\n",
    "ax[1].set_ylabel(\"pCO$_{2}$ Seawater\\n[uatm]\", fontsize=16, weight=\"bold\")\n",
    "#plt.yticks(fontsize=12, weight=\"bold\")\n",
    "\n",
    "# Plot the 130 m PCO2W\n",
    "# -------------------\n",
    "# Calculate the figure bounds\n",
    "yavg, ystd, ymin, ymax = calculate_ylims(pco2w_130m, param)\n",
    "\n",
    "# Generate the plot figure\n",
    "s = pco2w_130m.plot.scatter(\"time\", param, ax=ax[2], hue=\"deployment\", hue_style=\"discrete\")\n",
    "\n",
    "# Add the deployments\n",
    "ax[2].legend(edgecolor=\"black\", loc=\"center left\", bbox_to_anchor=(1, 0.5), fontsize=14, title=\"Deployments\")\n",
    "deployments = np.unique(pco2w_130m[\"deployment\"])\n",
    "for depNum in deployments:\n",
    "    dt = pco2w_130m.where(pco2w_130m[\"deployment\"] == depNum, drop=True)[\"time\"].min()\n",
    "    ax[2].vlines(dt.values, yavg-4*ystd, yavg+4*ystd)\n",
    "    ax[2].text(dt.values, yavg-3*ystd, str(int(depNum)), fontsize=14, weight=\"bold\")\n",
    "\n",
    "# Set the ylims\n",
    "ax[2].set_ylim(ymin, ymax)\n",
    "ax[2].grid()\n",
    "ax[2].set_title(\"PCO2W: 130 m\", fontsize=16, weight=\"bold\")\n",
    "ax[2].set_ylabel(\"pCO$_{2}$ Seawater\\n[uatm]\", fontsize=16, weight=\"bold\")\n",
    "ax[2].xaxis.get_label().set_fontsize(16)\n",
    "plt.xticks(fontsize=12, weight=\"bold\")\n",
    "#plt.yticks(fontsize=12, weight=\"bold\")\n",
    "\n",
    "fig.autofmt_xdate()"
   ]
  },
  {
   "cell_type": "code",
   "execution_count": null,
   "metadata": {},
   "outputs": [],
   "source": [
    "fig.savefig(\"../results/all_pco2w_timeseries.png\", facecolor=\"white\", transparent=False)"
   ]
  },
  {
   "cell_type": "code",
   "execution_count": null,
   "metadata": {},
   "outputs": [],
   "source": [
    "pco2w_40m.attrs"
   ]
  },
  {
   "cell_type": "code",
   "execution_count": null,
   "metadata": {
    "scrolled": true
   },
   "outputs": [],
   "source": [
    "pco2w_40m_comparison[\"instrument\"] = \"40m\"\n",
    "pco2w_80m_comparison[\"instrument\"] = \"80m\"\n",
    "pco2w_130m_comparison[\"instrument\"] = \"130m\"\n",
    "\n",
    "pco2w_comparison = pco2w_40m_comparison.append(pco2w_80m_comparison).append(pco2w_130m_comparison)\n",
    "pco2w_comparison.to_excel(\"../results/PCO2W_comparison.xlsx\", index=False)"
   ]
  },
  {
   "cell_type": "markdown",
   "metadata": {},
   "source": [
    "Plot the comparison of data, dropping the NaN"
   ]
  },
  {
   "cell_type": "code",
   "execution_count": null,
   "metadata": {},
   "outputs": [],
   "source": [
    "import seaborn as sns\n",
    "import matplotlib.patches"
   ]
  },
  {
   "cell_type": "code",
   "execution_count": null,
   "metadata": {
    "scrolled": false
   },
   "outputs": [],
   "source": [
    "df = pco2w_comparison.dropna(subset=[\"deploymentNumber\"])\n",
    "df[\"bottleCO2\"] = df[\"bottleCO2\"].astype(float)\n",
    "df[\"CO2_avg\"] = df[\"CO2_avg\"].astype(float)\n",
    "df[\"CO2_std\"] = df[\"CO2_std\"].astype(float)\n",
    "#df = df[df[\"deploymentNumber\"] != 3]\n",
    "\n",
    "fig, ax = plt.subplots(figsize=(8,8))\n",
    "\n",
    "# Set the \n",
    "levels, categories = pd.factorize(df['instrument'])\n",
    "colors = [plt.cm.tab10(i) for i in levels] # using the \"tab10\" colormap\n",
    "handles = [matplotlib.patches.Patch(color=plt.cm.tab10(i), label=c) for i, c in enumerate(categories)]\n",
    "for h in handles:\n",
    "    h.set_edgecolor(\"black\")\n",
    "\n",
    "# Plot the data\n",
    "ax.scatter(df[\"bottleCO2\"], df[\"CO2_avg\"], c=colors, s=80, edgecolors=\"black\")\n",
    "ax.set_xlabel(xlabel=\"Bottle pCO$_{2}$\", fontsize=20, weight=\"bold\")\n",
    "ax.set_ylabel(ylabel=\"PCO2W pCO$_{2}$\", fontsize=20, weight=\"bold\")\n",
    "ax.legend(handles=handles, title='Instrument', fontsize=12, edgecolor=\"black\")\n",
    "ax.grid()\n",
    "\n",
    "first_legend = ax.get_legend()\n",
    "ax.add_artist(first_legend)\n",
    "\n",
    "# Add in vertical error bars\n",
    "for i, c in enumerate(categories):\n",
    "    x = df[\"bottleCO2\"][df[\"instrument\"] == c]\n",
    "    ymin = df[\"CO2_avg\"][df[\"instrument\"] == c] - 2*df[\"CO2_std\"][df[\"instrument\"] == c]\n",
    "    ymax = df[\"CO2_avg\"][df[\"instrument\"] == c] + 2*df[\"CO2_std\"][df[\"instrument\"] == c]\n",
    "    ax.vlines(x, ymin, ymax, colors = plt.cm.tab10(i))\n",
    "\n",
    "ax.set_ylim((250, 500))\n",
    "ax.set_xlim((250, 500))\n",
    "# Add in a 1:1 line\n",
    "x = np.arange(200, 505, 5)\n",
    "y = np.arange(200, 505, 5)\n",
    "s, = ax.plot(x, y, color = \"black\", alpha=0.7, label=\"1:1 Line\")\n",
    "ax.legend(handles=[s], edgecolor=\"black\", loc=\"lower right\", fontsize=12)\n",
    "\n",
    "for tick in ax.xaxis.get_major_ticks():\n",
    "    tick.label1.set_fontsize(12)\n",
    "    tick.label1.set_fontweight(\"bold\")\n",
    "    \n",
    "for tick in ax.yaxis.get_major_ticks():\n",
    "    tick.label1.set_fontsize(12)\n",
    "    tick.label1.set_fontweight(\"bold\")\n",
    "    \n",
    "#ax.legend(handles=[s], edgecolor=\"black\", loc=\"lower right\", fontsize=12)"
   ]
  },
  {
   "cell_type": "code",
   "execution_count": null,
   "metadata": {},
   "outputs": [],
   "source": [
    "fig.savefig(\"../results/pco2w_comparison.png\", facecolor=\"white\", transparent=False)"
   ]
  },
  {
   "cell_type": "markdown",
   "metadata": {},
   "source": [
    "### PHSEN 20 m"
   ]
  },
  {
   "cell_type": "code",
   "execution_count": null,
   "metadata": {},
   "outputs": [],
   "source": [
    "from OS2022.OS2022 import process_phsen"
   ]
  },
  {
   "cell_type": "code",
   "execution_count": null,
   "metadata": {
    "scrolled": false
   },
   "outputs": [],
   "source": [
    "refdes = \"GI01SUMO-RII11-02-PHSENE041\"\n",
    "\n",
    "phsen_20m = xr.open_dataset(\"../data/GI01SUMO-RII11-02-PHSENE041_combined.nc\", chunks=\"auto\")\n",
    "\n",
    "annotations = OOINet.get_annotations(\"GI01SUMO-RII11-02-PHSENE041\")\n",
    "\n",
    "phsen_20m = OOINet.add_annotation_qc_flag(phsen_20m, annotations)\n",
    "\n",
    "#phsen_20m = phsen_20m.where(phsen_20m.rollup_annotations_qc_results != 9, drop=True)\n",
    "\n",
    "fig, ax = plotting.plot_variable(phsen_20m, \"seawater_ph\")\n",
    "ax.set_title(refdes, fontsize=16)"
   ]
  },
  {
   "cell_type": "code",
   "execution_count": null,
   "metadata": {},
   "outputs": [],
   "source": [
    "if not os.path.exists(f\"../results/{refdes}\"):\n",
    "    os.makedirs(f\"../results/{refdes}\")\n",
    "    \n",
    "fig.savefig(f\"../results/{refdes}/time_series.png\")"
   ]
  },
  {
   "cell_type": "markdown",
   "metadata": {},
   "source": [
    "#### CTD Data"
   ]
  },
  {
   "cell_type": "code",
   "execution_count": null,
   "metadata": {},
   "outputs": [],
   "source": [
    "ctdmo_20m = xr.open_dataset(\"../data/GI01SUMO-RII11-02-CTDMOQ011_combined.nc\", chunks=\"auto\")\n",
    "\n",
    "seawater_temperature = ctdmo_20m[\"ctdmo_seawater_temperature\"].interp_like(phsen_20m)\n",
    "seawater_pressure = ctdmo_20m[\"ctdmo_seawater_pressure\"].interp_like(phsen_20m)\n",
    "\n",
    "# Add to the pco2w\n",
    "phsen_20m[\"seawater_temperature\"] = seawater_temperature\n",
    "phsen_20m[\"seawater_pressure\"] = seawater_pressure"
   ]
  },
  {
   "cell_type": "markdown",
   "metadata": {},
   "source": [
    "#### Quality Checks\n",
    "Next, add in the quality checks for the data"
   ]
  },
  {
   "cell_type": "code",
   "execution_count": null,
   "metadata": {},
   "outputs": [],
   "source": [
    "qc_flags = process_phsen.quality_checks(phsen_20m)\n",
    "phsen_20m[\"qc_flags\"] = qc_flags"
   ]
  },
  {
   "cell_type": "code",
   "execution_count": null,
   "metadata": {},
   "outputs": [],
   "source": [
    "fig, ax = plotting.plot_variable(phsen_20m, \"seawater_ph\")\n",
    "\n",
    "# Plot figure which highlights data points with a corresponding annotation\n",
    "ax.set_alpha(0.7)\n",
    "first_legend = ax.get_legend()\n",
    "first_legend.set_bbox_to_anchor((1, 0.7))\n",
    "ax.add_artist(first_legend)\n",
    "\n",
    "s1, = ax.plot(phsen_20m.time.where(phsen_20m.qc_flags == 3), \n",
    "             phsen_20m.seawater_ph.where(phsen_20m.qc_flags == 3), \n",
    "             marker=\"s\", linestyle=\"\", color=\"yellow\", label=\"Suspect\")\n",
    "s2, = ax.plot(phsen_20m.time.where(phsen_20m.qc_flags == 4), \n",
    "             phsen_20m.seawater_ph.where(phsen_20m.qc_flags == 4), \n",
    "             marker=\"s\", linestyle=\"\", color=\"tab:red\", label=\"Bad\")\n",
    "\n",
    "ax.legend(handles=[s1, s2], edgecolor=\"black\", loc=\"lower left\", bbox_to_anchor=(1, 0.2), fontsize=12)\n",
    "ax.set_title(refdes, fontsize=16)"
   ]
  },
  {
   "cell_type": "code",
   "execution_count": null,
   "metadata": {},
   "outputs": [],
   "source": [
    "if not os.path.exists(f\"../results/{refdes}\"):\n",
    "    os.makedirs(f\"../results/{refdes}\")\n",
    "    \n",
    "fig.savefig(f\"../results/{refdes}/time_series.png\")"
   ]
  },
  {
   "cell_type": "code",
   "execution_count": null,
   "metadata": {},
   "outputs": [],
   "source": [
    "# Drop the bad data\n",
    "phsen_20m = phsen_20m.where(phsen_20m.qc_flags != 4, drop=True)"
   ]
  },
  {
   "cell_type": "code",
   "execution_count": null,
   "metadata": {},
   "outputs": [],
   "source": [
    "deployments = OOINet.get_deployments(refdes)\n",
    "\n",
    "lat, lon, depth = deployments[\"latitude\"].mean(), deployments[\"longitude\"].mean(), deployments[\"depth\"].mean()\n",
    "\n",
    "lat, lon, depth"
   ]
  },
  {
   "cell_type": "code",
   "execution_count": null,
   "metadata": {},
   "outputs": [],
   "source": [
    "phsen_20m_bottles = findSamples(carbonData, (lat, lon), depth, 5, 20)\n",
    "phsen_20m_bottles"
   ]
  },
  {
   "cell_type": "code",
   "execution_count": null,
   "metadata": {},
   "outputs": [],
   "source": [
    "fig, ax = plotting.plot_variable(phsen_20m, \"seawater_ph\")\n",
    "ax.set_alpha(0.7)\n",
    "first_legend = ax.get_legend()\n",
    "first_legend.set_bbox_to_anchor((1, 0.7))\n",
    "ax.add_artist(first_legend)\n",
    "xmin, xmax = ax.get_xlim()\n",
    "\n",
    "s, = ax.plot(phsen_20m_bottles.dropna(subset=[\"Calculated pH\"])[\"Start Time [UTC]\"], \n",
    "             phsen_20m_bottles.dropna(subset=[\"Calculated pH\"])[\"Calculated pH\"], \n",
    "             marker=\"o\", color=\"yellow\", linestyle=\"\", markersize=12, markeredgecolor = \"black\",\n",
    "             label=\"Bottle pCO$_{2}$\")\n",
    "\n",
    "ax.legend(handles=[s], edgecolor=\"black\", loc=\"lower left\", bbox_to_anchor=(1, 0.2), fontsize=12)\n",
    "ax.set_xlim(xmin, xmax)\n",
    "ax.set_title(refdes, fontsize=16)"
   ]
  },
  {
   "cell_type": "code",
   "execution_count": null,
   "metadata": {},
   "outputs": [],
   "source": [
    "if not os.path.exists(f\"../results/{refdes}/\"):\n",
    "    os.makedirs(f\"../results/{refdes}/\")\n",
    "    \n",
    "fig.savefig(f\"../results/{refdes}/time_series_with_discrete_bottles\")"
   ]
  },
  {
   "cell_type": "code",
   "execution_count": null,
   "metadata": {},
   "outputs": [],
   "source": [
    "phsen_20m_comparison = pd.DataFrame(columns=[\"deploymentNumber\", \"time\", \"PH_avg\", \"PH_std\", \"T\", \"S\", \"P\",\n",
    "                                            \"bottlePH\", \"bottleT\", \"bottleS\", \"bottleP\"])\n",
    "\n",
    "for ind in phsen_20m_bottles.index:\n",
    "    # Get the time stamps of a bottle\n",
    "    t = phsen_20m_bottles[\"Start Time [UTC]\"].loc[ind]\n",
    "    t = t.tz_localize(None)\n",
    "\n",
    "    # Get the bottle pCO2a\n",
    "    bottlePH = phsen_20m_bottles[\"Calculated pH\"].loc[ind]\n",
    "    bottleT = phsen_20m_bottles[[\"CTD Temperature 1 [deg C]\", \"CTD Temperature 2 [deg C]\"]].loc[ind].mean(skipna=True)\n",
    "    bottleS = phsen_20m_bottles[[\"CTD Salinity 1 [psu]\", \"CTD Salinity 2 [psu]\"]].loc[ind].mean(skipna=True)\n",
    "    bottleP = phsen_20m_bottles[\"CTD Pressure [db]\"].loc[ind]\n",
    "\n",
    "    # Create a time window to look for data\n",
    "    dt = pd.Timedelta(days=7)\n",
    "    tmin = t - dt\n",
    "    tmax = t + dt\n",
    "\n",
    "    # Find the data within the time series\n",
    "    subset = phsen_20m.where((phsen_20m.time >= tmin) & (phsen_20m.time <= tmax), drop=True)\n",
    "    # Check for unique deployments\n",
    "    deps = np.unique(subset.deployment)\n",
    "    # If more than one deployment, split it based on deployments\n",
    "    if len(deps) > 1:\n",
    "        for depNum in deps:\n",
    "            dep_subset = subset.where(subset.deployment == depNum, drop=True)\n",
    "            pco2_avg = dep_subset.seawater_ph.mean(skipna=True).compute().values\n",
    "            pco2_std = dep_subset.seawater_ph.std(skipna=True).compute().values\n",
    "            pco2_temp = dep_subset.seawater_temperature.mean().compute().values\n",
    "            pco2_sal = dep_subset.practical_salinity.mean().compute().values\n",
    "            pco2_pres = dep_subset.seawater_pressure.mean().compute().values\n",
    "            phsen_20m_comparison = phsen_20m_comparison.append({\n",
    "                    \"deploymentNumber\": depNum,\n",
    "                    \"time\": t,\n",
    "                    \"PH_avg\": pco2_avg,\n",
    "                    \"PH_std\": pco2_std,\n",
    "                    \"T\": pco2_temp,\n",
    "                    \"S\": pco2_sal,\n",
    "                    \"P\": pco2_pres,\n",
    "                    \"bottlePH\": bottlePH,\n",
    "                    \"bottleT\": bottleT,\n",
    "                    \"bottleS\": bottleS,\n",
    "                    \"bottleP\": bottleP,\n",
    "                }, ignore_index=True)\n",
    "    elif len(deps) == 1:\n",
    "        pco2_avg = subset.seawater_ph.mean(skipna=True).compute().values\n",
    "        pco2_std = subset.seawater_ph.std(skipna=True).compute().values\n",
    "        pco2_temp = subset.seawater_temperature.mean().compute().values\n",
    "        pco2_sal = subset.practical_salinity.mean().compute().values\n",
    "        pco2_pres = subset.seawater_pressure.mean().compute().values\n",
    "        depNum = deps[0]\n",
    "        phsen_20m_comparison = phsen_20m_comparison.append({\n",
    "                \"deploymentNumber\": depNum,\n",
    "                \"time\": t,\n",
    "                \"PH_avg\": pco2_avg,\n",
    "                \"PH_std\": pco2_std,\n",
    "                \"T\": pco2_temp,\n",
    "                \"S\": pco2_sal,\n",
    "                \"P\": pco2_pres,\n",
    "                \"bottlePH\": bottlePH,\n",
    "                \"bottleT\": bottleT,\n",
    "                \"bottleS\": bottleS,\n",
    "                \"bottleP\": bottleP,\n",
    "            }, ignore_index=True)\n",
    "    else:\n",
    "        # Now put in NaNs for the missing results data\n",
    "        phsen_20m_comparison = phsen_20m_comparison.append({\n",
    "                \"deploymentNumber\": depNum,\n",
    "                \"time\": t,\n",
    "                \"PH_avg\": None,\n",
    "                \"PH_std\": None,\n",
    "                \"T\": None,\n",
    "                \"S\": None,\n",
    "                \"P\": None,\n",
    "                \"bottlePH\": bottlePH,\n",
    "                \"bottleT\": bottleT,\n",
    "                \"bottleS\": bottleS,\n",
    "                \"bottleP\": bottleP,\n",
    "            }, ignore_index=True)\n",
    "\n",
    "# Save the results\n",
    "phsen_20m_comparison"
   ]
  },
  {
   "cell_type": "code",
   "execution_count": null,
   "metadata": {},
   "outputs": [],
   "source": [
    "import matplotlib"
   ]
  },
  {
   "cell_type": "code",
   "execution_count": null,
   "metadata": {},
   "outputs": [],
   "source": [
    "df = phsen_20m_comparison.dropna(subset=[\"deploymentNumber\"])\n",
    "df[\"bottlePH\"] = df[\"bottlePH\"].astype(float)\n",
    "df[\"PH_avg\"] = df[\"PH_avg\"].astype(float)\n",
    "df[\"PH_std\"] = df[\"PH_std\"].astype(float)\n",
    "#df = df[df[\"deploymentNumber\"] != 3]\n",
    "\n",
    "fig, ax = plt.subplots(figsize=(8,8))\n",
    "\n",
    "# Set the \n",
    "levels, categories = pd.factorize(df['deploymentNumber'])\n",
    "colors = [plt.cm.tab10(i) for i in levels] # using the \"tab10\" colormap\n",
    "handles = [matplotlib.patches.Patch(color=plt.cm.tab10(i), label=c) for i, c in enumerate(categories)]\n",
    "for h in handles:\n",
    "    h.set_edgecolor(\"black\")\n",
    "\n",
    "# Plot the data\n",
    "ax.scatter(df[\"bottlePH\"], df[\"PH_avg\"], c=colors, s=80, edgecolors=\"black\")\n",
    "ax.set_xlabel(xlabel=\"Bottle pH\", fontsize=14)\n",
    "ax.set_ylabel(ylabel=\"PHSEN pH\", fontsize=14)\n",
    "ax.legend(handles=handles, title='Deployment', fontsize=12, edgecolor=\"black\")\n",
    "ax.grid()\n",
    "\n",
    "# Add in vertical error bars\n",
    "for i, c in enumerate(categories):\n",
    "    x = df[\"bottlePH\"][df[\"deploymentNumber\"] == c]\n",
    "    ymin = df[\"PH_avg\"][df[\"deploymentNumber\"] == c] - 2*df[\"PH_std\"][df[\"deploymentNumber\"] == c]\n",
    "    ymax = df[\"PH_avg\"][df[\"deploymentNumber\"] == c] + 2*df[\"PH_std\"][df[\"deploymentNumber\"] == c]\n",
    "    ax.vlines(x, ymin, ymax, colors = plt.cm.tab10(i))\n",
    "\n",
    "ax.set_ylim((8.05, 8.15))\n",
    "ax.set_xlim((8.05, 8.15))\n",
    "# Add in a 1:1 line\n",
    "x = np.arange(8, 8.205, 0.05)\n",
    "y = np.arange(8, 8.205, 0.05)\n",
    "ax.plot(x, y, color = \"black\", alpha=0.7)"
   ]
  },
  {
   "cell_type": "code",
   "execution_count": null,
   "metadata": {},
   "outputs": [],
   "source": [
    "fig.savefig(f\"../results/{refdes}/instrument_vs_bottle_comparison.png\")"
   ]
  },
  {
   "cell_type": "markdown",
   "metadata": {},
   "source": [
    "### PHSEN SUMO 100m"
   ]
  },
  {
   "cell_type": "code",
   "execution_count": null,
   "metadata": {},
   "outputs": [],
   "source": [
    "refdes = \"GI01SUMO-RII11-02-PHSENE042\"\n",
    "\n",
    "phsen_100m = xr.open_dataset(\"../data/GI01SUMO-RII11-02-PHSENE042_combined.nc\", chunks=\"auto\")\n",
    "\n",
    "annotations = OOINet.get_annotations(\"GI01SUMO-RII11-02-PHSENE042\")\n",
    "\n",
    "phsen_100m = OOINet.add_annotation_qc_flag(phsen_100m, annotations)\n",
    "\n",
    "#phsen_100m = phsen_100m.where(phsen_100m.rollup_annotations_qc_results != 9, drop=True)\n",
    "\n",
    "fig, ax = plotting.plot_variable(phsen_100m, \"seawater_ph\")\n",
    "ax.set_title(refdes, fontsize=16)"
   ]
  },
  {
   "cell_type": "code",
   "execution_count": null,
   "metadata": {},
   "outputs": [],
   "source": [
    "if not os.path.exists(f\"../results/{refdes}\"):\n",
    "    os.makedirs(f\"../results/{refdes}\")\n",
    "    \n",
    "fig.savefig(f\"../results/{refdes}/time_series.png\")"
   ]
  },
  {
   "cell_type": "markdown",
   "metadata": {},
   "source": [
    "#### CTD Data"
   ]
  },
  {
   "cell_type": "code",
   "execution_count": null,
   "metadata": {},
   "outputs": [],
   "source": [
    "ctdmo_100m = xr.open_dataset(\"../data/GI01SUMO-RII11-02-CTDMOQ013_combined.nc\", chunks=\"auto\")\n",
    "\n",
    "seawater_temperature = ctdmo_100m[\"ctdmo_seawater_temperature\"].interp_like(phsen_100m)\n",
    "seawater_pressure = ctdmo_100m[\"ctdmo_seawater_pressure\"].interp_like(phsen_100m)\n",
    "\n",
    "# Add to the pco2w\n",
    "phsen_100m[\"seawater_temperature\"] = seawater_temperature\n",
    "phsen_100m[\"seawater_pressure\"] = seawater_pressure"
   ]
  },
  {
   "cell_type": "markdown",
   "metadata": {},
   "source": [
    "#### Quality Checks\n",
    "Next, add in the quality checks for the data"
   ]
  },
  {
   "cell_type": "code",
   "execution_count": null,
   "metadata": {},
   "outputs": [],
   "source": [
    "qc_flags = process_phsen.quality_checks(phsen_100m)\n",
    "phsen_100m[\"qc_flags\"] = qc_flags"
   ]
  },
  {
   "cell_type": "code",
   "execution_count": null,
   "metadata": {},
   "outputs": [],
   "source": [
    "fig, ax = plotting.plot_variable(phsen_100m, \"seawater_ph\")\n",
    "\n",
    "# Plot figure which highlights data points with a corresponding annotation\n",
    "ax.set_alpha(0.7)\n",
    "first_legend = ax.get_legend()\n",
    "first_legend.set_bbox_to_anchor((1, 0.7))\n",
    "ax.add_artist(first_legend)\n",
    "\n",
    "s1, = ax.plot(phsen_100m.time.where(phsen_100m.qc_flags == 3), \n",
    "             phsen_100m.seawater_ph.where(phsen_100m.qc_flags == 3), \n",
    "             marker=\"s\", linestyle=\"\", color=\"yellow\", label=\"Suspect\")\n",
    "s2, = ax.plot(phsen_100m.time.where(phsen_100m.qc_flags == 4), \n",
    "             phsen_100m.seawater_ph.where(phsen_100m.qc_flags == 4), \n",
    "             marker=\"s\", linestyle=\"\", color=\"tab:red\", label=\"Bad\")\n",
    "\n",
    "ax.legend(handles=[s1, s2], edgecolor=\"black\", loc=\"lower left\", bbox_to_anchor=(1, 0.2), fontsize=12)\n",
    "ax.set_title(refdes, fontsize=16)"
   ]
  },
  {
   "cell_type": "code",
   "execution_count": null,
   "metadata": {},
   "outputs": [],
   "source": [
    "if not os.path.exists(f\"../results/{refdes}\"):\n",
    "    os.makedirs(f\"../results/{refdes}\")\n",
    "    \n",
    "fig.savefig(f\"../results/{refdes}/time_series.png\")"
   ]
  },
  {
   "cell_type": "code",
   "execution_count": null,
   "metadata": {},
   "outputs": [],
   "source": [
    "# Drop the bad data\n",
    "phsen_100m = phsen_100m.where(phsen_100m.qc_flags != 4, drop=True)"
   ]
  },
  {
   "cell_type": "code",
   "execution_count": null,
   "metadata": {},
   "outputs": [],
   "source": [
    "deployments = OOINet.get_deployments(refdes)\n",
    "\n",
    "lat, lon, depth = deployments[\"latitude\"].mean(), deployments[\"longitude\"].mean(), deployments[\"depth\"].mean()"
   ]
  },
  {
   "cell_type": "code",
   "execution_count": null,
   "metadata": {},
   "outputs": [],
   "source": [
    "phsen_100m_bottles = findSamples(carbonData, (lat, lon), depth, 5, 20)\n",
    "phsen_100m_bottles"
   ]
  },
  {
   "cell_type": "code",
   "execution_count": null,
   "metadata": {},
   "outputs": [],
   "source": [
    "fig, ax = plotting.plot_variable(phsen_100m, \"seawater_ph\")\n",
    "ax.set_alpha(0.7)\n",
    "first_legend = ax.get_legend()\n",
    "first_legend.set_bbox_to_anchor((1, 0.7))\n",
    "ax.add_artist(first_legend)\n",
    "xmin, xmax = ax.get_xlim()\n",
    "\n",
    "s, = ax.plot(phsen_100m_bottles.dropna(subset=[\"Calculated pH\"])[\"Start Time [UTC]\"], \n",
    "             phsen_100m_bottles.dropna(subset=[\"Calculated pH\"])[\"Calculated pH\"], \n",
    "             marker=\"o\", color=\"yellow\", linestyle=\"\", markersize=12, markeredgecolor = \"black\",\n",
    "             label=\"Bottle pH\")\n",
    "\n",
    "ax.legend(handles=[s], edgecolor=\"black\", loc=\"lower left\", bbox_to_anchor=(1, 0.2), fontsize=12)\n",
    "ax.set_xlim(xmin, xmax)\n",
    "ax.set_title(refdes, fontsize=16)"
   ]
  },
  {
   "cell_type": "code",
   "execution_count": null,
   "metadata": {},
   "outputs": [],
   "source": [
    "if not os.path.exists(f\"../results/{refdes}\"):\n",
    "    os.makedirs(f\"../results/{refdes}\")\n",
    "    \n",
    "fig.savefig(f\"../results/{refdes}/time_series_with_discrete_bottles.png\")"
   ]
  },
  {
   "cell_type": "code",
   "execution_count": null,
   "metadata": {},
   "outputs": [],
   "source": [
    "phsen_100m_comparison = pd.DataFrame(columns=[\"deploymentNumber\", \"time\", \"PH_avg\", \"PH_std\", \"T\", \"S\", \"P\",\n",
    "                                            \"bottlePH\", \"bottleT\", \"bottleS\", \"bottleP\"])\n",
    "\n",
    "for ind in phsen_100m_bottles.index:\n",
    "    # Get the time stamps of a bottle\n",
    "    t = phsen_100m_bottles[\"Start Time [UTC]\"].loc[ind]\n",
    "    t = t.tz_localize(None)\n",
    "\n",
    "    # Get the bottle pCO2a\n",
    "    bottlePH = phsen_100m_bottles[\"Calculated pH\"].loc[ind]\n",
    "    bottleT = phsen_100m_bottles[[\"CTD Temperature 1 [deg C]\", \"CTD Temperature 2 [deg C]\"]].loc[ind].mean(skipna=True)\n",
    "    bottleS = phsen_100m_bottles[[\"CTD Salinity 1 [psu]\", \"CTD Salinity 2 [psu]\"]].loc[ind].mean(skipna=True)\n",
    "    bottleP = phsen_100m_bottles[\"CTD Pressure [db]\"].loc[ind]\n",
    "\n",
    "    # Create a time window to look for data\n",
    "    dt = pd.Timedelta(days=7)\n",
    "    tmin = t - dt\n",
    "    tmax = t + dt\n",
    "\n",
    "    # Find the data within the time series\n",
    "    subset = phsen_100m.where((phsen_100m.time >= tmin) & (phsen_100m.time <= tmax), drop=True)\n",
    "    # Check for unique deployments\n",
    "    deps = np.unique(subset.deployment)\n",
    "    # If more than one deployment, split it based on deployments\n",
    "    if len(deps) > 1:\n",
    "        for depNum in deps:\n",
    "            dep_subset = subset.where(subset.deployment == depNum, drop=True)\n",
    "            pco2_avg = dep_subset.seawater_ph.mean(skipna=True).compute().values\n",
    "            pco2_std = dep_subset.seawater_ph.std(skipna=True).compute().values\n",
    "            pco2_temp = dep_subset.seawater_temperature.mean().compute().values\n",
    "            pco2_sal = dep_subset.practical_salinity.mean().compute().values\n",
    "            pco2_pres = dep_subset.seawater_pressure.mean().compute().values\n",
    "            phsen_100m_comparison = phsen_100m_comparison.append({\n",
    "                    \"deploymentNumber\": depNum,\n",
    "                    \"time\": t,\n",
    "                    \"PH_avg\": pco2_avg,\n",
    "                    \"PH_std\": pco2_std,\n",
    "                    \"T\": pco2_temp,\n",
    "                    \"S\": pco2_sal,\n",
    "                    \"P\": pco2_pres,\n",
    "                    \"bottlePH\": bottlePH,\n",
    "                    \"bottleT\": bottleT,\n",
    "                    \"bottleS\": bottleS,\n",
    "                    \"bottleP\": bottleP,\n",
    "                }, ignore_index=True)\n",
    "    elif len(deps) == 1:\n",
    "        pco2_avg = subset.seawater_ph.mean(skipna=True).compute().values\n",
    "        pco2_std = subset.seawater_ph.std(skipna=True).compute().values\n",
    "        pco2_temp = subset.seawater_temperature.mean().compute().values\n",
    "        pco2_sal = subset.practical_salinity.mean().compute().values\n",
    "        pco2_pres = subset.seawater_pressure.mean().compute().values\n",
    "        depNum = deps[0]\n",
    "        phsen_100m_comparison = phsen_100m_comparison.append({\n",
    "                \"deploymentNumber\": depNum,\n",
    "                \"time\": t,\n",
    "                \"PH_avg\": pco2_avg,\n",
    "                \"PH_std\": pco2_std,\n",
    "                \"T\": pco2_temp,\n",
    "                \"S\": pco2_sal,\n",
    "                \"P\": pco2_pres,\n",
    "                \"bottlePH\": bottlePH,\n",
    "                \"bottleT\": bottleT,\n",
    "                \"bottleS\": bottleS,\n",
    "                \"bottleP\": bottleP,\n",
    "            }, ignore_index=True)\n",
    "    else:\n",
    "        # Now put in NaNs for the missing results data\n",
    "        phsen_100m_comparison = phsen_100m_comparison.append({\n",
    "                \"deploymentNumber\": depNum,\n",
    "                \"time\": t,\n",
    "                \"PH_avg\": None,\n",
    "                \"PH_std\": None,\n",
    "                \"T\": None,\n",
    "                \"S\": None,\n",
    "                \"P\": None,\n",
    "                \"bottlePH\": bottlePH,\n",
    "                \"bottleT\": bottleT,\n",
    "                \"bottleS\": bottleS,\n",
    "                \"bottleP\": bottleP,\n",
    "            }, ignore_index=True)\n",
    "\n",
    "# Save the results\n",
    "phsen_100m_comparison"
   ]
  },
  {
   "cell_type": "code",
   "execution_count": null,
   "metadata": {},
   "outputs": [],
   "source": [
    "df = phsen_100m_comparison.dropna(subset=[\"deploymentNumber\"])\n",
    "df[\"bottlePH\"] = df[\"bottlePH\"].astype(float)\n",
    "df[\"PH_avg\"] = df[\"PH_avg\"].astype(float)\n",
    "df[\"PH_std\"] = df[\"PH_std\"].astype(float)\n",
    "#df = df[df[\"deploymentNumber\"] != 3]\n",
    "\n",
    "fig, ax = plt.subplots(figsize=(8,8))\n",
    "\n",
    "# Set the \n",
    "levels, categories = pd.factorize(df['deploymentNumber'])\n",
    "colors = [plt.cm.tab10(i) for i in levels] # using the \"tab10\" colormap\n",
    "handles = [matplotlib.patches.Patch(color=plt.cm.tab10(i), label=c) for i, c in enumerate(categories)]\n",
    "for h in handles:\n",
    "    h.set_edgecolor(\"black\")\n",
    "\n",
    "# Plot the data\n",
    "ax.scatter(df[\"bottlePH\"], df[\"PH_avg\"], c=colors, s=80, edgecolors=\"black\")\n",
    "ax.set_xlabel(xlabel=\"Bottle pH\", fontsize=14)\n",
    "ax.set_ylabel(ylabel=\"PHSEN pH\", fontsize=14)\n",
    "ax.legend(handles=handles, title='Deployment', fontsize=12, edgecolor=\"black\")\n",
    "ax.grid()\n",
    "\n",
    "# Add in vertical error bars\n",
    "for i, c in enumerate(categories):\n",
    "    x = df[\"bottlePH\"][df[\"deploymentNumber\"] == c]\n",
    "    ymin = df[\"PH_avg\"][df[\"deploymentNumber\"] == c] - 2*df[\"PH_std\"][df[\"deploymentNumber\"] == c]\n",
    "    ymax = df[\"PH_avg\"][df[\"deploymentNumber\"] == c] + 2*df[\"PH_std\"][df[\"deploymentNumber\"] == c]\n",
    "    ax.vlines(x, ymin, ymax, colors = plt.cm.tab10(i))\n",
    "\n",
    "ax.set_ylim((8, 8.10))\n",
    "ax.set_xlim((8, 8.10))\n",
    "# Add in a 1:1 line\n",
    "x = np.arange(8, 8.2, 0.05)\n",
    "y = np.arange(8, 8.2, 0.05)\n",
    "ax.plot(x, y, color = \"black\", alpha=0.7)"
   ]
  },
  {
   "cell_type": "code",
   "execution_count": null,
   "metadata": {},
   "outputs": [],
   "source": [
    "fig.savefig(f\"../results/{refdes}/instrument_vs_bottle_comparison.png\")"
   ]
  },
  {
   "cell_type": "markdown",
   "metadata": {},
   "source": [
    "### FLMA PHSEN"
   ]
  },
  {
   "cell_type": "code",
   "execution_count": null,
   "metadata": {},
   "outputs": [],
   "source": [
    "import process_pco2w, process_phsen"
   ]
  },
  {
   "cell_type": "code",
   "execution_count": null,
   "metadata": {},
   "outputs": [],
   "source": [
    "refdes = \"GI03FLMA-RIS01-04-PHSENF000\"\n",
    "\n",
    "phsen_flma = xr.open_dataset(\"../data/GI03FLMA-RIS01-04-PHSENF000_combined.nc\", chunks=\"auto\")\n",
    "#phsen_flma = process_phsen.phsen_instrument(phsen_flma)\n",
    "\n",
    "annotations = OOINet.get_annotations(refdes)\n",
    "\n",
    "phsen_flma = OOINet.add_annotation_qc_flag(phsen_flma, annotations)\n",
    "\n",
    "#phsen_flma = phsen_flma.where(phsen_flma.rollup_annotations_qc_results != 9, drop=True)\n",
    "\n",
    "fig, ax = plotting.plot_variable(phsen_flma, \"seawater_ph\")\n",
    "ax.set_title(refdes, fontsize=16)"
   ]
  },
  {
   "cell_type": "code",
   "execution_count": null,
   "metadata": {},
   "outputs": [],
   "source": [
    "if not os.path.exists(f\"../results/{refdes}\"):\n",
    "    os.makedirs(f\"../results/{refdes}\")\n",
    "    \n",
    "fig.savefig(f\"../results/{refdes}/time_series.png\")"
   ]
  },
  {
   "cell_type": "markdown",
   "metadata": {},
   "source": [
    "#### CTD Data\n",
    "Add in the CTD data from the colocated CTD in order to get the seawater temperature and pressure (salinity is included in teh data stream)"
   ]
  },
  {
   "cell_type": "code",
   "execution_count": null,
   "metadata": {},
   "outputs": [],
   "source": [
    "ctdmo_flma = xr.open_dataset(\"../data/GI03FLMA-RIM01-02-CTDMOG040_combined.nc\", chunks=\"auto\")\n",
    "\n",
    "seawater_temperature = ctdmo_flma[\"ctdmo_seawater_temperature\"].interp_like(phsen_flma)\n",
    "seawater_pressure = ctdmo_flma[\"ctdmo_seawater_pressure\"].interp_like(phsen_flma)\n",
    "\n",
    "# Add to the pco2w\n",
    "phsen_flma[\"seawater_temperature\"] = seawater_temperature\n",
    "phsen_flma[\"seawater_pressure\"] = seawater_pressure"
   ]
  },
  {
   "cell_type": "markdown",
   "metadata": {},
   "source": [
    "#### Quality Checks\n",
    "Next, add in the quality checks for the data"
   ]
  },
  {
   "cell_type": "code",
   "execution_count": null,
   "metadata": {},
   "outputs": [],
   "source": [
    "qc_flags = process_phsen.quality_checks(phsen_flma)\n",
    "phsen_flma[\"qc_flags\"] = qc_flags"
   ]
  },
  {
   "cell_type": "code",
   "execution_count": null,
   "metadata": {},
   "outputs": [],
   "source": [
    "fig, ax = plotting.plot_variable(phsen_flma, \"seawater_ph\")\n",
    "\n",
    "# Plot figure which highlights data points with a corresponding annotation\n",
    "ax.set_alpha(0.7)\n",
    "first_legend = ax.get_legend()\n",
    "first_legend.set_bbox_to_anchor((1, 0.7))\n",
    "ax.add_artist(first_legend)\n",
    "\n",
    "s1, = ax.plot(phsen_flma.time.where(phsen_flma.qc_flags == 3), \n",
    "             phsen_flma.seawater_ph.where(phsen_flma.qc_flags == 3), \n",
    "             marker=\"s\", linestyle=\"\", color=\"yellow\", label=\"Suspect\")\n",
    "s2, = ax.plot(phsen_flma.time.where(phsen_flma.qc_flags == 4), \n",
    "             phsen_flma.seawater_ph.where(phsen_flma.qc_flags == 4), \n",
    "             marker=\"s\", linestyle=\"\", color=\"tab:red\", label=\"Bad\")\n",
    "\n",
    "ax.legend(handles=[s1, s2], edgecolor=\"black\", loc=\"lower left\", bbox_to_anchor=(1, 0.2), fontsize=12)\n",
    "ax.set_title(refdes, fontsize=16)"
   ]
  },
  {
   "cell_type": "code",
   "execution_count": null,
   "metadata": {},
   "outputs": [],
   "source": [
    "if not os.path.exists(f\"../results/{refdes}\"):\n",
    "    os.makedirs(f\"../results/{refdes}\")\n",
    "    \n",
    "fig.savefig(f\"../results/{refdes}/time_series_with_quality_flags.png\")"
   ]
  },
  {
   "cell_type": "markdown",
   "metadata": {},
   "source": [
    "Drop the bad data"
   ]
  },
  {
   "cell_type": "code",
   "execution_count": null,
   "metadata": {},
   "outputs": [],
   "source": [
    "phsen_flma = phsen_flma.where(phsen_flma.qc_flags != 4, drop=True)"
   ]
  },
  {
   "cell_type": "markdown",
   "metadata": {},
   "source": [
    "#### Match Bottle Data"
   ]
  },
  {
   "cell_type": "code",
   "execution_count": null,
   "metadata": {},
   "outputs": [],
   "source": [
    "deployments = OOINet.get_deployments(refdes)\n",
    "\n",
    "lat, lon, depth = deployments[\"latitude\"].mean(), deployments[\"longitude\"].mean(), deployments[\"depth\"].mean()\n",
    "lat, lon, depth"
   ]
  },
  {
   "cell_type": "code",
   "execution_count": null,
   "metadata": {},
   "outputs": [],
   "source": [
    "phsen_flma_bottles = findSamples(carbonData, (lat, lon), depth, 5, 20)\n",
    "phsen_flma_bottles"
   ]
  },
  {
   "cell_type": "code",
   "execution_count": null,
   "metadata": {},
   "outputs": [],
   "source": [
    "phsen_flma.attrs[\"id\"]"
   ]
  },
  {
   "cell_type": "code",
   "execution_count": null,
   "metadata": {},
   "outputs": [],
   "source": [
    "refdes = \"GI03FLMA-RIS01-04-PHSENF000\"\n",
    "fig, ax = plotting.plot_variable(phsen_flma, \"seawater_ph\")\n",
    "ax.set_alpha(0.7)\n",
    "first_legend = ax.get_legend()\n",
    "first_legend.set_bbox_to_anchor((1, 0.7))\n",
    "ax.add_artist(first_legend)\n",
    "xmin, xmax = ax.get_xlim()\n",
    "\n",
    "s, = ax.plot(phsen_flma_bottles.dropna(subset=[\"Calculated pH\"])[\"Start Time [UTC]\"], \n",
    "             phsen_flma_bottles.dropna(subset=[\"Calculated pH\"])[\"Calculated pH\"], \n",
    "             marker=\"o\", color=\"yellow\", linestyle=\"\", markersize=12, markeredgecolor = \"black\",\n",
    "             label=\"Bottle\\npH\")\n",
    "\n",
    "ax.legend(handles=[s], edgecolor=\"black\", loc=\"lower left\", bbox_to_anchor=(1, 0.2), fontsize=12)\n",
    "ax.set_xlim(xmin, xmax)\n",
    "ax.set_title(refdes, fontsize=16, weight=\"bold\")\n",
    "ylabel = ax.yaxis.get_label_text()\n",
    "ax.set_ylabel(ylabel, fontsize=16, weight=\"bold\")\n",
    "ax.set_xlabel(\"\")\n",
    "\n",
    "\n",
    "for tick in ax.xaxis.get_major_ticks():\n",
    "    tick.label1.set_fontsize(12)\n",
    "    tick.label1.set_fontweight(\"bold\")\n",
    "    \n",
    "for tick in ax.yaxis.get_major_ticks():\n",
    "    tick.label1.set_fontsize(12)\n",
    "    tick.label1.set_fontweight(\"bold\")"
   ]
  },
  {
   "cell_type": "code",
   "execution_count": null,
   "metadata": {},
   "outputs": [],
   "source": [
    "if not os.path.exists(f\"../results/{refdes}\"):\n",
    "    os.makedirs(f\"../results/{refdes}\")\n",
    "    \n",
    "fig.savefig(f\"../results/{refdes}/time_series_with_discrete_bottles.png\", facecolor=\"white\", transparent=False)"
   ]
  },
  {
   "cell_type": "markdown",
   "metadata": {},
   "source": [
    "#### Bottle vs. Instrument Comparison"
   ]
  },
  {
   "cell_type": "code",
   "execution_count": null,
   "metadata": {},
   "outputs": [],
   "source": [
    "phsen_flma_comparison = pd.DataFrame(columns=[\"deploymentNumber\", \"time\", \"PH_avg\", \"PH_std\", \"T\", \"S\", \"P\",\n",
    "                                            \"bottlePH\", \"bottleT\", \"bottleS\", \"bottleP\"])\n",
    "\n",
    "for ind in phsen_flma_bottles.index:\n",
    "    # Get the time stamps of a bottle\n",
    "    t = phsen_flma_bottles[\"Start Time [UTC]\"].loc[ind]\n",
    "    t = t.tz_localize(None)\n",
    "\n",
    "    # Get the bottle pCO2a\n",
    "    bottlePH = phsen_flma_bottles[\"Calculated pH\"].loc[ind]\n",
    "    bottleT = phsen_flma_bottles[[\"CTD Temperature 1 [deg C]\", \"CTD Temperature 2 [deg C]\"]].loc[ind].mean(skipna=True)\n",
    "    bottleS = phsen_flma_bottles[[\"CTD Salinity 1 [psu]\", \"CTD Salinity 2 [psu]\"]].loc[ind].mean(skipna=True)\n",
    "    bottleP = phsen_flma_bottles[\"CTD Pressure [db]\"].loc[ind]\n",
    "\n",
    "    # Create a time window to look for data\n",
    "    dt = pd.Timedelta(days=7)\n",
    "    tmin = t - dt\n",
    "    tmax = t + dt\n",
    "\n",
    "    # Find the data within the time series\n",
    "    subset = phsen_flma.where((phsen_flma.time >= tmin) & (phsen_flma.time <= tmax), drop=True)\n",
    "    # Check for unique deployments\n",
    "    deps = np.unique(subset.deployment)\n",
    "    # If more than one deployment, split it based on deployments\n",
    "    if len(deps) > 1:\n",
    "        for depNum in deps:\n",
    "            dep_subset = subset.where(subset.deployment == depNum, drop=True)\n",
    "            pco2_avg = dep_subset.seawater_ph.mean(skipna=True).compute().values\n",
    "            pco2_std = dep_subset.seawater_ph.std(skipna=True).compute().values\n",
    "            pco2_temp = dep_subset.seawater_temperature.mean().compute().values\n",
    "            pco2_sal = dep_subset.practical_salinity.mean().compute().values\n",
    "            pco2_pres = dep_subset.seawater_pressure.mean().compute().values\n",
    "            phsen_flma_comparison = phsen_flma_comparison.append({\n",
    "                    \"deploymentNumber\": depNum,\n",
    "                    \"time\": t,\n",
    "                    \"PH_avg\": pco2_avg,\n",
    "                    \"PH_std\": pco2_std,\n",
    "                    \"T\": pco2_temp,\n",
    "                    \"S\": pco2_sal,\n",
    "                    \"P\": pco2_pres,\n",
    "                    \"bottlePH\": bottlePH,\n",
    "                    \"bottleT\": bottleT,\n",
    "                    \"bottleS\": bottleS,\n",
    "                    \"bottleP\": bottleP,\n",
    "                }, ignore_index=True)\n",
    "    elif len(deps) == 1:\n",
    "        pco2_avg = subset.seawater_ph.mean(skipna=True).compute().values\n",
    "        pco2_std = subset.seawater_ph.std(skipna=True).compute().values\n",
    "        pco2_temp = subset.seawater_temperature.mean().compute().values\n",
    "        pco2_sal = subset.practical_salinity.mean().compute().values\n",
    "        pco2_pres = subset.seawater_pressure.mean().compute().values\n",
    "        depNum = deps[0]\n",
    "        phsen_flma_comparison = phsen_flma_comparison.append({\n",
    "                \"deploymentNumber\": depNum,\n",
    "                \"time\": t,\n",
    "                \"PH_avg\": pco2_avg,\n",
    "                \"PH_std\": pco2_std,\n",
    "                \"T\": pco2_temp,\n",
    "                \"S\": pco2_sal,\n",
    "                \"P\": pco2_pres,\n",
    "                \"bottlePH\": bottlePH,\n",
    "                \"bottleT\": bottleT,\n",
    "                \"bottleS\": bottleS,\n",
    "                \"bottleP\": bottleP,\n",
    "            }, ignore_index=True)\n",
    "    else:\n",
    "        # Now put in NaNs for the missing results data\n",
    "        phsen_flma_comparison = phsen_flma_comparison.append({\n",
    "                \"deploymentNumber\": depNum,\n",
    "                \"time\": t,\n",
    "                \"PH_avg\": None,\n",
    "                \"PH_std\": None,\n",
    "                \"T\": None,\n",
    "                \"S\": None,\n",
    "                \"P\": None,\n",
    "                \"bottlePH\": bottlePH,\n",
    "                \"bottleT\": bottleT,\n",
    "                \"bottleS\": bottleS,\n",
    "                \"bottleP\": bottleP,\n",
    "            }, ignore_index=True)\n",
    "\n",
    "# Save the results\n",
    "phsen_flma_comparison"
   ]
  },
  {
   "cell_type": "markdown",
   "metadata": {},
   "source": [
    "Plot the comparison"
   ]
  },
  {
   "cell_type": "code",
   "execution_count": null,
   "metadata": {},
   "outputs": [],
   "source": [
    "df = phsen_flma_comparison.dropna(subset=[\"deploymentNumber\"])\n",
    "df[\"bottlePH\"] = df[\"bottlePH\"].astype(float)\n",
    "df[\"PH_avg\"] = df[\"PH_avg\"].astype(float)\n",
    "df[\"PH_std\"] = df[\"PH_std\"].astype(float)\n",
    "#df = df[df[\"deploymentNumber\"] != 3]\n",
    "\n",
    "fig, ax = plt.subplots(figsize=(8,8))\n",
    "\n",
    "# Set the \n",
    "levels, categories = pd.factorize(df['deploymentNumber'])\n",
    "colors = [plt.cm.tab10(i) for i in levels] # using the \"tab10\" colormap\n",
    "handles = [matplotlib.patches.Patch(color=plt.cm.tab10(i), label=c) for i, c in enumerate(categories)]\n",
    "for h in handles:\n",
    "    h.set_edgecolor(\"black\")\n",
    "\n",
    "# Plot the data\n",
    "ax.scatter(df[\"bottlePH\"], df[\"PH_avg\"], c=colors, s=80, edgecolors=\"black\")\n",
    "ax.set_xlabel(xlabel=\"Bottle pH$\", fontsize=14)\n",
    "ax.set_ylabel(ylabel=\"PHSEN pH$\", fontsize=14)\n",
    "ax.legend(handles=handles, title='Deployment', fontsize=12, edgecolor=\"black\")\n",
    "ax.grid()\n",
    "\n",
    "# Add in vertical error bars\n",
    "for i, c in enumerate(categories):\n",
    "    x = df[\"bottlePH\"][df[\"deploymentNumber\"] == c]\n",
    "    ymin = df[\"PH_avg\"][df[\"deploymentNumber\"] == c] - 2*df[\"PH_std\"][df[\"deploymentNumber\"] == c]\n",
    "    ymax = df[\"PH_avg\"][df[\"deploymentNumber\"] == c] + 2*df[\"PH_std\"][df[\"deploymentNumber\"] == c]\n",
    "    ax.vlines(x, ymin, ymax, colors = plt.cm.tab10(i))\n",
    "\n",
    "#ax.set_ylim((250, 500))\n",
    "#ax.set_xlim((350, 450))\n",
    "# Add in a 1:1 line\n",
    "x = np.arange(8, 8.2, 0.05)\n",
    "y = np.arange(8, 8.2, 0.05)\n",
    "ax.plot(x, y, color = \"black\", alpha=0.7)"
   ]
  },
  {
   "cell_type": "code",
   "execution_count": null,
   "metadata": {},
   "outputs": [],
   "source": [
    "fig.savefig(f\"../results/{refdes}/instrument_vs_bottle_comparison.png\")"
   ]
  },
  {
   "cell_type": "markdown",
   "metadata": {},
   "source": [
    "### FLMB"
   ]
  },
  {
   "cell_type": "code",
   "execution_count": null,
   "metadata": {},
   "outputs": [],
   "source": [
    "import process_pco2w, process_phsen"
   ]
  },
  {
   "cell_type": "code",
   "execution_count": null,
   "metadata": {},
   "outputs": [],
   "source": [
    "refdes = \"GI03FLMB-RIS01-04-PHSENF000\"\n",
    "\n",
    "phsen_flmb = xr.open_dataset(\"../data/GI03FLMB-RIS01-04-PHSENF000/GI03FLMB-RIS01-04-PHSENF000-recovered_inst-phsen_abcdef_instrument.nc\", chunks=\"auto\")\n",
    "phsen_flmb = process_phsen.phsen_instrument(phsen_flmb)\n",
    "\n",
    "annotations = OOINet.get_annotations(refdes)\n",
    "\n",
    "phsen_flmb = OOINet.add_annotation_qc_flag(phsen_flmb, annotations)\n",
    "\n",
    "#phsen_flmb = phsen_flmb.where(phsen_flmb.rollup_annotations_qc_results != 9, drop=True)\n",
    "\n",
    "fig, ax = plotting.plot_variable(phsen_flmb, \"seawater_ph\")\n",
    "ax.set_title(refdes, fontsize=16)"
   ]
  },
  {
   "cell_type": "code",
   "execution_count": null,
   "metadata": {},
   "outputs": [],
   "source": [
    "phsen_flmb"
   ]
  },
  {
   "cell_type": "code",
   "execution_count": null,
   "metadata": {},
   "outputs": [],
   "source": [
    "if not os.path.exists(f\"../results/{refdes}\"):\n",
    "    os.makedirs(f\"../results/{refdes}\")\n",
    "    \n",
    "fig.savefig(f\"../results/{refdes}/time_series.png\")"
   ]
  },
  {
   "cell_type": "markdown",
   "metadata": {},
   "source": [
    "#### CTD Data\n",
    "Add in the CTD data from the colocated CTD in order to get the seawater temperature and pressure (salinity is included in teh data stream)"
   ]
  },
  {
   "cell_type": "code",
   "execution_count": null,
   "metadata": {},
   "outputs": [],
   "source": [
    "ctdmo_flmb = xr.open_dataset(\"../data/GI03FLMB-RIM01-02-CTDMOG060_combined.nc\", chunks=\"auto\")\n",
    "\n",
    "seawater_temperature = ctdmo_flmb[\"ctdmo_seawater_temperature\"].interp_like(phsen_flmb)\n",
    "seawater_pressure = ctdmo_flmb[\"ctdmo_seawater_pressure\"].interp_like(phsen_flmb)\n",
    "\n",
    "# Add to the pco2w\n",
    "phsen_flmb[\"seawater_temperature\"] = seawater_temperature\n",
    "phsen_flmb[\"seawater_pressure\"] = seawater_pressure"
   ]
  },
  {
   "cell_type": "markdown",
   "metadata": {},
   "source": [
    "#### Quality Checks\n",
    "Next, add in the quality checks for the data"
   ]
  },
  {
   "cell_type": "code",
   "execution_count": null,
   "metadata": {},
   "outputs": [],
   "source": [
    "qc_flags = process_phsen.quality_checks(phsen_flmb)\n",
    "phsen_flmb[\"qc_flags\"] = qc_flags"
   ]
  },
  {
   "cell_type": "code",
   "execution_count": null,
   "metadata": {},
   "outputs": [],
   "source": [
    "fig, ax = plotting.plot_variable(phsen_flmb, \"seawater_ph\")\n",
    "\n",
    "# Plot figure which highlights data points with a corresponding annotation\n",
    "ax.set_alpha(0.7)\n",
    "first_legend = ax.get_legend()\n",
    "first_legend.set_bbox_to_anchor((1, 0.7))\n",
    "ax.add_artist(first_legend)\n",
    "\n",
    "s1, = ax.plot(phsen_flmb.time.where(phsen_flmb.qc_flags == 3), \n",
    "             phsen_flmb.seawater_ph.where(phsen_flmb.qc_flags == 3), \n",
    "             marker=\"s\", linestyle=\"\", color=\"yellow\", label=\"Suspect\")\n",
    "s2, = ax.plot(phsen_flmb.time.where(phsen_flmb.qc_flags == 4), \n",
    "             phsen_flmb.seawater_ph.where(phsen_flmb.qc_flags == 4), \n",
    "             marker=\"s\", linestyle=\"\", color=\"tab:red\", label=\"Bad\")\n",
    "\n",
    "ax.legend(handles=[s1, s2], edgecolor=\"black\", loc=\"lower left\", bbox_to_anchor=(1, 0.2), fontsize=12)\n",
    "ax.set_title(refdes, fontsize=16)"
   ]
  },
  {
   "cell_type": "code",
   "execution_count": null,
   "metadata": {},
   "outputs": [],
   "source": [
    "if not os.path.exists(f\"../results/{refdes}\"):\n",
    "    os.makedirs(f\"../results/{refdes}\")\n",
    "    \n",
    "fig.savefig(f\"../results/{refdes}/time_series_with_quality_flags.png\")"
   ]
  },
  {
   "cell_type": "markdown",
   "metadata": {},
   "source": [
    "Drop the bad data"
   ]
  },
  {
   "cell_type": "code",
   "execution_count": null,
   "metadata": {},
   "outputs": [],
   "source": [
    "phsen_flmb = phsen_flmb.where(phsen_flmb.qc_flags != 4, drop=True)"
   ]
  },
  {
   "cell_type": "markdown",
   "metadata": {},
   "source": [
    "#### Match Bottle Data"
   ]
  },
  {
   "cell_type": "code",
   "execution_count": null,
   "metadata": {},
   "outputs": [],
   "source": [
    "deployments = OOINet.get_deployments(refdes)\n",
    "\n",
    "lat, lon, depth = deployments[\"latitude\"].mean(), deployments[\"longitude\"].mean(), deployments[\"depth\"].mean()\n",
    "lat, lon, depth"
   ]
  },
  {
   "cell_type": "code",
   "execution_count": null,
   "metadata": {},
   "outputs": [],
   "source": [
    "phsen_flmb_bottles = findSamples(carbonData, (lat, lon), depth, 5, 20)\n",
    "phsen_flmb_bottles"
   ]
  },
  {
   "cell_type": "code",
   "execution_count": null,
   "metadata": {
    "scrolled": false
   },
   "outputs": [],
   "source": [
    "fig, ax = plotting.plot_variable(phsen_flmb, \"seawater_ph\")\n",
    "ax.set_alpha(0.7)\n",
    "first_legend = ax.get_legend()\n",
    "first_legend.set_bbox_to_anchor((1, 0.7))\n",
    "ax.add_artist(first_legend)\n",
    "xmin, xmax = ax.get_xlim()\n",
    "\n",
    "s, = ax.plot(phsen_flmb_bottles.dropna(subset=[\"Calculated pH\"])[\"Start Time [UTC]\"], \n",
    "             phsen_flmb_bottles.dropna(subset=[\"Calculated pH\"])[\"Calculated pH\"], \n",
    "             marker=\"o\", color=\"yellow\", linestyle=\"\", markersize=12, markeredgecolor = \"black\",\n",
    "             label=\"Bottle pH\")\n",
    "\n",
    "ax.legend(handles=[s], edgecolor=\"black\", loc=\"lower left\", bbox_to_anchor=(1, 0.2), fontsize=12)\n",
    "ax.set_xlim(xmin, xmax)\n",
    "ax.set_title(refdes, fontsize=16)"
   ]
  },
  {
   "cell_type": "code",
   "execution_count": null,
   "metadata": {},
   "outputs": [],
   "source": [
    "if not os.path.exists(f\"../results/{refdes}\"):\n",
    "    os.makedirs(f\"../results/{refdes}\")\n",
    "    \n",
    "fig.savefig(f\"../results/{refdes}/time_series_with_discrete_bottles.jpg\", format=\"jpg\")"
   ]
  },
  {
   "cell_type": "markdown",
   "metadata": {},
   "source": [
    "#### Bottle vs. Instrument Comparison"
   ]
  },
  {
   "cell_type": "code",
   "execution_count": null,
   "metadata": {},
   "outputs": [],
   "source": [
    "phsen_flmb_comparison = pd.DataFrame(columns=[\"deploymentNumber\", \"time\", \"PH_avg\", \"PH_std\", \"T\", \"S\", \"P\",\n",
    "                                            \"bottlePH\", \"bottleT\", \"bottleS\", \"bottleP\"])\n",
    "\n",
    "for ind in phsen_flmb_bottles.index:\n",
    "    # Get the time stamps of a bottle\n",
    "    t = phsen_flmb_bottles[\"Start Time [UTC]\"].loc[ind]\n",
    "    t = t.tz_localize(None)\n",
    "\n",
    "    # Get the bottle pCO2a\n",
    "    bottlePH = phsen_flmb_bottles[\"Calculated pH\"].loc[ind]\n",
    "    bottleT = phsen_flmb_bottles[[\"CTD Temperature 1 [deg C]\", \"CTD Temperature 2 [deg C]\"]].loc[ind].mean(skipna=True)\n",
    "    bottleS = phsen_flmb_bottles[[\"CTD Salinity 1 [psu]\", \"CTD Salinity 2 [psu]\"]].loc[ind].mean(skipna=True)\n",
    "    bottleP = phsen_flmb_bottles[\"CTD Pressure [db]\"].loc[ind]\n",
    "\n",
    "    # Create a time window to look for data\n",
    "    dt = pd.Timedelta(days=7)\n",
    "    tmin = t - dt\n",
    "    tmax = t + dt\n",
    "\n",
    "    # Find the data within the time series\n",
    "    subset = phsen_flmb.where((phsen_flmb.time >= tmin) & (phsen_flmb.time <= tmax), drop=True)\n",
    "    # Check for unique deployments\n",
    "    deps = np.unique(subset.deployment)\n",
    "    # If more than one deployment, split it based on deployments\n",
    "    if len(deps) > 1:\n",
    "        for depNum in deps:\n",
    "            dep_subset = subset.where(subset.deployment == depNum, drop=True)\n",
    "            pco2_avg = dep_subset.seawater_ph.mean(skipna=True).compute().values\n",
    "            pco2_std = dep_subset.seawater_ph.std(skipna=True).compute().values\n",
    "            pco2_temp = dep_subset.seawater_temperature.mean().compute().values\n",
    "            pco2_sal = dep_subset.practical_salinity.mean().compute().values\n",
    "            pco2_pres = dep_subset.seawater_pressure.mean().compute().values\n",
    "            phsen_flmb_comparison = phsen_flmb_comparison.append({\n",
    "                    \"deploymentNumber\": depNum,\n",
    "                    \"time\": t,\n",
    "                    \"PH_avg\": pco2_avg,\n",
    "                    \"PH_std\": pco2_std,\n",
    "                    \"T\": pco2_temp,\n",
    "                    \"S\": pco2_sal,\n",
    "                    \"P\": pco2_pres,\n",
    "                    \"bottlePH\": bottlePH,\n",
    "                    \"bottleT\": bottleT,\n",
    "                    \"bottleS\": bottleS,\n",
    "                    \"bottleP\": bottleP,\n",
    "                }, ignore_index=True)\n",
    "    elif len(deps) == 1:\n",
    "        pco2_avg = subset.seawater_ph.mean(skipna=True).compute().values\n",
    "        pco2_std = subset.seawater_ph.std(skipna=True).compute().values\n",
    "        pco2_temp = subset.seawater_temperature.mean().compute().values\n",
    "        pco2_sal = subset.practical_salinity.mean().compute().values\n",
    "        pco2_pres = subset.seawater_pressure.mean().compute().values\n",
    "        depNum = deps[0]\n",
    "        phsen_flmb_comparison = phsen_flmb_comparison.append({\n",
    "                \"deploymentNumber\": depNum,\n",
    "                \"time\": t,\n",
    "                \"PH_avg\": pco2_avg,\n",
    "                \"PH_std\": pco2_std,\n",
    "                \"T\": pco2_temp,\n",
    "                \"S\": pco2_sal,\n",
    "                \"P\": pco2_pres,\n",
    "                \"bottlePH\": bottlePH,\n",
    "                \"bottleT\": bottleT,\n",
    "                \"bottleS\": bottleS,\n",
    "                \"bottleP\": bottleP,\n",
    "            }, ignore_index=True)\n",
    "    else:\n",
    "        # Now put in NaNs for the missing results data\n",
    "        phsen_flmb_comparison = phsen_flmb_comparison.append({\n",
    "                \"deploymentNumber\": depNum,\n",
    "                \"time\": t,\n",
    "                \"PH_avg\": None,\n",
    "                \"PH_std\": None,\n",
    "                \"T\": None,\n",
    "                \"S\": None,\n",
    "                \"P\": None,\n",
    "                \"bottlePH\": bottlePH,\n",
    "                \"bottleT\": bottleT,\n",
    "                \"bottleS\": bottleS,\n",
    "                \"bottleP\": bottleP,\n",
    "            }, ignore_index=True)\n",
    "\n",
    "# Save the results\n",
    "phsen_flmb_comparison"
   ]
  },
  {
   "cell_type": "markdown",
   "metadata": {},
   "source": [
    "Plot the comparison"
   ]
  },
  {
   "cell_type": "code",
   "execution_count": null,
   "metadata": {},
   "outputs": [],
   "source": [
    "df = phsen_flmb_comparison.dropna(subset=[\"deploymentNumber\"])\n",
    "df[\"bottlePH\"] = df[\"bottlePH\"].astype(float)\n",
    "df[\"PH_avg\"] = df[\"PH_avg\"].astype(float)\n",
    "df[\"PH_std\"] = df[\"PH_std\"].astype(float)\n",
    "#df = df[df[\"deploymentNumber\"] != 3]\n",
    "\n",
    "fig, ax = plt.subplots(figsize=(8,8))\n",
    "\n",
    "# Set the \n",
    "levels, categories = pd.factorize(df['deploymentNumber'])\n",
    "colors = [plt.cm.tab10(i) for i in levels] # using the \"tab10\" colormap\n",
    "handles = [matplotlib.patches.Patch(color=plt.cm.tab10(i), label=c) for i, c in enumerate(categories)]\n",
    "for h in handles:\n",
    "    h.set_edgecolor(\"black\")\n",
    "\n",
    "# Plot the data\n",
    "ax.scatter(df[\"bottlePH\"], df[\"PH_avg\"], c=colors, s=80, edgecolors=\"black\")\n",
    "ax.set_xlabel(xlabel=\"Bottle pH$\", fontsize=14)\n",
    "ax.set_ylabel(ylabel=\"PHSEN pH$\", fontsize=14)\n",
    "ax.legend(handles=handles, title='Deployment', fontsize=12, edgecolor=\"black\")\n",
    "ax.grid()\n",
    "\n",
    "# Add in vertical error bars\n",
    "for i, c in enumerate(categories):\n",
    "    x = df[\"bottlePH\"][df[\"deploymentNumber\"] == c]\n",
    "    ymin = df[\"PH_avg\"][df[\"deploymentNumber\"] == c] - 2*df[\"PH_std\"][df[\"deploymentNumber\"] == c]\n",
    "    ymax = df[\"PH_avg\"][df[\"deploymentNumber\"] == c] + 2*df[\"PH_std\"][df[\"deploymentNumber\"] == c]\n",
    "    ax.vlines(x, ymin, ymax, colors = plt.cm.tab10(i))\n",
    "\n",
    "ax.set_ylim((8, 8.15))\n",
    "ax.set_xlim((8, 8.15))\n",
    "# Add in a 1:1 line\n",
    "x = np.arange(8, 8.205, 0.05)\n",
    "y = np.arange(8, 8.205, 0.05)\n",
    "ax.plot(x, y, color = \"black\", alpha=0.7)"
   ]
  },
  {
   "cell_type": "code",
   "execution_count": null,
   "metadata": {},
   "outputs": [],
   "source": [
    "fig.savefig(f\"../results/{refdes}/instrument_vs_bottle_comparison.png\")"
   ]
  },
  {
   "cell_type": "markdown",
   "metadata": {},
   "source": [
    "### PHSEN Comparison\n",
    "Now, combine all of the phsen instruments and compare with one another"
   ]
  },
  {
   "cell_type": "code",
   "execution_count": null,
   "metadata": {},
   "outputs": [],
   "source": [
    "fig, ax = plt.subplots(nrows=2, ncols=2, figsize=(20, 16), sharex=True, sharey=True)\n",
    "\n",
    "param = \"seawater_ph\"\n",
    "\n",
    "# Plot the 20 m SUMO PHSEN\n",
    "# ------------------------\n",
    "# Calculate the figure bounds\n",
    "yavg, ystd, ymin, ymax = calculate_ylims(phsen_20m, param)\n",
    "\n",
    "# Generate the plot figure\n",
    "s = phsen_20m.plot.scatter(\"time\", param, ax=ax[0][0], hue=\"deployment\", hue_style=\"discrete\")\n",
    "\n",
    "# Add the deployments\n",
    "ax[0][0].legend(edgecolor=\"black\", loc=\"center left\", bbox_to_anchor=(1, 0.5), fontsize=14, title=\"Deployments\")\n",
    "deployments = np.unique(phsen_20m[\"deployment\"])\n",
    "for depNum in deployments:\n",
    "    dt = phsen_20m.where(phsen_20m[\"deployment\"] == depNum, drop=True)[\"time\"].min()\n",
    "    ax[0][0].vlines(dt.values, yavg-4*ystd, yavg+4*ystd)\n",
    "    ax[0][0].text(dt.values, yavg-1.5*ystd, str(int(depNum)), fontsize=14, weight=\"bold\")\n",
    "xmin, xmax = ax[0][0].get_xlim()\n",
    "\n",
    "# Add the bottle samples\n",
    "b, = ax[0][0].plot(phsen_20m_bottles.dropna(subset=[\"Calculated pH\"])[\"Start Time [UTC]\"], \n",
    "             phsen_20m_bottles.dropna(subset=[\"Calculated pH\"])[\"Calculated pH\"], \n",
    "             marker=\"o\", color=\"yellow\", linestyle=\"\", markersize=12, markeredgecolor = \"black\",\n",
    "             label=\"Bottle\\npH\")\n",
    "#ax[0].legend(handles=[b], edgecolor=\"black\", loc=\"lower left\", bbox_to_anchor=(1, 0.2), fontsize=12)\n",
    "\n",
    "\n",
    "# Set the ylims\n",
    "ax[0][0].set_xlim(xmin, xmax)\n",
    "ax[0][0].set_ylim(ymin, ymax)\n",
    "ax[0][0].grid()\n",
    "ax[0][0].set_title(\"PHSEN: SUMO @ 20 m\", fontsize=20, weight=\"bold\")\n",
    "ax[0][0].set_ylabel(\"pH Seawater\\n[Total scale]\", fontsize=20, weight=\"bold\")\n",
    "#plt.yticks(fontsize=12, weight=\"bold\")\n",
    "\n",
    "for tick in ax[0][0].yaxis.get_major_ticks():\n",
    "    tick.label1.set_fontsize(12)\n",
    "    tick.label1.set_fontweight(\"bold\")\n",
    "\n",
    "\n",
    "# Plot the 100 m SUMO PHSEN\n",
    "# ------------------------\n",
    "# Calculate the figure bounds\n",
    "yavg, ystd, ymin, ymax = calculate_ylims(phsen_100m, param)\n",
    "\n",
    "# Generate the plot figure\n",
    "s = phsen_100m.plot.scatter(\"time\", param, ax=ax[1][0], hue=\"deployment\", hue_style=\"discrete\")\n",
    "\n",
    "# Add the deployments\n",
    "ax[1][0].legend(edgecolor=\"black\", loc=\"center left\", bbox_to_anchor=(1, 0.5), fontsize=14, title=\"Deployments\")\n",
    "deployments = np.unique(phsen_100m[\"deployment\"])\n",
    "for depNum in deployments:\n",
    "    dt = phsen_100m.where(phsen_100m[\"deployment\"] == depNum, drop=True)[\"time\"].min()\n",
    "    ax[1][0].vlines(dt.values, yavg-4*ystd, yavg+4*ystd)\n",
    "    ax[1][0].text(dt.values, yavg-1.25*ystd, str(int(depNum)), fontsize=14, weight=\"bold\")\n",
    "xmin, xmax = ax[1][0].get_xlim()\n",
    "\n",
    "# Add the bottle samples\n",
    "b, = ax[1][0].plot(phsen_100m_bottles.dropna(subset=[\"Calculated pH\"])[\"Start Time [UTC]\"], \n",
    "             phsen_100m_bottles.dropna(subset=[\"Calculated pH\"])[\"Calculated pH\"], \n",
    "             marker=\"o\", color=\"yellow\", linestyle=\"\", markersize=12, markeredgecolor = \"black\",\n",
    "             label=\"Bottle\\npH\")\n",
    "#ax[0].legend(handles=[b], edgecolor=\"black\", loc=\"lower left\", bbox_to_anchor=(1, 0.2), fontsize=12)\n",
    "for tick in ax[1][0].xaxis.get_major_ticks():\n",
    "    tick.label1.set_fontsize(12)\n",
    "    tick.label1.set_fontweight(\"bold\")\n",
    "    \n",
    "for tick in ax[1][0].yaxis.get_major_ticks():\n",
    "    tick.label1.set_fontsize(12)\n",
    "    tick.label1.set_fontweight(\"bold\")\n",
    "\n",
    "# Set the ylims\n",
    "ax[1][0].set_xlim(xmin, xmax)\n",
    "ax[1][0].set_ylim(ymin, ymax)\n",
    "ax[1][0].grid()\n",
    "ax[1][0].set_title(\"PHSEN: SUMO @ 100 m\", fontsize=20, weight=\"bold\")\n",
    "ax[1][0].set_ylabel(\"pH Seawater\\n[Total scale]\", fontsize=20, weight=\"bold\")\n",
    "#plt.yticks(fontsize=12, weight=\"bold\")\n",
    "\n",
    "# Plot the FLMA PHSEN\n",
    "# ------------------------\n",
    "# Calculate the figure bounds\n",
    "yavg, ystd, ymin, ymax = calculate_ylims(phsen_flma, param)\n",
    "\n",
    "# Generate the plot figure\n",
    "s = phsen_flma.plot.scatter(\"time\", param, ax=ax[0][1], hue=\"deployment\", hue_style=\"discrete\")\n",
    "\n",
    "# Add the deployments\n",
    "ax[0][1].legend(edgecolor=\"black\", loc=\"center left\", bbox_to_anchor=(1, 0.5), fontsize=14, title=\"Deployments\")\n",
    "deployments = np.unique(phsen_flma[\"deployment\"])\n",
    "for depNum in deployments:\n",
    "    dt = phsen_flma.where(phsen_flma[\"deployment\"] == depNum, drop=True)[\"time\"].min()\n",
    "    ax[0][1].vlines(dt.values, yavg-4*ystd, yavg+4*ystd)\n",
    "    ax[0][1].text(dt.values, yavg-2.8*ystd, str(int(depNum)), fontsize=14, weight=\"bold\")\n",
    "xmin, xmax = ax[0][1].get_xlim()\n",
    "\n",
    "# Add the bottle samples\n",
    "b, = ax[0][1].plot(phsen_flma_bottles.dropna(subset=[\"Calculated pH\"])[\"Start Time [UTC]\"], \n",
    "             phsen_flma_bottles.dropna(subset=[\"Calculated pH\"])[\"Calculated pH\"], \n",
    "             marker=\"o\", color=\"yellow\", linestyle=\"\", markersize=12, markeredgecolor = \"black\",\n",
    "             label=\"Bottle\\npH\")\n",
    "#ax[0].legend(handles=[b], edgecolor=\"black\", loc=\"lower left\", bbox_to_anchor=(1, 0.2), fontsize=12)\n",
    "\n",
    "\n",
    "# Set the ylims\n",
    "ax[0][1].set_xlim(xmin, xmax)\n",
    "ax[0][1].set_ylim(ymin, ymax)\n",
    "ax[0][1].grid()\n",
    "ax[0][1].set_title(\"PHSEN: FLMA @ 30 m\", fontsize=20, weight=\"bold\")\n",
    "ax[0][1].set_ylabel(None)\n",
    "\n",
    "\n",
    "#plt.yticks(fontsize=12, weight=\"bold\")\n",
    "\n",
    "# Plot the FLMB PHSEN\n",
    "# ------------------------\n",
    "# Calculate the figure bounds\n",
    "yavg, ystd, ymin, ymax = calculate_ylims(phsen_flmb, param)\n",
    "\n",
    "# Generate the plot figure\n",
    "s = phsen_flmb.plot.scatter(\"time\", param, ax=ax[1][1], hue=\"deployment\", hue_style=\"discrete\")\n",
    "\n",
    "# Add the deployments\n",
    "ax[1][1].legend(edgecolor=\"black\", loc=\"center left\", bbox_to_anchor=(1, 0.5), fontsize=14, title=\"Deployments\")\n",
    "deployments = np.unique(phsen_flmb[\"deployment\"])\n",
    "for depNum in deployments:\n",
    "    dt = phsen_flmb.where(phsen_flmb[\"deployment\"] == depNum, drop=True)[\"time\"].min()\n",
    "    ax[1][1].vlines(dt.values, yavg-4*ystd, yavg+4*ystd)\n",
    "    ax[1][1].text(dt.values, yavg-3.3*ystd, str(int(depNum)), fontsize=14, weight=\"bold\")\n",
    "xmin, xmax = ax[1][1].get_xlim()\n",
    "\n",
    "# Add the bottle samples\n",
    "b, = ax[1][1].plot(phsen_flmb_bottles.dropna(subset=[\"Calculated pH\"])[\"Start Time [UTC]\"], \n",
    "             phsen_flmb_bottles.dropna(subset=[\"Calculated pH\"])[\"Calculated pH\"], \n",
    "             marker=\"o\", color=\"yellow\", linestyle=\"\", markersize=12, markeredgecolor = \"black\",\n",
    "             label=\"Bottle\\npH\")\n",
    "#ax[0].legend(handles=[b], edgecolor=\"black\", loc=\"lower left\", bbox_to_anchor=(1, 0.2), fontsize=12)\n",
    "\n",
    "\n",
    "# Set the ylims\n",
    "ax[1][1].set_xlim(xmin, xmax)\n",
    "ax[1][1].set_ylim(ymin, ymax)\n",
    "ax[1][1].grid()\n",
    "ax[1][1].set_title(\"PHSEN: FLMB @ 30 m\", fontsize=20, weight=\"bold\")\n",
    "ax[1][1].set_ylabel(None)\n",
    "\n",
    "for tick in ax[1][1].xaxis.get_major_ticks():\n",
    "    tick.label1.set_fontsize(12)\n",
    "    tick.label1.set_fontweight(\"bold\")\n",
    "\n",
    "fig.autofmt_xdate()\n",
    "plt.xlabel(\"\")"
   ]
  },
  {
   "cell_type": "code",
   "execution_count": null,
   "metadata": {},
   "outputs": [],
   "source": [
    "fig.savefig(\"../results/PHSEN_time_series_all.png\", facecolor=\"white\", transparent=False)"
   ]
  },
  {
   "cell_type": "code",
   "execution_count": null,
   "metadata": {},
   "outputs": [],
   "source": [
    "phsen_20m_comparison[\"instrument\"] = \"sumo_20m\"\n",
    "phsen_100m_comparison[\"instrument\"] = \"sumo_100m\"\n",
    "phsen_flma_comparison[\"instrument\"] = \"flma\"\n",
    "phsen_flmb_comparison[\"instrument\"] = \"flmb\"\n",
    "phsen_comparison = phsen_20m_comparison.append(phsen_100m_comparison).append(phsen_flma_comparison).append(phsen_flmb_comparison)\n",
    "phsen_comparison.to_excel(\"../results/PHSEN_comparison.xlsx\", index=False)"
   ]
  },
  {
   "cell_type": "code",
   "execution_count": null,
   "metadata": {
    "scrolled": false
   },
   "outputs": [],
   "source": [
    "df = phsen_comparison.dropna(subset=[\"deploymentNumber\"])\n",
    "df[\"bottlePH\"] = df[\"bottlePH\"].astype(float)\n",
    "df[\"PH_avg\"] = df[\"PH_avg\"].astype(float)\n",
    "df[\"PH_std\"] = df[\"PH_std\"].astype(float)\n",
    "#df = df[df[\"deploymentNumber\"] != 3]\n",
    "\n",
    "fig, ax = plt.subplots(figsize=(8,8))\n",
    "\n",
    "# Set the \n",
    "levels, categories = pd.factorize(df['instrument'])\n",
    "colors = [plt.cm.tab10(i) for i in levels] # using the \"tab10\" colormap\n",
    "handles = [matplotlib.patches.Patch(color=plt.cm.tab10(i), label=c) for i, c in enumerate(categories)]\n",
    "for h in handles:\n",
    "    h.set_edgecolor(\"black\")\n",
    "\n",
    "# Plot the data\n",
    "ax.scatter(df[\"bottlePH\"], df[\"PH_avg\"], c=colors, s=80, edgecolors=\"black\")\n",
    "ax.set_xlabel(xlabel=\"Bottle pH\", fontsize=16, weight=\"bold\")\n",
    "ax.set_ylabel(ylabel=\"PHSEN pH\", fontsize=16, weight=\"bold\")\n",
    "ax.legend(handles=handles, title='Instrument', fontsize=12, edgecolor=\"black\", loc=\"upper right\")\n",
    "ax.grid()\n",
    "\n",
    "first_legend = ax.get_legend()\n",
    "ax.add_artist(first_legend)\n",
    "\n",
    "# Add in vertical error bars\n",
    "for i, c in enumerate(categories):\n",
    "    x = df[\"bottlePH\"][df[\"instrument\"] == c]\n",
    "    ymin = df[\"PH_avg\"][df[\"instrument\"] == c] - 2*df[\"PH_std\"][df[\"instrument\"] == c]\n",
    "    ymax = df[\"PH_avg\"][df[\"instrument\"] == c] + 2*df[\"PH_std\"][df[\"instrument\"] == c]\n",
    "    ax.vlines(x, ymin, ymax, colors = plt.cm.tab10(i))\n",
    "\n",
    "ax.set_ylim((8, 8.2))\n",
    "ax.set_xlim((8, 8.2))\n",
    "# Add in a 1:1 line\n",
    "x = np.arange(8, 8.205, 0.05)\n",
    "y = np.arange(8, 8.205, 0.05)\n",
    "s, = ax.plot(x, y, color = \"black\", alpha=0.7, label=\"1:1 line\")\n",
    "ax.legend(handles=[s], edgecolor=\"black\", loc=\"lower right\", fontsize=12)\n",
    "\n",
    "\n",
    "for tick in ax.xaxis.get_major_ticks():\n",
    "    tick.label1.set_fontsize(12)\n",
    "    tick.label1.set_fontweight(\"bold\")\n",
    "    \n",
    "for tick in ax.yaxis.get_major_ticks():\n",
    "    tick.label1.set_fontsize(12)\n",
    "    tick.label1.set_fontweight(\"bold\")\n",
    "    \n"
   ]
  },
  {
   "cell_type": "code",
   "execution_count": null,
   "metadata": {},
   "outputs": [],
   "source": [
    "fig.savefig(\"../results/phsen_comparison.png\", facecolor=\"white\", transparent=False)"
   ]
  },
  {
   "cell_type": "markdown",
   "metadata": {},
   "source": [
    "## Here, add in the stuff about looking at deployment 3 of FLMA"
   ]
  },
  {
   "cell_type": "code",
   "execution_count": null,
   "metadata": {},
   "outputs": [],
   "source": [
    "flma_dep3 = phsen_flma.where(phsen_flma.deployment == 3, drop=True)\n",
    "bottles3 = phsen_flma_comparison[phsen_flma_comparison[\"deploymentNumber\"]==3]"
   ]
  },
  {
   "cell_type": "code",
   "execution_count": null,
   "metadata": {},
   "outputs": [],
   "source": [
    "bottles3"
   ]
  },
  {
   "cell_type": "code",
   "execution_count": null,
   "metadata": {},
   "outputs": [],
   "source": [
    "dif3 = flma_dep3.seawater_ph.diff(dim=\"time\").compute()\n",
    "dif3"
   ]
  },
  {
   "cell_type": "code",
   "execution_count": null,
   "metadata": {},
   "outputs": [],
   "source": [
    "dif3_std = dif3.std().values\n",
    "dif3_std"
   ]
  },
  {
   "cell_type": "code",
   "execution_count": null,
   "metadata": {},
   "outputs": [],
   "source": [
    "# Plot the time series with the difference value\n",
    "fig, ax = plt.subplots(nrows=1, ncols=1, figsize=(15, 12))\n",
    "\n",
    "# Plot the data\n",
    "ax.plot(flma_dep3[\"time\"], flma_dep3[param], marker=\".\", linestyle=\"\", color=\"tab:green\", markersize=8, label=\"Data\")\n",
    "ax.vlines(flma_dep3[\"time\"], flma_dep3[param]-2*dif3_std, flma_dep3[param]+2*dif3_std, color=\"tab:green\", alpha=0.1, label=\"2$\\sigma$\")\n",
    "ax.plot(bottles3[\"time\"], bottles3[\"bottlePH\"], marker=\"o\", linestyle=\"\", color=\"yellow\", markersize=16, markeredgecolor=\"black\", label=\"Bottle pH\")\n",
    "#s = flma_dep3.plot.scatter(\"time\", param, ax=ax, hue=\"deployment\", hue_style=\"discrete\")\n",
    "handles, labels = ax.get_legend_handles_labels()\n",
    "handles[2] = matplotlib.patches.Patch(color=handles[2].get_color(), label=labels[2])\n",
    "handles[2].set_edgecolor(\"black\")\n",
    "ax.legend(handles=handles, fontsize=14)\n",
    "ax.grid()\n",
    "ax.set_ylabel(flma_dep3[param].attrs[\"long_name\"], fontsize=16, weight=\"bold\")\n",
    "ax.set_title(\"PHSEN: FLMA @ 30 m, Deployment #3\", fontsize=16, weight=\"bold\")\n",
    "fig.autofmt_xdate()\n",
    "\n",
    "\n",
    "for tick in ax.xaxis.get_major_ticks():\n",
    "    tick.label1.set_fontsize(12)\n",
    "    tick.label1.set_fontweight(\"bold\")\n",
    "    \n",
    "for tick in ax.yaxis.get_major_ticks():\n",
    "    tick.label1.set_fontsize(12)\n",
    "    tick.label1.set_fontweight(\"bold\")"
   ]
  },
  {
   "cell_type": "code",
   "execution_count": null,
   "metadata": {},
   "outputs": [],
   "source": [
    "fig.savefig(\"../results/FLMA_PHSEN_Dep3_time_series_with_bottles.png\", facecolor=\"white\", transparent=False)"
   ]
  },
  {
   "cell_type": "markdown",
   "metadata": {},
   "source": [
    "#### FLMA Deployment 4"
   ]
  },
  {
   "cell_type": "code",
   "execution_count": null,
   "metadata": {},
   "outputs": [],
   "source": [
    "flma_dep4 = phsen_flma.where(phsen_flma.deployment == 4, drop=True)\n",
    "bottles4 = phsen_flma_comparison[phsen_flma_comparison[\"deploymentNumber\"]==4]"
   ]
  },
  {
   "cell_type": "code",
   "execution_count": null,
   "metadata": {},
   "outputs": [],
   "source": [
    "bottles4"
   ]
  },
  {
   "cell_type": "code",
   "execution_count": null,
   "metadata": {},
   "outputs": [],
   "source": [
    "dif4 = flma_dep4.seawater_ph.diff(dim=\"time\").compute()\n",
    "dif4"
   ]
  },
  {
   "cell_type": "code",
   "execution_count": null,
   "metadata": {},
   "outputs": [],
   "source": [
    "dif4_std = dif4.std().values\n",
    "dif4_std"
   ]
  },
  {
   "cell_type": "code",
   "execution_count": null,
   "metadata": {},
   "outputs": [],
   "source": [
    "# Plot the time series with the difference value\n",
    "fig, ax = plt.subplots(nrows=1, ncols=1, figsize=(15, 12))\n",
    "\n",
    "# Plot the data\n",
    "ax.plot(flma_dep4[\"time\"], flma_dep4[param], marker=\".\", linestyle=\"\", color=\"tab:red\", markersize=8, label=\"Data\")\n",
    "ax.vlines(flma_dep4[\"time\"], flma_dep4[param]-2*dif4_std, flma_dep4[param]+2*dif4_std, color=\"tab:red\", alpha=0.1, label=\"2$\\sigma$\")\n",
    "ax.plot(bottles4[\"time\"], bottles4[\"bottlePH\"], marker=\"o\", linestyle=\"\", color=\"yellow\", markersize=16, markeredgecolor=\"black\", label=\"Bottle pH\")\n",
    "#s = flma_dep3.plot.scatter(\"time\", param, ax=ax, hue=\"deployment\", hue_style=\"discrete\")\n",
    "handles, labels = ax.get_legend_handles_labels()\n",
    "handles[2] = matplotlib.patches.Patch(color=handles[2].get_color(), label=labels[2])\n",
    "handles[2].set_edgecolor(\"black\")\n",
    "ax.legend(handles=handles, fontsize=14)\n",
    "ax.grid()\n",
    "ax.set_ylabel(flma_dep4[param].attrs[\"long_name\"], fontsize=16, weight=\"bold\")\n",
    "ax.set_title(\"PHSEN: FLMA @ 30 m, Deployment #4\", fontsize=16, weight=\"bold\")\n",
    "fig.autofmt_xdate()\n",
    "ax.set_ylim((7.95, 8.15))\n",
    "\n",
    "\n",
    "for tick in ax.xaxis.get_major_ticks():\n",
    "    tick.label1.set_fontsize(12)\n",
    "    tick.label1.set_fontweight(\"bold\")\n",
    "    \n",
    "for tick in ax.yaxis.get_major_ticks():\n",
    "    tick.label1.set_fontsize(12)\n",
    "    tick.label1.set_fontweight(\"bold\")"
   ]
  },
  {
   "cell_type": "code",
   "execution_count": null,
   "metadata": {},
   "outputs": [],
   "source": [
    "fig.savefig(\"../results/FLMA_PHSEN_Dep4_time_series_with_bottles.png\", facecolor=\"white\", transparent=False)"
   ]
  },
  {
   "cell_type": "code",
   "execution_count": null,
   "metadata": {},
   "outputs": [],
   "source": []
  }
 ],
 "metadata": {
  "kernelspec": {
   "display_name": "Python 3 (ipykernel)",
   "language": "python",
   "name": "python3"
  },
  "language_info": {
   "codemirror_mode": {
    "name": "ipython",
    "version": 3
   },
   "file_extension": ".py",
   "mimetype": "text/x-python",
   "name": "python",
   "nbconvert_exporter": "python",
   "pygments_lexer": "ipython3",
   "version": "3.7.12"
  }
 },
 "nbformat": 4,
 "nbformat_minor": 4
}
