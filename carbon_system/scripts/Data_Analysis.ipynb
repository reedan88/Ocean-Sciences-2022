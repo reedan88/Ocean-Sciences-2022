{
 "cells": [
  {
   "cell_type": "markdown",
   "metadata": {},
   "source": [
    "# Carbon System Data Analysis\n",
    "\n",
    "---\n",
    "### Purpose\n",
    "The purpose of this notebook is to analyze the performance of the Sunburst Sensors, LLC. SAMI-pH (PHSEN) pH and SAMI-pCO$_{2}$ seawater measurements, and the Pro-Oceanus pCO2 sensor measurements at the Pioneer Coastal Array and Global Irminger Array. This is done on a deployment-by-deployment, site-by-site comparison with the pH measurements from discete water samples collected by Niskin Bottle casts during deployment and recovery of the instrumentation during mooring maintainence. \n",
    "\n",
    "---\n",
    "### Datasets\n",
    "There are three main sources of data sources:\n",
    "* **Deployments**: These are the deployment master sheets from OOI Asset Management. They contain the deployment numbers, deployment start times and cruise, and recovery times and cruise, for all of the instrumentation deployed. \n",
    "* **PHSEN**: This is the Sunburst Sensors, LLC. SAMI-pH sensor. It is calibrated for pH values from 70-9.0 pH units for salinities from 25-40 psu. Manufacturers stated accuracy of 0.003 pH units, precision < 0.001 pH units, and long-term drift of < 0.001 pH units / 6 months. The data is downloaded from the Ocean Observatories data portal (OOINet) as netCDF files.\n",
    "* **PCO2W**: This is the Sunburst Sensors, LLC. SAMI-CO<sub>2</sub> sensor. It is calibrated for pCO<sub>2</sub> concentrations from 200 - 1000 ppm. Manufacturers stated accuracy of 3 ppm, precision < 1 ppm, and long-term drift of < 1 ppm / 6 months. The data is downloaded from the Ocean Observatories data portal (OOINet) as netCDF files.\n",
    "* **CTDBP**: This is the collocated SeaBird CTD with the PHSEN. The data is downloaded from the Ocean Observatories data portal (OOINet) as netCDF files. These data are needed since the PCO2W datasets do not contain either temperature (T), salinity (S), pressure (P), or density ($\\rho$) data needed to compare with the discrete sampling.\n",
    "* **Discrete Water Samples**: These are discrete water samples collected via Niskin Bottle casts during deployment and recovery of the moored instrumentation. The data is downloaded from OOI Alfresco website as excel files. Parameters sampled include oxygen, salinity, nutrient concentrations (phosphate, nitrate, nitrite, ammonium, silicate), chlorophyll concentrations, and the carbon system. The carbon system parameters sampled are Total Alkalinity (TA), Dissolved Inorganic Carbon (DIC), and pH. \n",
    "---\n",
    "### Method\n",
    "#### PCO2W Processing\n",
    "Verifying the in-situ pCO<sub>2</sub> measured by the PCO2W against the pCO<sub>2</sub> calculated from the discrete water samples TA and DIC requires several preprocessing steps of the PCO2W datasets. First, the netCDF datasets are opened using ```xarray``` into an xarray ```dataset``` object and the primary dimension set to 'time'. Next, T, S, P, and $\\rho$ are interpolated to the PCO2W time base using xarray ```ds.interp_like``` from the dataset from the collocated CTDBP. Next, the pCO2 is corrected for hydrostatic pressure using a correction of 15% per 1000 dbar pressure (Enns 1965, Reed et al. 2018). Then the first and last four days of PCO2W data are selected. The standard deviation of the selected pCO2 is calculated using the first-order differencing with a time-lag of one, in order to arrive at a quasi-stationary time series.\n",
    "\n",
    "#### CTDBP Processing\n",
    "The associated CTD datasets to the PCO2W are opened using ```xarray``` into an xarray ```dataset``` object and the primary dimension set to 'time'. The CTD dataset T, S, P, and $\\rho$ are interpolated to the PCO2W time base and merged into the PCO2W dataset using ```ds.interp_like```. \n",
    "\n",
    "#### Discrete Water Samples Processing\n",
    "The relevant deployment and recovery cruise data for comparison with the PCO2W dataset(s) are opened and loaded into a pandas ```DataFrame``` object. Next, the pCO<sub>2</sub> concentrations are calculated using the ```CO2SYS``` package from the associated TA and DIC concentrations. The bottle samples are then filtered by cruise, time, and depth to identify the samples associated with the deployment and recovery of the PCO2W dataset being analyzed."
   ]
  },
  {
   "cell_type": "code",
   "execution_count": 1,
   "metadata": {},
   "outputs": [],
   "source": [
    "import os, sys, gc\n",
    "import json\n",
    "import yaml\n",
    "import numpy as np\n",
    "import pandas as pd\n",
    "import xarray as xr\n",
    "import warnings\n",
    "warnings.filterwarnings(\"ignore\")"
   ]
  },
  {
   "cell_type": "code",
   "execution_count": 2,
   "metadata": {},
   "outputs": [],
   "source": [
    "import matplotlib.pyplot as plt\n",
    "%matplotlib inline"
   ]
  },
  {
   "cell_type": "code",
   "execution_count": 3,
   "metadata": {},
   "outputs": [],
   "source": [
    "# Import the OOI M2M tool\n",
    "sys.path.append(\"/home/andrew/Documents/OOI-CGSN/ooinet/ooinet/\")\n",
    "from m2m import M2M"
   ]
  },
  {
   "cell_type": "markdown",
   "metadata": {},
   "source": [
    "#### Set OOINet API access\n",
    "In order access and download data from OOINet, need to have an OOINet api username and access token. Those can be found on your profile after logging in to OOINet. Your username and access token should NOT be stored in this notebook/python script (for security). It should be stored in a yaml file, kept in the same directory, named user_info.yaml."
   ]
  },
  {
   "cell_type": "code",
   "execution_count": 4,
   "metadata": {},
   "outputs": [],
   "source": [
    "# Import user info for connecting to OOINet via M2M\n",
    "userinfo = yaml.load(open(\"../../../../QAQC_Sandbox/user_info.yaml\"), Loader=yaml.FullLoader)\n",
    "username = userinfo[\"apiname\"]\n",
    "token = userinfo[\"apikey\"]"
   ]
  },
  {
   "cell_type": "markdown",
   "metadata": {},
   "source": [
    "#### Connect to OOINet"
   ]
  },
  {
   "cell_type": "code",
   "execution_count": 5,
   "metadata": {},
   "outputs": [],
   "source": [
    "OOINet = M2M(username, token)"
   ]
  },
  {
   "cell_type": "markdown",
   "metadata": {},
   "source": [
    "---\n",
    "## Discrete Bottle Data\n",
    "\n",
    "#### Irminger Sea\n",
    "First, load the bottle data from the Irminger Sea Array into a pandas dataframe. Once the data is loaded, then we'll do some datatype conversions, such as converting the Dates and Times into pandas datetime objects, as well as replacing the fill value of ```-9999999``` with NaNs. Finally, we'll drop the data from the table that doesn't have any DIC, Alkalinity, or pH data to get the relevant carbon system data we'll need for comparisons.\n",
    "\n",
    "We'll also want to check the associated bottle and discrete sample flags. In particular, we'll want to check for ```Niskin Flag``` with a flag of ```*0000000000001000``` which indicates a leaking bottle, and the ```Discrete TA/DIC/pH Flag``` for entries of either ```*0000000000000010```, which indicates the sample analysis is not yet complete, or ```*0000000000001000``` / ```*0000000000010000``` which indicate suspicious or bad data. We'll translate these flags into the standard WOCE schema of:\n",
    "* 1 = good data\n",
    "* 2 = no evaluation\n",
    "* 3 = questionable data\n",
    "* 4 = bad data\n",
    "* 9 = missing/no data"
   ]
  },
  {
   "cell_type": "code",
   "execution_count": 6,
   "metadata": {},
   "outputs": [
    {
     "data": {
      "text/html": [
       "<div>\n",
       "<style scoped>\n",
       "    .dataframe tbody tr th:only-of-type {\n",
       "        vertical-align: middle;\n",
       "    }\n",
       "\n",
       "    .dataframe tbody tr th {\n",
       "        vertical-align: top;\n",
       "    }\n",
       "\n",
       "    .dataframe thead th {\n",
       "        text-align: right;\n",
       "    }\n",
       "</style>\n",
       "<table border=\"1\" class=\"dataframe\">\n",
       "  <thead>\n",
       "    <tr style=\"text-align: right;\">\n",
       "      <th></th>\n",
       "      <th>Cruise</th>\n",
       "      <th>Station</th>\n",
       "      <th>Target Asset</th>\n",
       "      <th>Start Latitude [degrees]</th>\n",
       "      <th>Start Longitude [degrees]</th>\n",
       "      <th>Start Time [UTC]</th>\n",
       "      <th>Cast</th>\n",
       "      <th>Cast Flag</th>\n",
       "      <th>Bottom Depth at Start Position [m]</th>\n",
       "      <th>CTD File</th>\n",
       "      <th>...</th>\n",
       "      <th>Calculated Bicarb [umol/kg]</th>\n",
       "      <th>Calculated CO3 [umol/kg]</th>\n",
       "      <th>Calculated Omega-C</th>\n",
       "      <th>Calculated Omega-A</th>\n",
       "      <th>CTD Absolute Salinity [g/kg]</th>\n",
       "      <th>CTD Conservative Temperature</th>\n",
       "      <th>CTD Density [kg/m^3]</th>\n",
       "      <th>CTD Sigma [kg/m^3]</th>\n",
       "      <th>Calculated pCO2 [lab conditions]</th>\n",
       "      <th>Calculated pH [lab conditions]</th>\n",
       "    </tr>\n",
       "  </thead>\n",
       "  <tbody>\n",
       "    <tr>\n",
       "      <th>0</th>\n",
       "      <td>AR35-05</td>\n",
       "      <td>8</td>\n",
       "      <td>Gliders</td>\n",
       "      <td>59.844167</td>\n",
       "      <td>-39.094567</td>\n",
       "      <td>2019-08-10 20:33:00+00:00</td>\n",
       "      <td>8</td>\n",
       "      <td>*0000000000000001</td>\n",
       "      <td>2824.0</td>\n",
       "      <td>NaN</td>\n",
       "      <td>...</td>\n",
       "      <td>NaN</td>\n",
       "      <td>NaN</td>\n",
       "      <td>NaN</td>\n",
       "      <td>NaN</td>\n",
       "      <td>NaN</td>\n",
       "      <td>NaN</td>\n",
       "      <td>NaN</td>\n",
       "      <td>NaN</td>\n",
       "      <td>NaN</td>\n",
       "      <td>NaN</td>\n",
       "    </tr>\n",
       "    <tr>\n",
       "      <th>1</th>\n",
       "      <td>AR35-05</td>\n",
       "      <td>8</td>\n",
       "      <td>Gliders</td>\n",
       "      <td>59.844167</td>\n",
       "      <td>-39.094567</td>\n",
       "      <td>2019-08-10 20:33:00+00:00</td>\n",
       "      <td>8</td>\n",
       "      <td>*0000000000000001</td>\n",
       "      <td>2824.0</td>\n",
       "      <td>NaN</td>\n",
       "      <td>...</td>\n",
       "      <td>NaN</td>\n",
       "      <td>NaN</td>\n",
       "      <td>NaN</td>\n",
       "      <td>NaN</td>\n",
       "      <td>NaN</td>\n",
       "      <td>NaN</td>\n",
       "      <td>NaN</td>\n",
       "      <td>NaN</td>\n",
       "      <td>NaN</td>\n",
       "      <td>NaN</td>\n",
       "    </tr>\n",
       "    <tr>\n",
       "      <th>2</th>\n",
       "      <td>AR35-05</td>\n",
       "      <td>8</td>\n",
       "      <td>Gliders</td>\n",
       "      <td>59.844167</td>\n",
       "      <td>-39.094567</td>\n",
       "      <td>2019-08-10 20:33:00+00:00</td>\n",
       "      <td>8</td>\n",
       "      <td>*0000000000000001</td>\n",
       "      <td>2824.0</td>\n",
       "      <td>NaN</td>\n",
       "      <td>...</td>\n",
       "      <td>NaN</td>\n",
       "      <td>NaN</td>\n",
       "      <td>NaN</td>\n",
       "      <td>NaN</td>\n",
       "      <td>NaN</td>\n",
       "      <td>NaN</td>\n",
       "      <td>NaN</td>\n",
       "      <td>NaN</td>\n",
       "      <td>NaN</td>\n",
       "      <td>NaN</td>\n",
       "    </tr>\n",
       "    <tr>\n",
       "      <th>3</th>\n",
       "      <td>AR35-05</td>\n",
       "      <td>9</td>\n",
       "      <td>GI01SUMO, GI02HYPM</td>\n",
       "      <td>59.965767</td>\n",
       "      <td>-39.565850</td>\n",
       "      <td>2019-08-11 16:43:00+00:00</td>\n",
       "      <td>9</td>\n",
       "      <td>*0000000000000001</td>\n",
       "      <td>2654.0</td>\n",
       "      <td>NaN</td>\n",
       "      <td>...</td>\n",
       "      <td>NaN</td>\n",
       "      <td>NaN</td>\n",
       "      <td>NaN</td>\n",
       "      <td>NaN</td>\n",
       "      <td>NaN</td>\n",
       "      <td>NaN</td>\n",
       "      <td>NaN</td>\n",
       "      <td>NaN</td>\n",
       "      <td>NaN</td>\n",
       "      <td>NaN</td>\n",
       "    </tr>\n",
       "    <tr>\n",
       "      <th>4</th>\n",
       "      <td>AR35-05</td>\n",
       "      <td>9</td>\n",
       "      <td>GI01SUMO, GI02HYPM</td>\n",
       "      <td>59.965767</td>\n",
       "      <td>-39.565850</td>\n",
       "      <td>2019-08-11 16:43:00+00:00</td>\n",
       "      <td>9</td>\n",
       "      <td>*0000000000000001</td>\n",
       "      <td>2654.0</td>\n",
       "      <td>NaN</td>\n",
       "      <td>...</td>\n",
       "      <td>NaN</td>\n",
       "      <td>NaN</td>\n",
       "      <td>NaN</td>\n",
       "      <td>NaN</td>\n",
       "      <td>NaN</td>\n",
       "      <td>NaN</td>\n",
       "      <td>NaN</td>\n",
       "      <td>NaN</td>\n",
       "      <td>NaN</td>\n",
       "      <td>NaN</td>\n",
       "    </tr>\n",
       "    <tr>\n",
       "      <th>...</th>\n",
       "      <td>...</td>\n",
       "      <td>...</td>\n",
       "      <td>...</td>\n",
       "      <td>...</td>\n",
       "      <td>...</td>\n",
       "      <td>...</td>\n",
       "      <td>...</td>\n",
       "      <td>...</td>\n",
       "      <td>...</td>\n",
       "      <td>...</td>\n",
       "      <td>...</td>\n",
       "      <td>...</td>\n",
       "      <td>...</td>\n",
       "      <td>...</td>\n",
       "      <td>...</td>\n",
       "      <td>...</td>\n",
       "      <td>...</td>\n",
       "      <td>...</td>\n",
       "      <td>...</td>\n",
       "      <td>...</td>\n",
       "      <td>...</td>\n",
       "    </tr>\n",
       "    <tr>\n",
       "      <th>877</th>\n",
       "      <td>AR30-03</td>\n",
       "      <td>23</td>\n",
       "      <td>CL2</td>\n",
       "      <td>62.058500</td>\n",
       "      <td>-32.231833</td>\n",
       "      <td>2018-06-22 20:07:00+00:00</td>\n",
       "      <td>23</td>\n",
       "      <td>*0000000000000100</td>\n",
       "      <td>2400.0</td>\n",
       "      <td>D:\\Data\\ar30-03023.hex</td>\n",
       "      <td>...</td>\n",
       "      <td>NaN</td>\n",
       "      <td>NaN</td>\n",
       "      <td>NaN</td>\n",
       "      <td>NaN</td>\n",
       "      <td>35.050344</td>\n",
       "      <td>5.174898</td>\n",
       "      <td>1028.042319</td>\n",
       "      <td>1028.042319</td>\n",
       "      <td>NaN</td>\n",
       "      <td>NaN</td>\n",
       "    </tr>\n",
       "    <tr>\n",
       "      <th>878</th>\n",
       "      <td>AR30-03</td>\n",
       "      <td>23</td>\n",
       "      <td>CL2</td>\n",
       "      <td>62.058500</td>\n",
       "      <td>-32.231833</td>\n",
       "      <td>2018-06-22 20:07:00+00:00</td>\n",
       "      <td>23</td>\n",
       "      <td>*0000000000000100</td>\n",
       "      <td>2400.0</td>\n",
       "      <td>D:\\Data\\ar30-03023.hex</td>\n",
       "      <td>...</td>\n",
       "      <td>NaN</td>\n",
       "      <td>NaN</td>\n",
       "      <td>NaN</td>\n",
       "      <td>NaN</td>\n",
       "      <td>35.052420</td>\n",
       "      <td>6.910300</td>\n",
       "      <td>1027.540094</td>\n",
       "      <td>1027.540094</td>\n",
       "      <td>NaN</td>\n",
       "      <td>NaN</td>\n",
       "    </tr>\n",
       "    <tr>\n",
       "      <th>879</th>\n",
       "      <td>AR30-03</td>\n",
       "      <td>23</td>\n",
       "      <td>CL2</td>\n",
       "      <td>62.058500</td>\n",
       "      <td>-32.231833</td>\n",
       "      <td>2018-06-22 20:07:00+00:00</td>\n",
       "      <td>23</td>\n",
       "      <td>*0000000000000100</td>\n",
       "      <td>2400.0</td>\n",
       "      <td>D:\\Data\\ar30-03023.hex</td>\n",
       "      <td>...</td>\n",
       "      <td>NaN</td>\n",
       "      <td>NaN</td>\n",
       "      <td>NaN</td>\n",
       "      <td>NaN</td>\n",
       "      <td>35.054759</td>\n",
       "      <td>7.243608</td>\n",
       "      <td>1027.416413</td>\n",
       "      <td>1027.416413</td>\n",
       "      <td>NaN</td>\n",
       "      <td>NaN</td>\n",
       "    </tr>\n",
       "    <tr>\n",
       "      <th>880</th>\n",
       "      <td>AR30-03</td>\n",
       "      <td>23</td>\n",
       "      <td>CL2</td>\n",
       "      <td>62.058500</td>\n",
       "      <td>-32.231833</td>\n",
       "      <td>2018-06-22 20:07:00+00:00</td>\n",
       "      <td>23</td>\n",
       "      <td>*0000000000000100</td>\n",
       "      <td>2400.0</td>\n",
       "      <td>D:\\Data\\ar30-03023.hex</td>\n",
       "      <td>...</td>\n",
       "      <td>NaN</td>\n",
       "      <td>NaN</td>\n",
       "      <td>NaN</td>\n",
       "      <td>NaN</td>\n",
       "      <td>35.048232</td>\n",
       "      <td>7.269356</td>\n",
       "      <td>1027.370393</td>\n",
       "      <td>1027.370393</td>\n",
       "      <td>NaN</td>\n",
       "      <td>NaN</td>\n",
       "    </tr>\n",
       "    <tr>\n",
       "      <th>881</th>\n",
       "      <td>AR30-03</td>\n",
       "      <td>23</td>\n",
       "      <td>CL2</td>\n",
       "      <td>62.058500</td>\n",
       "      <td>-32.231833</td>\n",
       "      <td>2018-06-22 20:07:00+00:00</td>\n",
       "      <td>23</td>\n",
       "      <td>*0000000000000100</td>\n",
       "      <td>2400.0</td>\n",
       "      <td>D:\\Data\\ar30-03023.hex</td>\n",
       "      <td>...</td>\n",
       "      <td>NaN</td>\n",
       "      <td>NaN</td>\n",
       "      <td>NaN</td>\n",
       "      <td>NaN</td>\n",
       "      <td>35.034459</td>\n",
       "      <td>7.275201</td>\n",
       "      <td>1027.291443</td>\n",
       "      <td>1027.291443</td>\n",
       "      <td>NaN</td>\n",
       "      <td>NaN</td>\n",
       "    </tr>\n",
       "  </tbody>\n",
       "</table>\n",
       "<p>882 rows × 86 columns</p>\n",
       "</div>"
      ],
      "text/plain": [
       "      Cruise Station        Target Asset  Start Latitude [degrees]  \\\n",
       "0    AR35-05       8             Gliders                 59.844167   \n",
       "1    AR35-05       8             Gliders                 59.844167   \n",
       "2    AR35-05       8             Gliders                 59.844167   \n",
       "3    AR35-05       9  GI01SUMO, GI02HYPM                 59.965767   \n",
       "4    AR35-05       9  GI01SUMO, GI02HYPM                 59.965767   \n",
       "..       ...     ...                 ...                       ...   \n",
       "877  AR30-03      23                 CL2                 62.058500   \n",
       "878  AR30-03      23                 CL2                 62.058500   \n",
       "879  AR30-03      23                 CL2                 62.058500   \n",
       "880  AR30-03      23                 CL2                 62.058500   \n",
       "881  AR30-03      23                 CL2                 62.058500   \n",
       "\n",
       "     Start Longitude [degrees]           Start Time [UTC] Cast  \\\n",
       "0                   -39.094567  2019-08-10 20:33:00+00:00    8   \n",
       "1                   -39.094567  2019-08-10 20:33:00+00:00    8   \n",
       "2                   -39.094567  2019-08-10 20:33:00+00:00    8   \n",
       "3                   -39.565850  2019-08-11 16:43:00+00:00    9   \n",
       "4                   -39.565850  2019-08-11 16:43:00+00:00    9   \n",
       "..                         ...                        ...  ...   \n",
       "877                 -32.231833  2018-06-22 20:07:00+00:00   23   \n",
       "878                 -32.231833  2018-06-22 20:07:00+00:00   23   \n",
       "879                 -32.231833  2018-06-22 20:07:00+00:00   23   \n",
       "880                 -32.231833  2018-06-22 20:07:00+00:00   23   \n",
       "881                 -32.231833  2018-06-22 20:07:00+00:00   23   \n",
       "\n",
       "             Cast Flag  Bottom Depth at Start Position [m]  \\\n",
       "0    *0000000000000001                              2824.0   \n",
       "1    *0000000000000001                              2824.0   \n",
       "2    *0000000000000001                              2824.0   \n",
       "3    *0000000000000001                              2654.0   \n",
       "4    *0000000000000001                              2654.0   \n",
       "..                 ...                                 ...   \n",
       "877  *0000000000000100                              2400.0   \n",
       "878  *0000000000000100                              2400.0   \n",
       "879  *0000000000000100                              2400.0   \n",
       "880  *0000000000000100                              2400.0   \n",
       "881  *0000000000000100                              2400.0   \n",
       "\n",
       "                   CTD File  ... Calculated Bicarb [umol/kg]  \\\n",
       "0                       NaN  ...                         NaN   \n",
       "1                       NaN  ...                         NaN   \n",
       "2                       NaN  ...                         NaN   \n",
       "3                       NaN  ...                         NaN   \n",
       "4                       NaN  ...                         NaN   \n",
       "..                      ...  ...                         ...   \n",
       "877  D:\\Data\\ar30-03023.hex  ...                         NaN   \n",
       "878  D:\\Data\\ar30-03023.hex  ...                         NaN   \n",
       "879  D:\\Data\\ar30-03023.hex  ...                         NaN   \n",
       "880  D:\\Data\\ar30-03023.hex  ...                         NaN   \n",
       "881  D:\\Data\\ar30-03023.hex  ...                         NaN   \n",
       "\n",
       "     Calculated CO3 [umol/kg]  Calculated Omega-C Calculated Omega-A  \\\n",
       "0                         NaN                 NaN                NaN   \n",
       "1                         NaN                 NaN                NaN   \n",
       "2                         NaN                 NaN                NaN   \n",
       "3                         NaN                 NaN                NaN   \n",
       "4                         NaN                 NaN                NaN   \n",
       "..                        ...                 ...                ...   \n",
       "877                       NaN                 NaN                NaN   \n",
       "878                       NaN                 NaN                NaN   \n",
       "879                       NaN                 NaN                NaN   \n",
       "880                       NaN                 NaN                NaN   \n",
       "881                       NaN                 NaN                NaN   \n",
       "\n",
       "     CTD Absolute Salinity [g/kg]  CTD Conservative Temperature  \\\n",
       "0                             NaN                           NaN   \n",
       "1                             NaN                           NaN   \n",
       "2                             NaN                           NaN   \n",
       "3                             NaN                           NaN   \n",
       "4                             NaN                           NaN   \n",
       "..                            ...                           ...   \n",
       "877                     35.050344                      5.174898   \n",
       "878                     35.052420                      6.910300   \n",
       "879                     35.054759                      7.243608   \n",
       "880                     35.048232                      7.269356   \n",
       "881                     35.034459                      7.275201   \n",
       "\n",
       "     CTD Density [kg/m^3]  CTD Sigma [kg/m^3]  \\\n",
       "0                     NaN                 NaN   \n",
       "1                     NaN                 NaN   \n",
       "2                     NaN                 NaN   \n",
       "3                     NaN                 NaN   \n",
       "4                     NaN                 NaN   \n",
       "..                    ...                 ...   \n",
       "877           1028.042319         1028.042319   \n",
       "878           1027.540094         1027.540094   \n",
       "879           1027.416413         1027.416413   \n",
       "880           1027.370393         1027.370393   \n",
       "881           1027.291443         1027.291443   \n",
       "\n",
       "     Calculated pCO2 [lab conditions]  Calculated pH [lab conditions]  \n",
       "0                                 NaN                             NaN  \n",
       "1                                 NaN                             NaN  \n",
       "2                                 NaN                             NaN  \n",
       "3                                 NaN                             NaN  \n",
       "4                                 NaN                             NaN  \n",
       "..                                ...                             ...  \n",
       "877                               NaN                             NaN  \n",
       "878                               NaN                             NaN  \n",
       "879                               NaN                             NaN  \n",
       "880                               NaN                             NaN  \n",
       "881                               NaN                             NaN  \n",
       "\n",
       "[882 rows x 86 columns]"
      ]
     },
     "execution_count": 6,
     "metadata": {},
     "output_type": "execute_result"
    }
   ],
   "source": [
    "bottleData = pd.read_csv(\"../data/water_sampling/Irminger_Bottle_Data.csv\")\n",
    "bottleData"
   ]
  },
  {
   "cell_type": "markdown",
   "metadata": {},
   "source": [
    "With the flags interpreted to simpler scheme, can now filter the data to keep only the \"good\" and \"suspicious\" data. We'll replace the bad or missing data with NaNs so we can drop them in the next step"
   ]
  },
  {
   "cell_type": "code",
   "execution_count": 7,
   "metadata": {},
   "outputs": [],
   "source": [
    "# ====================================================\n",
    "# Irminger Sea data\n",
    "mask = (bottleData[\"Discrete Alkalinity Flag\"] != 1) & (bottleData[\"Discrete Alkalinity Flag\"] != 3)\n",
    "to_replace = bottleData[\"Discrete Alkalinity [umol/kg]\"][mask].dropna().unique()\n",
    "bottleData[\"Discrete Alkalinity [umol/kg]\"].replace(to_replace=to_replace, value=np.nan, inplace=True)\n",
    "\n",
    "mask = (bottleData[\"Discrete DIC Flag\"] != 1) & (bottleData[\"Discrete DIC Flag\"] != 3)\n",
    "to_replace = bottleData[\"Discrete DIC [umol/kg]\"][mask].dropna().unique()\n",
    "bottleData[\"Discrete DIC [umol/kg]\"].replace(to_replace=to_replace, value=np.nan, inplace=True)\n",
    "\n",
    "mask = (bottleData[\"Discrete pH Flag\"] != 1) & (bottleData[\"Discrete pH Flag\"] != 3)\n",
    "to_replace = bottleData[\"Discrete pH [Total scale]\"][mask].dropna().unique()\n",
    "bottleData[\"Discrete pH [Total scale]\"].replace(to_replace=to_replace, value=np.nan, inplace=True)"
   ]
  },
  {
   "cell_type": "markdown",
   "metadata": {},
   "source": [
    "Drop rows with NaNs in the carbon system data, since those don't have any relevant data"
   ]
  },
  {
   "cell_type": "code",
   "execution_count": 8,
   "metadata": {},
   "outputs": [],
   "source": [
    "carbon_columns = [\"Discrete Alkalinity [umol/kg]\", \"Discrete DIC [umol/kg]\", \"Discrete pH [Total scale]\"]\n",
    "carbonData = bottleData.dropna(subset=carbon_columns, how=\"all\")"
   ]
  },
  {
   "cell_type": "markdown",
   "metadata": {},
   "source": [
    "## PCO2A\n",
    "\n",
    "First, we examine the **```PCO2A```** dataset from the Irminger Surface Mooring Buoy. The **```PCO2A```** samples both the air and the surface water pCO2 concentrations. "
   ]
  },
  {
   "cell_type": "code",
   "execution_count": null,
   "metadata": {},
   "outputs": [],
   "source": [
    "sys.path.append(\"../../\")\n",
    "from OS2022.OS2022 import plotting"
   ]
  },
  {
   "cell_type": "code",
   "execution_count": null,
   "metadata": {},
   "outputs": [],
   "source": [
    "# Get the dataset\n",
    "pco2a = xr.open_dataset(\"../data/CP04OSSM_SBD12_04_PCO2AA000.nc\")\n",
    "pco2a"
   ]
  },
  {
   "cell_type": "code",
   "execution_count": null,
   "metadata": {},
   "outputs": [],
   "source": [
    "# Plot the data as a function of deployments\n",
    "fig, ax = plotting.plot_data_variable(pco2a, \"partial_pressure_co2_ssw\")\n",
    "ax.set_ylim((200, 500))"
   ]
  },
  {
   "cell_type": "markdown",
   "metadata": {},
   "source": [
    "### Annotations\n",
    "Next, add in the annotations to the dataset and filter out the data identified as bad"
   ]
  },
  {
   "cell_type": "code",
   "execution_count": null,
   "metadata": {},
   "outputs": [],
   "source": [
    "annotations = OOINet.get_annotations(\"CP04OSSM-SBD12-04-PCO2AA000\")\n",
    "annotations"
   ]
  },
  {
   "cell_type": "markdown",
   "metadata": {},
   "source": [
    "From the plot of the PCO2A, we can see that the instrument failed before recovery each time that it was deployed. Next, we want to add the annotation information to the OOI data\n",
    "\n",
    "#### Add Annotation Information to dataset"
   ]
  },
  {
   "cell_type": "code",
   "execution_count": null,
   "metadata": {},
   "outputs": [],
   "source": [
    "pco2a = OOINet.add_annotation_qc_flag(pco2a, annotations)\n",
    "pco2a"
   ]
  },
  {
   "cell_type": "code",
   "execution_count": null,
   "metadata": {},
   "outputs": [],
   "source": [
    "np.unique(pco2a.rollup_annotations_qc_results)"
   ]
  },
  {
   "cell_type": "markdown",
   "metadata": {},
   "source": [
    "Plot the annotation data"
   ]
  },
  {
   "cell_type": "code",
   "execution_count": null,
   "metadata": {},
   "outputs": [],
   "source": [
    "#fig, ax = plt.subplots(nrows=1, ncols=1, figsize=(12, 8))\n",
    "#ax.plot(pco2a.time, pco2a.partial_pressure_co2_ssw, marker=\".\", linestyle=\"\", color=\"tab:blue\")\n",
    "# Plot the data as a function of deployments\n",
    "fig, ax = plotting.plot_data_variable(pco2a, \"partial_pressure_co2_ssw\")\n",
    "ax.plot(pco2a.time.where(pco2a.rollup_annotations_qc_results == 9, drop=True),\n",
    "        pco2a.partial_pressure_co2_ssw.where(pco2a.rollup_annotations_qc_results == 9, drop=True),\n",
    "        marker=\"o\", linestyle=\"\", color=\"tab:red\")\n",
    "ax.plot(pco2a.time.where(pco2a.rollup_annotations_qc_results == 3, drop=True),\n",
    "        pco2a.partial_pressure_co2_ssw.where(pco2a.rollup_annotations_qc_results == 3, drop=True),\n",
    "        marker=\"o\", linestyle=\"\", color=\"tab:orange\")\n",
    "ax.set_xlabel(\"time\")\n",
    "ax.set_ylabel(pco2a.partial_pressure_co2_ssw.attrs[\"long_name\"])\n",
    "ax.set_ylim((200, 500))\n",
    "ax.grid()"
   ]
  },
  {
   "cell_type": "markdown",
   "metadata": {},
   "source": [
    "#### Filter Annotations\n",
    "Finally, remove the manually-identified bad data from the dataset"
   ]
  },
  {
   "cell_type": "code",
   "execution_count": null,
   "metadata": {},
   "outputs": [],
   "source": [
    "pco2a = pco2a.where(pco2a.rollup_annotations_qc_results != 9, drop=True)\n",
    "pco2a"
   ]
  },
  {
   "cell_type": "code",
   "execution_count": null,
   "metadata": {},
   "outputs": [],
   "source": [
    "fig, ax = plotting.plot_data_variable(pco2a, \"partial_pressure_co2_ssw\")\n",
    "ax.set_ylim((200, 500))"
   ]
  },
  {
   "cell_type": "code",
   "execution_count": null,
   "metadata": {},
   "outputs": [],
   "source": [
    "pco2a.lat, pco2a.lon"
   ]
  },
  {
   "cell_type": "markdown",
   "metadata": {},
   "source": [
    "### Identify discrete samples\n",
    "Next, identify the discrete water samples associated with the Irminger Surface Buoy PCO2A. The surface samples should be less than "
   ]
  },
  {
   "cell_type": "code",
   "execution_count": null,
   "metadata": {},
   "outputs": [],
   "source": [
    "!pip install haversine"
   ]
  },
  {
   "cell_type": "code",
   "execution_count": null,
   "metadata": {},
   "outputs": [],
   "source": [
    "import haversine as hs"
   ]
  },
  {
   "cell_type": "code",
   "execution_count": null,
   "metadata": {},
   "outputs": [],
   "source": [
    "# For each\n",
    "loc1 = (59.9337, -39.47378)\n",
    "loc2 = (59.94358, -39.57372)"
   ]
  },
  {
   "cell_type": "code",
   "execution_count": null,
   "metadata": {},
   "outputs": [],
   "source": [
    "def findNearest(bottleData, buoyLoc, maxDist):\n",
    "    \"\"\"Find the bottle sample values within a maximum distance from the buoy\n",
    "    \n",
    "    Parameters\n",
    "    ----------\n",
    "    bottleData: (pd.DataFrame -> strings or floats)\n",
    "        A tuple of (latitude, longitude) values in decimal degrees of the bottle sample location\n",
    "    buoyLoc: (tuple -> floats)\n",
    "        A tuple of (latitude, longitude) values in decimal degrees of the buoy location\n",
    "    maxDist: (float)\n",
    "        Maximum distance in km away for a sample location from the buoy location\n",
    "    \n",
    "    Returns\n",
    "    -------\n",
    "    mask: (boolean)\n",
    "        Returns True or False boolean if sampleLoc < maxDist from buoyLoc\n",
    "    \"\"\"\n",
    "    # Get the startLat/startLon as floats\n",
    "    startLat = pioneer[\"Start Latitude [degrees]\"].apply(lambda x: float(x))\n",
    "    startLon = bottleData[\"Start Longitude [degrees]\"].apply(lambda x: float(x))\n",
    "    \n",
    "    # Calculate the distance\n",
    "    distance = []\n",
    "    for lat, lon in zip(startLat, startLon):\n",
    "        sampleLoc = (lat, lon)\n",
    "        distance.append(hs.haversine(sampleLoc, buoyLoc))\n",
    "    \n",
    "    # Filter the results\n",
    "    return [d <= maxDist for d in dist]"
   ]
  },
  {
   "cell_type": "code",
   "execution_count": null,
   "metadata": {},
   "outputs": [],
   "source": [
    "def findSamples(bottleData, buoyLoc, maxDist, depthTol):\n",
    "    \n",
    "    \"\"\"Find the bottle sample values within a maximum distance from the buoy\n",
    "    \n",
    "    Parameters\n",
    "    ----------\n",
    "    bottleData: (pd.DataFrame -> strings or floats)\n",
    "        A tuple of (latitude, longitude) values in decimal degrees of the bottle sample location\n",
    "    buoyLoc: (tuple -> floats)\n",
    "        A tuple of (latitude, longitude) values in decimal degrees of the buoy location\n",
    "    maxDist: (float)\n",
    "        Maximum distance in km away for a sample location from the buoy location\n",
    "    \n",
    "    Returns\n",
    "    -------\n",
    "    mask: (boolean)\n",
    "        Returns True or False boolean if sampleLoc < maxDist from buoyLoc"
   ]
  },
  {
   "cell_type": "code",
   "execution_count": null,
   "metadata": {},
   "outputs": [],
   "source": [
    "pco2a"
   ]
  },
  {
   "cell_type": "code",
   "execution_count": null,
   "metadata": {},
   "outputs": [],
   "source": [
    "distMask = findNearest(pioneer, (pco2a.lat, pco2a.lon), 0.5)\n",
    "pioneer[distMask]"
   ]
  },
  {
   "cell_type": "code",
   "execution_count": null,
   "metadata": {},
   "outputs": [],
   "source": [
    "[x for x in hs.Unit if x.value == distUnit]"
   ]
  },
  {
   "cell_type": "code",
   "execution_count": null,
   "metadata": {},
   "outputs": [],
   "source": [
    "startLat = pioneer[\"Start Latitude [degrees]\"].apply(lambda x: float(x))\n",
    "startLon = pioneer[\"Start Longitude [degrees]\"].apply(lambda x: float(x))\n",
    "dist = []\n",
    "buoyLoc = (pco2a.lat, pco2a.lon)\n",
    "for lat, lon in zip(startLat, startLon):\n",
    "    sampleLoc = (lat, lon)\n",
    "    dist.append(hs.haversine(sampleLoc, buoyLoc))\n"
   ]
  },
  {
   "cell_type": "code",
   "execution_count": null,
   "metadata": {},
   "outputs": [],
   "source": [
    "[d <= 0.5 for d in dist]"
   ]
  },
  {
   "cell_type": "code",
   "execution_count": null,
   "metadata": {},
   "outputs": [],
   "source": [
    "pco2a.lon"
   ]
  },
  {
   "cell_type": "code",
   "execution_count": null,
   "metadata": {},
   "outputs": [],
   "source": [
    "# Identify samples associated with the instrument using the \"target asset\"\n",
    "mask = pioneer[\"Target Asset\"].apply(lambda x: True if \"ossm\" in x.lower() else False)\n",
    "ossm_bottle_data = pioneer[mask]"
   ]
  },
  {
   "cell_type": "code",
   "execution_count": null,
   "metadata": {},
   "outputs": [],
   "source": [
    "# Identify samples from near the surface, which we'll take as <= 15 dbar of pressure\n",
    "mask = ossm_bottle_data[\"CTD Pressure [db]\"] <= 15\n",
    "ossm_pco2a_bottle_data = ossm_bottle_data[mask]\n",
    "ossm_pco2a_bottle_data"
   ]
  },
  {
   "cell_type": "code",
   "execution_count": null,
   "metadata": {},
   "outputs": [],
   "source": [
    "ossm_pco2a_bottle_data[\"Calculated pCO2 [uatm]\"]"
   ]
  },
  {
   "cell_type": "code",
   "execution_count": null,
   "metadata": {
    "scrolled": true
   },
   "outputs": [],
   "source": [
    "# Plot the bottle data on top of the pco2a data\n",
    "fig, ax = plotting.plot_data_variable(pco2a, \"partial_pressure_co2_ssw\")\n",
    "\n",
    "ax.plot(ossm_pco2a_bottle_data[\"CTD Bottle Closure Time [UTC]\"], ossm_pco2a_bottle_data[\"Calculated pCO2 [uatm]\"],\n",
    "        marker=\"o\", color=\"tab:red\", linestyle=\"\", markersize=12)\n",
    "ax.set_ylim((200, 500))"
   ]
  },
  {
   "cell_type": "markdown",
   "metadata": {},
   "source": [
    "From the above plot of the discrete bottle samples against the PCO2A, we can select a couple of deployments for a closer analysis of the pCO2 calculated from the DIC/TA relationship and the measured seawater pCO2. We'll choose Deployments 3 and 7 to look at more closely."
   ]
  },
  {
   "cell_type": "code",
   "execution_count": null,
   "metadata": {},
   "outputs": [],
   "source": [
    "pco2a_deployment_3 = pco2a.where(pco2a.deployment == 3, drop=True)"
   ]
  },
  {
   "cell_type": "markdown",
   "metadata": {},
   "source": [
    "Plot deployment 3 more closely"
   ]
  },
  {
   "cell_type": "code",
   "execution_count": null,
   "metadata": {},
   "outputs": [],
   "source": [
    "fig, ax = plotting.plot_data_variable(pco2a_deployment_3, \"partial_pressure_co2_ssw\", add_deployments=False)\n",
    "xlim = ax.get_xlim()\n",
    "\n",
    "# Calculate the noise level\n",
    "std = pco2a_deployment_3.partial_pressure_co2_ssw.diff(dim=\"time\").std().values\n",
    "\n",
    "ax.fill_between(pco2a_deployment_3.time,\n",
    "                pco2a_deployment_3.partial_pressure_co2_ssw-2*std,\n",
    "                pco2a_deployment_3.partial_pressure_co2_ssw+2*std,\n",
    "                color=\"tab:blue\")\n",
    "ax.plot(ossm_pco2a_bottle_data[\"Start Time [UTC]\"], ossm_pco2a_bottle_data[\"Calculated pCO2 [uatm]\"], \n",
    "        color=\"tab:red\", marker=\"*\", linestyle=\"\", markersize=12)\n",
    "ax.set_xlim(xlim)"
   ]
  },
  {
   "cell_type": "code",
   "execution_count": null,
   "metadata": {},
   "outputs": [],
   "source": []
  },
  {
   "cell_type": "code",
   "execution_count": null,
   "metadata": {},
   "outputs": [],
   "source": [
    "# Write a function which takes in a time series and bottle values and plot the data comparisons"
   ]
  },
  {
   "cell_type": "code",
   "execution_count": null,
   "metadata": {},
   "outputs": [],
   "source": [
    "deployments = np.unique(pco2a.deployment)\n",
    "deployments"
   ]
  },
  {
   "cell_type": "code",
   "execution_count": null,
   "metadata": {},
   "outputs": [],
   "source": [
    "results = pd.DataFrame()\n",
    "for deployment in deployments:\n",
    "    # First, select the relevant deployment data\n",
    "    deployment_data = pco2a.where(pco2a.deployment == deployment, drop=True)\n",
    "    \n",
    "    # Get the refdes\n",
    "    refdes = \"-\".join(pco2a.attrs[\"id\"].split(\"-\")[0:4])\n",
    "    \n",
    "    # Next, get the first and last timestamps of the pco2a data\n",
    "    deployDT, recoverDT = deployment_data.time.min().values, deployment_data.time.max().values\n",
    "    \n",
    "    # Calculate the mean and std deviation for the first day of data from the instrument\n",
    "    deploy_avg = deployment_data.partial_pressure_co2_ssw.where(deployment_data.time <= pd.to_datetime(deployDT + pd.Timedelta(\"1D\"))).mean()\n",
    "    deploy_std = deployment_data.partial_pressure_co2_ssw.where(deployment_data.time <= pd.to_datetime(deployDT + pd.Timedelta(\"1D\"))).std()\n",
    "\n",
    "    # Calculate the mean and std devation for the last day of the data from the instrument\n",
    "    recover_avg = deployment_data.partial_pressure_co2_ssw.where(deployment_data.time >= pd.to_datetime(recoverDT - pd.Timedelta(\"1D\"))).mean()\n",
    "    recover_std = deployment_data.partial_pressure_co2_ssw.where(deployment_data.time >= pd.to_datetime(recoverDT - pd.Timedelta(\"1D\"))).std()\n",
    "\n",
    "    # Now, filter for the nearest bottle data based on start and stop times\n",
    "    deploy_bottles = ossm_pco2a_bottle_data[\n",
    "        (ossm_pco2a_bottle_data[\"Start Time [UTC]\"] >= pd.to_datetime(deployDT - pd.Timedelta(\"1D\"), utc=True)) &\n",
    "        (ossm_pco2a_bottle_data[\"Start Time [UTC]\"] <= pd.to_datetime(deployDT + pd.Timedelta(\"1D\"), utc=True))]\n",
    "    recover_bottles = ossm_pco2a_bottle_data[\n",
    "        (ossm_pco2a_bottle_data[\"Start Time [UTC]\"] >= pd.to_datetime(recoverDT - pd.Timedelta(\"1D\"), utc=True)) &\n",
    "        (ossm_pco2a_bottle_data[\"Start Time [UTC]\"] <= pd.to_datetime(recoverDT + pd.Timedelta(\"1D\"), utc=True))]\n",
    "    \n",
    "    # Whittle down the Deployment Data to the most relevant values\n",
    "    columns=[\"CTD Pressure [db]\", \"CTD Absolute Salinity [g/kg]\", \"CTD Conservative Temperature\", \"Calculated pCO2 [uatm]\"]\n",
    "    \n",
    "    \n",
    "    # Okay, now calculate the comparison between the bottle and\n",
    "    results = results.append(deploy_bottles)\n",
    "    "
   ]
  },
  {
   "cell_type": "code",
   "execution_count": null,
   "metadata": {},
   "outputs": [],
   "source": [
    "deployDT, recoverDT = pco2a_deployment_3.time.min().values, pco2a_deployment_3.time.max().values\n",
    "deployDT, recoverDT"
   ]
  },
  {
   "cell_type": "code",
   "execution_count": null,
   "metadata": {},
   "outputs": [],
   "source": [
    "refdes = \"-\".join(pco2a.attrs[\"id\"].split(\"-\")[0:4])\n",
    "refdes"
   ]
  },
  {
   "cell_type": "code",
   "execution_count": null,
   "metadata": {},
   "outputs": [],
   "source": [
    "pd.to_datetime(deployDT - pd.Timedelta(\"1D\"), utc=True)"
   ]
  },
  {
   "cell_type": "code",
   "execution_count": null,
   "metadata": {},
   "outputs": [],
   "source": [
    "deploy_bottles = ossm_pco2a_bottle_data[\n",
    "    (ossm_pco2a_bottle_data[\"Start Time [UTC]\"] >= pd.to_datetime(deployDT - pd.Timedelta(\"1D\"), utc=True)) &\n",
    "    (ossm_pco2a_bottle_data[\"Start Time [UTC]\"] <= pd.to_datetime(deployDT + pd.Timedelta(\"1D\"), utc=True))]\n",
    "\n",
    "recover_bottles = ossm_pco2a_bottle_data[\n",
    "    (ossm_pco2a_bottle_data[\"Start Time [UTC]\"] >= pd.to_datetime(recoverDT - pd.Timedelta(\"1D\"), utc=True)) &\n",
    "    (ossm_pco2a_bottle_data[\"Start Time [UTC]\"] <= pd.to_datetime(recoverDT + pd.Timedelta(\"1D\"), utc=True))]"
   ]
  },
  {
   "cell_type": "code",
   "execution_count": null,
   "metadata": {},
   "outputs": [],
   "source": [
    "deploy_bottles[[\"CTD Pressure [db]\", \"CTD Absolute Salinity [g/kg]\", \"CTD Conservative Temperature\", \"Calculated pCO2 [uatm]\"]]"
   ]
  },
  {
   "cell_type": "code",
   "execution_count": null,
   "metadata": {},
   "outputs": [],
   "source": [
    "# Calculate the comparison values\n",
    "deploy_avg = pco2a_deployment_3.partial_pressure_co2_ssw.where(pco2a_deployment_3.time <= pd.to_datetime(deployDT + pd.Timedelta(\"1D\"))).mean()\n",
    "deploy_std = pco2a_deployment_3.partial_pressure_co2_ssw.where(pco2a_deployment_3.time <= pd.to_datetime(deployDT + pd.Timedelta(\"1D\"))).std()\n",
    "deploy_avg, deploy_std"
   ]
  },
  {
   "cell_type": "code",
   "execution_count": null,
   "metadata": {},
   "outputs": [],
   "source": [
    "deploy_bottles[\"Calculated pCO2 [uatm]\"]"
   ]
  },
  {
   "cell_type": "code",
   "execution_count": null,
   "metadata": {},
   "outputs": [],
   "source": [
    "# Calculate the comparison values\n",
    "recover_avg = pco2a_deployment_3.partial_pressure_co2_ssw.where(pco2a_deployment_3.time >= pd.to_datetime(recoverDT - pd.Timedelta(\"1D\"))).mean()\n",
    "recover_std = pco2a_deployment_3.partial_pressure_co2_ssw.where(pco2a_deployment_3.time >= pd.to_datetime(recoverDT - pd.Timedelta(\"1D\"))).std()\n",
    "recover_avg, recover_std"
   ]
  },
  {
   "cell_type": "code",
   "execution_count": null,
   "metadata": {},
   "outputs": [],
   "source": [
    "recover_bottles[\"Calculated pCO2 [uatm]\"]"
   ]
  },
  {
   "cell_type": "code",
   "execution_count": null,
   "metadata": {},
   "outputs": [],
   "source": []
  },
  {
   "cell_type": "code",
   "execution_count": null,
   "metadata": {},
   "outputs": [],
   "source": [
    "from statsmodels.tsa.stattools import adfuller\n",
    "\n",
    "def adfuller_test(sales):\n",
    "    result=adfuller(sales)\n",
    "    labels = ['ADF Test Statistic','p-value','#Lags Used','Number of Observations Used']\n",
    "    for value,label in zip(result,labels):\n",
    "        print(label+' : '+str(value) )\n",
    "    if result[1] <= 0.05:\n",
    "        print(\"P value is less than 0.05 that means we can reject the null hypothesis(Ho). Therefore we can conclude that data has no unit root and is stationary\")\n",
    "    else:\n",
    "        print(\"Weak evidence against null hypothesis that means time series has a unit root which indicates that it is non-stationary \")"
   ]
  },
  {
   "cell_type": "code",
   "execution_count": null,
   "metadata": {},
   "outputs": [],
   "source": [
    "adfuller_test(pco2a_deployment_3[\"partial_pressure_co2_ssw\"])"
   ]
  },
  {
   "cell_type": "code",
   "execution_count": null,
   "metadata": {},
   "outputs": [],
   "source": [
    "from statsmodels.tsa.arima_model import ARIMA\n",
    "import statsmodels.api as sm"
   ]
  },
  {
   "cell_type": "code",
   "execution_count": null,
   "metadata": {},
   "outputs": [],
   "source": [
    "from statsmodels.graphics.tsaplots import plot_acf, plot_pacf"
   ]
  },
  {
   "cell_type": "code",
   "execution_count": null,
   "metadata": {},
   "outputs": [],
   "source": [
    "fig = plt.figure(figsize=(12, 8))\n",
    "ax1 = fig.add_subplot(2,1,1)\n",
    "fig = plot_acf(pco2a_deployment_3.partial_pressure_co2_ssw.diff(dim=\"time\"), lags=40, ax=ax1)\n",
    "ax2 = fig.add_subplot(2,1,2)\n",
    "fig = plot_pacf(pco2a_deployment_3.partial_pressure_co2_ssw.diff(dim=\"time\"), lags=40, ax=ax2)"
   ]
  },
  {
   "cell_type": "markdown",
   "metadata": {},
   "source": [
    "We'll calculate the noise term using a first-difference estimate to get the standard deviation of the data"
   ]
  },
  {
   "cell_type": "code",
   "execution_count": null,
   "metadata": {},
   "outputs": [],
   "source": []
  },
  {
   "cell_type": "code",
   "execution_count": null,
   "metadata": {},
   "outputs": [],
   "source": []
  },
  {
   "cell_type": "code",
   "execution_count": null,
   "metadata": {},
   "outputs": [],
   "source": []
  },
  {
   "cell_type": "markdown",
   "metadata": {},
   "source": [
    "---\n",
    "## Instrument Datasets\n",
    "\n",
    "### Irminger Array\n",
    "* GI01SUMO: Apex Surface Mooring\n",
    "    * SBD12: Surface Buoy\n",
    "        * PCO2AA: pCO2 Air-Sea (refdes = GI01SUMO-SBD12-04-PCO2AA000)\n",
    "        * METBKA: Bulk Meteorology Instrument Package (refdes = GI01SUMO-SBD12-06-METBKA000)\n",
    "    * RID16: Near-Surface Instrument Frame\n",
    "        * PCO2WB: pCO2 Water (refdes = GI01SUMO-RID16-05-PCO2WB000)\n",
    "        * CTDBPF: CTD (refdes = GI01SUMO-RID16-03-CTDBPF000)\n",
    "    * RII11: Mooring Riser\n",
    "        * PCO2WC: pCO2 Water (40 meters) (refdes = GI01SUMO-RII11-02-PCO2WC051)\n",
    "        * CTDMOQ: CTD (40 meters) (refdes = GI01SUMO-RII11-02-CTDMOQ031)\n",
    "        * PCO2WC: pCO2 Water (80 meters) (refdes = GI01SUMO-RII11-02-PCO2WC052)\n",
    "        * CTDBPP: CTD (80 meters) (refdes = GI01SUMO-RII11-02-CTDBPP032)\n",
    "        * PCO2WC: pCO2 Water (130 meters) (refdes = GI01SUMO-RII11-02-PCO2WC053)\n",
    "        * CTDBPP: CTD (130 meters) (refdes = GI01SUMO-RII11-02-CTDBPP033)\n",
    "        * PHSENE: Seawater pH (20 meters) (refdes = GI01SUMO-RII11-02-PHSENE041)\n",
    "        * CTDMOQ: CTD (20 meters) (refdes = GI01SUMO-RII11-02-CTDMOQ011)\n",
    "        * PHSENE: Seawater pH (100 meters) (refdes = GI01SUMO-RII11-02-PHSENE042)\n",
    "        * CTDMOQ: CTD (100 meters) (refdes = GI01SUMO-RII11-02-CTDMOQ013)\n",
    "* GI03FLMA: Flanking Subsurface Mooring A\n",
    "    * RIS01: Mooring Riser\n",
    "        * PHSENF: Seawater pH (refdes = GI03FLMA-RIS01-04-PHSENF000)\n",
    "        * CTDMOG: CTD (30 meters) (refdes = GI03FLMA-RIM01-02-CTDMOG040)\n",
    "* GI03FLMB: Flanking Subsurface Mooring B\n",
    "    * RIS01: Mooring Riser\n",
    "        * PHSENF: Seawater pH (refdes = GI03FLMB-RIS01-04-PHSENF000)\n",
    "        * CTDMOG: CTD (30 meters) (refdes = GI03FLMB-RIM01-02-CTDMOG060)\n",
    "        \n",
    "---\n",
    "## Surface Mooring"
   ]
  },
  {
   "cell_type": "code",
   "execution_count": null,
   "metadata": {},
   "outputs": [],
   "source": []
  }
 ],
 "metadata": {
  "kernelspec": {
   "display_name": "Python 3 (ipykernel)",
   "language": "python",
   "name": "python3"
  },
  "language_info": {
   "codemirror_mode": {
    "name": "ipython",
    "version": 3
   },
   "file_extension": ".py",
   "mimetype": "text/x-python",
   "name": "python",
   "nbconvert_exporter": "python",
   "pygments_lexer": "ipython3",
   "version": "3.9.7"
  }
 },
 "nbformat": 4,
 "nbformat_minor": 4
}
