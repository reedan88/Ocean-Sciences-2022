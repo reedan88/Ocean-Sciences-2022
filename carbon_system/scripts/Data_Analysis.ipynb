{
 "cells": [
  {
   "cell_type": "markdown",
   "metadata": {},
   "source": [
    "# Carbon System Data Analysis\n",
    "\n",
    "---\n",
    "### Purpose\n",
    "The purpose of this notebook is to analyze the performance of the Sunburst Sensors, LLC. SAMI-pH (PHSEN) pH and SAMI-pCO$_{2}$ seawater measurements, and the Pro-Oceanus pCO2 sensor measurements at the Pioneer Coastal Array and Global Irminger Array. This is done on a deployment-by-deployment, site-by-site comparison with the pH measurements from discete water samples collected by Niskin Bottle casts during deployment and recovery of the instrumentation during mooring maintainence. \n",
    "\n",
    "---\n",
    "### Datasets\n",
    "There are three main sources of data sources:\n",
    "* **Deployments**: These are the deployment master sheets from OOI Asset Management. They contain the deployment numbers, deployment start times and cruise, and recovery times and cruise, for all of the instrumentation deployed. \n",
    "* **PHSEN**: This is the Sunburst Sensors, LLC. SAMI-pH sensor. It is calibrated for pH values from 70-9.0 pH units for salinities from 25-40 psu. Manufacturers stated accuracy of 0.003 pH units, precision < 0.001 pH units, and long-term drift of < 0.001 pH units / 6 months. The data is downloaded from the Ocean Observatories data portal (OOINet) as netCDF files.\n",
    "* **PCO2W**: This is the Sunburst Sensors, LLC. SAMI-CO<sub>2</sub> sensor. It is calibrated for pCO<sub>2</sub> concentrations from 200 - 1000 ppm. Manufacturers stated accuracy of 3 ppm, precision < 1 ppm, and long-term drift of < 1 ppm / 6 months. The data is downloaded from the Ocean Observatories data portal (OOINet) as netCDF files.\n",
    "* **CTDBP**: This is the collocated SeaBird CTD with the PHSEN. The data is downloaded from the Ocean Observatories data portal (OOINet) as netCDF files. These data are needed since the PCO2W datasets do not contain either temperature (T), salinity (S), pressure (P), or density ($\\rho$) data needed to compare with the discrete sampling.\n",
    "* **Discrete Water Samples**: These are discrete water samples collected via Niskin Bottle casts during deployment and recovery of the moored instrumentation. The data is downloaded from OOI Alfresco website as excel files. Parameters sampled include oxygen, salinity, nutrient concentrations (phosphate, nitrate, nitrite, ammonium, silicate), chlorophyll concentrations, and the carbon system. The carbon system parameters sampled are Total Alkalinity (TA), Dissolved Inorganic Carbon (DIC), and pH. \n",
    "---\n",
    "### Method\n",
    "#### PCO2W Processing\n",
    "Verifying the in-situ pCO<sub>2</sub> measured by the PCO2W against the pCO<sub>2</sub> calculated from the discrete water samples TA and DIC requires several preprocessing steps of the PCO2W datasets. First, the netCDF datasets are opened using ```xarray``` into an xarray ```dataset``` object and the primary dimension set to 'time'. Next, T, S, P, and $\\rho$ are interpolated to the PCO2W time base using xarray ```ds.interp_like``` from the dataset from the collocated CTDBP. Next, the pCO2 is corrected for hydrostatic pressure using a correction of 15% per 1000 dbar pressure (Enns 1965, Reed et al. 2018). Then the first and last four days of PCO2W data are selected. The standard deviation of the selected pCO2 is calculated using the first-order differencing with a time-lag of one, in order to arrive at a quasi-stationary time series.\n",
    "\n",
    "#### CTDBP Processing\n",
    "The associated CTD datasets to the PCO2W are opened using ```xarray``` into an xarray ```dataset``` object and the primary dimension set to 'time'. The CTD dataset T, S, P, and $\\rho$ are interpolated to the PCO2W time base and merged into the PCO2W dataset using ```ds.interp_like```. \n",
    "\n",
    "#### Discrete Water Samples Processing\n",
    "The relevant deployment and recovery cruise data for comparison with the PCO2W dataset(s) are opened and loaded into a pandas ```DataFrame``` object. Next, the pCO<sub>2</sub> concentrations are calculated using the ```CO2SYS``` package from the associated TA and DIC concentrations. The bottle samples are then filtered by cruise, time, and depth to identify the samples associated with the deployment and recovery of the PCO2W dataset being analyzed."
   ]
  },
  {
   "cell_type": "code",
   "execution_count": 1,
   "metadata": {},
   "outputs": [],
   "source": [
    "import os, sys, gc\n",
    "import json\n",
    "import yaml\n",
    "import numpy as np\n",
    "import pandas as pd\n",
    "import xarray as xr\n",
    "import warnings\n",
    "warnings.filterwarnings(\"ignore\")"
   ]
  },
  {
   "cell_type": "code",
   "execution_count": 2,
   "metadata": {},
   "outputs": [],
   "source": [
    "import matplotlib.pyplot as plt\n",
    "%matplotlib inline"
   ]
  },
  {
   "cell_type": "code",
   "execution_count": 3,
   "metadata": {},
   "outputs": [],
   "source": [
    "# Import the OOI M2M tool\n",
    "sys.path.append(\"/home/andrew/Documents/OOI-CGSN/ooinet/ooinet/\")\n",
    "from m2m import M2M"
   ]
  },
  {
   "cell_type": "markdown",
   "metadata": {},
   "source": [
    "#### Set OOINet API access\n",
    "In order access and download data from OOINet, need to have an OOINet api username and access token. Those can be found on your profile after logging in to OOINet. Your username and access token should NOT be stored in this notebook/python script (for security). It should be stored in a yaml file, kept in the same directory, named user_info.yaml."
   ]
  },
  {
   "cell_type": "code",
   "execution_count": 4,
   "metadata": {},
   "outputs": [],
   "source": [
    "# Import user info for connecting to OOINet via M2M\n",
    "userinfo = yaml.load(open(\"../../../../QAQC_Sandbox/user_info.yaml\"), Loader=yaml.FullLoader)\n",
    "username = userinfo[\"apiname\"]\n",
    "token = userinfo[\"apikey\"]"
   ]
  },
  {
   "cell_type": "markdown",
   "metadata": {},
   "source": [
    "#### Connect to OOINet"
   ]
  },
  {
   "cell_type": "code",
   "execution_count": 5,
   "metadata": {},
   "outputs": [],
   "source": [
    "OOINet = M2M(username, token)"
   ]
  },
  {
   "cell_type": "markdown",
   "metadata": {},
   "source": [
    "---\n",
    "## Discrete Bottle Data\n",
    "\n",
    "#### Irminger Sea\n",
    "First, load the bottle data from the Irminger Sea Array into a pandas dataframe. Once the data is loaded, then we'll do some datatype conversions, such as converting the Dates and Times into pandas datetime objects, as well as replacing the fill value of ```-9999999``` with NaNs. Finally, we'll drop the data from the table that doesn't have any DIC, Alkalinity, or pH data to get the relevant carbon system data we'll need for comparisons.\n",
    "\n",
    "We'll also want to check the associated bottle and discrete sample flags. In particular, we'll want to check for ```Niskin Flag``` with a flag of ```*0000000000001000``` which indicates a leaking bottle, and the ```Discrete TA/DIC/pH Flag``` for entries of either ```*0000000000000010```, which indicates the sample analysis is not yet complete, or ```*0000000000001000``` / ```*0000000000010000``` which indicate suspicious or bad data. We'll translate these flags into the standard WOCE schema of:\n",
    "* 1 = good data\n",
    "* 2 = no evaluation\n",
    "* 3 = questionable data\n",
    "* 4 = bad data\n",
    "* 9 = missing/no data"
   ]
  },
  {
   "cell_type": "code",
   "execution_count": 6,
   "metadata": {},
   "outputs": [
    {
     "data": {
      "text/html": [
       "<div>\n",
       "<style scoped>\n",
       "    .dataframe tbody tr th:only-of-type {\n",
       "        vertical-align: middle;\n",
       "    }\n",
       "\n",
       "    .dataframe tbody tr th {\n",
       "        vertical-align: top;\n",
       "    }\n",
       "\n",
       "    .dataframe thead th {\n",
       "        text-align: right;\n",
       "    }\n",
       "</style>\n",
       "<table border=\"1\" class=\"dataframe\">\n",
       "  <thead>\n",
       "    <tr style=\"text-align: right;\">\n",
       "      <th></th>\n",
       "      <th>Cruise</th>\n",
       "      <th>Station</th>\n",
       "      <th>Target Asset</th>\n",
       "      <th>Start Latitude [degrees]</th>\n",
       "      <th>Start Longitude [degrees]</th>\n",
       "      <th>Start Time [UTC]</th>\n",
       "      <th>Cast</th>\n",
       "      <th>Cast Flag</th>\n",
       "      <th>Bottom Depth at Start Position [m]</th>\n",
       "      <th>CTD File</th>\n",
       "      <th>...</th>\n",
       "      <th>Discrete pH Replicate Flag</th>\n",
       "      <th>Calculated Alkalinity [umol/kg]</th>\n",
       "      <th>Calculated DIC [umol/kg]</th>\n",
       "      <th>Calculated pCO2 [uatm]</th>\n",
       "      <th>Calculated pH</th>\n",
       "      <th>Calculated CO2aq [umol/kg]</th>\n",
       "      <th>Calculated Bicarb [umol/kg]</th>\n",
       "      <th>Calculated CO3 [umol/kg]</th>\n",
       "      <th>Calculated Omega-C</th>\n",
       "      <th>Calculated Omega-A</th>\n",
       "    </tr>\n",
       "  </thead>\n",
       "  <tbody>\n",
       "    <tr>\n",
       "      <th>0</th>\n",
       "      <td>AR7-01</td>\n",
       "      <td>2</td>\n",
       "      <td>Release test</td>\n",
       "      <td>51.976000</td>\n",
       "      <td>-45.759500</td>\n",
       "      <td>2016-07-06T11:29:36.000Z</td>\n",
       "      <td>2</td>\n",
       "      <td>*0000000000000100</td>\n",
       "      <td>4056</td>\n",
       "      <td>D:\\Data\\ar0701002.hex</td>\n",
       "      <td>...</td>\n",
       "      <td>-9999999</td>\n",
       "      <td>-9999999</td>\n",
       "      <td>-9999999</td>\n",
       "      <td>-9999999</td>\n",
       "      <td>-9999999</td>\n",
       "      <td>-9999999</td>\n",
       "      <td>-9999999</td>\n",
       "      <td>-9999999</td>\n",
       "      <td>-9999999</td>\n",
       "      <td>-9999999</td>\n",
       "    </tr>\n",
       "    <tr>\n",
       "      <th>1</th>\n",
       "      <td>AR7-01</td>\n",
       "      <td>2</td>\n",
       "      <td>Release test</td>\n",
       "      <td>51.976000</td>\n",
       "      <td>-45.759500</td>\n",
       "      <td>2016-07-06T11:29:36.000Z</td>\n",
       "      <td>2</td>\n",
       "      <td>*0000000000000100</td>\n",
       "      <td>4056</td>\n",
       "      <td>D:\\Data\\ar0701002.hex</td>\n",
       "      <td>...</td>\n",
       "      <td>-9999999</td>\n",
       "      <td>-9999999</td>\n",
       "      <td>-9999999</td>\n",
       "      <td>-9999999</td>\n",
       "      <td>-9999999</td>\n",
       "      <td>-9999999</td>\n",
       "      <td>-9999999</td>\n",
       "      <td>-9999999</td>\n",
       "      <td>-9999999</td>\n",
       "      <td>-9999999</td>\n",
       "    </tr>\n",
       "    <tr>\n",
       "      <th>2</th>\n",
       "      <td>AR7-01</td>\n",
       "      <td>2</td>\n",
       "      <td>Release test</td>\n",
       "      <td>51.976000</td>\n",
       "      <td>-45.759500</td>\n",
       "      <td>2016-07-06T11:29:36.000Z</td>\n",
       "      <td>2</td>\n",
       "      <td>*0000000000000100</td>\n",
       "      <td>4056</td>\n",
       "      <td>D:\\Data\\ar0701002.hex</td>\n",
       "      <td>...</td>\n",
       "      <td>-9999999</td>\n",
       "      <td>-9999999</td>\n",
       "      <td>-9999999</td>\n",
       "      <td>-9999999</td>\n",
       "      <td>-9999999</td>\n",
       "      <td>-9999999</td>\n",
       "      <td>-9999999</td>\n",
       "      <td>-9999999</td>\n",
       "      <td>-9999999</td>\n",
       "      <td>-9999999</td>\n",
       "    </tr>\n",
       "    <tr>\n",
       "      <th>3</th>\n",
       "      <td>AR7-01</td>\n",
       "      <td>3</td>\n",
       "      <td>Release test</td>\n",
       "      <td>51.971167</td>\n",
       "      <td>-45.764833</td>\n",
       "      <td>2016-07-06T14:10:07.000Z</td>\n",
       "      <td>3</td>\n",
       "      <td>*0000000000000100</td>\n",
       "      <td>-9999999</td>\n",
       "      <td>D:\\Data\\ar0701003.hex</td>\n",
       "      <td>...</td>\n",
       "      <td>-9999999</td>\n",
       "      <td>-9999999</td>\n",
       "      <td>-9999999</td>\n",
       "      <td>-9999999</td>\n",
       "      <td>-9999999</td>\n",
       "      <td>-9999999</td>\n",
       "      <td>-9999999</td>\n",
       "      <td>-9999999</td>\n",
       "      <td>-9999999</td>\n",
       "      <td>-9999999</td>\n",
       "    </tr>\n",
       "    <tr>\n",
       "      <th>4</th>\n",
       "      <td>AR7-01</td>\n",
       "      <td>4</td>\n",
       "      <td>Release test</td>\n",
       "      <td>51.971167</td>\n",
       "      <td>-45.764833</td>\n",
       "      <td>2016-07-06T17:02:22.000Z</td>\n",
       "      <td>4</td>\n",
       "      <td>*0000000000000100</td>\n",
       "      <td>-9999999</td>\n",
       "      <td>D:\\Data\\ar0701004.hex</td>\n",
       "      <td>...</td>\n",
       "      <td>-9999999</td>\n",
       "      <td>-9999999</td>\n",
       "      <td>-9999999</td>\n",
       "      <td>-9999999</td>\n",
       "      <td>-9999999</td>\n",
       "      <td>-9999999</td>\n",
       "      <td>-9999999</td>\n",
       "      <td>-9999999</td>\n",
       "      <td>-9999999</td>\n",
       "      <td>-9999999</td>\n",
       "    </tr>\n",
       "  </tbody>\n",
       "</table>\n",
       "<p>5 rows × 80 columns</p>\n",
       "</div>"
      ],
      "text/plain": [
       "   Cruise Station  Target Asset  Start Latitude [degrees]  \\\n",
       "0  AR7-01       2  Release test                 51.976000   \n",
       "1  AR7-01       2  Release test                 51.976000   \n",
       "2  AR7-01       2  Release test                 51.976000   \n",
       "3  AR7-01       3  Release test                 51.971167   \n",
       "4  AR7-01       4  Release test                 51.971167   \n",
       "\n",
       "   Start Longitude [degrees]          Start Time [UTC] Cast  \\\n",
       "0                 -45.759500  2016-07-06T11:29:36.000Z    2   \n",
       "1                 -45.759500  2016-07-06T11:29:36.000Z    2   \n",
       "2                 -45.759500  2016-07-06T11:29:36.000Z    2   \n",
       "3                 -45.764833  2016-07-06T14:10:07.000Z    3   \n",
       "4                 -45.764833  2016-07-06T17:02:22.000Z    4   \n",
       "\n",
       "           Cast Flag  Bottom Depth at Start Position [m]  \\\n",
       "0  *0000000000000100                                4056   \n",
       "1  *0000000000000100                                4056   \n",
       "2  *0000000000000100                                4056   \n",
       "3  *0000000000000100                            -9999999   \n",
       "4  *0000000000000100                            -9999999   \n",
       "\n",
       "                CTD File  ... Discrete pH Replicate Flag  \\\n",
       "0  D:\\Data\\ar0701002.hex  ...                   -9999999   \n",
       "1  D:\\Data\\ar0701002.hex  ...                   -9999999   \n",
       "2  D:\\Data\\ar0701002.hex  ...                   -9999999   \n",
       "3  D:\\Data\\ar0701003.hex  ...                   -9999999   \n",
       "4  D:\\Data\\ar0701004.hex  ...                   -9999999   \n",
       "\n",
       "   Calculated Alkalinity [umol/kg] Calculated DIC [umol/kg]  \\\n",
       "0                         -9999999                 -9999999   \n",
       "1                         -9999999                 -9999999   \n",
       "2                         -9999999                 -9999999   \n",
       "3                         -9999999                 -9999999   \n",
       "4                         -9999999                 -9999999   \n",
       "\n",
       "  Calculated pCO2 [uatm]  Calculated pH Calculated CO2aq [umol/kg]  \\\n",
       "0               -9999999       -9999999                   -9999999   \n",
       "1               -9999999       -9999999                   -9999999   \n",
       "2               -9999999       -9999999                   -9999999   \n",
       "3               -9999999       -9999999                   -9999999   \n",
       "4               -9999999       -9999999                   -9999999   \n",
       "\n",
       "   Calculated Bicarb [umol/kg]  Calculated CO3 [umol/kg]  Calculated Omega-C  \\\n",
       "0                     -9999999                  -9999999            -9999999   \n",
       "1                     -9999999                  -9999999            -9999999   \n",
       "2                     -9999999                  -9999999            -9999999   \n",
       "3                     -9999999                  -9999999            -9999999   \n",
       "4                     -9999999                  -9999999            -9999999   \n",
       "\n",
       "   Calculated Omega-A  \n",
       "0            -9999999  \n",
       "1            -9999999  \n",
       "2            -9999999  \n",
       "3            -9999999  \n",
       "4            -9999999  \n",
       "\n",
       "[5 rows x 80 columns]"
      ]
     },
     "execution_count": 6,
     "metadata": {},
     "output_type": "execute_result"
    }
   ],
   "source": [
    "irminger_sea = pd.read_csv(\"../data/water_sampling/Irminger_Sea_water_sampling_data.csv\")\n",
    "irminger_sea.head()"
   ]
  },
  {
   "cell_type": "markdown",
   "metadata": {},
   "source": [
    "Replace -9999999 with NaNs\n"
   ]
  },
  {
   "cell_type": "code",
   "execution_count": 7,
   "metadata": {},
   "outputs": [],
   "source": [
    "irminger_sea = irminger_sea.replace(to_replace=\"-9999999\", value=np.nan)\n",
    "irminger_sea = irminger_sea.replace(to_replace=-9999999, value=np.nan)"
   ]
  },
  {
   "cell_type": "markdown",
   "metadata": {},
   "source": [
    "Convert times from strings to pandas datetime objects\n"
   ]
  },
  {
   "cell_type": "code",
   "execution_count": 8,
   "metadata": {},
   "outputs": [],
   "source": [
    "def convert_times(x):\n",
    "    if type(x) is str:\n",
    "        x = x.replace(\" \",\"\")\n",
    "        x = pd.to_datetime(x)\n",
    "    else:\n",
    "        pass\n",
    "    return x\n",
    "\n",
    "irminger_sea[\"Start Time [UTC]\"] = irminger_sea[\"Start Time [UTC]\"].apply(lambda x: convert_times(x))\n",
    "irminger_sea[\"CTD Bottle Closure Time [UTC]\"] = irminger_sea[\"CTD Bottle Closure Time [UTC]\"].apply(lambda x: convert_times(x))"
   ]
  },
  {
   "cell_type": "markdown",
   "metadata": {},
   "source": [
    "#### Pioneer Bottle Data\n",
    "Next, repeat the process for the Irminger Sea Array bottle data with the Pioneer Array bottle data.  "
   ]
  },
  {
   "cell_type": "code",
   "execution_count": 9,
   "metadata": {},
   "outputs": [
    {
     "data": {
      "text/html": [
       "<div>\n",
       "<style scoped>\n",
       "    .dataframe tbody tr th:only-of-type {\n",
       "        vertical-align: middle;\n",
       "    }\n",
       "\n",
       "    .dataframe tbody tr th {\n",
       "        vertical-align: top;\n",
       "    }\n",
       "\n",
       "    .dataframe thead th {\n",
       "        text-align: right;\n",
       "    }\n",
       "</style>\n",
       "<table border=\"1\" class=\"dataframe\">\n",
       "  <thead>\n",
       "    <tr style=\"text-align: right;\">\n",
       "      <th></th>\n",
       "      <th>Cruise</th>\n",
       "      <th>Station</th>\n",
       "      <th>Target Asset</th>\n",
       "      <th>Start Latitude [degrees]</th>\n",
       "      <th>Start Longitude [degrees]</th>\n",
       "      <th>Start Time [UTC]</th>\n",
       "      <th>Cast</th>\n",
       "      <th>Cast Flag</th>\n",
       "      <th>Bottom Depth at Start Position [m]</th>\n",
       "      <th>CTD File</th>\n",
       "      <th>...</th>\n",
       "      <th>Calculated pCO2 [uatm]</th>\n",
       "      <th>Calculated pH</th>\n",
       "      <th>Calculated CO2aq [umol/kg]</th>\n",
       "      <th>Calculated Bicarb [umol/kg]</th>\n",
       "      <th>Calculated CO3 [umol/kg]</th>\n",
       "      <th>Calculated Omega-C</th>\n",
       "      <th>Calculated Omega-A</th>\n",
       "      <th>Comments</th>\n",
       "      <th>Chlorophyll Comments</th>\n",
       "      <th>Chl Comments</th>\n",
       "    </tr>\n",
       "  </thead>\n",
       "  <tbody>\n",
       "    <tr>\n",
       "      <th>0</th>\n",
       "      <td>AR4A</td>\n",
       "      <td>1</td>\n",
       "      <td>CNSM</td>\n",
       "      <td>40.1366666666667</td>\n",
       "      <td>-70.7715</td>\n",
       "      <td>2016-05-13T15:08:28.000Z</td>\n",
       "      <td>1</td>\n",
       "      <td>*0000000000000100</td>\n",
       "      <td>134</td>\n",
       "      <td>ar04a001.hex</td>\n",
       "      <td>...</td>\n",
       "      <td>-9999999</td>\n",
       "      <td>-9999999</td>\n",
       "      <td>-9999999</td>\n",
       "      <td>-9999999</td>\n",
       "      <td>-9999999</td>\n",
       "      <td>-9999999</td>\n",
       "      <td>-9999999</td>\n",
       "      <td>NaN</td>\n",
       "      <td>NaN</td>\n",
       "      <td>NaN</td>\n",
       "    </tr>\n",
       "    <tr>\n",
       "      <th>1</th>\n",
       "      <td>AR4A</td>\n",
       "      <td>1</td>\n",
       "      <td>CNSM</td>\n",
       "      <td>40.1366666666667</td>\n",
       "      <td>-70.7715</td>\n",
       "      <td>2016-05-13T15:08:28.000Z</td>\n",
       "      <td>1</td>\n",
       "      <td>*0000000000000100</td>\n",
       "      <td>134</td>\n",
       "      <td>ar04a001.hex</td>\n",
       "      <td>...</td>\n",
       "      <td>-9999999</td>\n",
       "      <td>-9999999</td>\n",
       "      <td>-9999999</td>\n",
       "      <td>-9999999</td>\n",
       "      <td>-9999999</td>\n",
       "      <td>-9999999</td>\n",
       "      <td>-9999999</td>\n",
       "      <td>Dupes</td>\n",
       "      <td>extreme phaeo:chl ratio but reasonable because...</td>\n",
       "      <td>NaN</td>\n",
       "    </tr>\n",
       "    <tr>\n",
       "      <th>2</th>\n",
       "      <td>AR4A</td>\n",
       "      <td>1</td>\n",
       "      <td>CNSM</td>\n",
       "      <td>40.1366666666667</td>\n",
       "      <td>-70.7715</td>\n",
       "      <td>2016-05-13T15:08:28.000Z</td>\n",
       "      <td>1</td>\n",
       "      <td>*0000000000000100</td>\n",
       "      <td>134</td>\n",
       "      <td>ar04a001.hex</td>\n",
       "      <td>...</td>\n",
       "      <td>-9999999</td>\n",
       "      <td>-9999999</td>\n",
       "      <td>-9999999</td>\n",
       "      <td>-9999999</td>\n",
       "      <td>-9999999</td>\n",
       "      <td>-9999999</td>\n",
       "      <td>-9999999</td>\n",
       "      <td>NaN</td>\n",
       "      <td>NaN</td>\n",
       "      <td>NaN</td>\n",
       "    </tr>\n",
       "    <tr>\n",
       "      <th>3</th>\n",
       "      <td>AR4A</td>\n",
       "      <td>1</td>\n",
       "      <td>CNSM</td>\n",
       "      <td>40.1366666666667</td>\n",
       "      <td>-70.7715</td>\n",
       "      <td>2016-05-13T15:08:28.000Z</td>\n",
       "      <td>1</td>\n",
       "      <td>*0000000000000100</td>\n",
       "      <td>134</td>\n",
       "      <td>ar04a001.hex</td>\n",
       "      <td>...</td>\n",
       "      <td>-9999999</td>\n",
       "      <td>-9999999</td>\n",
       "      <td>-9999999</td>\n",
       "      <td>-9999999</td>\n",
       "      <td>-9999999</td>\n",
       "      <td>-9999999</td>\n",
       "      <td>-9999999</td>\n",
       "      <td>NaN</td>\n",
       "      <td>NaN</td>\n",
       "      <td>NaN</td>\n",
       "    </tr>\n",
       "    <tr>\n",
       "      <th>4</th>\n",
       "      <td>AR4A</td>\n",
       "      <td>1</td>\n",
       "      <td>CNSM</td>\n",
       "      <td>40.1366666666667</td>\n",
       "      <td>-70.7715</td>\n",
       "      <td>2016-05-13T15:08:28.000Z</td>\n",
       "      <td>1</td>\n",
       "      <td>*0000000000000100</td>\n",
       "      <td>134</td>\n",
       "      <td>ar04a001.hex</td>\n",
       "      <td>...</td>\n",
       "      <td>-9999999</td>\n",
       "      <td>-9999999</td>\n",
       "      <td>-9999999</td>\n",
       "      <td>-9999999</td>\n",
       "      <td>-9999999</td>\n",
       "      <td>-9999999</td>\n",
       "      <td>-9999999</td>\n",
       "      <td>Chl. Max</td>\n",
       "      <td>NaN</td>\n",
       "      <td>NaN</td>\n",
       "    </tr>\n",
       "  </tbody>\n",
       "</table>\n",
       "<p>5 rows × 83 columns</p>\n",
       "</div>"
      ],
      "text/plain": [
       "  Cruise Station Target Asset Start Latitude [degrees]  \\\n",
       "0   AR4A       1         CNSM         40.1366666666667   \n",
       "1   AR4A       1         CNSM         40.1366666666667   \n",
       "2   AR4A       1         CNSM         40.1366666666667   \n",
       "3   AR4A       1         CNSM         40.1366666666667   \n",
       "4   AR4A       1         CNSM         40.1366666666667   \n",
       "\n",
       "  Start Longitude [degrees]          Start Time [UTC] Cast          Cast Flag  \\\n",
       "0                  -70.7715  2016-05-13T15:08:28.000Z    1  *0000000000000100   \n",
       "1                  -70.7715  2016-05-13T15:08:28.000Z    1  *0000000000000100   \n",
       "2                  -70.7715  2016-05-13T15:08:28.000Z    1  *0000000000000100   \n",
       "3                  -70.7715  2016-05-13T15:08:28.000Z    1  *0000000000000100   \n",
       "4                  -70.7715  2016-05-13T15:08:28.000Z    1  *0000000000000100   \n",
       "\n",
       "   Bottom Depth at Start Position [m]      CTD File  ...  \\\n",
       "0                                 134  ar04a001.hex  ...   \n",
       "1                                 134  ar04a001.hex  ...   \n",
       "2                                 134  ar04a001.hex  ...   \n",
       "3                                 134  ar04a001.hex  ...   \n",
       "4                                 134  ar04a001.hex  ...   \n",
       "\n",
       "  Calculated pCO2 [uatm]  Calculated pH Calculated CO2aq [umol/kg]  \\\n",
       "0               -9999999       -9999999                   -9999999   \n",
       "1               -9999999       -9999999                   -9999999   \n",
       "2               -9999999       -9999999                   -9999999   \n",
       "3               -9999999       -9999999                   -9999999   \n",
       "4               -9999999       -9999999                   -9999999   \n",
       "\n",
       "  Calculated Bicarb [umol/kg]  Calculated CO3 [umol/kg] Calculated Omega-C  \\\n",
       "0                    -9999999                  -9999999           -9999999   \n",
       "1                    -9999999                  -9999999           -9999999   \n",
       "2                    -9999999                  -9999999           -9999999   \n",
       "3                    -9999999                  -9999999           -9999999   \n",
       "4                    -9999999                  -9999999           -9999999   \n",
       "\n",
       "   Calculated Omega-A  Comments  \\\n",
       "0            -9999999       NaN   \n",
       "1            -9999999     Dupes   \n",
       "2            -9999999       NaN   \n",
       "3            -9999999       NaN   \n",
       "4            -9999999  Chl. Max   \n",
       "\n",
       "                                Chlorophyll Comments  Chl Comments   \n",
       "0                                                NaN            NaN  \n",
       "1  extreme phaeo:chl ratio but reasonable because...            NaN  \n",
       "2                                                NaN            NaN  \n",
       "3                                                NaN            NaN  \n",
       "4                                                NaN            NaN  \n",
       "\n",
       "[5 rows x 83 columns]"
      ]
     },
     "execution_count": 9,
     "metadata": {},
     "output_type": "execute_result"
    }
   ],
   "source": [
    "pioneer = pd.read_csv(\"../data/water_sampling/pioneer_array_water_sampling_data.csv\")\n",
    "pioneer.head()"
   ]
  },
  {
   "cell_type": "markdown",
   "metadata": {},
   "source": [
    "Replace -9999999 with NaNs\n"
   ]
  },
  {
   "cell_type": "code",
   "execution_count": 10,
   "metadata": {},
   "outputs": [],
   "source": [
    "pioneer = pioneer.replace(to_replace=\"-9999999\", value=np.nan)\n",
    "pioneer = pioneer.replace(to_replace=-9999999, value=np.nan)"
   ]
  },
  {
   "cell_type": "markdown",
   "metadata": {},
   "source": [
    "Convert times from strings to pandas datetime objects\n"
   ]
  },
  {
   "cell_type": "code",
   "execution_count": 11,
   "metadata": {},
   "outputs": [],
   "source": [
    "pioneer[\"Start Time [UTC]\"] = pioneer[\"Start Time [UTC]\"].apply(lambda x: convert_times(x))\n",
    "pioneer[\"CTD Bottle Closure Time [UTC]\"] = pioneer[\"CTD Bottle Closure Time [UTC]\"].apply(lambda x: convert_times(x))"
   ]
  },
  {
   "cell_type": "markdown",
   "metadata": {},
   "source": [
    "Convert times from strings to pandas datetime objects\n"
   ]
  },
  {
   "cell_type": "code",
   "execution_count": 12,
   "metadata": {},
   "outputs": [],
   "source": [
    "pioneer[\"Start Time [UTC]\"] = pioneer[\"Start Time [UTC]\"].apply(lambda x: convert_times(x))\n",
    "pioneer[\"CTD Bottle Closure Time [UTC]\"] = pioneer[\"CTD Bottle Closure Time [UTC]\"].apply(lambda x: convert_times(x))"
   ]
  },
  {
   "cell_type": "markdown",
   "metadata": {},
   "source": [
    "#### Filter data\n",
    "Next, we want to filter the data based on the data flag associated with the sample. First, we should drop all of the ```NaN``` values in the Niskin column to eliminate entries without any bottle samples."
   ]
  },
  {
   "cell_type": "code",
   "execution_count": 13,
   "metadata": {},
   "outputs": [],
   "source": [
    "irminger_sea = irminger_sea.dropna(subset=[\"Niskin/Bottle Position\"])\n",
    "pioneer = pioneer.dropna(subset=[\"Niskin/Bottle Position\"])"
   ]
  },
  {
   "cell_type": "markdown",
   "metadata": {},
   "source": [
    "Now, translate the bit map flag of the file into the standard WOCE format"
   ]
  },
  {
   "cell_type": "code",
   "execution_count": 14,
   "metadata": {},
   "outputs": [],
   "source": [
    "import re\n",
    "\n",
    "class QualityFlags():\n",
    "    \"\"\"Primary flags for QARTOD\"\"\"\n",
    "    \n",
    "    GOOD = 1\n",
    "    UNKNOWN = 2\n",
    "    SUSPECT = 3\n",
    "    BAD = 4\n",
    "    MISSING = 9\n",
    "\n",
    "FLAGS = QualityFlags\n",
    "\n",
    "def check_fill(flag):\n",
    "    \"\"\"Function to check if the flag is a fill value\"\"\"\n",
    "    if pd.isna(flag):\n",
    "        return True\n",
    "    elif str(flag) == \"-9999999\":\n",
    "        return True\n",
    "    elif \"1\" not in str(flag):\n",
    "        return True\n",
    "    else:\n",
    "        return False\n",
    "\n",
    "def parse_flag(flag):\n",
    "    \"\"\"Function to parse the quality flag. Returns fill or nan when appropriate.\"\"\"\n",
    "    locs=[]\n",
    "    for match in re.finditer(\"1\", flag[::-1], re.S):\n",
    "        locs.append(match.span()[0])\n",
    "    return locs\n",
    "    \n",
    "def interp_ctd_flag(flag):\n",
    "    \"Function which interprets CTD flags to standard convention\"\n",
    "    \n",
    "    # First filter for fill \n",
    "    if check_fill(flag):\n",
    "        return flag\n",
    "    else:\n",
    "        parsed_flag = parse_flag(flag)\n",
    "        max_bit = max(parsed_flag)\n",
    "        if max_bit == 1:\n",
    "            return QualityFlags.MISSING\n",
    "        elif max_bit == 2:\n",
    "            return QualityFlags.GOOD\n",
    "        elif max_bit == 3:\n",
    "            return QualityFlags.SUSPECT\n",
    "        elif max_bit == 4:\n",
    "            return QualityFlags.BAD\n",
    "        else:\n",
    "            return QualityFlags.UNKNOWN\n",
    "        \n",
    "def interp_discrete_flag(flag):\n",
    "    \"\"\"Function which interprets discrete Bottle flags to standard convention.\"\"\"\n",
    "    \n",
    "    # First filter for fill values\n",
    "    if check_fill(flag):\n",
    "        return flag\n",
    "    else:\n",
    "        parsed_flag = parse_flag(flag)\n",
    "        max_bit = max(parsed_flag)\n",
    "        if max_bit == 1:\n",
    "            return QualityFlags.MISSING\n",
    "        elif max_bit == 2:\n",
    "            return QualityFlags.GOOD\n",
    "        elif max_bit == 3:\n",
    "            return QualityFlags.SUSPECT\n",
    "        elif max_bit == 4:\n",
    "            return QualityFlags.BAD\n",
    "        else:\n",
    "            return QualityFlags.UNKNOWN\n",
    "        \n",
    "def interp_replicate_flag(flag):\n",
    "    \"\"\"Function which returns a boolean if a sample has a duplicate/replicate sample.\"\"\"\n",
    "    \n",
    "    # First filter for fill values\n",
    "    if check_fill(flag):\n",
    "        return flag\n",
    "    else:\n",
    "        parsed_flag = parse_flag(flag)\n",
    "        max_bit = max(parsed_flag)\n",
    "        if max_bit == 3 or max_bit == 4:\n",
    "            return True\n",
    "        else:\n",
    "            return False\n",
    "        \n",
    "def interp_niskin_flag(flag):\n",
    "    \"\"\"Function which interprets Niskin bottle flags\"\"\"\n",
    "    \n",
    "    if check_fill(flag):\n",
    "        return flag\n",
    "    else:\n",
    "        parsed_flag = parse_flag(flag)\n",
    "        max_bit = max(parsed_flag)\n",
    "        if max_bit == 1:\n",
    "            return QualityFlags.MISSING\n",
    "        elif max_bit == 2:\n",
    "            return QualityFlags.GOOD\n",
    "        elif max_bit == 3 or max_bit == 4 or max_bit == 5:\n",
    "            return QualityFlags.SUSPECT\n",
    "        else:\n",
    "            return QualityFlags.UNKNOWN\n",
    "            "
   ]
  },
  {
   "cell_type": "code",
   "execution_count": 15,
   "metadata": {},
   "outputs": [
    {
     "data": {
      "text/plain": [
       "1"
      ]
     },
     "execution_count": 15,
     "metadata": {},
     "output_type": "execute_result"
    }
   ],
   "source": [
    "FLAGS = QualityFlags()\n",
    "FLAGS.GOOD"
   ]
  },
  {
   "cell_type": "code",
   "execution_count": 16,
   "metadata": {},
   "outputs": [],
   "source": [
    "for col in irminger_sea.columns:\n",
    "    if \"Flag\" in col:\n",
    "        if \"CTD\" in col and \"File\" not in col:\n",
    "            irminger_sea[col] = irminger_sea[col].apply(lambda x: interp_ctd_flag(x))\n",
    "        elif \"Discrete\" in col:\n",
    "            irminger_sea[col] = irminger_sea[col].apply(lambda x: interp_discrete_flag(x))\n",
    "        elif \"Replicate\" in col:\n",
    "            irminger_sea[col] = irminger_sea[col].apply(lambda x: interp_replicate_flag(x))\n",
    "        elif \"Niskin\" in col:\n",
    "            irminger_sea[col] = irminger_sea[col].apply(lambda x: interp_niskin_flag(x))\n",
    "        else:\n",
    "            pass"
   ]
  },
  {
   "cell_type": "code",
   "execution_count": 17,
   "metadata": {},
   "outputs": [],
   "source": [
    "for col in pioneer.columns:\n",
    "    if \"Flag\" in col:\n",
    "        if \"CTD\" in col and \"File\" not in col:\n",
    "            pioneer[col] = pioneer[col].apply(lambda x: interp_ctd_flag(x))\n",
    "        elif \"Discrete\" in col:\n",
    "            pioneer[col] = pioneer[col].apply(lambda x: interp_discrete_flag(x))\n",
    "        elif \"Replicate\" in col:\n",
    "            pioneer[col] = pioneer[col].apply(lambda x: interp_replicate_flag(x))\n",
    "        elif \"Niskin\" in col:\n",
    "            pioneer[col] = pioneer[col].apply(lambda x: interp_niskin_flag(x))\n",
    "        else:\n",
    "            pass"
   ]
  },
  {
   "cell_type": "markdown",
   "metadata": {},
   "source": [
    "With the flags interpreted to simpler scheme, can now filter the data to keep only the \"good\" and \"suspicious\" data. We'll replace the bad or missing data with NaNs so we can drop them in the next step"
   ]
  },
  {
   "cell_type": "code",
   "execution_count": 18,
   "metadata": {},
   "outputs": [],
   "source": [
    "# ====================================================\n",
    "# Irminger Sea data\n",
    "mask = (irminger_sea[\"Discrete Alkalinity Flag\"] != 1) & (irminger_sea[\"Discrete Alkalinity Flag\"] != 3)\n",
    "to_replace = irminger_sea[\"Discrete Alkalinity [umol/kg]\"][mask].dropna().unique()\n",
    "irminger_sea[\"Discrete Alkalinity [umol/kg]\"].replace(to_replace=to_replace, value=np.nan, inplace=True)\n",
    "\n",
    "mask = (irminger_sea[\"Discrete DIC Flag\"] != 1) & (irminger_sea[\"Discrete DIC Flag\"] != 3)\n",
    "to_replace = irminger_sea[\"Discrete DIC [umol/kg]\"][mask].dropna().unique()\n",
    "irminger_sea[\"Discrete DIC [umol/kg]\"].replace(to_replace=to_replace, value=np.nan, inplace=True)\n",
    "\n",
    "mask = (irminger_sea[\"Discrete pH Flag\"] != 1) & (irminger_sea[\"Discrete pH Flag\"] != 3)\n",
    "to_replace = irminger_sea[\"Discrete pH [Total scale]\"][mask].dropna().unique()\n",
    "irminger_sea[\"Discrete pH [Total scale]\"].replace(to_replace=to_replace, value=np.nan, inplace=True)\n",
    "\n",
    "# ====================================================\n",
    "# Pioneer Array data\n",
    "mask = (pioneer[\"Discrete Alkalinity Flag\"] != 1) & (pioneer[\"Discrete Alkalinity Flag\"] != 3)\n",
    "to_replace = pioneer[\"Discrete Alkalinity [umol/kg]\"][mask].dropna().unique()\n",
    "pioneer[\"Discrete Alkalinity [umol/kg]\"].replace(to_replace=to_replace, value=np.nan, inplace=True)\n",
    "\n",
    "mask = (pioneer[\"Discrete DIC Flag\"] != 1) & (pioneer[\"Discrete DIC Flag\"] != 3)\n",
    "to_replace = pioneer[\"Discrete DIC [umol/kg]\"][mask].dropna().unique()\n",
    "pioneer[\"Discrete DIC [umol/kg]\"].replace(to_replace=to_replace, value=np.nan, inplace=True)\n",
    "\n",
    "mask = (pioneer[\"Discrete pH Flag\"] != 1) & (pioneer[\"Discrete pH Flag\"] != 3)\n",
    "to_replace = pioneer[\"Discrete pH [Total scale]\"][mask].dropna().unique()\n",
    "pioneer[\"Discrete pH [Total scale]\"].replace(to_replace=to_replace, value=np.nan, inplace=True)"
   ]
  },
  {
   "cell_type": "markdown",
   "metadata": {},
   "source": [
    "Drop rows with NaNs in the carbon system data, since those don't have any relevant data"
   ]
  },
  {
   "cell_type": "code",
   "execution_count": 19,
   "metadata": {},
   "outputs": [],
   "source": [
    "carbon_columns = [\"Discrete Alkalinity [umol/kg]\", \"Discrete DIC [umol/kg]\", \"Discrete pH [Total scale]\"]\n",
    "pioneer = pioneer.dropna(subset=carbon_columns, how=\"all\")\n",
    "irminger_sea = irminger_sea.dropna(subset=carbon_columns, how=\"all\")"
   ]
  },
  {
   "cell_type": "markdown",
   "metadata": {},
   "source": [
    "#### Calculate TEOS-10 Properties for Carbon System Bottle Data \n",
    "The TEOS-10 properties are considered to be derived from thermodynamic principles whereas the previous TEOS-80 was derived from empirical observations. Here, we'll add in the parameters for conservative temperature, absolute salinity, and neutral density."
   ]
  },
  {
   "cell_type": "code",
   "execution_count": 20,
   "metadata": {
    "scrolled": true
   },
   "outputs": [],
   "source": [
    "# Import the gsw package\n",
    "import gsw\n",
    "\n",
    "# ======================================================================\n",
    "# Irminger Sea: Calculate some key physical parameters to get density based on TEOS-10\n",
    "SP = irminger_sea[[\"CTD Salinity 1 [psu]\", \"CTD Salinity 2 [psu]\"]].mean(axis=1)\n",
    "T = irminger_sea[[\"CTD Temperature 1 [deg C]\", \"CTD Temperature 2 [deg C]\"]].mean(axis=1)\n",
    "P = irminger_sea[\"CTD Pressure [db]\"]\n",
    "LAT = irminger_sea[\"CTD Latitude [deg]\"]\n",
    "LON = irminger_sea[\"CTD Longitude [deg]\"]\n",
    "\n",
    "# Absolute salinity\n",
    "SA = gsw.conversions.SA_from_SP(SP, P, LON, LAT)\n",
    "irminger_sea[\"CTD Absolute Salinity [g/kg]\"] = SA\n",
    "\n",
    "# Conservative temperature\n",
    "CT = gsw.conversions.CT_from_t(SA, T, P)\n",
    "irminger_sea[\"CTD Conservative Temperature\"] = CT\n",
    "\n",
    "# Density\n",
    "RHO = gsw.density.rho(SA, CT, P)\n",
    "irminger_sea[\"CTD Density [kg/m^3]\"] = RHO\n",
    "\n",
    "# Calculate potential density\n",
    "SIGMA0 = gsw.density.sigma0(SA, CT)\n",
    "irminger_sea[\"CTD Sigma [kg/m^3]\"] = RHO\n",
    "\n",
    "# ======================================================================\n",
    "# Pioneer: Calculate some key physical parameters to get density based on TEOS-10\n",
    "SP = pioneer[[\"CTD Salinity 1 [psu]\", \"CTD Salinity 2 [psu]\"]].mean(axis=1)\n",
    "T = pioneer[[\"CTD Temperature 1 [deg C]\", \"CTD Temperature 2 [deg C]\"]].mean(axis=1)\n",
    "P = pioneer[\"CTD Pressure [db]\"]\n",
    "LAT = pioneer[\"CTD Latitude [deg]\"]\n",
    "LON = pioneer[\"CTD Longitude [deg]\"]\n",
    "\n",
    "# Absolute salinity\n",
    "SA = gsw.conversions.SA_from_SP(SP, P, LON, LAT)\n",
    "pioneer[\"CTD Absolute Salinity [g/kg]\"] = SA\n",
    "\n",
    "# Conservative temperature\n",
    "CT = gsw.conversions.CT_from_t(SA, T, P)\n",
    "pioneer[\"CTD Conservative Temperature\"] = CT\n",
    "\n",
    "# Density\n",
    "RHO = gsw.density.rho(SA, CT, P)\n",
    "pioneer[\"CTD Density [kg/m^3]\"] = RHO\n",
    "\n",
    "# Calculate potential density\n",
    "SIGMA0 = gsw.density.sigma0(SA, CT)\n",
    "pioneer[\"CTD Sigma [kg/m^3]\"] = RHO"
   ]
  },
  {
   "cell_type": "markdown",
   "metadata": {},
   "source": [
    "---\n",
    "### Calculate Carbon System Parameters\n",
    "The discrete water samples were tested for Total Alkalinity, Dissolved Inorganic Carbon, and pH [Total Scale]. We can calculate the discrete water sample pCO<sub>2</sub> concentrations from the TA and DIC using the ```CO2SYS``` program. \n",
    "\n",
    "Use of ```CO2SYS``` requires, at a minimum, the following inputs:\n",
    "* ```PAR1```: First measured carbon system measurement\n",
    "* ```PAR2```: Second measured carbon system measurement\n",
    "* ```PAR1_type```: The type of PAR1 \n",
    "        * 1 = Total Alkalinity umol/kg\n",
    "        * 2 = DIC umol/kg\n",
    "        * 3 = pH Total Scale\n",
    "        * 4 = pCO2\n",
    "        * 5 = fCO2\n",
    "* ```PAR2_type```: The type of PAR2\n",
    "\n",
    "The following are optional hydrographic inputs:\n",
    "* ```salinity```: practical salinity\n",
    "* ```temperature```: the temperature at which PAR1 and PAR2 are provided (in C)\n",
    "* ```pressure```: the water pressure at which ```PAR1``` and ```PAR2``` are measured\n"
   ]
  },
  {
   "cell_type": "code",
   "execution_count": 21,
   "metadata": {},
   "outputs": [],
   "source": [
    "import PyCO2SYS as pyco2"
   ]
  },
  {
   "cell_type": "markdown",
   "metadata": {},
   "source": [
    "#### Irminger Sea\n",
    "Start by calculating the remaining carbon system parameters for the Irminger Sea carbon bottle data."
   ]
  },
  {
   "cell_type": "code",
   "execution_count": 22,
   "metadata": {},
   "outputs": [],
   "source": [
    "# Get the key parameters\n",
    "DIC = irminger_sea[\"Discrete DIC [umol/kg]\"]\n",
    "TA = irminger_sea[\"Discrete Alkalinity [umol/kg]\"]\n",
    "PH = irminger_sea[\"Discrete pH [Total scale]\"]\n",
    "SAL = irminger_sea[\"Discrete Salinity [psu]\"]\n",
    "\n",
    "# Set the input hydrographic parameters at which the DIC/TA/pH lab measurements were performed\n",
    "TEMP_IN = 25\n",
    "PRES_IN = 0\n",
    "\n",
    "# Get the hydrographic parameters at which the samples were taken\n",
    "TEMP_OUT = irminger_sea[[\"CTD Temperature 1 [deg C]\",\"CTD Temperature 1 [deg C]\"]].mean(axis=1, skipna=True)\n",
    "PRES_OUT = irminger_sea[\"CTD Pressure [db]\"]\n",
    "\n",
    "# Nutrient inputs = need to fill NaNs with zeros otherwise will return NaNs\n",
    "SIO4 = irminger_sea[\"Discrete Silicate [uM]\"].fillna(value=0)\n",
    "PO4 = irminger_sea[\"Discrete Phosphate [uM]\"].fillna(value=0)\n",
    "NH4 = irminger_sea[\"Discrete Ammonium [uM]\"].fillna(value=0)"
   ]
  },
  {
   "cell_type": "code",
   "execution_count": 23,
   "metadata": {},
   "outputs": [],
   "source": [
    "CO2dict = pyco2.CO2SYS_nd(TA, DIC, 1, 2, SAL, total_ammonia=NH4, total_phosphate=PO4, total_silicate=SIO4, \n",
    "                          temperature_out=TEMP_OUT, pressure_out=PRES_OUT)"
   ]
  },
  {
   "cell_type": "markdown",
   "metadata": {},
   "source": [
    "##### Check accuracy of CO2SYS\n",
    "In order to demonstrate that the ```CO2SYS``` software package accurately calculates the pCO<sub>2</sub>, we can compare the pH calculated by ```CO2SYS``` against the measured seawater pH. This serves as an independent check and bound on the error introduced by the carbonate system algorithms. "
   ]
  },
  {
   "cell_type": "code",
   "execution_count": 24,
   "metadata": {},
   "outputs": [],
   "source": [
    "# Get the pH data calculated from the DIC and TA\n",
    "PHout = CO2dict[\"pH\"]"
   ]
  },
  {
   "cell_type": "code",
   "execution_count": 25,
   "metadata": {},
   "outputs": [],
   "source": [
    "# Next, check the pH results to see how the calculated pH compares with the measured pH\n",
    "df = pd.DataFrame(data=[PH.values, PHout], index=[\"Measured\", \"CO2sys\"]).T.dropna()\n",
    "df = df[df[\"CO2sys\"] > 7]\n",
    "df = df.sort_values(by=\"Measured\")\n",
    "PHmeas = df[\"Measured\"].values.reshape(-1,1)\n",
    "PHcalc = df[\"CO2sys\"].values.reshape(-1,1)"
   ]
  },
  {
   "cell_type": "code",
   "execution_count": 26,
   "metadata": {},
   "outputs": [],
   "source": [
    "# Use sklearn linear regression model to determine the accuracy \n",
    "from sklearn.linear_model import LinearRegression\n",
    "from sklearn.metrics import mean_squared_error\n",
    "\n",
    "# Fit a linear regression to the measured vs calculated pH values\n",
    "regression = LinearRegression()\n",
    "regression.fit(PHmeas, PHcalc)\n",
    "\n",
    "# Get the regression values\n",
    "PHpred = regression.predict(PHmeas)\n",
    "PHmse = mean_squared_error(PHpred, PHcalc)\n",
    "PHstd = np.sqrt(PHmse)"
   ]
  },
  {
   "cell_type": "code",
   "execution_count": 27,
   "metadata": {},
   "outputs": [
    {
     "data": {
      "image/png": "[encoded data removed]",
      "text/plain": [
       "<Figure size 864x576 with 1 Axes>"
      ]
     },
     "metadata": {
      "needs_background": "light"
     },
     "output_type": "display_data"
    }
   ],
   "source": [
    "plt.rcParams[\"font.size\"] = 12\n",
    "\n",
    "# Look at how closely the pH measurements match eachother\n",
    "fig, ax = plt.subplots(nrows=1, ncols=1, figsize=(12,8))\n",
    "ax.scatter(PHmeas, PHcalc)\n",
    "ax.plot(PHmeas, PHpred, c='r', label='Regression')\n",
    "\n",
    "#ax.fill_between(PHmeas, PHpred-1.96*PHstd, PHpred+1.96*PHstd, color=\"tab:red\")\n",
    "ax.plot(PHmeas, PHpred-1.96*PHstd, ':', c='r', label='2 Stds')\n",
    "ax.plot(PHmeas, PHpred+1.96*PHstd, ':', c='r')\n",
    "ax.set_xlabel('Discrete pH\\n[Total Scale, T=25C]', fontsize=12)\n",
    "ax.set_ylabel('CO2SYS-calculated pH\\n[Total Scale, T=25C]', fontsize=12)\n",
    "ax.text(0.8,0.4,f'Std: {PHstd.round(3)}', fontsize='16', transform=ax.transAxes)\n",
    "ax.legend(fontsize=12)\n",
    "ax.set_title(\"Irminger Sea Carbon Calculation Comparison\", fontsize=\"20\")\n",
    "ax.grid()"
   ]
  },
  {
   "cell_type": "markdown",
   "metadata": {},
   "source": [
    "##### Calculate the pCO2\n",
    "Add the derived pCO2 and pH to the bottle data"
   ]
  },
  {
   "cell_type": "code",
   "execution_count": 28,
   "metadata": {},
   "outputs": [],
   "source": [
    "irminger_sea[\"Calculated pCO2 [uatm]\"] = CO2dict[\"pCO2_out\"]\n",
    "irminger_sea[\"Calculated pH\"] = CO2dict[\"pH\"]"
   ]
  },
  {
   "cell_type": "markdown",
   "metadata": {},
   "source": [
    "#### Pioneer"
   ]
  },
  {
   "cell_type": "code",
   "execution_count": 29,
   "metadata": {},
   "outputs": [],
   "source": [
    "# Get the key parameters\n",
    "DIC = pioneer[\"Discrete DIC [umol/kg]\"]\n",
    "TA = pioneer[\"Discrete Alkalinity [umol/kg]\"]\n",
    "PH = pioneer[\"Discrete pH [Total scale]\"].apply(lambda x: float(x))\n",
    "SAL = pioneer[\"Discrete Salinity [psu]\"]\n",
    "\n",
    "# Set the input hydrographic parameters at which the DIC/TA/pH lab measurements were performed\n",
    "TEMP_IN = 25\n",
    "PRES_IN = 0\n",
    "\n",
    "# Get the hydrographic parameters at which the samples were taken\n",
    "TEMP_OUT = pioneer[[\"CTD Temperature 1 [deg C]\",\"CTD Temperature 1 [deg C]\"]].mean(axis=1, skipna=True)\n",
    "PRES_OUT = pioneer[\"CTD Pressure [db]\"]\n",
    "\n",
    "# Nutrient inputs = need to fill NaNs with zeros otherwise will return NaNs\n",
    "SIO4 = pioneer[\"Discrete Silicate [uM]\"].fillna(value=0)\n",
    "PO4 = pioneer[\"Discrete Phosphate [uM]\"].fillna(value=0)\n",
    "NH4 = pioneer[\"Discrete Ammonium [uM]\"].fillna(value=0)"
   ]
  },
  {
   "cell_type": "code",
   "execution_count": 30,
   "metadata": {},
   "outputs": [],
   "source": [
    "CO2dict = pyco2.CO2SYS_nd(TA, DIC, 1, 2, SAL, total_ammonia=NH4, total_phosphate=PO4, total_silicate=SIO4, \n",
    "                          temperature_out=TEMP_OUT, pressure_out=PRES_OUT)"
   ]
  },
  {
   "cell_type": "code",
   "execution_count": 31,
   "metadata": {},
   "outputs": [],
   "source": [
    "# Get the pH data calculated from the DIC and TA\n",
    "PHout = CO2dict[\"pH\"]"
   ]
  },
  {
   "cell_type": "code",
   "execution_count": 32,
   "metadata": {},
   "outputs": [],
   "source": [
    "# Next, check the pH results to see how the calculated pH compares with the measured pH\n",
    "df = pd.DataFrame(data=[PH.values, PHout], index=[\"Measured\", \"CO2sys\"]).T.dropna()\n",
    "df = df[df[\"CO2sys\"] > 7]\n",
    "df = df.sort_values(by=\"Measured\")\n",
    "PHmeas = df[\"Measured\"].values.reshape(-1,1)\n",
    "PHcalc = df[\"CO2sys\"].values.reshape(-1,1)"
   ]
  },
  {
   "cell_type": "code",
   "execution_count": 33,
   "metadata": {},
   "outputs": [],
   "source": [
    "# Use sklearn linear regression model to determine the accuracy \n",
    "from sklearn.linear_model import LinearRegression\n",
    "from sklearn.metrics import mean_squared_error\n",
    "\n",
    "# Fit a linear regression to the measured vs calculated pH values\n",
    "regression = LinearRegression()\n",
    "regression.fit(PHmeas, PHcalc)\n",
    "\n",
    "# Get the regression values\n",
    "PHpred = regression.predict(PHmeas)\n",
    "PHmse = mean_squared_error(PHpred, PHcalc)\n",
    "PHstd = np.sqrt(PHmse)"
   ]
  },
  {
   "cell_type": "code",
   "execution_count": 34,
   "metadata": {
    "scrolled": true
   },
   "outputs": [
    {
     "data": {
      "image/png": "[encoded data removed]",
      "text/plain": [
       "<Figure size 864x576 with 1 Axes>"
      ]
     },
     "metadata": {
      "needs_background": "light"
     },
     "output_type": "display_data"
    }
   ],
   "source": [
    "plt.rcParams[\"font.size\"] = 12\n",
    "\n",
    "# Look at how closely the pH measurements match eachother\n",
    "fig, ax = plt.subplots(nrows=1, ncols=1, figsize=(12,8))\n",
    "ax.scatter(PHmeas, PHcalc)\n",
    "ax.plot(PHmeas, PHpred, c='r', label='Regression')\n",
    "\n",
    "#ax.fill_between(PHmeas, PHpred-1.96*PHstd, PHpred+1.96*PHstd, color=\"tab:red\")\n",
    "ax.plot(PHmeas, PHpred-1.96*PHstd, ':', c='r', label='2 Stds')\n",
    "ax.plot(PHmeas, PHpred+1.96*PHstd, ':', c='r')\n",
    "ax.set_xlabel('Discrete pH\\n[Total Scale, T=25C]', fontsize=12)\n",
    "ax.set_ylabel('CO2SYS-calculated pH\\n[Total Scale, T=25C]', fontsize=12)\n",
    "ax.text(0.8,0.4,f'Std: {PHstd.round(3)}', fontsize='16', transform=ax.transAxes)\n",
    "ax.legend(fontsize=12)\n",
    "ax.set_title(\"Pioneer Array Carbon Calculation Comparison\", fontsize=\"20\")\n",
    "ax.grid()"
   ]
  },
  {
   "cell_type": "markdown",
   "metadata": {},
   "source": [
    "##### Calculate the pCO2\n",
    "Add the derived pCO2 and pH to the bottle data"
   ]
  },
  {
   "cell_type": "code",
   "execution_count": 35,
   "metadata": {},
   "outputs": [],
   "source": [
    "pioneer[\"Calculated pCO2 [uatm]\"] = CO2dict[\"pCO2_out\"]\n",
    "pioneer[\"Calculated pH\"] = CO2dict[\"pH\"]"
   ]
  },
  {
   "cell_type": "markdown",
   "metadata": {},
   "source": [
    "## PCO2A\n",
    "\n",
    "First, we examine the **```PCO2A```** dataset from the Irminger Surface Mooring Buoy. The **```PCO2A```** samples both the air and the surface water pCO2 concentrations. "
   ]
  },
  {
   "cell_type": "code",
   "execution_count": 36,
   "metadata": {},
   "outputs": [],
   "source": [
    "sys.path.append(\"../../\")\n",
    "from OS2022.OS2022 import plotting"
   ]
  },
  {
   "cell_type": "code",
   "execution_count": 37,
   "metadata": {},
   "outputs": [
    {
     "data": {
      "text/html": [
       "<div><svg style=\"position: absolute; width: 0; height: 0; overflow: hidden\">\n",
       "<defs>\n",
       "<symbol id=\"icon-database\" viewBox=\"0 0 32 32\">\n",
       "<path d=\"M16 0c-8.837 0-16 2.239-16 5v4c0 2.761 7.163 5 16 5s16-2.239 16-5v-4c0-2.761-7.163-5-16-5z\"></path>\n",
       "<path d=\"M16 17c-8.837 0-16-2.239-16-5v6c0 2.761 7.163 5 16 5s16-2.239 16-5v-6c0 2.761-7.163 5-16 5z\"></path>\n",
       "<path d=\"M16 26c-8.837 0-16-2.239-16-5v6c0 2.761 7.163 5 16 5s16-2.239 16-5v-6c0 2.761-7.163 5-16 5z\"></path>\n",
       "</symbol>\n",
       "<symbol id=\"icon-file-text2\" viewBox=\"0 0 32 32\">\n",
       "<path d=\"M28.681 7.159c-0.694-0.947-1.662-2.053-2.724-3.116s-2.169-2.030-3.116-2.724c-1.612-1.182-2.393-1.319-2.841-1.319h-15.5c-1.378 0-2.5 1.121-2.5 2.5v27c0 1.378 1.122 2.5 2.5 2.5h23c1.378 0 2.5-1.122 2.5-2.5v-19.5c0-0.448-0.137-1.23-1.319-2.841zM24.543 5.457c0.959 0.959 1.712 1.825 2.268 2.543h-4.811v-4.811c0.718 0.556 1.584 1.309 2.543 2.268zM28 29.5c0 0.271-0.229 0.5-0.5 0.5h-23c-0.271 0-0.5-0.229-0.5-0.5v-27c0-0.271 0.229-0.5 0.5-0.5 0 0 15.499-0 15.5 0v7c0 0.552 0.448 1 1 1h7v19.5z\"></path>\n",
       "<path d=\"M23 26h-14c-0.552 0-1-0.448-1-1s0.448-1 1-1h14c0.552 0 1 0.448 1 1s-0.448 1-1 1z\"></path>\n",
       "<path d=\"M23 22h-14c-0.552 0-1-0.448-1-1s0.448-1 1-1h14c0.552 0 1 0.448 1 1s-0.448 1-1 1z\"></path>\n",
       "<path d=\"M23 18h-14c-0.552 0-1-0.448-1-1s0.448-1 1-1h14c0.552 0 1 0.448 1 1s-0.448 1-1 1z\"></path>\n",
       "</symbol>\n",
       "</defs>\n",
       "</svg>\n",
       "<style>/* CSS stylesheet for displaying xarray objects in jupyterlab.\n",
       " *\n",
       " */\n",
       "\n",
       ":root {\n",
       "  --xr-font-color0: var(--jp-content-font-color0, rgba(0, 0, 0, 1));\n",
       "  --xr-font-color2: var(--jp-content-font-color2, rgba(0, 0, 0, 0.54));\n",
       "  --xr-font-color3: var(--jp-content-font-color3, rgba(0, 0, 0, 0.38));\n",
       "  --xr-border-color: var(--jp-border-color2, #e0e0e0);\n",
       "  --xr-disabled-color: var(--jp-layout-color3, #bdbdbd);\n",
       "  --xr-background-color: var(--jp-layout-color0, white);\n",
       "  --xr-background-color-row-even: var(--jp-layout-color1, white);\n",
       "  --xr-background-color-row-odd: var(--jp-layout-color2, #eeeeee);\n",
       "}\n",
       "\n",
       "html[theme=dark],\n",
       "body.vscode-dark {\n",
       "  --xr-font-color0: rgba(255, 255, 255, 1);\n",
       "  --xr-font-color2: rgba(255, 255, 255, 0.54);\n",
       "  --xr-font-color3: rgba(255, 255, 255, 0.38);\n",
       "  --xr-border-color: #1F1F1F;\n",
       "  --xr-disabled-color: #515151;\n",
       "  --xr-background-color: #111111;\n",
       "  --xr-background-color-row-even: #111111;\n",
       "  --xr-background-color-row-odd: #313131;\n",
       "}\n",
       "\n",
       ".xr-wrap {\n",
       "  display: block;\n",
       "  min-width: 300px;\n",
       "  max-width: 700px;\n",
       "}\n",
       "\n",
       ".xr-text-repr-fallback {\n",
       "  /* fallback to plain text repr when CSS is not injected (untrusted notebook) */\n",
       "  display: none;\n",
       "}\n",
       "\n",
       ".xr-header {\n",
       "  padding-top: 6px;\n",
       "  padding-bottom: 6px;\n",
       "  margin-bottom: 4px;\n",
       "  border-bottom: solid 1px var(--xr-border-color);\n",
       "}\n",
       "\n",
       ".xr-header > div,\n",
       ".xr-header > ul {\n",
       "  display: inline;\n",
       "  margin-top: 0;\n",
       "  margin-bottom: 0;\n",
       "}\n",
       "\n",
       ".xr-obj-type,\n",
       ".xr-array-name {\n",
       "  margin-left: 2px;\n",
       "  margin-right: 10px;\n",
       "}\n",
       "\n",
       ".xr-obj-type {\n",
       "  color: var(--xr-font-color2);\n",
       "}\n",
       "\n",
       ".xr-sections {\n",
       "  padding-left: 0 !important;\n",
       "  display: grid;\n",
       "  grid-template-columns: 150px auto auto 1fr 20px 20px;\n",
       "}\n",
       "\n",
       ".xr-section-item {\n",
       "  display: contents;\n",
       "}\n",
       "\n",
       ".xr-section-item input {\n",
       "  display: none;\n",
       "}\n",
       "\n",
       ".xr-section-item input + label {\n",
       "  color: var(--xr-disabled-color);\n",
       "}\n",
       "\n",
       ".xr-section-item input:enabled + label {\n",
       "  cursor: pointer;\n",
       "  color: var(--xr-font-color2);\n",
       "}\n",
       "\n",
       ".xr-section-item input:enabled + label:hover {\n",
       "  color: var(--xr-font-color0);\n",
       "}\n",
       "\n",
       ".xr-section-summary {\n",
       "  grid-column: 1;\n",
       "  color: var(--xr-font-color2);\n",
       "  font-weight: 500;\n",
       "}\n",
       "\n",
       ".xr-section-summary > span {\n",
       "  display: inline-block;\n",
       "  padding-left: 0.5em;\n",
       "}\n",
       "\n",
       ".xr-section-summary-in:disabled + label {\n",
       "  color: var(--xr-font-color2);\n",
       "}\n",
       "\n",
       ".xr-section-summary-in + label:before {\n",
       "  display: inline-block;\n",
       "  content: '►';\n",
       "  font-size: 11px;\n",
       "  width: 15px;\n",
       "  text-align: center;\n",
       "}\n",
       "\n",
       ".xr-section-summary-in:disabled + label:before {\n",
       "  color: var(--xr-disabled-color);\n",
       "}\n",
       "\n",
       ".xr-section-summary-in:checked + label:before {\n",
       "  content: '▼';\n",
       "}\n",
       "\n",
       ".xr-section-summary-in:checked + label > span {\n",
       "  display: none;\n",
       "}\n",
       "\n",
       ".xr-section-summary,\n",
       ".xr-section-inline-details {\n",
       "  padding-top: 4px;\n",
       "  padding-bottom: 4px;\n",
       "}\n",
       "\n",
       ".xr-section-inline-details {\n",
       "  grid-column: 2 / -1;\n",
       "}\n",
       "\n",
       ".xr-section-details {\n",
       "  display: none;\n",
       "  grid-column: 1 / -1;\n",
       "  margin-bottom: 5px;\n",
       "}\n",
       "\n",
       ".xr-section-summary-in:checked ~ .xr-section-details {\n",
       "  display: contents;\n",
       "}\n",
       "\n",
       ".xr-array-wrap {\n",
       "  grid-column: 1 / -1;\n",
       "  display: grid;\n",
       "  grid-template-columns: 20px auto;\n",
       "}\n",
       "\n",
       ".xr-array-wrap > label {\n",
       "  grid-column: 1;\n",
       "  vertical-align: top;\n",
       "}\n",
       "\n",
       ".xr-preview {\n",
       "  color: var(--xr-font-color3);\n",
       "}\n",
       "\n",
       ".xr-array-preview,\n",
       ".xr-array-data {\n",
       "  padding: 0 5px !important;\n",
       "  grid-column: 2;\n",
       "}\n",
       "\n",
       ".xr-array-data,\n",
       ".xr-array-in:checked ~ .xr-array-preview {\n",
       "  display: none;\n",
       "}\n",
       "\n",
       ".xr-array-in:checked ~ .xr-array-data,\n",
       ".xr-array-preview {\n",
       "  display: inline-block;\n",
       "}\n",
       "\n",
       ".xr-dim-list {\n",
       "  display: inline-block !important;\n",
       "  list-style: none;\n",
       "  padding: 0 !important;\n",
       "  margin: 0;\n",
       "}\n",
       "\n",
       ".xr-dim-list li {\n",
       "  display: inline-block;\n",
       "  padding: 0;\n",
       "  margin: 0;\n",
       "}\n",
       "\n",
       ".xr-dim-list:before {\n",
       "  content: '(';\n",
       "}\n",
       "\n",
       ".xr-dim-list:after {\n",
       "  content: ')';\n",
       "}\n",
       "\n",
       ".xr-dim-list li:not(:last-child):after {\n",
       "  content: ',';\n",
       "  padding-right: 5px;\n",
       "}\n",
       "\n",
       ".xr-has-index {\n",
       "  font-weight: bold;\n",
       "}\n",
       "\n",
       ".xr-var-list,\n",
       ".xr-var-item {\n",
       "  display: contents;\n",
       "}\n",
       "\n",
       ".xr-var-item > div,\n",
       ".xr-var-item label,\n",
       ".xr-var-item > .xr-var-name span {\n",
       "  background-color: var(--xr-background-color-row-even);\n",
       "  margin-bottom: 0;\n",
       "}\n",
       "\n",
       ".xr-var-item > .xr-var-name:hover span {\n",
       "  padding-right: 5px;\n",
       "}\n",
       "\n",
       ".xr-var-list > li:nth-child(odd) > div,\n",
       ".xr-var-list > li:nth-child(odd) > label,\n",
       ".xr-var-list > li:nth-child(odd) > .xr-var-name span {\n",
       "  background-color: var(--xr-background-color-row-odd);\n",
       "}\n",
       "\n",
       ".xr-var-name {\n",
       "  grid-column: 1;\n",
       "}\n",
       "\n",
       ".xr-var-dims {\n",
       "  grid-column: 2;\n",
       "}\n",
       "\n",
       ".xr-var-dtype {\n",
       "  grid-column: 3;\n",
       "  text-align: right;\n",
       "  color: var(--xr-font-color2);\n",
       "}\n",
       "\n",
       ".xr-var-preview {\n",
       "  grid-column: 4;\n",
       "}\n",
       "\n",
       ".xr-var-name,\n",
       ".xr-var-dims,\n",
       ".xr-var-dtype,\n",
       ".xr-preview,\n",
       ".xr-attrs dt {\n",
       "  white-space: nowrap;\n",
       "  overflow: hidden;\n",
       "  text-overflow: ellipsis;\n",
       "  padding-right: 10px;\n",
       "}\n",
       "\n",
       ".xr-var-name:hover,\n",
       ".xr-var-dims:hover,\n",
       ".xr-var-dtype:hover,\n",
       ".xr-attrs dt:hover {\n",
       "  overflow: visible;\n",
       "  width: auto;\n",
       "  z-index: 1;\n",
       "}\n",
       "\n",
       ".xr-var-attrs,\n",
       ".xr-var-data {\n",
       "  display: none;\n",
       "  background-color: var(--xr-background-color) !important;\n",
       "  padding-bottom: 5px !important;\n",
       "}\n",
       "\n",
       ".xr-var-attrs-in:checked ~ .xr-var-attrs,\n",
       ".xr-var-data-in:checked ~ .xr-var-data {\n",
       "  display: block;\n",
       "}\n",
       "\n",
       ".xr-var-data > table {\n",
       "  float: right;\n",
       "}\n",
       "\n",
       ".xr-var-name span,\n",
       ".xr-var-data,\n",
       ".xr-attrs {\n",
       "  padding-left: 25px !important;\n",
       "}\n",
       "\n",
       ".xr-attrs,\n",
       ".xr-var-attrs,\n",
       ".xr-var-data {\n",
       "  grid-column: 1 / -1;\n",
       "}\n",
       "\n",
       "dl.xr-attrs {\n",
       "  padding: 0;\n",
       "  margin: 0;\n",
       "  display: grid;\n",
       "  grid-template-columns: 125px auto;\n",
       "}\n",
       "\n",
       ".xr-attrs dt, dd {\n",
       "  padding: 0;\n",
       "  margin: 0;\n",
       "  float: left;\n",
       "  padding-right: 10px;\n",
       "  width: auto;\n",
       "}\n",
       "\n",
       ".xr-attrs dt {\n",
       "  font-weight: normal;\n",
       "  grid-column: 1;\n",
       "}\n",
       "\n",
       ".xr-attrs dt:hover span {\n",
       "  display: inline-block;\n",
       "  background: var(--xr-background-color);\n",
       "  padding-right: 10px;\n",
       "}\n",
       "\n",
       ".xr-attrs dd {\n",
       "  grid-column: 2;\n",
       "  white-space: pre-wrap;\n",
       "  word-break: break-all;\n",
       "}\n",
       "\n",
       ".xr-icon-database,\n",
       ".xr-icon-file-text2 {\n",
       "  display: inline-block;\n",
       "  vertical-align: middle;\n",
       "  width: 1em;\n",
       "  height: 1.5em !important;\n",
       "  stroke-width: 0;\n",
       "  stroke: currentColor;\n",
       "  fill: currentColor;\n",
       "}\n",
       "</style><pre class='xr-text-repr-fallback'>&lt;xarray.Dataset&gt;\n",
       "Dimensions:                               (time: 351051)\n",
       "Coordinates:\n",
       "  * time                                  (time) datetime64[ns] 2015-05-10T01...\n",
       "Data variables:\n",
       "    humidity                              (time) float32 ...\n",
       "    measured_water_co2                    (time) float32 ...\n",
       "    irga_source_temperature               (time) float32 ...\n",
       "    date_time_string                      (time) object ...\n",
       "    dcl_controller_timestamp              (time) object ...\n",
       "    current_a2d                           (time) float64 ...\n",
       "    gas_stream_pressure                   (time) float32 ...\n",
       "    internal_timestamp                    (time) datetime64[ns] ...\n",
       "    deployment                            (time) int32 ...\n",
       "    humidity_temperature                  (time) float32 ...\n",
       "    irga_detector_temperature             (time) float32 ...\n",
       "    zero_a2d                              (time) float64 ...\n",
       "    avg_irga_temperature                  (time) float32 ...\n",
       "    supply_voltage                        (time) float32 ...\n",
       "    partial_pressure_co2_ssw              (time) float64 ...\n",
       "    partial_pressure_co2_atm              (time) float64 ...\n",
       "    met_salsurf                           (time) float64 ...\n",
       "    sea_surface_temperature               (time) float64 ...\n",
       "    met_wind10m                           (time) float64 ...\n",
       "    pco2_co2flux                          (time) float64 ...\n",
       "    shortwave_irradiance                  (time) float64 ...\n",
       "    barometric_pressure                   (time) float64 ...\n",
       "    precipitation                         (time) float64 ...\n",
       "    relative_humidity                     (time) float64 ...\n",
       "    air_temperature                       (time) float64 ...\n",
       "    met_relwind_speed                     (time) float64 ...\n",
       "    longwave_irradiance                   (time) float64 ...\n",
       "    measured_water_co2_qc_executed        (time) float32 ...\n",
       "    measured_water_co2_qc_results         (time) float32 ...\n",
       "    partial_pressure_co2_ssw_qc_executed  (time) float32 ...\n",
       "    partial_pressure_co2_ssw_qc_results   (time) float32 ...\n",
       "    pco2_co2flux_qc_executed              (time) float32 ...\n",
       "    pco2_co2flux_qc_results               (time) float32 ...\n",
       "Attributes:\n",
       "    node:                               SBD12\n",
       "    comment:                            Data collected from the OOI M2M API a...\n",
       "    publisher_email:                    \n",
       "    sourceUrl:                          http://oceanobservatories.org/\n",
       "    collection_method:                  recovered_host\n",
       "    stream:                             pco2a_a_dcl_instrument_water_recovered\n",
       "    featureType:                        timeSeries\n",
       "    creator_email:                      \n",
       "    publisher_name:                     Ocean Observatories Initiative\n",
       "    date_modified:                      2021-03-12T23:24:05.155579\n",
       "    keywords:                           \n",
       "    cdm_data_type:                      Station\n",
       "    references:                         More information can be found at http...\n",
       "    Metadata_Conventions:               Unidata Dataset Discovery v1.0\n",
       "    date_created:                       2021-03-12T23:24:05.155573\n",
       "    id:                                 CP04OSSM-SBD12-04-PCO2AA000-recovered...\n",
       "    requestUUID:                        b876f15d-eb5d-4f63-b47a-0238ccb69688\n",
       "    contributor_role:                   \n",
       "    summary:                            Dataset Generated by Stream Engine fr...\n",
       "    keywords_vocabulary:                \n",
       "    institution:                        Ocean Observatories Initiative\n",
       "    naming_authority:                   org.oceanobservatories\n",
       "    infoUrl:                            http://oceanobservatories.org/\n",
       "    license:                            \n",
       "    contributor_name:                   \n",
       "    uuid:                               b876f15d-eb5d-4f63-b47a-0238ccb69688\n",
       "    creator_name:                       Ocean Observatories Initiative\n",
       "    title:                              Data produced by Stream Engine versio...\n",
       "    sensor:                             04-PCO2AA000\n",
       "    standard_name_vocabulary:           NetCDF Climate and Forecast (CF) Meta...\n",
       "    acknowledgement:                    National Science Foundation\n",
       "    Conventions:                        CF-1.6\n",
       "    project:                            Ocean Observatories Initiative\n",
       "    source:                             CP04OSSM-SBD12-04-PCO2AA000-recovered...\n",
       "    publisher_url:                      http://oceanobservatories.org/\n",
       "    creator_url:                        http://oceanobservatories.org/\n",
       "    nodc_template_version:              NODC_NetCDF_TimeSeries_Orthogonal_Tem...\n",
       "    subsite:                            CP04OSSM\n",
       "    processing_level:                   L2\n",
       "    history:                            2021-03-12T23:24:05.155508 generated ...\n",
       "    Manufacturer:                       Pro-Oceanus\n",
       "    ModelNumber:                        pCO2-pro\n",
       "    SerialNumber:                       34-229-50A\n",
       "    Description:                        pCO2 Air-Sea: PCO2A Series A\n",
       "    FirmwareVersion:                    Not specified.\n",
       "    SoftwareVersion:                    Not specified.\n",
       "    AssetUniqueID:                      CGINS-PCO2AA-34229\n",
       "    Notes:                              Not specified.\n",
       "    Owner:                              Not specified.\n",
       "    RemoteResources:                    []\n",
       "    ShelfLifeExpirationDate:            Not specified.\n",
       "    Mobile:                             False\n",
       "    AssetManagementRecordLastModified:  2021-02-12T15:28:16.095000\n",
       "    time_coverage_start:                2015-05-10T01:58:27.350000\n",
       "    time_coverage_end:                  2015-05-31T23:57:55.476000\n",
       "    time_coverage_resolution:           P399.99S\n",
       "    geospatial_lat_min:                 39.94063\n",
       "    geospatial_lat_max:                 39.94063\n",
       "    geospatial_lat_units:               degrees_north\n",
       "    geospatial_lat_resolution:          0.1\n",
       "    geospatial_lon_min:                 -70.87855\n",
       "    geospatial_lon_max:                 -70.87855\n",
       "    geospatial_lon_units:               degrees_east\n",
       "    geospatial_lon_resolution:          0.1\n",
       "    geospatial_vertical_units:          meters\n",
       "    geospatial_vertical_resolution:     0.1\n",
       "    geospatial_vertical_positive:       down\n",
       "    lat:                                39.94063\n",
       "    lon:                                -70.87855\n",
       "    Location_name:                      Coastal Pioneer Offshore Surface Moor...</pre><div class='xr-wrap' hidden><div class='xr-header'><div class='xr-obj-type'>xarray.Dataset</div></div><ul class='xr-sections'><li class='xr-section-item'><input id='section-8aeb8cbc-d2fe-4df7-a990-c26281fea3eb' class='xr-section-summary-in' type='checkbox' disabled ><label for='section-8aeb8cbc-d2fe-4df7-a990-c26281fea3eb' class='xr-section-summary'  title='Expand/collapse section'>Dimensions:</label><div class='xr-section-inline-details'><ul class='xr-dim-list'><li><span class='xr-has-index'>time</span>: 351051</li></ul></div><div class='xr-section-details'></div></li><li class='xr-section-item'><input id='section-66c1ff98-18f5-4973-9997-eecc346fb6e4' class='xr-section-summary-in' type='checkbox'  checked><label for='section-66c1ff98-18f5-4973-9997-eecc346fb6e4' class='xr-section-summary' >Coordinates: <span>(1)</span></label><div class='xr-section-inline-details'></div><div class='xr-section-details'><ul class='xr-var-list'><li class='xr-var-item'><div class='xr-var-name'><span class='xr-has-index'>time</span></div><div class='xr-var-dims'>(time)</div><div class='xr-var-dtype'>datetime64[ns]</div><div class='xr-var-preview xr-preview'>2015-05-10T01:58:27.350000128 .....</div><input id='attrs-e9e96283-9713-4cc2-8bc6-d786091c0d1f' class='xr-var-attrs-in' type='checkbox' ><label for='attrs-e9e96283-9713-4cc2-8bc6-d786091c0d1f' title='Show/Hide attributes'><svg class='icon xr-icon-file-text2'><use xlink:href='#icon-file-text2'></use></svg></label><input id='data-787f08e8-c8f5-464f-9593-61fd2968dcd8' class='xr-var-data-in' type='checkbox'><label for='data-787f08e8-c8f5-464f-9593-61fd2968dcd8' title='Show/Hide data repr'><svg class='icon xr-icon-database'><use xlink:href='#icon-database'></use></svg></label><div class='xr-var-attrs'><dl class='xr-attrs'><dt><span>axis :</span></dt><dd>T</dd><dt><span>standard_name :</span></dt><dd>time</dd><dt><span>long_name :</span></dt><dd>time</dd></dl></div><div class='xr-var-data'><pre>array([&#x27;2015-05-10T01:58:27.350000128&#x27;, &#x27;2015-05-10T01:58:27.489000448&#x27;,\n",
       "       &#x27;2015-05-10T01:58:29.088999936&#x27;, ..., &#x27;2020-11-08T12:58:53.051000320&#x27;,\n",
       "       &#x27;2020-11-08T12:58:54.640000512&#x27;, &#x27;2020-11-08T12:58:56.240999936&#x27;],\n",
       "      dtype=&#x27;datetime64[ns]&#x27;)</pre></div></li></ul></div></li><li class='xr-section-item'><input id='section-5fa91de9-db35-4f43-b3f5-f795ba9e9648' class='xr-section-summary-in' type='checkbox'  ><label for='section-5fa91de9-db35-4f43-b3f5-f795ba9e9648' class='xr-section-summary' >Data variables: <span>(33)</span></label><div class='xr-section-inline-details'></div><div class='xr-section-details'><ul class='xr-var-list'><li class='xr-var-item'><div class='xr-var-name'><span>humidity</span></div><div class='xr-var-dims'>(time)</div><div class='xr-var-dtype'>float32</div><div class='xr-var-preview xr-preview'>...</div><input id='attrs-c1f393e8-8d6f-48c1-8957-464c7042e3a4' class='xr-var-attrs-in' type='checkbox' ><label for='attrs-c1f393e8-8d6f-48c1-8957-464c7042e3a4' title='Show/Hide attributes'><svg class='icon xr-icon-file-text2'><use xlink:href='#icon-file-text2'></use></svg></label><input id='data-b5a88022-57a2-4bfe-95f8-a809df12d4e9' class='xr-var-data-in' type='checkbox'><label for='data-b5a88022-57a2-4bfe-95f8-a809df12d4e9' title='Show/Hide data repr'><svg class='icon xr-icon-database'><use xlink:href='#icon-database'></use></svg></label><div class='xr-var-attrs'><dl class='xr-attrs'><dt><span>units :</span></dt><dd>mbar</dd><dt><span>precision :</span></dt><dd>4</dd><dt><span>coordinates :</span></dt><dd>time lat lon</dd><dt><span>long_name :</span></dt><dd>Humidity</dd><dt><span>_ChunkSizes :</span></dt><dd>4734</dd></dl></div><div class='xr-var-data'><pre>[351051 values with dtype=float32]</pre></div></li><li class='xr-var-item'><div class='xr-var-name'><span>measured_water_co2</span></div><div class='xr-var-dims'>(time)</div><div class='xr-var-dtype'>float32</div><div class='xr-var-preview xr-preview'>...</div><input id='attrs-40ed9e65-8dfb-4142-8a1f-6858ac210d63' class='xr-var-attrs-in' type='checkbox' ><label for='attrs-40ed9e65-8dfb-4142-8a1f-6858ac210d63' title='Show/Hide attributes'><svg class='icon xr-icon-file-text2'><use xlink:href='#icon-file-text2'></use></svg></label><input id='data-b3ec8dc1-17d2-4006-af4e-14549b0a7266' class='xr-var-data-in' type='checkbox'><label for='data-b3ec8dc1-17d2-4006-af4e-14549b0a7266' title='Show/Hide data repr'><svg class='icon xr-icon-database'><use xlink:href='#icon-database'></use></svg></label><div class='xr-var-attrs'><dl class='xr-attrs'><dt><span>comment :</span></dt><dd>CO2 Mole Fraction in Surface Sea Water is the measured amount of CO2 in the sample of seawater. Mole fraction refers to its units - how many moles of CO2 there are per million moles of air (i.e. ppm).</dd><dt><span>long_name :</span></dt><dd>CO2 Mole Fraction in Surface Sea Water</dd><dt><span>precision :</span></dt><dd>3</dd><dt><span>coordinates :</span></dt><dd>time lat lon</dd><dt><span>data_product_identifier :</span></dt><dd>XCO2SSW_L0</dd><dt><span>units :</span></dt><dd>ppm</dd><dt><span>_ChunkSizes :</span></dt><dd>4734</dd></dl></div><div class='xr-var-data'><pre>[351051 values with dtype=float32]</pre></div></li><li class='xr-var-item'><div class='xr-var-name'><span>irga_source_temperature</span></div><div class='xr-var-dims'>(time)</div><div class='xr-var-dtype'>float32</div><div class='xr-var-preview xr-preview'>...</div><input id='attrs-0b3586d5-3613-4b7b-9783-acd69294f9fc' class='xr-var-attrs-in' type='checkbox' ><label for='attrs-0b3586d5-3613-4b7b-9783-acd69294f9fc' title='Show/Hide attributes'><svg class='icon xr-icon-file-text2'><use xlink:href='#icon-file-text2'></use></svg></label><input id='data-9cd2ae6f-8fb4-4b37-ab3c-f69d68b31840' class='xr-var-data-in' type='checkbox'><label for='data-9cd2ae6f-8fb4-4b37-ab3c-f69d68b31840' title='Show/Hide data repr'><svg class='icon xr-icon-database'><use xlink:href='#icon-database'></use></svg></label><div class='xr-var-attrs'><dl class='xr-attrs'><dt><span>units :</span></dt><dd>ºC</dd><dt><span>precision :</span></dt><dd>1</dd><dt><span>coordinates :</span></dt><dd>time lat lon</dd><dt><span>long_name :</span></dt><dd>IRGA Source Temperature</dd><dt><span>_ChunkSizes :</span></dt><dd>4734</dd></dl></div><div class='xr-var-data'><pre>[351051 values with dtype=float32]</pre></div></li><li class='xr-var-item'><div class='xr-var-name'><span>date_time_string</span></div><div class='xr-var-dims'>(time)</div><div class='xr-var-dtype'>object</div><div class='xr-var-preview xr-preview'>...</div><input id='attrs-9c85a3ce-18b0-4524-8a90-7aac20454fe1' class='xr-var-attrs-in' type='checkbox' ><label for='attrs-9c85a3ce-18b0-4524-8a90-7aac20454fe1' title='Show/Hide attributes'><svg class='icon xr-icon-file-text2'><use xlink:href='#icon-file-text2'></use></svg></label><input id='data-d1bdef21-50f9-43c8-83d2-7f495f2ee933' class='xr-var-data-in' type='checkbox'><label for='data-d1bdef21-50f9-43c8-83d2-7f495f2ee933' title='Show/Hide data repr'><svg class='icon xr-icon-database'><use xlink:href='#icon-database'></use></svg></label><div class='xr-var-attrs'><dl class='xr-attrs'><dt><span>units :</span></dt><dd>1</dd><dt><span>precision :</span></dt><dd>0</dd><dt><span>coordinates :</span></dt><dd>time lat lon</dd><dt><span>long_name :</span></dt><dd>Date and Time String</dd><dt><span>comment :</span></dt><dd>A date and time string produced for each sample record.</dd><dt><span>_ChunkSizes :</span></dt><dd>[4734    5]</dd></dl></div><div class='xr-var-data'><pre>[351051 values with dtype=object]</pre></div></li><li class='xr-var-item'><div class='xr-var-name'><span>dcl_controller_timestamp</span></div><div class='xr-var-dims'>(time)</div><div class='xr-var-dtype'>object</div><div class='xr-var-preview xr-preview'>...</div><input id='attrs-c7da263e-5856-416b-b37f-81116aed8446' class='xr-var-attrs-in' type='checkbox' ><label for='attrs-c7da263e-5856-416b-b37f-81116aed8446' title='Show/Hide attributes'><svg class='icon xr-icon-file-text2'><use xlink:href='#icon-file-text2'></use></svg></label><input id='data-04933d18-4c5f-483e-9393-73b778ac2c10' class='xr-var-data-in' type='checkbox'><label for='data-04933d18-4c5f-483e-9393-73b778ac2c10' title='Show/Hide data repr'><svg class='icon xr-icon-database'><use xlink:href='#icon-database'></use></svg></label><div class='xr-var-attrs'><dl class='xr-attrs'><dt><span>comment :</span></dt><dd>Timestamp from the DCL controller</dd><dt><span>precision :</span></dt><dd>0</dd><dt><span>long_name :</span></dt><dd>DCL Controller Timestamp</dd><dt><span>units :</span></dt><dd>1</dd><dt><span>_ChunkSizes :</span></dt><dd>[4734    5]</dd></dl></div><div class='xr-var-data'><pre>[351051 values with dtype=object]</pre></div></li><li class='xr-var-item'><div class='xr-var-name'><span>current_a2d</span></div><div class='xr-var-dims'>(time)</div><div class='xr-var-dtype'>float64</div><div class='xr-var-preview xr-preview'>...</div><input id='attrs-8226f687-a36e-4d08-964f-17e2b3c63a81' class='xr-var-attrs-in' type='checkbox' ><label for='attrs-8226f687-a36e-4d08-964f-17e2b3c63a81' title='Show/Hide attributes'><svg class='icon xr-icon-file-text2'><use xlink:href='#icon-file-text2'></use></svg></label><input id='data-3bb07707-7d17-4049-a691-8389d0ff7987' class='xr-var-data-in' type='checkbox'><label for='data-3bb07707-7d17-4049-a691-8389d0ff7987' title='Show/Hide data repr'><svg class='icon xr-icon-database'><use xlink:href='#icon-database'></use></svg></label><div class='xr-var-attrs'><dl class='xr-attrs'><dt><span>long_name :</span></dt><dd>Current A/D</dd><dt><span>coordinates :</span></dt><dd>time lat lon</dd><dt><span>units :</span></dt><dd>counts</dd><dt><span>_ChunkSizes :</span></dt><dd>4734</dd></dl></div><div class='xr-var-data'><pre>[351051 values with dtype=float64]</pre></div></li><li class='xr-var-item'><div class='xr-var-name'><span>gas_stream_pressure</span></div><div class='xr-var-dims'>(time)</div><div class='xr-var-dtype'>float32</div><div class='xr-var-preview xr-preview'>...</div><input id='attrs-8b6fb818-c179-4b9f-b45f-a3542b81212a' class='xr-var-attrs-in' type='checkbox' ><label for='attrs-8b6fb818-c179-4b9f-b45f-a3542b81212a' title='Show/Hide attributes'><svg class='icon xr-icon-file-text2'><use xlink:href='#icon-file-text2'></use></svg></label><input id='data-6a139f22-c1dd-46a7-9a95-447648c4cc79' class='xr-var-data-in' type='checkbox'><label for='data-6a139f22-c1dd-46a7-9a95-447648c4cc79' title='Show/Hide data repr'><svg class='icon xr-icon-database'><use xlink:href='#icon-database'></use></svg></label><div class='xr-var-attrs'><dl class='xr-attrs'><dt><span>comment :</span></dt><dd>PCO2A Gas Stream Pressure is the pressure of the internal gas volume of the pCO2 Air-Sea instrument. This data product is used to calculate Partial Pressure of CO2 in Air and Surface Seawater.</dd><dt><span>coordinates :</span></dt><dd>time lat lon</dd><dt><span>data_product_identifier :</span></dt><dd>PRESAIR_L0</dd><dt><span>units :</span></dt><dd>mbar</dd><dt><span>long_name :</span></dt><dd>Gas Stream Pressure</dd><dt><span>_ChunkSizes :</span></dt><dd>4734</dd></dl></div><div class='xr-var-data'><pre>[351051 values with dtype=float32]</pre></div></li><li class='xr-var-item'><div class='xr-var-name'><span>internal_timestamp</span></div><div class='xr-var-dims'>(time)</div><div class='xr-var-dtype'>datetime64[ns]</div><div class='xr-var-preview xr-preview'>...</div><input id='attrs-7e941525-a5f4-4e8f-907a-fa3d27e4bfd2' class='xr-var-attrs-in' type='checkbox' ><label for='attrs-7e941525-a5f4-4e8f-907a-fa3d27e4bfd2' title='Show/Hide attributes'><svg class='icon xr-icon-file-text2'><use xlink:href='#icon-file-text2'></use></svg></label><input id='data-e2dd650d-9932-40bb-8652-5bc62db67369' class='xr-var-data-in' type='checkbox'><label for='data-e2dd650d-9932-40bb-8652-5bc62db67369' title='Show/Hide data repr'><svg class='icon xr-icon-database'><use xlink:href='#icon-database'></use></svg></label><div class='xr-var-attrs'><dl class='xr-attrs'><dt><span>long_name :</span></dt><dd>Internal Timestamp, UTC</dd><dt><span>comment :</span></dt><dd>Internal timestamp, UTC</dd><dt><span>_ChunkSizes :</span></dt><dd>4734</dd></dl></div><div class='xr-var-data'><pre>[351051 values with dtype=datetime64[ns]]</pre></div></li><li class='xr-var-item'><div class='xr-var-name'><span>deployment</span></div><div class='xr-var-dims'>(time)</div><div class='xr-var-dtype'>int32</div><div class='xr-var-preview xr-preview'>...</div><input id='attrs-3a15a764-fed9-489d-a98b-34efeddf42bf' class='xr-var-attrs-in' type='checkbox' ><label for='attrs-3a15a764-fed9-489d-a98b-34efeddf42bf' title='Show/Hide attributes'><svg class='icon xr-icon-file-text2'><use xlink:href='#icon-file-text2'></use></svg></label><input id='data-84892a02-b481-4bf9-b390-75bec0b3a928' class='xr-var-data-in' type='checkbox'><label for='data-84892a02-b481-4bf9-b390-75bec0b3a928' title='Show/Hide data repr'><svg class='icon xr-icon-database'><use xlink:href='#icon-database'></use></svg></label><div class='xr-var-attrs'><dl class='xr-attrs'><dt><span>name :</span></dt><dd>deployment</dd><dt><span>_ChunkSizes :</span></dt><dd>4734</dd></dl></div><div class='xr-var-data'><pre>[351051 values with dtype=int32]</pre></div></li><li class='xr-var-item'><div class='xr-var-name'><span>humidity_temperature</span></div><div class='xr-var-dims'>(time)</div><div class='xr-var-dtype'>float32</div><div class='xr-var-preview xr-preview'>...</div><input id='attrs-f0888e11-b823-4c03-b2a4-b32c5f25cc82' class='xr-var-attrs-in' type='checkbox' ><label for='attrs-f0888e11-b823-4c03-b2a4-b32c5f25cc82' title='Show/Hide attributes'><svg class='icon xr-icon-file-text2'><use xlink:href='#icon-file-text2'></use></svg></label><input id='data-cf4a2141-8843-481f-8526-387385865a95' class='xr-var-data-in' type='checkbox'><label for='data-cf4a2141-8843-481f-8526-387385865a95' title='Show/Hide data repr'><svg class='icon xr-icon-database'><use xlink:href='#icon-database'></use></svg></label><div class='xr-var-attrs'><dl class='xr-attrs'><dt><span>precision :</span></dt><dd>4</dd><dt><span>coordinates :</span></dt><dd>time lat lon</dd><dt><span>long_name :</span></dt><dd>Humidity Sensor Temperature</dd><dt><span>units :</span></dt><dd>ºC</dd><dt><span>_ChunkSizes :</span></dt><dd>4734</dd></dl></div><div class='xr-var-data'><pre>[351051 values with dtype=float32]</pre></div></li><li class='xr-var-item'><div class='xr-var-name'><span>irga_detector_temperature</span></div><div class='xr-var-dims'>(time)</div><div class='xr-var-dtype'>float32</div><div class='xr-var-preview xr-preview'>...</div><input id='attrs-c79903b1-db58-4b4d-b608-f5a1b20d9f4a' class='xr-var-attrs-in' type='checkbox' ><label for='attrs-c79903b1-db58-4b4d-b608-f5a1b20d9f4a' title='Show/Hide attributes'><svg class='icon xr-icon-file-text2'><use xlink:href='#icon-file-text2'></use></svg></label><input id='data-cfb18056-f87c-4f16-ad24-40313eaa5120' class='xr-var-data-in' type='checkbox'><label for='data-cfb18056-f87c-4f16-ad24-40313eaa5120' title='Show/Hide data repr'><svg class='icon xr-icon-database'><use xlink:href='#icon-database'></use></svg></label><div class='xr-var-attrs'><dl class='xr-attrs'><dt><span>precision :</span></dt><dd>1</dd><dt><span>long_name :</span></dt><dd>IRGA Detector Instrument</dd><dt><span>units :</span></dt><dd>ºC</dd><dt><span>coordinates :</span></dt><dd>time lat lon</dd><dt><span>_ChunkSizes :</span></dt><dd>4734</dd></dl></div><div class='xr-var-data'><pre>[351051 values with dtype=float32]</pre></div></li><li class='xr-var-item'><div class='xr-var-name'><span>zero_a2d</span></div><div class='xr-var-dims'>(time)</div><div class='xr-var-dtype'>float64</div><div class='xr-var-preview xr-preview'>...</div><input id='attrs-0380b9c6-6c05-4831-8f5b-bb98dfc8af69' class='xr-var-attrs-in' type='checkbox' ><label for='attrs-0380b9c6-6c05-4831-8f5b-bb98dfc8af69' title='Show/Hide attributes'><svg class='icon xr-icon-file-text2'><use xlink:href='#icon-file-text2'></use></svg></label><input id='data-5b300c6a-e541-4897-8445-73d3bc25fe00' class='xr-var-data-in' type='checkbox'><label for='data-5b300c6a-e541-4897-8445-73d3bc25fe00' title='Show/Hide data repr'><svg class='icon xr-icon-database'><use xlink:href='#icon-database'></use></svg></label><div class='xr-var-attrs'><dl class='xr-attrs'><dt><span>coordinates :</span></dt><dd>time lat lon</dd><dt><span>long_name :</span></dt><dd>Zero A/D</dd><dt><span>units :</span></dt><dd>counts</dd><dt><span>_ChunkSizes :</span></dt><dd>4734</dd></dl></div><div class='xr-var-data'><pre>[351051 values with dtype=float64]</pre></div></li><li class='xr-var-item'><div class='xr-var-name'><span>avg_irga_temperature</span></div><div class='xr-var-dims'>(time)</div><div class='xr-var-dtype'>float32</div><div class='xr-var-preview xr-preview'>...</div><input id='attrs-52d90b89-2ab2-4058-9ef5-cb14533c3226' class='xr-var-attrs-in' type='checkbox' ><label for='attrs-52d90b89-2ab2-4058-9ef5-cb14533c3226' title='Show/Hide attributes'><svg class='icon xr-icon-file-text2'><use xlink:href='#icon-file-text2'></use></svg></label><input id='data-6b935b7c-d527-4342-b463-930b26508a02' class='xr-var-data-in' type='checkbox'><label for='data-6b935b7c-d527-4342-b463-930b26508a02' title='Show/Hide data repr'><svg class='icon xr-icon-database'><use xlink:href='#icon-database'></use></svg></label><div class='xr-var-attrs'><dl class='xr-attrs'><dt><span>units :</span></dt><dd>ºC</dd><dt><span>precision :</span></dt><dd>1</dd><dt><span>coordinates :</span></dt><dd>time lat lon</dd><dt><span>long_name :</span></dt><dd>Average IRGA Temperature</dd><dt><span>_ChunkSizes :</span></dt><dd>4734</dd></dl></div><div class='xr-var-data'><pre>[351051 values with dtype=float32]</pre></div></li><li class='xr-var-item'><div class='xr-var-name'><span>supply_voltage</span></div><div class='xr-var-dims'>(time)</div><div class='xr-var-dtype'>float32</div><div class='xr-var-preview xr-preview'>...</div><input id='attrs-b4a32a23-7444-4bff-99e7-88dea8892336' class='xr-var-attrs-in' type='checkbox' ><label for='attrs-b4a32a23-7444-4bff-99e7-88dea8892336' title='Show/Hide attributes'><svg class='icon xr-icon-file-text2'><use xlink:href='#icon-file-text2'></use></svg></label><input id='data-8a99cf67-9004-4a47-aecb-16ad66ad3dca' class='xr-var-data-in' type='checkbox'><label for='data-8a99cf67-9004-4a47-aecb-16ad66ad3dca' title='Show/Hide data repr'><svg class='icon xr-icon-database'><use xlink:href='#icon-database'></use></svg></label><div class='xr-var-attrs'><dl class='xr-attrs'><dt><span>long_name :</span></dt><dd>High-Resolution Tiltmeter Voltage</dd><dt><span>coordinates :</span></dt><dd>time lat lon</dd><dt><span>data_product_identifier :</span></dt><dd>TLTVOLT</dd><dt><span>units :</span></dt><dd>V</dd><dt><span>comment :</span></dt><dd>The auxiliary data product LILY Tiltmeter Voltage is the voltage supplied to the Applied Geomechanics LILY Self-leveling Borehole Tiltmeter sensor.</dd><dt><span>_ChunkSizes :</span></dt><dd>4734</dd></dl></div><div class='xr-var-data'><pre>[351051 values with dtype=float32]</pre></div></li><li class='xr-var-item'><div class='xr-var-name'><span>partial_pressure_co2_ssw</span></div><div class='xr-var-dims'>(time)</div><div class='xr-var-dtype'>float64</div><div class='xr-var-preview xr-preview'>...</div><input id='attrs-f963d678-db7e-4f54-8c10-05832dd87dc3' class='xr-var-attrs-in' type='checkbox' ><label for='attrs-f963d678-db7e-4f54-8c10-05832dd87dc3' title='Show/Hide attributes'><svg class='icon xr-icon-file-text2'><use xlink:href='#icon-file-text2'></use></svg></label><input id='data-e2ff512f-6e27-458d-a783-1a04e65acc81' class='xr-var-data-in' type='checkbox'><label for='data-e2ff512f-6e27-458d-a783-1a04e65acc81' title='Show/Hide data repr'><svg class='icon xr-icon-database'><use xlink:href='#icon-database'></use></svg></label><div class='xr-var-attrs'><dl class='xr-attrs'><dt><span>comment :</span></dt><dd>Partial Pressure of CO2 in Surface Seawater refers to the pressure that would be exerted by CO2 if all other gases were removed. Partial pressure of a gas dissolved in seawater is understood as the partial pressure in air that the gas would exert in a hypothetical air volume in equilibrium with that seawater. pCO2 in surface seawater is determined optically by measuring the infrared absorbance level of CO2.</dd><dt><span>long_name :</span></dt><dd>pCO2 Surface Seawater</dd><dt><span>precision :</span></dt><dd>3</dd><dt><span>coordinates :</span></dt><dd>time lat lon</dd><dt><span>data_product_identifier :</span></dt><dd>PCO2SSW_L1</dd><dt><span>units :</span></dt><dd>µatm</dd><dt><span>ancillary_variables :</span></dt><dd>gas_stream_pressure measured_water_co2</dd><dt><span>_ChunkSizes :</span></dt><dd>4734</dd></dl></div><div class='xr-var-data'><pre>[351051 values with dtype=float64]</pre></div></li><li class='xr-var-item'><div class='xr-var-name'><span>partial_pressure_co2_atm</span></div><div class='xr-var-dims'>(time)</div><div class='xr-var-dtype'>float64</div><div class='xr-var-preview xr-preview'>...</div><input id='attrs-bf4b75a7-217b-46a9-9ef4-679a83ddb764' class='xr-var-attrs-in' type='checkbox' ><label for='attrs-bf4b75a7-217b-46a9-9ef4-679a83ddb764' title='Show/Hide attributes'><svg class='icon xr-icon-file-text2'><use xlink:href='#icon-file-text2'></use></svg></label><input id='data-859002a2-0fcd-4dbf-baa1-9d451468ff3a' class='xr-var-data-in' type='checkbox'><label for='data-859002a2-0fcd-4dbf-baa1-9d451468ff3a' title='Show/Hide data repr'><svg class='icon xr-icon-database'><use xlink:href='#icon-database'></use></svg></label><div class='xr-var-attrs'><dl class='xr-attrs'><dt><span>comment :</span></dt><dd>Partial Pressure of CO2 in Atmosphere refers to the pressure that would be exerted by CO2 if all other gases in the atmosphere were removed. pCO2 in the air is determined optically by measuring the absorbance by CO2 in the infrared range.</dd><dt><span>data_product_identifier :</span></dt><dd>PCO2ATM_L1</dd><dt><span>long_name :</span></dt><dd>pCO2 Atmosphere</dd><dt><span>units :</span></dt><dd>µatm</dd><dt><span>precision :</span></dt><dd>3</dd><dt><span>coordinates :</span></dt><dd>time lat lon</dd><dt><span>instrument :</span></dt><dd>CP04OSSM-SBD12-04-PCO2AA000</dd><dt><span>stream :</span></dt><dd>pco2a_a_dcl_instrument_air_recovered</dd><dt><span>_ChunkSizes :</span></dt><dd>4734</dd></dl></div><div class='xr-var-data'><pre>[351051 values with dtype=float64]</pre></div></li><li class='xr-var-item'><div class='xr-var-name'><span>met_salsurf</span></div><div class='xr-var-dims'>(time)</div><div class='xr-var-dtype'>float64</div><div class='xr-var-preview xr-preview'>...</div><input id='attrs-dab8396d-df15-4515-b88a-3e7474e902d0' class='xr-var-attrs-in' type='checkbox' ><label for='attrs-dab8396d-df15-4515-b88a-3e7474e902d0' title='Show/Hide attributes'><svg class='icon xr-icon-file-text2'><use xlink:href='#icon-file-text2'></use></svg></label><input id='data-6382675d-f2a1-431e-ae65-165edaedc41e' class='xr-var-data-in' type='checkbox'><label for='data-6382675d-f2a1-431e-ae65-165edaedc41e' title='Show/Hide data repr'><svg class='icon xr-icon-database'><use xlink:href='#icon-database'></use></svg></label><div class='xr-var-attrs'><dl class='xr-attrs'><dt><span>instrument :</span></dt><dd>CP04OSSM-SBD11-06-METBKA000</dd><dt><span>stream :</span></dt><dd>metbk_a_dcl_instrument_recovered</dd><dt><span>coordinates :</span></dt><dd>time lat lon</dd></dl></div><div class='xr-var-data'><pre>[351051 values with dtype=float64]</pre></div></li><li class='xr-var-item'><div class='xr-var-name'><span>sea_surface_temperature</span></div><div class='xr-var-dims'>(time)</div><div class='xr-var-dtype'>float64</div><div class='xr-var-preview xr-preview'>...</div><input id='attrs-e92a2f99-ed9d-4a27-86b6-d6e28f4867ca' class='xr-var-attrs-in' type='checkbox' ><label for='attrs-e92a2f99-ed9d-4a27-86b6-d6e28f4867ca' title='Show/Hide attributes'><svg class='icon xr-icon-file-text2'><use xlink:href='#icon-file-text2'></use></svg></label><input id='data-8b0f5716-0816-438e-bbce-4f84fbf37fbf' class='xr-var-data-in' type='checkbox'><label for='data-8b0f5716-0816-438e-bbce-4f84fbf37fbf' title='Show/Hide data repr'><svg class='icon xr-icon-database'><use xlink:href='#icon-database'></use></svg></label><div class='xr-var-attrs'><dl class='xr-attrs'><dt><span>comment :</span></dt><dd>Sea Surface Temperature is the temperature of the seawater near the ocean surface.</dd><dt><span>data_product_identifier :</span></dt><dd>TEMPSRF_L1</dd><dt><span>precision :</span></dt><dd>3</dd><dt><span>coordinates :</span></dt><dd>time lat lon</dd><dt><span>long_name :</span></dt><dd>Sea Surface Temperature</dd><dt><span>standard_name :</span></dt><dd>sea_surface_temperature</dd><dt><span>units :</span></dt><dd>ºC</dd><dt><span>instrument :</span></dt><dd>CP04OSSM-SBD11-06-METBKA000</dd><dt><span>stream :</span></dt><dd>metbk_a_dcl_instrument_recovered</dd><dt><span>_ChunkSizes :</span></dt><dd>4734</dd></dl></div><div class='xr-var-data'><pre>[351051 values with dtype=float64]</pre></div></li><li class='xr-var-item'><div class='xr-var-name'><span>met_wind10m</span></div><div class='xr-var-dims'>(time)</div><div class='xr-var-dtype'>float64</div><div class='xr-var-preview xr-preview'>...</div><input id='attrs-6b5b82ba-491e-4367-bce3-1493e1bcef19' class='xr-var-attrs-in' type='checkbox' ><label for='attrs-6b5b82ba-491e-4367-bce3-1493e1bcef19' title='Show/Hide attributes'><svg class='icon xr-icon-file-text2'><use xlink:href='#icon-file-text2'></use></svg></label><input id='data-fb8df503-5f15-4eab-9ffc-7789f84124f4' class='xr-var-data-in' type='checkbox'><label for='data-fb8df503-5f15-4eab-9ffc-7789f84124f4' title='Show/Hide data repr'><svg class='icon xr-icon-database'><use xlink:href='#icon-database'></use></svg></label><div class='xr-var-attrs'><dl class='xr-attrs'><dt><span>instrument :</span></dt><dd>CP04OSSM-SBD11-06-METBKA000</dd><dt><span>stream :</span></dt><dd>metbk_hourly</dd><dt><span>coordinates :</span></dt><dd>time lat lon</dd></dl></div><div class='xr-var-data'><pre>[351051 values with dtype=float64]</pre></div></li><li class='xr-var-item'><div class='xr-var-name'><span>pco2_co2flux</span></div><div class='xr-var-dims'>(time)</div><div class='xr-var-dtype'>float64</div><div class='xr-var-preview xr-preview'>...</div><input id='attrs-79499fde-a226-411d-8267-84acfceec8c1' class='xr-var-attrs-in' type='checkbox' ><label for='attrs-79499fde-a226-411d-8267-84acfceec8c1' title='Show/Hide attributes'><svg class='icon xr-icon-file-text2'><use xlink:href='#icon-file-text2'></use></svg></label><input id='data-46b17811-910f-4a7c-94fa-e459b0634df6' class='xr-var-data-in' type='checkbox'><label for='data-46b17811-910f-4a7c-94fa-e459b0634df6' title='Show/Hide data repr'><svg class='icon xr-icon-database'><use xlink:href='#icon-database'></use></svg></label><div class='xr-var-attrs'><dl class='xr-attrs'><dt><span>comment :</span></dt><dd>Flux of CO2 from the Ocean into the Atmosphere refers to the exchange of CO2 between the sea surface and the overlying atmosphere. CO2 Flux is estimated from the difference between measurements of the partial pressure of CO2 in the surface ocean and the overlying air. The flux is then estimated as the proportional difference of these partial pressures. The proportionality factor is parameterized using wind speed and adjusted according to sea surface temperature and salinity.</dd><dt><span>long_name :</span></dt><dd>CO2 Flux from Ocean to Atmosphere</dd><dt><span>precision :</span></dt><dd>4</dd><dt><span>coordinates :</span></dt><dd>time lat lon</dd><dt><span>data_product_identifier :</span></dt><dd>CO2FLUX_L2</dd><dt><span>units :</span></dt><dd>mol m-2 s-1</dd><dt><span>ancillary_variables :</span></dt><dd>met_wind10m partial_pressure_co2_ssw partial_pressure_co2_atm met_salsurf sea_surface_temperature</dd><dt><span>_ChunkSizes :</span></dt><dd>4734</dd></dl></div><div class='xr-var-data'><pre>[351051 values with dtype=float64]</pre></div></li><li class='xr-var-item'><div class='xr-var-name'><span>shortwave_irradiance</span></div><div class='xr-var-dims'>(time)</div><div class='xr-var-dtype'>float64</div><div class='xr-var-preview xr-preview'>...</div><input id='attrs-7a6f565d-3ffc-4783-8585-c4a07c353505' class='xr-var-attrs-in' type='checkbox' ><label for='attrs-7a6f565d-3ffc-4783-8585-c4a07c353505' title='Show/Hide attributes'><svg class='icon xr-icon-file-text2'><use xlink:href='#icon-file-text2'></use></svg></label><input id='data-c21595bf-59fc-4edd-84f3-bc29f6a14988' class='xr-var-data-in' type='checkbox'><label for='data-c21595bf-59fc-4edd-84f3-bc29f6a14988' title='Show/Hide data repr'><svg class='icon xr-icon-database'><use xlink:href='#icon-database'></use></svg></label><div class='xr-var-attrs'><dl class='xr-attrs'><dt><span>standard_name :</span></dt><dd>downwelling_shortwave_flux_in_air</dd><dt><span>data_product_identifier :</span></dt><dd>SHRTIRR_L1</dd><dt><span>long_name :</span></dt><dd>Downwelling Shortwave Irradiance</dd><dt><span>units :</span></dt><dd>W m-2</dd><dt><span>precision :</span></dt><dd>1</dd><dt><span>coordinates :</span></dt><dd>time lat lon</dd><dt><span>instrument :</span></dt><dd>CP04OSSM-SBD11-06-METBKA000</dd><dt><span>stream :</span></dt><dd>metbk_a_dcl_instrument_recovered</dd><dt><span>_ChunkSizes :</span></dt><dd>4734</dd></dl></div><div class='xr-var-data'><pre>[351051 values with dtype=float64]</pre></div></li><li class='xr-var-item'><div class='xr-var-name'><span>barometric_pressure</span></div><div class='xr-var-dims'>(time)</div><div class='xr-var-dtype'>float64</div><div class='xr-var-preview xr-preview'>...</div><input id='attrs-16beb49a-9640-4407-b145-52b00ea4f27e' class='xr-var-attrs-in' type='checkbox' ><label for='attrs-16beb49a-9640-4407-b145-52b00ea4f27e' title='Show/Hide attributes'><svg class='icon xr-icon-file-text2'><use xlink:href='#icon-file-text2'></use></svg></label><input id='data-554db977-f7f3-4d41-99e1-2cd5363012fd' class='xr-var-data-in' type='checkbox'><label for='data-554db977-f7f3-4d41-99e1-2cd5363012fd' title='Show/Hide data repr'><svg class='icon xr-icon-database'><use xlink:href='#icon-database'></use></svg></label><div class='xr-var-attrs'><dl class='xr-attrs'><dt><span>comment :</span></dt><dd>Barometric Pressure is a measure of the weight of the column of air above the sensor. It is also commonly referred to as atmospheric pressure.</dd><dt><span>data_product_identifier :</span></dt><dd>BARPRES_L0</dd><dt><span>long_name :</span></dt><dd>Barometric Pressure</dd><dt><span>units :</span></dt><dd>mbar</dd><dt><span>precision :</span></dt><dd>2</dd><dt><span>coordinates :</span></dt><dd>time lat lon</dd><dt><span>instrument :</span></dt><dd>CP04OSSM-SBD11-06-METBKA000</dd><dt><span>stream :</span></dt><dd>metbk_a_dcl_instrument_recovered</dd><dt><span>_ChunkSizes :</span></dt><dd>4734</dd></dl></div><div class='xr-var-data'><pre>[351051 values with dtype=float64]</pre></div></li><li class='xr-var-item'><div class='xr-var-name'><span>precipitation</span></div><div class='xr-var-dims'>(time)</div><div class='xr-var-dtype'>float64</div><div class='xr-var-preview xr-preview'>...</div><input id='attrs-4244c5f1-bc2d-4f53-92e3-58e9471bfdab' class='xr-var-attrs-in' type='checkbox' ><label for='attrs-4244c5f1-bc2d-4f53-92e3-58e9471bfdab' title='Show/Hide attributes'><svg class='icon xr-icon-file-text2'><use xlink:href='#icon-file-text2'></use></svg></label><input id='data-b2422cc3-70f0-4cd9-bfea-507a9206d678' class='xr-var-data-in' type='checkbox'><label for='data-b2422cc3-70f0-4cd9-bfea-507a9206d678' title='Show/Hide data repr'><svg class='icon xr-icon-database'><use xlink:href='#icon-database'></use></svg></label><div class='xr-var-attrs'><dl class='xr-attrs'><dt><span>standard_name :</span></dt><dd>lwe_thickness_of_precipitation_amount</dd><dt><span>data_product_identifier :</span></dt><dd>PRECIPM_L1</dd><dt><span>long_name :</span></dt><dd>Precipitation</dd><dt><span>units :</span></dt><dd>mm</dd><dt><span>precision :</span></dt><dd>2</dd><dt><span>coordinates :</span></dt><dd>time lat lon</dd><dt><span>instrument :</span></dt><dd>CP04OSSM-SBD11-06-METBKA000</dd><dt><span>stream :</span></dt><dd>metbk_a_dcl_instrument_recovered</dd><dt><span>_ChunkSizes :</span></dt><dd>4734</dd></dl></div><div class='xr-var-data'><pre>[351051 values with dtype=float64]</pre></div></li><li class='xr-var-item'><div class='xr-var-name'><span>relative_humidity</span></div><div class='xr-var-dims'>(time)</div><div class='xr-var-dtype'>float64</div><div class='xr-var-preview xr-preview'>...</div><input id='attrs-4076e0c6-e20f-47d5-9565-a3b1db75ae0d' class='xr-var-attrs-in' type='checkbox' ><label for='attrs-4076e0c6-e20f-47d5-9565-a3b1db75ae0d' title='Show/Hide attributes'><svg class='icon xr-icon-file-text2'><use xlink:href='#icon-file-text2'></use></svg></label><input id='data-abebd3f2-ecaa-4560-8102-bbc68f2b2fdc' class='xr-var-data-in' type='checkbox'><label for='data-abebd3f2-ecaa-4560-8102-bbc68f2b2fdc' title='Show/Hide data repr'><svg class='icon xr-icon-database'><use xlink:href='#icon-database'></use></svg></label><div class='xr-var-attrs'><dl class='xr-attrs'><dt><span>standard_name :</span></dt><dd>relative_humidity</dd><dt><span>data_product_identifier :</span></dt><dd>RELHUMI_L1</dd><dt><span>long_name :</span></dt><dd>Relative Humidity</dd><dt><span>units :</span></dt><dd>%</dd><dt><span>precision :</span></dt><dd>3</dd><dt><span>coordinates :</span></dt><dd>time lat lon</dd><dt><span>instrument :</span></dt><dd>CP04OSSM-SBD11-06-METBKA000</dd><dt><span>stream :</span></dt><dd>metbk_a_dcl_instrument_recovered</dd><dt><span>_ChunkSizes :</span></dt><dd>4734</dd></dl></div><div class='xr-var-data'><pre>[351051 values with dtype=float64]</pre></div></li><li class='xr-var-item'><div class='xr-var-name'><span>air_temperature</span></div><div class='xr-var-dims'>(time)</div><div class='xr-var-dtype'>float64</div><div class='xr-var-preview xr-preview'>...</div><input id='attrs-d0d30401-5895-4e36-bcfa-69b6865cd04d' class='xr-var-attrs-in' type='checkbox' ><label for='attrs-d0d30401-5895-4e36-bcfa-69b6865cd04d' title='Show/Hide attributes'><svg class='icon xr-icon-file-text2'><use xlink:href='#icon-file-text2'></use></svg></label><input id='data-3f2a4ef9-ab1a-4268-8493-a52cf59f6d09' class='xr-var-data-in' type='checkbox'><label for='data-3f2a4ef9-ab1a-4268-8493-a52cf59f6d09' title='Show/Hide data repr'><svg class='icon xr-icon-database'><use xlink:href='#icon-database'></use></svg></label><div class='xr-var-attrs'><dl class='xr-attrs'><dt><span>comment :</span></dt><dd>Air Temperature refers to the temperature of the air surrounding the sensor; this is also referred to as bulk temperature.</dd><dt><span>data_product_identifier :</span></dt><dd>TEMPAIR_L1</dd><dt><span>precision :</span></dt><dd>3</dd><dt><span>coordinates :</span></dt><dd>time lat lon</dd><dt><span>long_name :</span></dt><dd>Air Temperature</dd><dt><span>standard_name :</span></dt><dd>air_temperature</dd><dt><span>units :</span></dt><dd>ºC</dd><dt><span>instrument :</span></dt><dd>CP04OSSM-SBD11-06-METBKA000</dd><dt><span>stream :</span></dt><dd>metbk_a_dcl_instrument_recovered</dd><dt><span>_ChunkSizes :</span></dt><dd>4734</dd></dl></div><div class='xr-var-data'><pre>[351051 values with dtype=float64]</pre></div></li><li class='xr-var-item'><div class='xr-var-name'><span>met_relwind_speed</span></div><div class='xr-var-dims'>(time)</div><div class='xr-var-dtype'>float64</div><div class='xr-var-preview xr-preview'>...</div><input id='attrs-376e731b-77e7-49a6-95f3-fbc2199f4797' class='xr-var-attrs-in' type='checkbox' ><label for='attrs-376e731b-77e7-49a6-95f3-fbc2199f4797' title='Show/Hide attributes'><svg class='icon xr-icon-file-text2'><use xlink:href='#icon-file-text2'></use></svg></label><input id='data-6a2c21ed-04ca-4c79-9ed8-fdeb83998d21' class='xr-var-data-in' type='checkbox'><label for='data-6a2c21ed-04ca-4c79-9ed8-fdeb83998d21' title='Show/Hide data repr'><svg class='icon xr-icon-database'><use xlink:href='#icon-database'></use></svg></label><div class='xr-var-attrs'><dl class='xr-attrs'><dt><span>comment :</span></dt><dd>RELWIND_SPD-AUX, the magnitude of the vector difference of surface current (from VELPT measurements) from wind velocity (from METBK measurements). This is the fundamental windspeed variable used in the METBK toga-coare algorithms. It is anticipated that the wind measurements will be roughly each minute and that the current measurements will be broadcast to that resolution.</dd><dt><span>data_product_identifier :</span></dt><dd>RELWIND_SPD-AUX</dd><dt><span>long_name :</span></dt><dd>Relative Wind Speed</dd><dt><span>units :</span></dt><dd>m s-1</dd><dt><span>precision :</span></dt><dd>4</dd><dt><span>coordinates :</span></dt><dd>time lat lon</dd><dt><span>instrument :</span></dt><dd>CP04OSSM-SBD11-06-METBKA000</dd><dt><span>stream :</span></dt><dd>metbk_a_dcl_instrument_recovered</dd><dt><span>_ChunkSizes :</span></dt><dd>4734</dd></dl></div><div class='xr-var-data'><pre>[351051 values with dtype=float64]</pre></div></li><li class='xr-var-item'><div class='xr-var-name'><span>longwave_irradiance</span></div><div class='xr-var-dims'>(time)</div><div class='xr-var-dtype'>float64</div><div class='xr-var-preview xr-preview'>...</div><input id='attrs-ce5de132-0e8e-44d4-963c-fafe814c48f8' class='xr-var-attrs-in' type='checkbox' ><label for='attrs-ce5de132-0e8e-44d4-963c-fafe814c48f8' title='Show/Hide attributes'><svg class='icon xr-icon-file-text2'><use xlink:href='#icon-file-text2'></use></svg></label><input id='data-182b18f3-8d2b-4b28-86b7-84c03644d43b' class='xr-var-data-in' type='checkbox'><label for='data-182b18f3-8d2b-4b28-86b7-84c03644d43b' title='Show/Hide data repr'><svg class='icon xr-icon-database'><use xlink:href='#icon-database'></use></svg></label><div class='xr-var-attrs'><dl class='xr-attrs'><dt><span>standard_name :</span></dt><dd>downwelling_longwave_flux_in_air</dd><dt><span>data_product_identifier :</span></dt><dd>LONGIRR_L1</dd><dt><span>long_name :</span></dt><dd>Downwelling Longwave Irradiance</dd><dt><span>units :</span></dt><dd>W m-2</dd><dt><span>precision :</span></dt><dd>1</dd><dt><span>coordinates :</span></dt><dd>time lat lon</dd><dt><span>instrument :</span></dt><dd>CP04OSSM-SBD11-06-METBKA000</dd><dt><span>stream :</span></dt><dd>metbk_a_dcl_instrument_recovered</dd><dt><span>_ChunkSizes :</span></dt><dd>4734</dd></dl></div><div class='xr-var-data'><pre>[351051 values with dtype=float64]</pre></div></li><li class='xr-var-item'><div class='xr-var-name'><span>measured_water_co2_qc_executed</span></div><div class='xr-var-dims'>(time)</div><div class='xr-var-dtype'>float32</div><div class='xr-var-preview xr-preview'>...</div><input id='attrs-8451f11b-924a-4a6e-990d-d91f41edab5d' class='xr-var-attrs-in' type='checkbox' ><label for='attrs-8451f11b-924a-4a6e-990d-d91f41edab5d' title='Show/Hide attributes'><svg class='icon xr-icon-file-text2'><use xlink:href='#icon-file-text2'></use></svg></label><input id='data-4d891c9b-83a1-4112-826d-51be1bcf1d1e' class='xr-var-data-in' type='checkbox'><label for='data-4d891c9b-83a1-4112-826d-51be1bcf1d1e' title='Show/Hide data repr'><svg class='icon xr-icon-database'><use xlink:href='#icon-database'></use></svg></label><div class='xr-var-attrs'><dl class='xr-attrs'><dt><span>coordinates :</span></dt><dd>time lat lon</dd><dt><span>_ChunkSizes :</span></dt><dd>4734</dd></dl></div><div class='xr-var-data'><pre>[351051 values with dtype=float32]</pre></div></li><li class='xr-var-item'><div class='xr-var-name'><span>measured_water_co2_qc_results</span></div><div class='xr-var-dims'>(time)</div><div class='xr-var-dtype'>float32</div><div class='xr-var-preview xr-preview'>...</div><input id='attrs-346f2e76-163b-43b2-a4e0-0f7aae0dcf91' class='xr-var-attrs-in' type='checkbox' ><label for='attrs-346f2e76-163b-43b2-a4e0-0f7aae0dcf91' title='Show/Hide attributes'><svg class='icon xr-icon-file-text2'><use xlink:href='#icon-file-text2'></use></svg></label><input id='data-d3c623ef-9f15-43bf-bdc9-5525891af58c' class='xr-var-data-in' type='checkbox'><label for='data-d3c623ef-9f15-43bf-bdc9-5525891af58c' title='Show/Hide data repr'><svg class='icon xr-icon-database'><use xlink:href='#icon-database'></use></svg></label><div class='xr-var-attrs'><dl class='xr-attrs'><dt><span>coordinates :</span></dt><dd>time lat lon</dd><dt><span>_ChunkSizes :</span></dt><dd>4734</dd></dl></div><div class='xr-var-data'><pre>[351051 values with dtype=float32]</pre></div></li><li class='xr-var-item'><div class='xr-var-name'><span>partial_pressure_co2_ssw_qc_executed</span></div><div class='xr-var-dims'>(time)</div><div class='xr-var-dtype'>float32</div><div class='xr-var-preview xr-preview'>...</div><input id='attrs-387a5b2a-9b12-41e0-b03f-1ec58dd355a6' class='xr-var-attrs-in' type='checkbox' ><label for='attrs-387a5b2a-9b12-41e0-b03f-1ec58dd355a6' title='Show/Hide attributes'><svg class='icon xr-icon-file-text2'><use xlink:href='#icon-file-text2'></use></svg></label><input id='data-78d9a41f-278e-4eaf-ad99-0185be485d28' class='xr-var-data-in' type='checkbox'><label for='data-78d9a41f-278e-4eaf-ad99-0185be485d28' title='Show/Hide data repr'><svg class='icon xr-icon-database'><use xlink:href='#icon-database'></use></svg></label><div class='xr-var-attrs'><dl class='xr-attrs'><dt><span>coordinates :</span></dt><dd>time lat lon</dd><dt><span>_ChunkSizes :</span></dt><dd>4734</dd></dl></div><div class='xr-var-data'><pre>[351051 values with dtype=float32]</pre></div></li><li class='xr-var-item'><div class='xr-var-name'><span>partial_pressure_co2_ssw_qc_results</span></div><div class='xr-var-dims'>(time)</div><div class='xr-var-dtype'>float32</div><div class='xr-var-preview xr-preview'>...</div><input id='attrs-2c488d0f-e88a-4be2-b123-48f36c5c95aa' class='xr-var-attrs-in' type='checkbox' ><label for='attrs-2c488d0f-e88a-4be2-b123-48f36c5c95aa' title='Show/Hide attributes'><svg class='icon xr-icon-file-text2'><use xlink:href='#icon-file-text2'></use></svg></label><input id='data-68131fd0-9b8e-4428-ad09-4e3e4fdbc838' class='xr-var-data-in' type='checkbox'><label for='data-68131fd0-9b8e-4428-ad09-4e3e4fdbc838' title='Show/Hide data repr'><svg class='icon xr-icon-database'><use xlink:href='#icon-database'></use></svg></label><div class='xr-var-attrs'><dl class='xr-attrs'><dt><span>coordinates :</span></dt><dd>time lat lon</dd><dt><span>_ChunkSizes :</span></dt><dd>4734</dd></dl></div><div class='xr-var-data'><pre>[351051 values with dtype=float32]</pre></div></li><li class='xr-var-item'><div class='xr-var-name'><span>pco2_co2flux_qc_executed</span></div><div class='xr-var-dims'>(time)</div><div class='xr-var-dtype'>float32</div><div class='xr-var-preview xr-preview'>...</div><input id='attrs-c5813ca4-ba55-4bcb-b3dd-6e8ecd881712' class='xr-var-attrs-in' type='checkbox' ><label for='attrs-c5813ca4-ba55-4bcb-b3dd-6e8ecd881712' title='Show/Hide attributes'><svg class='icon xr-icon-file-text2'><use xlink:href='#icon-file-text2'></use></svg></label><input id='data-0d664971-1912-4123-bdf0-ce885eea6129' class='xr-var-data-in' type='checkbox'><label for='data-0d664971-1912-4123-bdf0-ce885eea6129' title='Show/Hide data repr'><svg class='icon xr-icon-database'><use xlink:href='#icon-database'></use></svg></label><div class='xr-var-attrs'><dl class='xr-attrs'><dt><span>coordinates :</span></dt><dd>time lat lon</dd><dt><span>_ChunkSizes :</span></dt><dd>4734</dd></dl></div><div class='xr-var-data'><pre>[351051 values with dtype=float32]</pre></div></li><li class='xr-var-item'><div class='xr-var-name'><span>pco2_co2flux_qc_results</span></div><div class='xr-var-dims'>(time)</div><div class='xr-var-dtype'>float32</div><div class='xr-var-preview xr-preview'>...</div><input id='attrs-5690b276-9096-4396-a9fc-f6dd2e0ed490' class='xr-var-attrs-in' type='checkbox' ><label for='attrs-5690b276-9096-4396-a9fc-f6dd2e0ed490' title='Show/Hide attributes'><svg class='icon xr-icon-file-text2'><use xlink:href='#icon-file-text2'></use></svg></label><input id='data-c0c77d0e-f25d-4f83-81ec-01a93ea07dee' class='xr-var-data-in' type='checkbox'><label for='data-c0c77d0e-f25d-4f83-81ec-01a93ea07dee' title='Show/Hide data repr'><svg class='icon xr-icon-database'><use xlink:href='#icon-database'></use></svg></label><div class='xr-var-attrs'><dl class='xr-attrs'><dt><span>coordinates :</span></dt><dd>time lat lon</dd><dt><span>_ChunkSizes :</span></dt><dd>4734</dd></dl></div><div class='xr-var-data'><pre>[351051 values with dtype=float32]</pre></div></li></ul></div></li><li class='xr-section-item'><input id='section-bcf87dcd-94fe-41be-9c2d-5b6012b6b263' class='xr-section-summary-in' type='checkbox'  ><label for='section-bcf87dcd-94fe-41be-9c2d-5b6012b6b263' class='xr-section-summary' >Attributes: <span>(70)</span></label><div class='xr-section-inline-details'></div><div class='xr-section-details'><dl class='xr-attrs'><dt><span>node :</span></dt><dd>SBD12</dd><dt><span>comment :</span></dt><dd>Data collected from the OOI M2M API and reworked for use in locally stored NetCDF files.</dd><dt><span>publisher_email :</span></dt><dd></dd><dt><span>sourceUrl :</span></dt><dd>http://oceanobservatories.org/</dd><dt><span>collection_method :</span></dt><dd>recovered_host</dd><dt><span>stream :</span></dt><dd>pco2a_a_dcl_instrument_water_recovered</dd><dt><span>featureType :</span></dt><dd>timeSeries</dd><dt><span>creator_email :</span></dt><dd></dd><dt><span>publisher_name :</span></dt><dd>Ocean Observatories Initiative</dd><dt><span>date_modified :</span></dt><dd>2021-03-12T23:24:05.155579</dd><dt><span>keywords :</span></dt><dd></dd><dt><span>cdm_data_type :</span></dt><dd>Station</dd><dt><span>references :</span></dt><dd>More information can be found at http://oceanobservatories.org/</dd><dt><span>Metadata_Conventions :</span></dt><dd>Unidata Dataset Discovery v1.0</dd><dt><span>date_created :</span></dt><dd>2021-03-12T23:24:05.155573</dd><dt><span>id :</span></dt><dd>CP04OSSM-SBD12-04-PCO2AA000-recovered_host-pco2a_a_dcl_instrument_water_recovered</dd><dt><span>requestUUID :</span></dt><dd>b876f15d-eb5d-4f63-b47a-0238ccb69688</dd><dt><span>contributor_role :</span></dt><dd></dd><dt><span>summary :</span></dt><dd>Dataset Generated by Stream Engine from Ocean Observatories Initiative</dd><dt><span>keywords_vocabulary :</span></dt><dd></dd><dt><span>institution :</span></dt><dd>Ocean Observatories Initiative</dd><dt><span>naming_authority :</span></dt><dd>org.oceanobservatories</dd><dt><span>infoUrl :</span></dt><dd>http://oceanobservatories.org/</dd><dt><span>license :</span></dt><dd></dd><dt><span>contributor_name :</span></dt><dd></dd><dt><span>uuid :</span></dt><dd>b876f15d-eb5d-4f63-b47a-0238ccb69688</dd><dt><span>creator_name :</span></dt><dd>Ocean Observatories Initiative</dd><dt><span>title :</span></dt><dd>Data produced by Stream Engine version 1.18.0 for CP04OSSM-SBD12-04-PCO2AA000-recovered_host-pco2a_a_dcl_instrument_water_recovered</dd><dt><span>sensor :</span></dt><dd>04-PCO2AA000</dd><dt><span>standard_name_vocabulary :</span></dt><dd>NetCDF Climate and Forecast (CF) Metadata Convention Standard Name Table 29</dd><dt><span>acknowledgement :</span></dt><dd>National Science Foundation</dd><dt><span>Conventions :</span></dt><dd>CF-1.6</dd><dt><span>project :</span></dt><dd>Ocean Observatories Initiative</dd><dt><span>source :</span></dt><dd>CP04OSSM-SBD12-04-PCO2AA000-recovered_host-pco2a_a_dcl_instrument_water_recovered</dd><dt><span>publisher_url :</span></dt><dd>http://oceanobservatories.org/</dd><dt><span>creator_url :</span></dt><dd>http://oceanobservatories.org/</dd><dt><span>nodc_template_version :</span></dt><dd>NODC_NetCDF_TimeSeries_Orthogonal_Template_v1.1</dd><dt><span>subsite :</span></dt><dd>CP04OSSM</dd><dt><span>processing_level :</span></dt><dd>L2</dd><dt><span>history :</span></dt><dd>2021-03-12T23:24:05.155508 generated from Stream Engine</dd><dt><span>Manufacturer :</span></dt><dd>Pro-Oceanus</dd><dt><span>ModelNumber :</span></dt><dd>pCO2-pro</dd><dt><span>SerialNumber :</span></dt><dd>34-229-50A</dd><dt><span>Description :</span></dt><dd>pCO2 Air-Sea: PCO2A Series A</dd><dt><span>FirmwareVersion :</span></dt><dd>Not specified.</dd><dt><span>SoftwareVersion :</span></dt><dd>Not specified.</dd><dt><span>AssetUniqueID :</span></dt><dd>CGINS-PCO2AA-34229</dd><dt><span>Notes :</span></dt><dd>Not specified.</dd><dt><span>Owner :</span></dt><dd>Not specified.</dd><dt><span>RemoteResources :</span></dt><dd>[]</dd><dt><span>ShelfLifeExpirationDate :</span></dt><dd>Not specified.</dd><dt><span>Mobile :</span></dt><dd>False</dd><dt><span>AssetManagementRecordLastModified :</span></dt><dd>2021-02-12T15:28:16.095000</dd><dt><span>time_coverage_start :</span></dt><dd>2015-05-10T01:58:27.350000</dd><dt><span>time_coverage_end :</span></dt><dd>2015-05-31T23:57:55.476000</dd><dt><span>time_coverage_resolution :</span></dt><dd>P399.99S</dd><dt><span>geospatial_lat_min :</span></dt><dd>39.94063</dd><dt><span>geospatial_lat_max :</span></dt><dd>39.94063</dd><dt><span>geospatial_lat_units :</span></dt><dd>degrees_north</dd><dt><span>geospatial_lat_resolution :</span></dt><dd>0.1</dd><dt><span>geospatial_lon_min :</span></dt><dd>-70.87855</dd><dt><span>geospatial_lon_max :</span></dt><dd>-70.87855</dd><dt><span>geospatial_lon_units :</span></dt><dd>degrees_east</dd><dt><span>geospatial_lon_resolution :</span></dt><dd>0.1</dd><dt><span>geospatial_vertical_units :</span></dt><dd>meters</dd><dt><span>geospatial_vertical_resolution :</span></dt><dd>0.1</dd><dt><span>geospatial_vertical_positive :</span></dt><dd>down</dd><dt><span>lat :</span></dt><dd>39.94063</dd><dt><span>lon :</span></dt><dd>-70.87855</dd><dt><span>Location_name :</span></dt><dd>Coastal Pioneer Offshore Surface Mooring Surface Buoy</dd></dl></div></li></ul></div></div>"
      ],
      "text/plain": [
       "<xarray.Dataset>\n",
       "Dimensions:                               (time: 351051)\n",
       "Coordinates:\n",
       "  * time                                  (time) datetime64[ns] 2015-05-10T01...\n",
       "Data variables:\n",
       "    humidity                              (time) float32 ...\n",
       "    measured_water_co2                    (time) float32 ...\n",
       "    irga_source_temperature               (time) float32 ...\n",
       "    date_time_string                      (time) object ...\n",
       "    dcl_controller_timestamp              (time) object ...\n",
       "    current_a2d                           (time) float64 ...\n",
       "    gas_stream_pressure                   (time) float32 ...\n",
       "    internal_timestamp                    (time) datetime64[ns] ...\n",
       "    deployment                            (time) int32 ...\n",
       "    humidity_temperature                  (time) float32 ...\n",
       "    irga_detector_temperature             (time) float32 ...\n",
       "    zero_a2d                              (time) float64 ...\n",
       "    avg_irga_temperature                  (time) float32 ...\n",
       "    supply_voltage                        (time) float32 ...\n",
       "    partial_pressure_co2_ssw              (time) float64 ...\n",
       "    partial_pressure_co2_atm              (time) float64 ...\n",
       "    met_salsurf                           (time) float64 ...\n",
       "    sea_surface_temperature               (time) float64 ...\n",
       "    met_wind10m                           (time) float64 ...\n",
       "    pco2_co2flux                          (time) float64 ...\n",
       "    shortwave_irradiance                  (time) float64 ...\n",
       "    barometric_pressure                   (time) float64 ...\n",
       "    precipitation                         (time) float64 ...\n",
       "    relative_humidity                     (time) float64 ...\n",
       "    air_temperature                       (time) float64 ...\n",
       "    met_relwind_speed                     (time) float64 ...\n",
       "    longwave_irradiance                   (time) float64 ...\n",
       "    measured_water_co2_qc_executed        (time) float32 ...\n",
       "    measured_water_co2_qc_results         (time) float32 ...\n",
       "    partial_pressure_co2_ssw_qc_executed  (time) float32 ...\n",
       "    partial_pressure_co2_ssw_qc_results   (time) float32 ...\n",
       "    pco2_co2flux_qc_executed              (time) float32 ...\n",
       "    pco2_co2flux_qc_results               (time) float32 ...\n",
       "Attributes:\n",
       "    node:                               SBD12\n",
       "    comment:                            Data collected from the OOI M2M API a...\n",
       "    publisher_email:                    \n",
       "    sourceUrl:                          http://oceanobservatories.org/\n",
       "    collection_method:                  recovered_host\n",
       "    stream:                             pco2a_a_dcl_instrument_water_recovered\n",
       "    featureType:                        timeSeries\n",
       "    creator_email:                      \n",
       "    publisher_name:                     Ocean Observatories Initiative\n",
       "    date_modified:                      2021-03-12T23:24:05.155579\n",
       "    keywords:                           \n",
       "    cdm_data_type:                      Station\n",
       "    references:                         More information can be found at http...\n",
       "    Metadata_Conventions:               Unidata Dataset Discovery v1.0\n",
       "    date_created:                       2021-03-12T23:24:05.155573\n",
       "    id:                                 CP04OSSM-SBD12-04-PCO2AA000-recovered...\n",
       "    requestUUID:                        b876f15d-eb5d-4f63-b47a-0238ccb69688\n",
       "    contributor_role:                   \n",
       "    summary:                            Dataset Generated by Stream Engine fr...\n",
       "    keywords_vocabulary:                \n",
       "    institution:                        Ocean Observatories Initiative\n",
       "    naming_authority:                   org.oceanobservatories\n",
       "    infoUrl:                            http://oceanobservatories.org/\n",
       "    license:                            \n",
       "    contributor_name:                   \n",
       "    uuid:                               b876f15d-eb5d-4f63-b47a-0238ccb69688\n",
       "    creator_name:                       Ocean Observatories Initiative\n",
       "    title:                              Data produced by Stream Engine versio...\n",
       "    sensor:                             04-PCO2AA000\n",
       "    standard_name_vocabulary:           NetCDF Climate and Forecast (CF) Meta...\n",
       "    acknowledgement:                    National Science Foundation\n",
       "    Conventions:                        CF-1.6\n",
       "    project:                            Ocean Observatories Initiative\n",
       "    source:                             CP04OSSM-SBD12-04-PCO2AA000-recovered...\n",
       "    publisher_url:                      http://oceanobservatories.org/\n",
       "    creator_url:                        http://oceanobservatories.org/\n",
       "    nodc_template_version:              NODC_NetCDF_TimeSeries_Orthogonal_Tem...\n",
       "    subsite:                            CP04OSSM\n",
       "    processing_level:                   L2\n",
       "    history:                            2021-03-12T23:24:05.155508 generated ...\n",
       "    Manufacturer:                       Pro-Oceanus\n",
       "    ModelNumber:                        pCO2-pro\n",
       "    SerialNumber:                       34-229-50A\n",
       "    Description:                        pCO2 Air-Sea: PCO2A Series A\n",
       "    FirmwareVersion:                    Not specified.\n",
       "    SoftwareVersion:                    Not specified.\n",
       "    AssetUniqueID:                      CGINS-PCO2AA-34229\n",
       "    Notes:                              Not specified.\n",
       "    Owner:                              Not specified.\n",
       "    RemoteResources:                    []\n",
       "    ShelfLifeExpirationDate:            Not specified.\n",
       "    Mobile:                             False\n",
       "    AssetManagementRecordLastModified:  2021-02-12T15:28:16.095000\n",
       "    time_coverage_start:                2015-05-10T01:58:27.350000\n",
       "    time_coverage_end:                  2015-05-31T23:57:55.476000\n",
       "    time_coverage_resolution:           P399.99S\n",
       "    geospatial_lat_min:                 39.94063\n",
       "    geospatial_lat_max:                 39.94063\n",
       "    geospatial_lat_units:               degrees_north\n",
       "    geospatial_lat_resolution:          0.1\n",
       "    geospatial_lon_min:                 -70.87855\n",
       "    geospatial_lon_max:                 -70.87855\n",
       "    geospatial_lon_units:               degrees_east\n",
       "    geospatial_lon_resolution:          0.1\n",
       "    geospatial_vertical_units:          meters\n",
       "    geospatial_vertical_resolution:     0.1\n",
       "    geospatial_vertical_positive:       down\n",
       "    lat:                                39.94063\n",
       "    lon:                                -70.87855\n",
       "    Location_name:                      Coastal Pioneer Offshore Surface Moor..."
      ]
     },
     "execution_count": 37,
     "metadata": {},
     "output_type": "execute_result"
    }
   ],
   "source": [
    "# Get the dataset\n",
    "pco2a = xr.open_dataset(\"../data/CP04OSSM_SBD12_04_PCO2AA000.nc\")\n",
    "pco2a"
   ]
  },
  {
   "cell_type": "code",
   "execution_count": 39,
   "metadata": {},
   "outputs": [
    {
     "data": {
      "text/plain": [
       "(200.0, 500.0)"
      ]
     },
     "execution_count": 39,
     "metadata": {},
     "output_type": "execute_result"
    },
    {
     "data": {
      "image/png": "[encoded data removed]",
      "text/plain": [
       "<Figure size 864x576 with 1 Axes>"
      ]
     },
     "metadata": {
      "needs_background": "light"
     },
     "output_type": "display_data"
    }
   ],
   "source": [
    "# Plot the data as a function of deployments\n",
    "fig, ax = plotting.plot_data_variable(pco2a, \"partial_pressure_co2_ssw\")\n",
    "ax.set_ylim((200, 500))"
   ]
  },
  {
   "cell_type": "markdown",
   "metadata": {},
   "source": [
    "### Annotations\n",
    "Next, add in the annotations to the dataset and filter out the data identified as bad"
   ]
  },
  {
   "cell_type": "code",
   "execution_count": null,
   "metadata": {},
   "outputs": [],
   "source": [
    "annotations = OOINet.get_annotations(\"CP04OSSM-SBD12-04-PCO2AA000\")\n",
    "annotations"
   ]
  },
  {
   "cell_type": "markdown",
   "metadata": {},
   "source": [
    "From the plot of the PCO2A, we can see that the instrument failed before recovery each time that it was deployed. Next, we want to add the annotation information to the OOI data\n",
    "\n",
    "#### Add Annotation Information to dataset"
   ]
  },
  {
   "cell_type": "code",
   "execution_count": null,
   "metadata": {},
   "outputs": [],
   "source": [
    "pco2a = OOINet.add_annotation_qc_flag(pco2a, annotations)\n",
    "pco2a"
   ]
  },
  {
   "cell_type": "code",
   "execution_count": null,
   "metadata": {},
   "outputs": [],
   "source": [
    "np.unique(pco2a.rollup_annotations_qc_results)"
   ]
  },
  {
   "cell_type": "markdown",
   "metadata": {},
   "source": [
    "Plot the annotation data"
   ]
  },
  {
   "cell_type": "code",
   "execution_count": null,
   "metadata": {},
   "outputs": [],
   "source": [
    "#fig, ax = plt.subplots(nrows=1, ncols=1, figsize=(12, 8))\n",
    "#ax.plot(pco2a.time, pco2a.partial_pressure_co2_ssw, marker=\".\", linestyle=\"\", color=\"tab:blue\")\n",
    "# Plot the data as a function of deployments\n",
    "fig, ax = plotting.plot_data_variable(pco2a, \"partial_pressure_co2_ssw\")\n",
    "ax.plot(pco2a.time.where(pco2a.rollup_annotations_qc_results == 9, drop=True),\n",
    "        pco2a.partial_pressure_co2_ssw.where(pco2a.rollup_annotations_qc_results == 9, drop=True),\n",
    "        marker=\"o\", linestyle=\"\", color=\"tab:red\")\n",
    "ax.plot(pco2a.time.where(pco2a.rollup_annotations_qc_results == 3, drop=True),\n",
    "        pco2a.partial_pressure_co2_ssw.where(pco2a.rollup_annotations_qc_results == 3, drop=True),\n",
    "        marker=\"o\", linestyle=\"\", color=\"tab:orange\")\n",
    "ax.set_xlabel(\"time\")\n",
    "ax.set_ylabel(pco2a.partial_pressure_co2_ssw.attrs[\"long_name\"])\n",
    "ax.set_ylim((200, 500))\n",
    "ax.grid()"
   ]
  },
  {
   "cell_type": "markdown",
   "metadata": {},
   "source": [
    "#### Filter Annotations\n",
    "Finally, remove the manually-identified bad data from the dataset"
   ]
  },
  {
   "cell_type": "code",
   "execution_count": null,
   "metadata": {},
   "outputs": [],
   "source": [
    "pco2a = pco2a.where(pco2a.rollup_annotations_qc_results != 9, drop=True)\n",
    "pco2a"
   ]
  },
  {
   "cell_type": "code",
   "execution_count": null,
   "metadata": {},
   "outputs": [],
   "source": [
    "fig, ax = plotting.plot_data_variable(pco2a, \"partial_pressure_co2_ssw\")\n",
    "ax.set_ylim((200, 500))"
   ]
  },
  {
   "cell_type": "code",
   "execution_count": null,
   "metadata": {},
   "outputs": [],
   "source": [
    "pco2a.lat, pco2a.lon"
   ]
  },
  {
   "cell_type": "markdown",
   "metadata": {},
   "source": [
    "### Identify discrete samples\n",
    "Next, identify the discrete water samples associated with the Irminger Surface Buoy PCO2A. The surface samples should be less than "
   ]
  },
  {
   "cell_type": "code",
   "execution_count": 42,
   "metadata": {},
   "outputs": [
    {
     "name": "stdout",
     "output_type": "stream",
     "text": [
      "Collecting haversine\n",
      "  Using cached haversine-2.5.1-py2.py3-none-any.whl (6.1 kB)\n",
      "Installing collected packages: haversine\n",
      "Successfully installed haversine-2.5.1\n"
     ]
    }
   ],
   "source": [
    "!pip install haversine"
   ]
  },
  {
   "cell_type": "code",
   "execution_count": 41,
   "metadata": {},
   "outputs": [
    {
     "ename": "ModuleNotFoundError",
     "evalue": "No module named 'haversine'",
     "output_type": "error",
     "traceback": [
      "\u001b[0;31m---------------------------------------------------------------------------\u001b[0m",
      "\u001b[0;31mModuleNotFoundError\u001b[0m                       Traceback (most recent call last)",
      "\u001b[0;32m/tmp/ipykernel_16830/1920009380.py\u001b[0m in \u001b[0;36m<module>\u001b[0;34m\u001b[0m\n\u001b[0;32m----> 1\u001b[0;31m \u001b[0;32mimport\u001b[0m \u001b[0mhaversine\u001b[0m \u001b[0;32mas\u001b[0m \u001b[0mhs\u001b[0m\u001b[0;34m\u001b[0m\u001b[0;34m\u001b[0m\u001b[0m\n\u001b[0m",
      "\u001b[0;31mModuleNotFoundError\u001b[0m: No module named 'haversine'"
     ]
    }
   ],
   "source": [
    "import haversine as hs"
   ]
  },
  {
   "cell_type": "code",
   "execution_count": null,
   "metadata": {},
   "outputs": [],
   "source": [
    "# For each\n",
    "loc1 = (59.9337, -39.47378)\n",
    "loc2 = (59.94358, -39.57372)"
   ]
  },
  {
   "cell_type": "code",
   "execution_count": 40,
   "metadata": {},
   "outputs": [],
   "source": [
    "def findNearest(bottleData, buoyLoc, maxDist):\n",
    "    \"\"\"Find the bottle sample values within a maximum distance from the buoy\n",
    "    \n",
    "    Parameters\n",
    "    ----------\n",
    "    bottleData: (pd.DataFrame -> strings or floats)\n",
    "        A tuple of (latitude, longitude) values in decimal degrees of the bottle sample location\n",
    "    buoyLoc: (tuple -> floats)\n",
    "        A tuple of (latitude, longitude) values in decimal degrees of the buoy location\n",
    "    maxDist: (float)\n",
    "        Maximum distance in km away for a sample location from the buoy location\n",
    "    \n",
    "    Returns\n",
    "    -------\n",
    "    mask: (boolean)\n",
    "        Returns True or False boolean if sampleLoc < maxDist from buoyLoc\n",
    "    \"\"\"\n",
    "    # Get the startLat/startLon as floats\n",
    "    startLat = pioneer[\"Start Latitude [degrees]\"].apply(lambda x: float(x))\n",
    "    startLon = bottleData[\"Start Longitude [degrees]\"].apply(lambda x: float(x))\n",
    "    \n",
    "    # Calculate the distance\n",
    "    distance = []\n",
    "    for lat, lon in zip(startLat, startLon):\n",
    "        sampleLoc = (lat, lon)\n",
    "        distance.append(hs.haversine(sampleLoc, buoyLoc))\n",
    "    \n",
    "    # Filter the results\n",
    "    return [d <= maxDist for d in dist]"
   ]
  },
  {
   "cell_type": "code",
   "execution_count": null,
   "metadata": {},
   "outputs": [],
   "source": [
    "def findSamples(bottleData, buoyLoc, maxDist, depthTol):\n",
    "    \n",
    "    \"\"\"Find the bottle sample values within a maximum distance from the buoy\n",
    "    \n",
    "    Parameters\n",
    "    ----------\n",
    "    bottleData: (pd.DataFrame -> strings or floats)\n",
    "        A tuple of (latitude, longitude) values in decimal degrees of the bottle sample location\n",
    "    buoyLoc: (tuple -> floats)\n",
    "        A tuple of (latitude, longitude) values in decimal degrees of the buoy location\n",
    "    maxDist: (float)\n",
    "        Maximum distance in km away for a sample location from the buoy location\n",
    "    \n",
    "    Returns\n",
    "    -------\n",
    "    mask: (boolean)\n",
    "        Returns True or False boolean if sampleLoc < maxDist from buoyLoc"
   ]
  },
  {
   "cell_type": "code",
   "execution_count": null,
   "metadata": {},
   "outputs": [],
   "source": [
    "pco2a"
   ]
  },
  {
   "cell_type": "code",
   "execution_count": null,
   "metadata": {},
   "outputs": [],
   "source": [
    "distMask = findNearest(pioneer, (pco2a.lat, pco2a.lon), 0.5)\n",
    "pioneer[distMask]"
   ]
  },
  {
   "cell_type": "code",
   "execution_count": null,
   "metadata": {},
   "outputs": [],
   "source": [
    "[x for x in hs.Unit if x.value == distUnit]"
   ]
  },
  {
   "cell_type": "code",
   "execution_count": null,
   "metadata": {},
   "outputs": [],
   "source": [
    "startLat = pioneer[\"Start Latitude [degrees]\"].apply(lambda x: float(x))\n",
    "startLon = pioneer[\"Start Longitude [degrees]\"].apply(lambda x: float(x))\n",
    "dist = []\n",
    "buoyLoc = (pco2a.lat, pco2a.lon)\n",
    "for lat, lon in zip(startLat, startLon):\n",
    "    sampleLoc = (lat, lon)\n",
    "    dist.append(hs.haversine(sampleLoc, buoyLoc))\n"
   ]
  },
  {
   "cell_type": "code",
   "execution_count": null,
   "metadata": {},
   "outputs": [],
   "source": [
    "[d <= 0.5 for d in dist]"
   ]
  },
  {
   "cell_type": "code",
   "execution_count": null,
   "metadata": {},
   "outputs": [],
   "source": [
    "pco2a.lon"
   ]
  },
  {
   "cell_type": "code",
   "execution_count": null,
   "metadata": {},
   "outputs": [],
   "source": [
    "# Identify samples associated with the instrument using the \"target asset\"\n",
    "mask = pioneer[\"Target Asset\"].apply(lambda x: True if \"ossm\" in x.lower() else False)\n",
    "ossm_bottle_data = pioneer[mask]"
   ]
  },
  {
   "cell_type": "code",
   "execution_count": null,
   "metadata": {},
   "outputs": [],
   "source": [
    "# Identify samples from near the surface, which we'll take as <= 15 dbar of pressure\n",
    "mask = ossm_bottle_data[\"CTD Pressure [db]\"] <= 15\n",
    "ossm_pco2a_bottle_data = ossm_bottle_data[mask]\n",
    "ossm_pco2a_bottle_data"
   ]
  },
  {
   "cell_type": "code",
   "execution_count": null,
   "metadata": {},
   "outputs": [],
   "source": [
    "ossm_pco2a_bottle_data[\"Calculated pCO2 [uatm]\"]"
   ]
  },
  {
   "cell_type": "code",
   "execution_count": null,
   "metadata": {
    "scrolled": true
   },
   "outputs": [],
   "source": [
    "# Plot the bottle data on top of the pco2a data\n",
    "fig, ax = plotting.plot_data_variable(pco2a, \"partial_pressure_co2_ssw\")\n",
    "\n",
    "ax.plot(ossm_pco2a_bottle_data[\"CTD Bottle Closure Time [UTC]\"], ossm_pco2a_bottle_data[\"Calculated pCO2 [uatm]\"],\n",
    "        marker=\"o\", color=\"tab:red\", linestyle=\"\", markersize=12)\n",
    "ax.set_ylim((200, 500))"
   ]
  },
  {
   "cell_type": "markdown",
   "metadata": {},
   "source": [
    "From the above plot of the discrete bottle samples against the PCO2A, we can select a couple of deployments for a closer analysis of the pCO2 calculated from the DIC/TA relationship and the measured seawater pCO2. We'll choose Deployments 3 and 7 to look at more closely."
   ]
  },
  {
   "cell_type": "code",
   "execution_count": null,
   "metadata": {},
   "outputs": [],
   "source": [
    "pco2a_deployment_3 = pco2a.where(pco2a.deployment == 3, drop=True)"
   ]
  },
  {
   "cell_type": "markdown",
   "metadata": {},
   "source": [
    "Plot deployment 3 more closely"
   ]
  },
  {
   "cell_type": "code",
   "execution_count": null,
   "metadata": {},
   "outputs": [],
   "source": [
    "fig, ax = plotting.plot_data_variable(pco2a_deployment_3, \"partial_pressure_co2_ssw\", add_deployments=False)\n",
    "xlim = ax.get_xlim()\n",
    "\n",
    "# Calculate the noise level\n",
    "std = pco2a_deployment_3.partial_pressure_co2_ssw.diff(dim=\"time\").std().values\n",
    "\n",
    "ax.fill_between(pco2a_deployment_3.time,\n",
    "                pco2a_deployment_3.partial_pressure_co2_ssw-2*std,\n",
    "                pco2a_deployment_3.partial_pressure_co2_ssw+2*std,\n",
    "                color=\"tab:blue\")\n",
    "ax.plot(ossm_pco2a_bottle_data[\"Start Time [UTC]\"], ossm_pco2a_bottle_data[\"Calculated pCO2 [uatm]\"], \n",
    "        color=\"tab:red\", marker=\"*\", linestyle=\"\", markersize=12)\n",
    "ax.set_xlim(xlim)"
   ]
  },
  {
   "cell_type": "code",
   "execution_count": null,
   "metadata": {},
   "outputs": [],
   "source": []
  },
  {
   "cell_type": "code",
   "execution_count": null,
   "metadata": {},
   "outputs": [],
   "source": [
    "# Write a function which takes in a time series and bottle values and plot the data comparisons"
   ]
  },
  {
   "cell_type": "code",
   "execution_count": null,
   "metadata": {},
   "outputs": [],
   "source": [
    "deployments = np.unique(pco2a.deployment)\n",
    "deployments"
   ]
  },
  {
   "cell_type": "code",
   "execution_count": null,
   "metadata": {},
   "outputs": [],
   "source": [
    "results = pd.DataFrame()\n",
    "for deployment in deployments:\n",
    "    # First, select the relevant deployment data\n",
    "    deployment_data = pco2a.where(pco2a.deployment == deployment, drop=True)\n",
    "    \n",
    "    # Get the refdes\n",
    "    refdes = \"-\".join(pco2a.attrs[\"id\"].split(\"-\")[0:4])\n",
    "    \n",
    "    # Next, get the first and last timestamps of the pco2a data\n",
    "    deployDT, recoverDT = deployment_data.time.min().values, deployment_data.time.max().values\n",
    "    \n",
    "    # Calculate the mean and std deviation for the first day of data from the instrument\n",
    "    deploy_avg = deployment_data.partial_pressure_co2_ssw.where(deployment_data.time <= pd.to_datetime(deployDT + pd.Timedelta(\"1D\"))).mean()\n",
    "    deploy_std = deployment_data.partial_pressure_co2_ssw.where(deployment_data.time <= pd.to_datetime(deployDT + pd.Timedelta(\"1D\"))).std()\n",
    "\n",
    "    # Calculate the mean and std devation for the last day of the data from the instrument\n",
    "    recover_avg = deployment_data.partial_pressure_co2_ssw.where(deployment_data.time >= pd.to_datetime(recoverDT - pd.Timedelta(\"1D\"))).mean()\n",
    "    recover_std = deployment_data.partial_pressure_co2_ssw.where(deployment_data.time >= pd.to_datetime(recoverDT - pd.Timedelta(\"1D\"))).std()\n",
    "\n",
    "    # Now, filter for the nearest bottle data based on start and stop times\n",
    "    deploy_bottles = ossm_pco2a_bottle_data[\n",
    "        (ossm_pco2a_bottle_data[\"Start Time [UTC]\"] >= pd.to_datetime(deployDT - pd.Timedelta(\"1D\"), utc=True)) &\n",
    "        (ossm_pco2a_bottle_data[\"Start Time [UTC]\"] <= pd.to_datetime(deployDT + pd.Timedelta(\"1D\"), utc=True))]\n",
    "    recover_bottles = ossm_pco2a_bottle_data[\n",
    "        (ossm_pco2a_bottle_data[\"Start Time [UTC]\"] >= pd.to_datetime(recoverDT - pd.Timedelta(\"1D\"), utc=True)) &\n",
    "        (ossm_pco2a_bottle_data[\"Start Time [UTC]\"] <= pd.to_datetime(recoverDT + pd.Timedelta(\"1D\"), utc=True))]\n",
    "    \n",
    "    # Whittle down the Deployment Data to the most relevant values\n",
    "    columns=[\"CTD Pressure [db]\", \"CTD Absolute Salinity [g/kg]\", \"CTD Conservative Temperature\", \"Calculated pCO2 [uatm]\"]\n",
    "    \n",
    "    \n",
    "    # Okay, now calculate the comparison between the bottle and\n",
    "    results = results.append(deploy_bottles)\n",
    "    "
   ]
  },
  {
   "cell_type": "code",
   "execution_count": null,
   "metadata": {},
   "outputs": [],
   "source": [
    "deployDT, recoverDT = pco2a_deployment_3.time.min().values, pco2a_deployment_3.time.max().values\n",
    "deployDT, recoverDT"
   ]
  },
  {
   "cell_type": "code",
   "execution_count": null,
   "metadata": {},
   "outputs": [],
   "source": [
    "refdes = \"-\".join(pco2a.attrs[\"id\"].split(\"-\")[0:4])\n",
    "refdes"
   ]
  },
  {
   "cell_type": "code",
   "execution_count": null,
   "metadata": {},
   "outputs": [],
   "source": [
    "pd.to_datetime(deployDT - pd.Timedelta(\"1D\"), utc=True)"
   ]
  },
  {
   "cell_type": "code",
   "execution_count": null,
   "metadata": {},
   "outputs": [],
   "source": [
    "deploy_bottles = ossm_pco2a_bottle_data[\n",
    "    (ossm_pco2a_bottle_data[\"Start Time [UTC]\"] >= pd.to_datetime(deployDT - pd.Timedelta(\"1D\"), utc=True)) &\n",
    "    (ossm_pco2a_bottle_data[\"Start Time [UTC]\"] <= pd.to_datetime(deployDT + pd.Timedelta(\"1D\"), utc=True))]\n",
    "\n",
    "recover_bottles = ossm_pco2a_bottle_data[\n",
    "    (ossm_pco2a_bottle_data[\"Start Time [UTC]\"] >= pd.to_datetime(recoverDT - pd.Timedelta(\"1D\"), utc=True)) &\n",
    "    (ossm_pco2a_bottle_data[\"Start Time [UTC]\"] <= pd.to_datetime(recoverDT + pd.Timedelta(\"1D\"), utc=True))]"
   ]
  },
  {
   "cell_type": "code",
   "execution_count": null,
   "metadata": {},
   "outputs": [],
   "source": [
    "deploy_bottles[[\"CTD Pressure [db]\", \"CTD Absolute Salinity [g/kg]\", \"CTD Conservative Temperature\", \"Calculated pCO2 [uatm]\"]]"
   ]
  },
  {
   "cell_type": "code",
   "execution_count": null,
   "metadata": {},
   "outputs": [],
   "source": [
    "# Calculate the comparison values\n",
    "deploy_avg = pco2a_deployment_3.partial_pressure_co2_ssw.where(pco2a_deployment_3.time <= pd.to_datetime(deployDT + pd.Timedelta(\"1D\"))).mean()\n",
    "deploy_std = pco2a_deployment_3.partial_pressure_co2_ssw.where(pco2a_deployment_3.time <= pd.to_datetime(deployDT + pd.Timedelta(\"1D\"))).std()\n",
    "deploy_avg, deploy_std"
   ]
  },
  {
   "cell_type": "code",
   "execution_count": null,
   "metadata": {},
   "outputs": [],
   "source": [
    "deploy_bottles[\"Calculated pCO2 [uatm]\"]"
   ]
  },
  {
   "cell_type": "code",
   "execution_count": null,
   "metadata": {},
   "outputs": [],
   "source": [
    "# Calculate the comparison values\n",
    "recover_avg = pco2a_deployment_3.partial_pressure_co2_ssw.where(pco2a_deployment_3.time >= pd.to_datetime(recoverDT - pd.Timedelta(\"1D\"))).mean()\n",
    "recover_std = pco2a_deployment_3.partial_pressure_co2_ssw.where(pco2a_deployment_3.time >= pd.to_datetime(recoverDT - pd.Timedelta(\"1D\"))).std()\n",
    "recover_avg, recover_std"
   ]
  },
  {
   "cell_type": "code",
   "execution_count": null,
   "metadata": {},
   "outputs": [],
   "source": [
    "recover_bottles[\"Calculated pCO2 [uatm]\"]"
   ]
  },
  {
   "cell_type": "code",
   "execution_count": null,
   "metadata": {},
   "outputs": [],
   "source": []
  },
  {
   "cell_type": "code",
   "execution_count": null,
   "metadata": {},
   "outputs": [],
   "source": [
    "from statsmodels.tsa.stattools import adfuller\n",
    "\n",
    "def adfuller_test(sales):\n",
    "    result=adfuller(sales)\n",
    "    labels = ['ADF Test Statistic','p-value','#Lags Used','Number of Observations Used']\n",
    "    for value,label in zip(result,labels):\n",
    "        print(label+' : '+str(value) )\n",
    "    if result[1] <= 0.05:\n",
    "        print(\"P value is less than 0.05 that means we can reject the null hypothesis(Ho). Therefore we can conclude that data has no unit root and is stationary\")\n",
    "    else:\n",
    "        print(\"Weak evidence against null hypothesis that means time series has a unit root which indicates that it is non-stationary \")"
   ]
  },
  {
   "cell_type": "code",
   "execution_count": null,
   "metadata": {},
   "outputs": [],
   "source": [
    "adfuller_test(pco2a_deployment_3[\"partial_pressure_co2_ssw\"])"
   ]
  },
  {
   "cell_type": "code",
   "execution_count": null,
   "metadata": {},
   "outputs": [],
   "source": [
    "from statsmodels.tsa.arima_model import ARIMA\n",
    "import statsmodels.api as sm"
   ]
  },
  {
   "cell_type": "code",
   "execution_count": null,
   "metadata": {},
   "outputs": [],
   "source": [
    "from statsmodels.graphics.tsaplots import plot_acf, plot_pacf"
   ]
  },
  {
   "cell_type": "code",
   "execution_count": null,
   "metadata": {},
   "outputs": [],
   "source": [
    "fig = plt.figure(figsize=(12, 8))\n",
    "ax1 = fig.add_subplot(2,1,1)\n",
    "fig = plot_acf(pco2a_deployment_3.partial_pressure_co2_ssw.diff(dim=\"time\"), lags=40, ax=ax1)\n",
    "ax2 = fig.add_subplot(2,1,2)\n",
    "fig = plot_pacf(pco2a_deployment_3.partial_pressure_co2_ssw.diff(dim=\"time\"), lags=40, ax=ax2)"
   ]
  },
  {
   "cell_type": "markdown",
   "metadata": {},
   "source": [
    "We'll calculate the noise term using a first-difference estimate to get the standard deviation of the data"
   ]
  },
  {
   "cell_type": "code",
   "execution_count": null,
   "metadata": {},
   "outputs": [],
   "source": []
  },
  {
   "cell_type": "code",
   "execution_count": null,
   "metadata": {},
   "outputs": [],
   "source": []
  },
  {
   "cell_type": "code",
   "execution_count": null,
   "metadata": {},
   "outputs": [],
   "source": []
  },
  {
   "cell_type": "markdown",
   "metadata": {},
   "source": [
    "---\n",
    "## Instrument Datasets\n",
    "\n",
    "### Irminger Array\n",
    "* GI01SUMO: Apex Surface Mooring\n",
    "    * SBD12: Surface Buoy\n",
    "        * PCO2AA: pCO2 Air-Sea (refdes = GI01SUMO-SBD12-04-PCO2AA000)\n",
    "        * METBKA: Bulk Meteorology Instrument Package (refdes = GI01SUMO-SBD12-06-METBKA000)\n",
    "    * RID16: Near-Surface Instrument Frame\n",
    "        * PCO2WB: pCO2 Water (refdes = GI01SUMO-RID16-05-PCO2WB000)\n",
    "        * CTDBPF: CTD (refdes = GI01SUMO-RID16-03-CTDBPF000)\n",
    "    * RII11: Mooring Riser\n",
    "        * PCO2WC: pCO2 Water (40 meters) (refdes = GI01SUMO-RII11-02-PCO2WC051)\n",
    "        * CTDMOQ: CTD (40 meters) (refdes = GI01SUMO-RII11-02-CTDMOQ031)\n",
    "        * PCO2WC: pCO2 Water (80 meters) (refdes = GI01SUMO-RII11-02-PCO2WC052)\n",
    "        * CTDBPP: CTD (80 meters) (refdes = GI01SUMO-RII11-02-CTDBPP032)\n",
    "        * PCO2WC: pCO2 Water (130 meters) (refdes = GI01SUMO-RII11-02-PCO2WC053)\n",
    "        * CTDBPP: CTD (130 meters) (refdes = GI01SUMO-RII11-02-CTDBPP033)\n",
    "        * PHSENE: Seawater pH (20 meters) (refdes = GI01SUMO-RII11-02-PHSENE041)\n",
    "        * CTDMOQ: CTD (20 meters) (refdes = GI01SUMO-RII11-02-CTDMOQ011)\n",
    "        * PHSENE: Seawater pH (100 meters) (refdes = GI01SUMO-RII11-02-PHSENE042)\n",
    "        * CTDMOQ: CTD (100 meters) (refdes = GI01SUMO-RII11-02-CTDMOQ013)\n",
    "* GI03FLMA: Flanking Subsurface Mooring A\n",
    "    * RIS01: Mooring Riser\n",
    "        * PHSENF: Seawater pH (refdes = GI03FLMA-RIS01-04-PHSENF000)\n",
    "        * CTDMOG: CTD (30 meters) (refdes = GI03FLMA-RIM01-02-CTDMOG040)\n",
    "* GI03FLMB: Flanking Subsurface Mooring B\n",
    "    * RIS01: Mooring Riser\n",
    "        * PHSENF: Seawater pH (refdes = GI03FLMB-RIS01-04-PHSENF000)\n",
    "        * CTDMOG: CTD (30 meters) (refdes = GI03FLMB-RIM01-02-CTDMOG060)\n",
    "        \n",
    "---\n",
    "## Surface Mooring"
   ]
  },
  {
   "cell_type": "code",
   "execution_count": null,
   "metadata": {},
   "outputs": [],
   "source": []
  }
 ],
 "metadata": {
  "kernelspec": {
   "display_name": "Python 3 (ipykernel)",
   "language": "python",
   "name": "python3"
  },
  "language_info": {
   "codemirror_mode": {
    "name": "ipython",
    "version": 3
   },
   "file_extension": ".py",
   "mimetype": "text/x-python",
   "name": "python",
   "nbconvert_exporter": "python",
   "pygments_lexer": "ipython3",
   "version": "3.9.7"
  }
 },
 "nbformat": 4,
 "nbformat_minor": 4
}
