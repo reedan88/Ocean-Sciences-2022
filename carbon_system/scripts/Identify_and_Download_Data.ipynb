{
 "cells": [
  {
   "cell_type": "code",
   "execution_count": 1,
   "metadata": {},
   "outputs": [],
   "source": [
    "import os, gc, sys\n",
    "import json\n",
    "import yaml\n",
    "import numpy as np\n",
    "import pandas as pd\n",
    "import xarray as xr\n",
    "import re"
   ]
  },
  {
   "cell_type": "code",
   "execution_count": 2,
   "metadata": {},
   "outputs": [],
   "source": [
    "import matplotlib.pyplot as plt\n",
    "%matplotlib inline"
   ]
  },
  {
   "cell_type": "code",
   "execution_count": 3,
   "metadata": {},
   "outputs": [],
   "source": [
    "# Import OOI M2M tools\n",
    "sys.path.append(\"/home/andrew/Documents/OOI-CGSN/ooinet/ooinet/\")\n",
    "from m2m import M2M"
   ]
  },
  {
   "cell_type": "markdown",
   "metadata": {},
   "source": [
    "#### Set OOINet API access\n",
    "In order access and download data from OOINet, need to have an OOINet api username and access token. Those can be found on your profile after logging in to OOINet. Your username and access token should NOT be stored in this notebook/python script (for security). It should be stored in a yaml file, kept in the same directory, named user_info.yaml."
   ]
  },
  {
   "cell_type": "code",
   "execution_count": 4,
   "metadata": {},
   "outputs": [],
   "source": [
    "# Import user info for connecting to OOINet via M2M\n",
    "userinfo = yaml.load(open(\"../../../../QAQC_Sandbox/user_info.yaml\"), Loader=yaml.FullLoader)\n",
    "username = userinfo[\"apiname\"]\n",
    "token = userinfo[\"apikey\"]"
   ]
  },
  {
   "cell_type": "markdown",
   "metadata": {},
   "source": [
    "#### Connect to OOINet"
   ]
  },
  {
   "cell_type": "code",
   "execution_count": 5,
   "metadata": {},
   "outputs": [],
   "source": [
    "OOINet = M2M(username, token)"
   ]
  },
  {
   "cell_type": "markdown",
   "metadata": {},
   "source": [
    "---\n",
    "## Datasets\n",
    "\n",
    "Identify all of the OOI-CGSN datasets with the **```PCO2W```**, **```PCO2A```**, and **```PHSEN```** datasets that are located at the Global Irminger Array. This is done by querying OOINet and iteratively walking through all of the API endpoints. The results are saved into a csv file so this step doesn't have to be repeated each time."
   ]
  },
  {
   "cell_type": "markdown",
   "metadata": {},
   "source": [
    "Check to see if the reference designators have already been identified. If they haven't been previously downloaded, can use the ```OOINet.search_datasets``` function to search for the datasets associated with each instrument.\n",
    "\n",
    "#### PCO2W"
   ]
  },
  {
   "cell_type": "code",
   "execution_count": 6,
   "metadata": {},
   "outputs": [
    {
     "data": {
      "text/html": [
       "<div>\n",
       "<style scoped>\n",
       "    .dataframe tbody tr th:only-of-type {\n",
       "        vertical-align: middle;\n",
       "    }\n",
       "\n",
       "    .dataframe tbody tr th {\n",
       "        vertical-align: top;\n",
       "    }\n",
       "\n",
       "    .dataframe thead th {\n",
       "        text-align: right;\n",
       "    }\n",
       "</style>\n",
       "<table border=\"1\" class=\"dataframe\">\n",
       "  <thead>\n",
       "    <tr style=\"text-align: right;\">\n",
       "      <th></th>\n",
       "      <th>array</th>\n",
       "      <th>array_name</th>\n",
       "      <th>node</th>\n",
       "      <th>node_name</th>\n",
       "      <th>instrument</th>\n",
       "      <th>instrument_name</th>\n",
       "      <th>refdes</th>\n",
       "      <th>url</th>\n",
       "      <th>deployments</th>\n",
       "    </tr>\n",
       "  </thead>\n",
       "  <tbody>\n",
       "    <tr>\n",
       "      <th>0</th>\n",
       "      <td>RS03AXPS</td>\n",
       "      <td>Cabled Axial Seamount Axial Base Shallow Profi...</td>\n",
       "      <td>SF03A</td>\n",
       "      <td>Shallow Profiler (SF03A)</td>\n",
       "      <td>4F-PCO2WA301</td>\n",
       "      <td>pCO2 Water</td>\n",
       "      <td>RS03AXPS-SF03A-4F-PCO2WA301</td>\n",
       "      <td>https://ooinet.oceanobservatories.org/api/m2m/...</td>\n",
       "      <td>[1, 2, 3, 4, 5, 6, 7]</td>\n",
       "    </tr>\n",
       "    <tr>\n",
       "      <th>1</th>\n",
       "      <td>RS01SBPS</td>\n",
       "      <td>Cabled Continental Margin Oregon Slope Base Sh...</td>\n",
       "      <td>SF01A</td>\n",
       "      <td>Shallow Profiler (SF01A)</td>\n",
       "      <td>4F-PCO2WA101</td>\n",
       "      <td>pCO2 Water</td>\n",
       "      <td>RS01SBPS-SF01A-4F-PCO2WA101</td>\n",
       "      <td>https://ooinet.oceanobservatories.org/api/m2m/...</td>\n",
       "      <td>[1, 2, 3, 4, 5, 6, 7, 8, 9]</td>\n",
       "    </tr>\n",
       "    <tr>\n",
       "      <th>2</th>\n",
       "      <td>GS01SUMO</td>\n",
       "      <td>Global Southern Ocean Apex Surface Mooring</td>\n",
       "      <td>RII11</td>\n",
       "      <td>Mooring Riser</td>\n",
       "      <td>02-PCO2WC053</td>\n",
       "      <td>pCO2 Water (130 meters)</td>\n",
       "      <td>GS01SUMO-RII11-02-PCO2WC053</td>\n",
       "      <td>https://ooinet.oceanobservatories.org/api/m2m/...</td>\n",
       "      <td>[1, 2, 3, 4]</td>\n",
       "    </tr>\n",
       "    <tr>\n",
       "      <th>3</th>\n",
       "      <td>GS01SUMO</td>\n",
       "      <td>Global Southern Ocean Apex Surface Mooring</td>\n",
       "      <td>RII11</td>\n",
       "      <td>Mooring Riser</td>\n",
       "      <td>02-PCO2WC052</td>\n",
       "      <td>pCO2 Water (80 meters)</td>\n",
       "      <td>GS01SUMO-RII11-02-PCO2WC052</td>\n",
       "      <td>https://ooinet.oceanobservatories.org/api/m2m/...</td>\n",
       "      <td>[2, 3, 4]</td>\n",
       "    </tr>\n",
       "    <tr>\n",
       "      <th>4</th>\n",
       "      <td>GS01SUMO</td>\n",
       "      <td>Global Southern Ocean Apex Surface Mooring</td>\n",
       "      <td>RII11</td>\n",
       "      <td>Mooring Riser</td>\n",
       "      <td>02-PCO2WC051</td>\n",
       "      <td>pCO2 Water (40 meters)</td>\n",
       "      <td>GS01SUMO-RII11-02-PCO2WC051</td>\n",
       "      <td>https://ooinet.oceanobservatories.org/api/m2m/...</td>\n",
       "      <td>[1, 2, 3, 4]</td>\n",
       "    </tr>\n",
       "  </tbody>\n",
       "</table>\n",
       "</div>"
      ],
      "text/plain": [
       "      array                                         array_name   node  \\\n",
       "0  RS03AXPS  Cabled Axial Seamount Axial Base Shallow Profi...  SF03A   \n",
       "1  RS01SBPS  Cabled Continental Margin Oregon Slope Base Sh...  SF01A   \n",
       "2  GS01SUMO         Global Southern Ocean Apex Surface Mooring  RII11   \n",
       "3  GS01SUMO         Global Southern Ocean Apex Surface Mooring  RII11   \n",
       "4  GS01SUMO         Global Southern Ocean Apex Surface Mooring  RII11   \n",
       "\n",
       "                  node_name    instrument          instrument_name  \\\n",
       "0  Shallow Profiler (SF03A)  4F-PCO2WA301               pCO2 Water   \n",
       "1  Shallow Profiler (SF01A)  4F-PCO2WA101               pCO2 Water   \n",
       "2             Mooring Riser  02-PCO2WC053  pCO2 Water (130 meters)   \n",
       "3             Mooring Riser  02-PCO2WC052   pCO2 Water (80 meters)   \n",
       "4             Mooring Riser  02-PCO2WC051   pCO2 Water (40 meters)   \n",
       "\n",
       "                        refdes  \\\n",
       "0  RS03AXPS-SF03A-4F-PCO2WA301   \n",
       "1  RS01SBPS-SF01A-4F-PCO2WA101   \n",
       "2  GS01SUMO-RII11-02-PCO2WC053   \n",
       "3  GS01SUMO-RII11-02-PCO2WC052   \n",
       "4  GS01SUMO-RII11-02-PCO2WC051   \n",
       "\n",
       "                                                 url  \\\n",
       "0  https://ooinet.oceanobservatories.org/api/m2m/...   \n",
       "1  https://ooinet.oceanobservatories.org/api/m2m/...   \n",
       "2  https://ooinet.oceanobservatories.org/api/m2m/...   \n",
       "3  https://ooinet.oceanobservatories.org/api/m2m/...   \n",
       "4  https://ooinet.oceanobservatories.org/api/m2m/...   \n",
       "\n",
       "                   deployments  \n",
       "0        [1, 2, 3, 4, 5, 6, 7]  \n",
       "1  [1, 2, 3, 4, 5, 6, 7, 8, 9]  \n",
       "2                 [1, 2, 3, 4]  \n",
       "3                    [2, 3, 4]  \n",
       "4                 [1, 2, 3, 4]  "
      ]
     },
     "execution_count": 6,
     "metadata": {},
     "output_type": "execute_result"
    }
   ],
   "source": [
    "try:\n",
    "    # If the reference designators where previously identified and downloaded\n",
    "    pco2w_datasets = pd.read_csv(\"../data/pco2w_datasets.csv\")\n",
    "except:\n",
    "    # Search for PCO2W datasets, asking for English names\n",
    "    pco2w_datasets = OOINet.search_datasets(instrument=\"PCO2W\", English_names=True)\n",
    "\n",
    "    # Save the datasets locally to speed up future runs\n",
    "    pco2w_datasets.to_csv(\"../data/pco2w_datasets.csv\", index=False)\n",
    "\n",
    "# Print out the head\n",
    "pco2w_datasets.head()"
   ]
  },
  {
   "cell_type": "markdown",
   "metadata": {},
   "source": [
    "#### PHSEN"
   ]
  },
  {
   "cell_type": "code",
   "execution_count": 7,
   "metadata": {},
   "outputs": [
    {
     "data": {
      "text/html": [
       "<div>\n",
       "<style scoped>\n",
       "    .dataframe tbody tr th:only-of-type {\n",
       "        vertical-align: middle;\n",
       "    }\n",
       "\n",
       "    .dataframe tbody tr th {\n",
       "        vertical-align: top;\n",
       "    }\n",
       "\n",
       "    .dataframe thead th {\n",
       "        text-align: right;\n",
       "    }\n",
       "</style>\n",
       "<table border=\"1\" class=\"dataframe\">\n",
       "  <thead>\n",
       "    <tr style=\"text-align: right;\">\n",
       "      <th></th>\n",
       "      <th>array</th>\n",
       "      <th>array_name</th>\n",
       "      <th>node</th>\n",
       "      <th>node_name</th>\n",
       "      <th>instrument</th>\n",
       "      <th>instrument_name</th>\n",
       "      <th>refdes</th>\n",
       "      <th>url</th>\n",
       "      <th>deployments</th>\n",
       "    </tr>\n",
       "  </thead>\n",
       "  <tbody>\n",
       "    <tr>\n",
       "      <th>0</th>\n",
       "      <td>RS03AXPS</td>\n",
       "      <td>Cabled Axial Seamount Axial Base Shallow Profi...</td>\n",
       "      <td>SF03A</td>\n",
       "      <td>Shallow Profiler (SF03A)</td>\n",
       "      <td>2D-PHSENA301</td>\n",
       "      <td>Seawater pH</td>\n",
       "      <td>RS03AXPS-SF03A-2D-PHSENA301</td>\n",
       "      <td>https://ooinet.oceanobservatories.org/api/m2m/...</td>\n",
       "      <td>[1, 2, 3, 4, 5, 6, 7]</td>\n",
       "    </tr>\n",
       "    <tr>\n",
       "      <th>1</th>\n",
       "      <td>RS03AXPS</td>\n",
       "      <td>Cabled Axial Seamount Axial Base Shallow Profi...</td>\n",
       "      <td>PC03A</td>\n",
       "      <td>200m Platform (PC03A)</td>\n",
       "      <td>4B-PHSENA302</td>\n",
       "      <td>Seawater pH</td>\n",
       "      <td>RS03AXPS-PC03A-4B-PHSENA302</td>\n",
       "      <td>https://ooinet.oceanobservatories.org/api/m2m/...</td>\n",
       "      <td>[1, 2, 3, 4, 5, 6, 7]</td>\n",
       "    </tr>\n",
       "    <tr>\n",
       "      <th>2</th>\n",
       "      <td>RS01SBPS</td>\n",
       "      <td>Cabled Continental Margin Oregon Slope Base Sh...</td>\n",
       "      <td>SF01A</td>\n",
       "      <td>Shallow Profiler (SF01A)</td>\n",
       "      <td>2D-PHSENA101</td>\n",
       "      <td>Seawater pH</td>\n",
       "      <td>RS01SBPS-SF01A-2D-PHSENA101</td>\n",
       "      <td>https://ooinet.oceanobservatories.org/api/m2m/...</td>\n",
       "      <td>[1, 2, 3, 4, 5, 6, 7, 8, 9]</td>\n",
       "    </tr>\n",
       "    <tr>\n",
       "      <th>3</th>\n",
       "      <td>RS01SBPS</td>\n",
       "      <td>Cabled Continental Margin Oregon Slope Base Sh...</td>\n",
       "      <td>PC01A</td>\n",
       "      <td>200m Platform (PC01A)</td>\n",
       "      <td>4B-PHSENA102</td>\n",
       "      <td>Seawater pH</td>\n",
       "      <td>RS01SBPS-PC01A-4B-PHSENA102</td>\n",
       "      <td>https://ooinet.oceanobservatories.org/api/m2m/...</td>\n",
       "      <td>[1, 2, 3, 4, 5, 6, 7, 8]</td>\n",
       "    </tr>\n",
       "    <tr>\n",
       "      <th>4</th>\n",
       "      <td>GS03FLMB</td>\n",
       "      <td>Global Southern Ocean Flanking Subsurface Moor...</td>\n",
       "      <td>RIS01</td>\n",
       "      <td>Mooring Riser</td>\n",
       "      <td>04-PHSENF000</td>\n",
       "      <td>Seawater pH</td>\n",
       "      <td>GS03FLMB-RIS01-04-PHSENF000</td>\n",
       "      <td>https://ooinet.oceanobservatories.org/api/m2m/...</td>\n",
       "      <td>[1, 2, 3]</td>\n",
       "    </tr>\n",
       "  </tbody>\n",
       "</table>\n",
       "</div>"
      ],
      "text/plain": [
       "      array                                         array_name   node  \\\n",
       "0  RS03AXPS  Cabled Axial Seamount Axial Base Shallow Profi...  SF03A   \n",
       "1  RS03AXPS  Cabled Axial Seamount Axial Base Shallow Profi...  PC03A   \n",
       "2  RS01SBPS  Cabled Continental Margin Oregon Slope Base Sh...  SF01A   \n",
       "3  RS01SBPS  Cabled Continental Margin Oregon Slope Base Sh...  PC01A   \n",
       "4  GS03FLMB  Global Southern Ocean Flanking Subsurface Moor...  RIS01   \n",
       "\n",
       "                  node_name    instrument instrument_name  \\\n",
       "0  Shallow Profiler (SF03A)  2D-PHSENA301     Seawater pH   \n",
       "1     200m Platform (PC03A)  4B-PHSENA302     Seawater pH   \n",
       "2  Shallow Profiler (SF01A)  2D-PHSENA101     Seawater pH   \n",
       "3     200m Platform (PC01A)  4B-PHSENA102     Seawater pH   \n",
       "4             Mooring Riser  04-PHSENF000     Seawater pH   \n",
       "\n",
       "                        refdes  \\\n",
       "0  RS03AXPS-SF03A-2D-PHSENA301   \n",
       "1  RS03AXPS-PC03A-4B-PHSENA302   \n",
       "2  RS01SBPS-SF01A-2D-PHSENA101   \n",
       "3  RS01SBPS-PC01A-4B-PHSENA102   \n",
       "4  GS03FLMB-RIS01-04-PHSENF000   \n",
       "\n",
       "                                                 url  \\\n",
       "0  https://ooinet.oceanobservatories.org/api/m2m/...   \n",
       "1  https://ooinet.oceanobservatories.org/api/m2m/...   \n",
       "2  https://ooinet.oceanobservatories.org/api/m2m/...   \n",
       "3  https://ooinet.oceanobservatories.org/api/m2m/...   \n",
       "4  https://ooinet.oceanobservatories.org/api/m2m/...   \n",
       "\n",
       "                   deployments  \n",
       "0        [1, 2, 3, 4, 5, 6, 7]  \n",
       "1        [1, 2, 3, 4, 5, 6, 7]  \n",
       "2  [1, 2, 3, 4, 5, 6, 7, 8, 9]  \n",
       "3     [1, 2, 3, 4, 5, 6, 7, 8]  \n",
       "4                    [1, 2, 3]  "
      ]
     },
     "execution_count": 7,
     "metadata": {},
     "output_type": "execute_result"
    }
   ],
   "source": [
    "try:\n",
    "    # If the reference designators where previously identified and downloaded\n",
    "    phsen_datasets = pd.read_csv(\"../data/phsen_datasets.csv\")\n",
    "except:\n",
    "    # Search for PHSEN datasets, asking for full English names\n",
    "    phsen_datasets = OOINet.search_datasets(instrument=\"PHSEN\", English_names=True)\n",
    "\n",
    "    # Save the datasets locally to speed up future runs\n",
    "    phsen_datasets.to_csv(\"../data/phsen_datasets.csv\", index=False)\n",
    "    \n",
    "phsen_datasets.head()"
   ]
  },
  {
   "cell_type": "markdown",
   "metadata": {},
   "source": [
    "#### PCO2A"
   ]
  },
  {
   "cell_type": "code",
   "execution_count": 8,
   "metadata": {},
   "outputs": [
    {
     "data": {
      "text/html": [
       "<div>\n",
       "<style scoped>\n",
       "    .dataframe tbody tr th:only-of-type {\n",
       "        vertical-align: middle;\n",
       "    }\n",
       "\n",
       "    .dataframe tbody tr th {\n",
       "        vertical-align: top;\n",
       "    }\n",
       "\n",
       "    .dataframe thead th {\n",
       "        text-align: right;\n",
       "    }\n",
       "</style>\n",
       "<table border=\"1\" class=\"dataframe\">\n",
       "  <thead>\n",
       "    <tr style=\"text-align: right;\">\n",
       "      <th></th>\n",
       "      <th>array</th>\n",
       "      <th>array_name</th>\n",
       "      <th>node</th>\n",
       "      <th>node_name</th>\n",
       "      <th>instrument</th>\n",
       "      <th>instrument_name</th>\n",
       "      <th>refdes</th>\n",
       "      <th>url</th>\n",
       "      <th>deployments</th>\n",
       "    </tr>\n",
       "  </thead>\n",
       "  <tbody>\n",
       "    <tr>\n",
       "      <th>0</th>\n",
       "      <td>GS01SUMO</td>\n",
       "      <td>Global Southern Ocean Apex Surface Mooring</td>\n",
       "      <td>SBD12</td>\n",
       "      <td>Surface Buoy</td>\n",
       "      <td>04-PCO2AA000</td>\n",
       "      <td>pCO2 Air-Sea</td>\n",
       "      <td>GS01SUMO-SBD12-04-PCO2AA000</td>\n",
       "      <td>https://ooinet.oceanobservatories.org/api/m2m/...</td>\n",
       "      <td>[1, 2, 3, 4]</td>\n",
       "    </tr>\n",
       "    <tr>\n",
       "      <th>1</th>\n",
       "      <td>GS01SUMO</td>\n",
       "      <td>Global Southern Ocean Apex Surface Mooring</td>\n",
       "      <td>SBD11</td>\n",
       "      <td>Surface Buoy</td>\n",
       "      <td>03-PCO2AA000</td>\n",
       "      <td>pCO2 Air-Sea</td>\n",
       "      <td>GS01SUMO-SBD11-03-PCO2AA000</td>\n",
       "      <td>https://ooinet.oceanobservatories.org/api/m2m/...</td>\n",
       "      <td>[4]</td>\n",
       "    </tr>\n",
       "    <tr>\n",
       "      <th>2</th>\n",
       "      <td>GI01SUMO</td>\n",
       "      <td>Global Irminger Sea Apex Surface Mooring</td>\n",
       "      <td>SBD12</td>\n",
       "      <td>Surface Buoy</td>\n",
       "      <td>04-PCO2AA000</td>\n",
       "      <td>pCO2 Air-Sea</td>\n",
       "      <td>GI01SUMO-SBD12-04-PCO2AA000</td>\n",
       "      <td>https://ooinet.oceanobservatories.org/api/m2m/...</td>\n",
       "      <td>[1, 2, 3, 4, 5, 6, 7]</td>\n",
       "    </tr>\n",
       "    <tr>\n",
       "      <th>3</th>\n",
       "      <td>GA01SUMO</td>\n",
       "      <td>Global Argentine Basin Apex Surface Mooring</td>\n",
       "      <td>SBD12</td>\n",
       "      <td>Surface Buoy</td>\n",
       "      <td>04-PCO2AA000</td>\n",
       "      <td>pCO2 Air-Sea</td>\n",
       "      <td>GA01SUMO-SBD12-04-PCO2AA000</td>\n",
       "      <td>https://ooinet.oceanobservatories.org/api/m2m/...</td>\n",
       "      <td>[1, 2, 3]</td>\n",
       "    </tr>\n",
       "    <tr>\n",
       "      <th>4</th>\n",
       "      <td>CP04OSSM</td>\n",
       "      <td>Coastal Pioneer Offshore Surface Mooring</td>\n",
       "      <td>SBD12</td>\n",
       "      <td>Surface Buoy</td>\n",
       "      <td>04-PCO2AA000</td>\n",
       "      <td>pCO2 Air-Sea</td>\n",
       "      <td>CP04OSSM-SBD12-04-PCO2AA000</td>\n",
       "      <td>https://ooinet.oceanobservatories.org/api/m2m/...</td>\n",
       "      <td>[1, 2, 3, 4, 5, 6, 7, 8, 9, 10, 11, 12, 13]</td>\n",
       "    </tr>\n",
       "  </tbody>\n",
       "</table>\n",
       "</div>"
      ],
      "text/plain": [
       "      array                                   array_name   node     node_name  \\\n",
       "0  GS01SUMO   Global Southern Ocean Apex Surface Mooring  SBD12  Surface Buoy   \n",
       "1  GS01SUMO   Global Southern Ocean Apex Surface Mooring  SBD11  Surface Buoy   \n",
       "2  GI01SUMO     Global Irminger Sea Apex Surface Mooring  SBD12  Surface Buoy   \n",
       "3  GA01SUMO  Global Argentine Basin Apex Surface Mooring  SBD12  Surface Buoy   \n",
       "4  CP04OSSM     Coastal Pioneer Offshore Surface Mooring  SBD12  Surface Buoy   \n",
       "\n",
       "     instrument instrument_name                       refdes  \\\n",
       "0  04-PCO2AA000    pCO2 Air-Sea  GS01SUMO-SBD12-04-PCO2AA000   \n",
       "1  03-PCO2AA000    pCO2 Air-Sea  GS01SUMO-SBD11-03-PCO2AA000   \n",
       "2  04-PCO2AA000    pCO2 Air-Sea  GI01SUMO-SBD12-04-PCO2AA000   \n",
       "3  04-PCO2AA000    pCO2 Air-Sea  GA01SUMO-SBD12-04-PCO2AA000   \n",
       "4  04-PCO2AA000    pCO2 Air-Sea  CP04OSSM-SBD12-04-PCO2AA000   \n",
       "\n",
       "                                                 url  \\\n",
       "0  https://ooinet.oceanobservatories.org/api/m2m/...   \n",
       "1  https://ooinet.oceanobservatories.org/api/m2m/...   \n",
       "2  https://ooinet.oceanobservatories.org/api/m2m/...   \n",
       "3  https://ooinet.oceanobservatories.org/api/m2m/...   \n",
       "4  https://ooinet.oceanobservatories.org/api/m2m/...   \n",
       "\n",
       "                                   deployments  \n",
       "0                                 [1, 2, 3, 4]  \n",
       "1                                          [4]  \n",
       "2                        [1, 2, 3, 4, 5, 6, 7]  \n",
       "3                                    [1, 2, 3]  \n",
       "4  [1, 2, 3, 4, 5, 6, 7, 8, 9, 10, 11, 12, 13]  "
      ]
     },
     "execution_count": 8,
     "metadata": {},
     "output_type": "execute_result"
    }
   ],
   "source": [
    "try:\n",
    "    # If the reference designators where previously identified and downloaded\n",
    "    pco2a_datasets = pd.read_csv(\"../data/pco2a_datasets.csv\")\n",
    "except:\n",
    "    # Search for PCO2A datasets\n",
    "    pco2a_datasets = OOINet.search_datasets(instrument=\"PCO2A\", English_names=True)\n",
    "\n",
    "    # Save the datasets locally to speed up future runs\n",
    "    pco2a_datasets.to_csv(\"../data/pco2a_datasets.csv\", index=False)\n",
    "    \n",
    "pco2a_datasets.head()"
   ]
  },
  {
   "cell_type": "markdown",
   "metadata": {},
   "source": [
    "Filter the datasets for the Irminger Array datasets, which start with the prefix \"GI\" for Global Irminger"
   ]
  },
  {
   "cell_type": "code",
   "execution_count": 9,
   "metadata": {},
   "outputs": [],
   "source": [
    "# PCO2A\n",
    "mask = pco2a_datasets[\"array\"].apply(lambda x: True if x.startswith(\"GI\") else False)\n",
    "pco2a_datasets = pco2a_datasets[mask]\n",
    "\n",
    "# PCO2W\n",
    "mask = pco2w_datasets[\"array\"].apply(lambda x: True if x.startswith(\"GI\") else False)\n",
    "pco2w_datasets = pco2w_datasets[mask]\n",
    "\n",
    "# PHSEN\n",
    "mask = phsen_datasets[\"array\"].apply(lambda x: True if x.startswith(\"GI\") else False)\n",
    "phsen_datasets = phsen_datasets[mask]"
   ]
  },
  {
   "cell_type": "markdown",
   "metadata": {},
   "source": [
    "#### CTD & METBK\n",
    "We will also need the temperature, salinity, and pressure data associated with the carbon system datasets. So we will also identify all the **```CTD```** datasets located at the Global Irminger Array as well as the **```METBK```** dataset for the surface mooring, which has the surface temperature and salinity."
   ]
  },
  {
   "cell_type": "code",
   "execution_count": 10,
   "metadata": {},
   "outputs": [
    {
     "data": {
      "text/html": [
       "<div>\n",
       "<style scoped>\n",
       "    .dataframe tbody tr th:only-of-type {\n",
       "        vertical-align: middle;\n",
       "    }\n",
       "\n",
       "    .dataframe tbody tr th {\n",
       "        vertical-align: top;\n",
       "    }\n",
       "\n",
       "    .dataframe thead th {\n",
       "        text-align: right;\n",
       "    }\n",
       "</style>\n",
       "<table border=\"1\" class=\"dataframe\">\n",
       "  <thead>\n",
       "    <tr style=\"text-align: right;\">\n",
       "      <th></th>\n",
       "      <th>array</th>\n",
       "      <th>array_name</th>\n",
       "      <th>node</th>\n",
       "      <th>node_name</th>\n",
       "      <th>instrument</th>\n",
       "      <th>instrument_name</th>\n",
       "      <th>refdes</th>\n",
       "      <th>url</th>\n",
       "      <th>deployments</th>\n",
       "    </tr>\n",
       "  </thead>\n",
       "  <tbody>\n",
       "    <tr>\n",
       "      <th>0</th>\n",
       "      <td>RS03ECAL</td>\n",
       "      <td>Cabled Axial Seamount Eastern Caldera</td>\n",
       "      <td>MJ03E</td>\n",
       "      <td>Medium-Power JBox (MJ03E)</td>\n",
       "      <td>12-CTDPFB306</td>\n",
       "      <td>CTD</td>\n",
       "      <td>RS03ECAL-MJ03E-12-CTDPFB306</td>\n",
       "      <td>https://ooinet.oceanobservatories.org/api/m2m/...</td>\n",
       "      <td>[1, 2]</td>\n",
       "    </tr>\n",
       "    <tr>\n",
       "      <th>1</th>\n",
       "      <td>RS03AXPS</td>\n",
       "      <td>Cabled Axial Seamount Axial Base Shallow Profi...</td>\n",
       "      <td>SF03A</td>\n",
       "      <td>Shallow Profiler (SF03A)</td>\n",
       "      <td>2A-CTDPFA302</td>\n",
       "      <td>CTD</td>\n",
       "      <td>RS03AXPS-SF03A-2A-CTDPFA302</td>\n",
       "      <td>https://ooinet.oceanobservatories.org/api/m2m/...</td>\n",
       "      <td>[1, 2, 3, 4, 5, 6, 7]</td>\n",
       "    </tr>\n",
       "    <tr>\n",
       "      <th>2</th>\n",
       "      <td>RS03AXPS</td>\n",
       "      <td>Cabled Axial Seamount Axial Base Shallow Profi...</td>\n",
       "      <td>PC03A</td>\n",
       "      <td>200m Platform (PC03A)</td>\n",
       "      <td>4A-CTDPFA303</td>\n",
       "      <td>CTD</td>\n",
       "      <td>RS03AXPS-PC03A-4A-CTDPFA303</td>\n",
       "      <td>https://ooinet.oceanobservatories.org/api/m2m/...</td>\n",
       "      <td>[1, 2, 3, 4, 5, 6, 7]</td>\n",
       "    </tr>\n",
       "    <tr>\n",
       "      <th>3</th>\n",
       "      <td>RS03AXPD</td>\n",
       "      <td>Cabled Axial Seamount Axial Base Deep Profiler...</td>\n",
       "      <td>DP03A</td>\n",
       "      <td>Wire-Following Profiler (DP03A)</td>\n",
       "      <td>01-CTDPFL304</td>\n",
       "      <td>CTD</td>\n",
       "      <td>RS03AXPD-DP03A-01-CTDPFL304</td>\n",
       "      <td>https://ooinet.oceanobservatories.org/api/m2m/...</td>\n",
       "      <td>[1, 2, 3, 4, 5, 6, 7]</td>\n",
       "    </tr>\n",
       "    <tr>\n",
       "      <th>4</th>\n",
       "      <td>RS03AXBS</td>\n",
       "      <td>Cabled Axial Seamount Axial Base Seafloor</td>\n",
       "      <td>LJ03A</td>\n",
       "      <td>Low-Power JBox (LJ03A)</td>\n",
       "      <td>12-CTDPFB301</td>\n",
       "      <td>CTD</td>\n",
       "      <td>RS03AXBS-LJ03A-12-CTDPFB301</td>\n",
       "      <td>https://ooinet.oceanobservatories.org/api/m2m/...</td>\n",
       "      <td>[1, 2, 3, 4, 5, 6, 7, 8]</td>\n",
       "    </tr>\n",
       "  </tbody>\n",
       "</table>\n",
       "</div>"
      ],
      "text/plain": [
       "      array                                         array_name   node  \\\n",
       "0  RS03ECAL              Cabled Axial Seamount Eastern Caldera  MJ03E   \n",
       "1  RS03AXPS  Cabled Axial Seamount Axial Base Shallow Profi...  SF03A   \n",
       "2  RS03AXPS  Cabled Axial Seamount Axial Base Shallow Profi...  PC03A   \n",
       "3  RS03AXPD  Cabled Axial Seamount Axial Base Deep Profiler...  DP03A   \n",
       "4  RS03AXBS          Cabled Axial Seamount Axial Base Seafloor  LJ03A   \n",
       "\n",
       "                         node_name    instrument instrument_name  \\\n",
       "0        Medium-Power JBox (MJ03E)  12-CTDPFB306             CTD   \n",
       "1         Shallow Profiler (SF03A)  2A-CTDPFA302             CTD   \n",
       "2            200m Platform (PC03A)  4A-CTDPFA303             CTD   \n",
       "3  Wire-Following Profiler (DP03A)  01-CTDPFL304             CTD   \n",
       "4           Low-Power JBox (LJ03A)  12-CTDPFB301             CTD   \n",
       "\n",
       "                        refdes  \\\n",
       "0  RS03ECAL-MJ03E-12-CTDPFB306   \n",
       "1  RS03AXPS-SF03A-2A-CTDPFA302   \n",
       "2  RS03AXPS-PC03A-4A-CTDPFA303   \n",
       "3  RS03AXPD-DP03A-01-CTDPFL304   \n",
       "4  RS03AXBS-LJ03A-12-CTDPFB301   \n",
       "\n",
       "                                                 url               deployments  \n",
       "0  https://ooinet.oceanobservatories.org/api/m2m/...                    [1, 2]  \n",
       "1  https://ooinet.oceanobservatories.org/api/m2m/...     [1, 2, 3, 4, 5, 6, 7]  \n",
       "2  https://ooinet.oceanobservatories.org/api/m2m/...     [1, 2, 3, 4, 5, 6, 7]  \n",
       "3  https://ooinet.oceanobservatories.org/api/m2m/...     [1, 2, 3, 4, 5, 6, 7]  \n",
       "4  https://ooinet.oceanobservatories.org/api/m2m/...  [1, 2, 3, 4, 5, 6, 7, 8]  "
      ]
     },
     "execution_count": 10,
     "metadata": {},
     "output_type": "execute_result"
    }
   ],
   "source": [
    "try:\n",
    "    # If the reference designators where previously identified and downloaded\n",
    "    ctd_datasets = pd.read_csv(\"../data/ctd_datasets.csv\")\n",
    "except:\n",
    "    # Search for PCO2W datasets, asking for English names\n",
    "    ctd_datasets = OOINet.search_datasets(instrument=\"CTD\", English_names=True)\n",
    "\n",
    "    # Save the datasets locally to speed up future runs\n",
    "    ctd_datasets.to_csv(\"../data/ctd_datasets.csv\", index=False)\n",
    "\n",
    "# Print out the head\n",
    "ctd_datasets.head()"
   ]
  },
  {
   "cell_type": "markdown",
   "metadata": {},
   "source": [
    "Filter the datasets for the Irminger Array datasets, which start with the prefix \"GI\" for Global Irminger. For the **```CTD```** datasets, we also need to remove the Mobile Asset and Profiler datasets."
   ]
  },
  {
   "cell_type": "code",
   "execution_count": 11,
   "metadata": {},
   "outputs": [],
   "source": [
    "# Identify the Global Irminger Array datasets\n",
    "mask = ctd_datasets[\"array\"].apply(lambda x: True if x.startswith(\"GI\") else False)\n",
    "ctd_datasets = ctd_datasets[mask]\n",
    "\n",
    "# Remove datasets which are either Glider, AUV, or Profiler Mooring datasets\n",
    "mask = ctd_datasets[\"refdes\"].apply(lambda x: False if \"MOAS\" in x or \"CTDPF\" in x else True)\n",
    "ctd_datasets = ctd_datasets[mask]"
   ]
  },
  {
   "cell_type": "code",
   "execution_count": 12,
   "metadata": {},
   "outputs": [
    {
     "data": {
      "text/html": [
       "<div>\n",
       "<style scoped>\n",
       "    .dataframe tbody tr th:only-of-type {\n",
       "        vertical-align: middle;\n",
       "    }\n",
       "\n",
       "    .dataframe tbody tr th {\n",
       "        vertical-align: top;\n",
       "    }\n",
       "\n",
       "    .dataframe thead th {\n",
       "        text-align: right;\n",
       "    }\n",
       "</style>\n",
       "<table border=\"1\" class=\"dataframe\">\n",
       "  <thead>\n",
       "    <tr style=\"text-align: right;\">\n",
       "      <th></th>\n",
       "      <th>array</th>\n",
       "      <th>array_name</th>\n",
       "      <th>node</th>\n",
       "      <th>node_name</th>\n",
       "      <th>instrument</th>\n",
       "      <th>instrument_name</th>\n",
       "      <th>refdes</th>\n",
       "      <th>url</th>\n",
       "      <th>deployments</th>\n",
       "    </tr>\n",
       "  </thead>\n",
       "  <tbody>\n",
       "    <tr>\n",
       "      <th>0</th>\n",
       "      <td>GS01SUMO</td>\n",
       "      <td>Global Southern Ocean Apex Surface Mooring</td>\n",
       "      <td>SBD12</td>\n",
       "      <td>Surface Buoy</td>\n",
       "      <td>06-METBKA000</td>\n",
       "      <td>Bulk Meteorology Instrument Package</td>\n",
       "      <td>GS01SUMO-SBD12-06-METBKA000</td>\n",
       "      <td>https://ooinet.oceanobservatories.org/api/m2m/...</td>\n",
       "      <td>[1, 2, 3, 4]</td>\n",
       "    </tr>\n",
       "    <tr>\n",
       "      <th>1</th>\n",
       "      <td>GS01SUMO</td>\n",
       "      <td>Global Southern Ocean Apex Surface Mooring</td>\n",
       "      <td>SBD11</td>\n",
       "      <td>Surface Buoy</td>\n",
       "      <td>06-METBKA000</td>\n",
       "      <td>Bulk Meteorology Instrument Package</td>\n",
       "      <td>GS01SUMO-SBD11-06-METBKA000</td>\n",
       "      <td>https://ooinet.oceanobservatories.org/api/m2m/...</td>\n",
       "      <td>[1, 2, 3, 4]</td>\n",
       "    </tr>\n",
       "    <tr>\n",
       "      <th>2</th>\n",
       "      <td>GI01SUMO</td>\n",
       "      <td>Global Irminger Sea Apex Surface Mooring</td>\n",
       "      <td>SBD12</td>\n",
       "      <td>Surface Buoy</td>\n",
       "      <td>06-METBKA000</td>\n",
       "      <td>Bulk Meteorology Instrument Package</td>\n",
       "      <td>GI01SUMO-SBD12-06-METBKA000</td>\n",
       "      <td>https://ooinet.oceanobservatories.org/api/m2m/...</td>\n",
       "      <td>[1, 2, 3, 4, 5, 6, 7]</td>\n",
       "    </tr>\n",
       "    <tr>\n",
       "      <th>3</th>\n",
       "      <td>GI01SUMO</td>\n",
       "      <td>Global Irminger Sea Apex Surface Mooring</td>\n",
       "      <td>SBD11</td>\n",
       "      <td>Surface Buoy</td>\n",
       "      <td>06-METBKA000</td>\n",
       "      <td>Bulk Meteorology Instrument Package</td>\n",
       "      <td>GI01SUMO-SBD11-06-METBKA000</td>\n",
       "      <td>https://ooinet.oceanobservatories.org/api/m2m/...</td>\n",
       "      <td>[1, 2, 3, 4, 5, 6, 7]</td>\n",
       "    </tr>\n",
       "    <tr>\n",
       "      <th>4</th>\n",
       "      <td>GA01SUMO</td>\n",
       "      <td>Global Argentine Basin Apex Surface Mooring</td>\n",
       "      <td>SBD12</td>\n",
       "      <td>Surface Buoy</td>\n",
       "      <td>06-METBKA000</td>\n",
       "      <td>Bulk Meteorology Instrument Package</td>\n",
       "      <td>GA01SUMO-SBD12-06-METBKA000</td>\n",
       "      <td>https://ooinet.oceanobservatories.org/api/m2m/...</td>\n",
       "      <td>[1, 2, 3]</td>\n",
       "    </tr>\n",
       "  </tbody>\n",
       "</table>\n",
       "</div>"
      ],
      "text/plain": [
       "      array                                   array_name   node     node_name  \\\n",
       "0  GS01SUMO   Global Southern Ocean Apex Surface Mooring  SBD12  Surface Buoy   \n",
       "1  GS01SUMO   Global Southern Ocean Apex Surface Mooring  SBD11  Surface Buoy   \n",
       "2  GI01SUMO     Global Irminger Sea Apex Surface Mooring  SBD12  Surface Buoy   \n",
       "3  GI01SUMO     Global Irminger Sea Apex Surface Mooring  SBD11  Surface Buoy   \n",
       "4  GA01SUMO  Global Argentine Basin Apex Surface Mooring  SBD12  Surface Buoy   \n",
       "\n",
       "     instrument                      instrument_name  \\\n",
       "0  06-METBKA000  Bulk Meteorology Instrument Package   \n",
       "1  06-METBKA000  Bulk Meteorology Instrument Package   \n",
       "2  06-METBKA000  Bulk Meteorology Instrument Package   \n",
       "3  06-METBKA000  Bulk Meteorology Instrument Package   \n",
       "4  06-METBKA000  Bulk Meteorology Instrument Package   \n",
       "\n",
       "                        refdes  \\\n",
       "0  GS01SUMO-SBD12-06-METBKA000   \n",
       "1  GS01SUMO-SBD11-06-METBKA000   \n",
       "2  GI01SUMO-SBD12-06-METBKA000   \n",
       "3  GI01SUMO-SBD11-06-METBKA000   \n",
       "4  GA01SUMO-SBD12-06-METBKA000   \n",
       "\n",
       "                                                 url            deployments  \n",
       "0  https://ooinet.oceanobservatories.org/api/m2m/...           [1, 2, 3, 4]  \n",
       "1  https://ooinet.oceanobservatories.org/api/m2m/...           [1, 2, 3, 4]  \n",
       "2  https://ooinet.oceanobservatories.org/api/m2m/...  [1, 2, 3, 4, 5, 6, 7]  \n",
       "3  https://ooinet.oceanobservatories.org/api/m2m/...  [1, 2, 3, 4, 5, 6, 7]  \n",
       "4  https://ooinet.oceanobservatories.org/api/m2m/...              [1, 2, 3]  "
      ]
     },
     "execution_count": 12,
     "metadata": {},
     "output_type": "execute_result"
    }
   ],
   "source": [
    "try:\n",
    "    # If the reference designators where previously identified and downloaded\n",
    "    metbk_datasets = pd.read_csv(\"../data/metbk_datasets.csv\")\n",
    "except:\n",
    "    # Search for PCO2W datasets, asking for English names\n",
    "    metbk_datasets = OOINet.search_datasets(instrument=\"METBK\", English_names=True)\n",
    "\n",
    "    # Save the datasets locally to speed up future runs\n",
    "    metbk_datasets.to_csv(\"../data/metbk_datasets.csv\", index=False)\n",
    "\n",
    "# Print out the head\n",
    "metbk_datasets.head()"
   ]
  },
  {
   "cell_type": "markdown",
   "metadata": {},
   "source": [
    "Filter the datasets for the Global Irminger dataset"
   ]
  },
  {
   "cell_type": "code",
   "execution_count": 13,
   "metadata": {},
   "outputs": [],
   "source": [
    "mask = metbk_datasets[\"array\"].apply(lambda x: True if x.startswith(\"GI\") else False)\n",
    "metbk_datasets = metbk_datasets[mask]"
   ]
  },
  {
   "cell_type": "markdown",
   "metadata": {},
   "source": [
    "---\n",
    "## Download Datasets\n",
    "Now, download the PCO2A, PHSEN, and PCO2W datasets along with their associated CTD datasets from OOINet and save locally for ease of access. We can scroll through the available datasets to identify which CTD datasets are \n",
    "\n",
    "### Irminger Array\n",
    "* GI01SUMO: Apex Surface Mooring\n",
    "    * SBD12: Surface Buoy\n",
    "        * PCO2AA: pCO2 Air-Sea (refdes = GI01SUMO-SBD12-04-PCO2AA000)\n",
    "        * METBKA: Bulk Meteorology Instrument Package (refdes = GI01SUMO-SBD12-06-METBKA000)\n",
    "    * RID16: Near-Surface Instrument Frame\n",
    "        * PCO2WB: pCO2 Water (refdes = GI01SUMO-RID16-05-PCO2WB000)\n",
    "        * CTDBPF: CTD (refdes = GI01SUMO-RID16-03-CTDBPF000)\n",
    "    * RII11: Mooring Riser\n",
    "        * PCO2WC: pCO2 Water (40 meters) (refdes = GI01SUMO-RII11-02-PCO2WC051)\n",
    "        * CTDMOQ: CTD (40 meters) (refdes = GI01SUMO-RII11-02-CTDMOQ031)\n",
    "        * PCO2WC: pCO2 Water (80 meters) (refdes = GI01SUMO-RII11-02-PCO2WC052)\n",
    "        * CTDBPP: CTD (80 meters) (refdes = GI01SUMO-RII11-02-CTDBPP032)\n",
    "        * PCO2WC: pCO2 Water (130 meters) (refdes = GI01SUMO-RII11-02-PCO2WC053)\n",
    "        * CTDBPP: CTD (130 meters) (refdes = GI01SUMO-RII11-02-CTDBPP033)\n",
    "        * PHSENE: Seawater pH (20 meters) (refdes = GI01SUMO-RII11-02-PHSENE041)\n",
    "        * CTDMOQ: CTD (20 meters) (refdes = GI01SUMO-RII11-02-CTDMOQ011)\n",
    "        * PHSENE: Seawater pH (100 meters) (refdes = GI01SUMO-RII11-02-PHSENE042)\n",
    "        * CTDMOQ: CTD (100 meters) (refdes = GI01SUMO-RII11-02-CTDMOQ013)\n",
    "* GI03FLMA: Flanking Subsurface Mooring A\n",
    "    * RIS01: Mooring Riser\n",
    "        * PHSENF: Seawater pH (refdes = GI03FLMA-RIS01-04-PHSENF000)\n",
    "        * CTDMOG: CTD (30 meters) (refdes = GI03FLMA-RIM01-02-CTDMOG040)\n",
    "* GI03FLMB: Flanking Subsurface Mooring B\n",
    "    * RIS01: Mooring Riser\n",
    "        * PHSENF: Seawater pH (refdes = GI03FLMB-RIS01-04-PHSENF000)\n",
    "        * CTDMOG: CTD (30 meters) (refdes = GI03FLMB-RIM01-02-CTDMOG060)"
   ]
  },
  {
   "cell_type": "code",
   "execution_count": null,
   "metadata": {},
   "outputs": [],
   "source": []
  },
  {
   "cell_type": "markdown",
   "metadata": {},
   "source": [
    "### Surface Buoy: PCO2A (GI01SUMO-SBD12-04-PCO2AA000)"
   ]
  },
  {
   "cell_type": "code",
   "execution_count": null,
   "metadata": {},
   "outputs": [],
   "source": [
    "refdes = \"GI01SUMO-SBD12-04-PCO2AA000\""
   ]
  },
  {
   "cell_type": "code",
   "execution_count": null,
   "metadata": {},
   "outputs": [],
   "source": [
    "metadata = OOINet.get_metadata(refdes)\n",
    "metadata = metadata.groupby(by=[\"refdes\",\"method\",\"stream\"]).agg(lambda x: pd.unique(x.values.ravel()).tolist())\n",
    "metadata = metadata.reset_index()\n",
    "metadata = metadata.applymap(lambda x: x[0] if len(x) == 1 else x)\n",
    "metadata"
   ]
  },
  {
   "cell_type": "markdown",
   "metadata": {},
   "source": [
    "For the METBK data streams, we don't want the hourly datastreams, which are computed flux products. We want the normal METBK data with the temperature, salinity, air pressure, etc."
   ]
  },
  {
   "cell_type": "code",
   "execution_count": null,
   "metadata": {},
   "outputs": [],
   "source": [
    "datastreams = OOINet.get_datastreams(refdes)\n",
    "\n",
    "# For METBK: Drop the hourly data streams\n",
    "#mask = datastreams[\"stream\"].apply(lambda x: True if \"hourly\" not in x else False)\n",
    "#datastreams = datastreams[mask]\n",
    "datastreams"
   ]
  },
  {
   "cell_type": "markdown",
   "metadata": {},
   "source": [
    "Download the datasets"
   ]
  },
  {
   "cell_type": "code",
   "execution_count": null,
   "metadata": {},
   "outputs": [],
   "source": [
    "method = \"recovered_host\"\n",
    "stream = \"pco2a_a_dcl_instrument_water_recovered\""
   ]
  },
  {
   "cell_type": "markdown",
   "metadata": {},
   "source": [
    "Get the THREDDS url"
   ]
  },
  {
   "cell_type": "code",
   "execution_count": null,
   "metadata": {},
   "outputs": [],
   "source": [
    "thredds_url = OOINet.get_thredds_url(refdes, method, stream)\n",
    "thredds_url"
   ]
  },
  {
   "cell_type": "markdown",
   "metadata": {},
   "source": [
    "Get the catalog for the THREDDS requested data"
   ]
  },
  {
   "cell_type": "code",
   "execution_count": null,
   "metadata": {},
   "outputs": [],
   "source": [
    "# Access the catalog\n",
    "catalog = OOINet.get_thredds_catalog(thredds_url)\n",
    "# Parse the catalog for relevant netCDF files\n",
    "catalog = OOINet.parse_catalog(catalog, exclude=[\"gps\", \"blank\"])\n",
    "catalog = sorted(catalog)\n",
    "catalog"
   ]
  },
  {
   "cell_type": "code",
   "execution_count": null,
   "metadata": {},
   "outputs": [],
   "source": [
    "# Parse the netCDF datasets to only get those with the \n",
    "netCDF_datasets = []\n",
    "for dset in catalog:\n",
    "    check = dset.split(\"/\")[-1]\n",
    "    if stream in check:\n",
    "        netCDF_datasets.append(dset)\n",
    "    else:\n",
    "        pass\n",
    "    \n",
    "netCDF_datasets"
   ]
  },
  {
   "cell_type": "code",
   "execution_count": null,
   "metadata": {},
   "outputs": [],
   "source": [
    "data = load_netCDF(netCDF_datasets)\n",
    "data            "
   ]
  },
  {
   "cell_type": "code",
   "execution_count": null,
   "metadata": {},
   "outputs": [],
   "source": [
    "data.to_netcdf(\"../data/GI01SUMO-SBD12-04-PCO2AA000-recovered_host-pco2a_a_dcl_instrument_water_recovered.nc\")"
   ]
  },
  {
   "cell_type": "code",
   "execution_count": null,
   "metadata": {},
   "outputs": [],
   "source": [
    "for var in data.variables:\n",
    "    if \"time\" in var and var != \"time\":\n",
    "        data = data.drop_vars(var)"
   ]
  },
  {
   "cell_type": "code",
   "execution_count": null,
   "metadata": {},
   "outputs": [],
   "source": [
    "data"
   ]
  },
  {
   "cell_type": "code",
   "execution_count": null,
   "metadata": {},
   "outputs": [],
   "source": [
    "# Set up the directory to save the datasets to\n",
    "savedir = f\"../data/{refdes}/{method}/{stream}\"\n",
    "if os.path.isdir(savedir):\n",
    "    pass\n",
    "else:\n",
    "    os.makedirs(savedir)\n",
    "\n",
    "# Download the datasets\n",
    "OOINet.download_netCDF_files(netCDF_datasets, save_dir=savedir)\n",
    "\n",
    "# Get the annotations for the associated refdes, method, stream\n",
    "annotations = OOINet.get_annotations(refdes, method=method, stream=stream)\n",
    "annotations.to_csv(f\"{savedir}/annotations.csv\", index=False)"
   ]
  },
  {
   "cell_type": "markdown",
   "metadata": {},
   "source": [
    "### Near-Surface Instrument Frame\n",
    "\n",
    "#### PCO2WB  (GI01SUMO-RID16-05-PCO2WB000)"
   ]
  },
  {
   "cell_type": "code",
   "execution_count": null,
   "metadata": {},
   "outputs": [],
   "source": [
    "refdes = \"GI01SUMO-RID16-05-PCO2WB000\""
   ]
  },
  {
   "cell_type": "code",
   "execution_count": null,
   "metadata": {},
   "outputs": [],
   "source": [
    "metadata = OOINet.get_metadata(refdes)\n",
    "metadata = metadata.groupby(by=[\"refdes\",\"method\",\"stream\"]).agg(lambda x: pd.unique(x.values.ravel()).tolist())\n",
    "metadata = metadata.reset_index()\n",
    "metadata = metadata.applymap(lambda x: x[0] if len(x) == 1 else x)\n",
    "metadata"
   ]
  },
  {
   "cell_type": "code",
   "execution_count": null,
   "metadata": {},
   "outputs": [],
   "source": [
    "datastreams = OOINet.get_datastreams(refdes)\n",
    "datastreams"
   ]
  },
  {
   "cell_type": "markdown",
   "metadata": {},
   "source": [
    "Download the datasets"
   ]
  },
  {
   "cell_type": "code",
   "execution_count": null,
   "metadata": {},
   "outputs": [],
   "source": [
    "method = \"telemetered\"\n",
    "stream = \"pco2w_abc_dcl_instrument\""
   ]
  },
  {
   "cell_type": "code",
   "execution_count": null,
   "metadata": {},
   "outputs": [],
   "source": [
    "thredds_url = OOINet.get_thredds_url(refdes, method, stream)\n",
    "thredds_url"
   ]
  },
  {
   "cell_type": "code",
   "execution_count": null,
   "metadata": {},
   "outputs": [],
   "source": [
    "# Access the catalog\n",
    "catalog = OOINet.get_thredds_catalog(thredds_url)\n",
    "# Parse the catalog for relevant netCDF files\n",
    "catalog = OOINet.parse_catalog(catalog, exclude=[\"gps\", \"blank\"])\n",
    "catalog = sorted(catalog)\n",
    "catalog"
   ]
  },
  {
   "cell_type": "code",
   "execution_count": null,
   "metadata": {},
   "outputs": [],
   "source": [
    "# Parse the netCDF datasets to only get those with the \n",
    "netCDF_datasets = []\n",
    "for dset in catalog:\n",
    "    check = dset.split(\"/\")[-1]\n",
    "    if stream in check:\n",
    "        netCDF_datasets.append(dset)\n",
    "    else:\n",
    "        pass\n",
    "    \n",
    "netCDF_datasets"
   ]
  },
  {
   "cell_type": "code",
   "execution_count": null,
   "metadata": {},
   "outputs": [],
   "source": [
    "# Set up the directory to save the datasets to\n",
    "savedir = f\"../data/{refdes}/{method}/{stream}\"\n",
    "if os.path.isdir(savedir):\n",
    "    pass\n",
    "else:\n",
    "    os.makedirs(savedir)\n",
    "\n",
    "# Download the datasets\n",
    "OOINet.download_netCDF_files(netCDF_datasets, save_dir=savedir)\n",
    "\n",
    "# Get the annotations for the associated refdes, method, stream\n",
    "annotations = OOINet.get_annotations(refdes, method=method, stream=stream)\n",
    "annotations.to_csv(f\"{savedir}/annotations.csv\", index=False)"
   ]
  },
  {
   "cell_type": "markdown",
   "metadata": {},
   "source": [
    "#### CTDBPF (GI01SUMO-RID16-03-CTDBPF000)"
   ]
  },
  {
   "cell_type": "code",
   "execution_count": null,
   "metadata": {},
   "outputs": [],
   "source": [
    "refdes = \"GI01SUMO-RID16-03-CTDBPF000\""
   ]
  },
  {
   "cell_type": "code",
   "execution_count": null,
   "metadata": {},
   "outputs": [],
   "source": [
    "metadata = OOINet.get_metadata(refdes)\n",
    "metadata = metadata.groupby(by=[\"refdes\",\"method\",\"stream\"]).agg(lambda x: pd.unique(x.values.ravel()).tolist())\n",
    "metadata = metadata.reset_index()\n",
    "metadata = metadata.applymap(lambda x: x[0] if len(x) == 1 else x)\n",
    "metadata"
   ]
  },
  {
   "cell_type": "code",
   "execution_count": null,
   "metadata": {},
   "outputs": [],
   "source": [
    "datastreams = OOINet.get_datastreams(refdes)\n",
    "datastreams"
   ]
  },
  {
   "cell_type": "code",
   "execution_count": null,
   "metadata": {},
   "outputs": [],
   "source": [
    "method = \"telemetered\"\n",
    "stream = \"ctdbp_cdef_dcl_instrument\""
   ]
  },
  {
   "cell_type": "code",
   "execution_count": null,
   "metadata": {},
   "outputs": [],
   "source": [
    "thredds_url = OOINet.get_thredds_url(refdes, method, stream)\n",
    "thredds_url"
   ]
  },
  {
   "cell_type": "code",
   "execution_count": null,
   "metadata": {},
   "outputs": [],
   "source": [
    "# Access the catalog\n",
    "catalog = OOINet.get_thredds_catalog(thredds_url)\n",
    "# Parse the catalog for relevant netCDF files\n",
    "catalog = OOINet.parse_catalog(catalog, exclude=[\"gps\", \"blank\"])\n",
    "catalog = sorted(catalog)\n",
    "catalog"
   ]
  },
  {
   "cell_type": "code",
   "execution_count": null,
   "metadata": {},
   "outputs": [],
   "source": [
    "# Parse the netCDF datasets to only get those with the \n",
    "netCDF_datasets = []\n",
    "for dset in catalog:\n",
    "    check = dset.split(\"/\")[-1]\n",
    "    if stream in check:\n",
    "        netCDF_datasets.append(dset)\n",
    "    else:\n",
    "        pass\n",
    "    \n",
    "netCDF_datasets"
   ]
  },
  {
   "cell_type": "code",
   "execution_count": null,
   "metadata": {},
   "outputs": [],
   "source": [
    "# Set up the directory to save the datasets to\n",
    "savedir = f\"../data/{refdes}/{method}/{stream}\"\n",
    "if os.path.isdir(savedir):\n",
    "    pass\n",
    "else:\n",
    "    os.makedirs(savedir)\n",
    "\n",
    "# Download the datasets\n",
    "OOINet.download_netCDF_files(netCDF_datasets, save_dir=savedir)\n",
    "\n",
    "# Get the annotations for the associated refdes, method, stream\n",
    "annotations = OOINet.get_annotations(refdes, method=method, stream=stream)\n",
    "annotations.to_csv(f\"{savedir}/annotations.csv\", index=False)"
   ]
  },
  {
   "cell_type": "code",
   "execution_count": null,
   "metadata": {},
   "outputs": [],
   "source": []
  }
 ],
 "metadata": {
  "kernelspec": {
   "display_name": "Python 3 (ipykernel)",
   "language": "python",
   "name": "python3"
  },
  "language_info": {
   "codemirror_mode": {
    "name": "ipython",
    "version": 3
   },
   "file_extension": ".py",
   "mimetype": "text/x-python",
   "name": "python",
   "nbconvert_exporter": "python",
   "pygments_lexer": "ipython3",
   "version": "3.9.7"
  }
 },
 "nbformat": 4,
 "nbformat_minor": 4
}
